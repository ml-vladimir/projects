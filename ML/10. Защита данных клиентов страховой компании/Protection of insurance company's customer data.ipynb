{
 "cells": [
  {
   "cell_type": "markdown",
   "metadata": {},
   "source": [
    "# Защита персональных данных клиентов"
   ]
  },
  {
   "cell_type": "markdown",
   "metadata": {},
   "source": [
    "Вам нужно защитить данные клиентов страховой компании «Хоть потоп». Разработайте такой метод преобразования данных, чтобы по ним было сложно восстановить персональную информацию. Обоснуйте корректность его работы.\n",
    "\n",
    "Нужно защитить данные, чтобы при преобразовании качество моделей машинного обучения не ухудшилось. Подбирать наилучшую модель не требуется."
   ]
  },
  {
   "cell_type": "markdown",
   "metadata": {},
   "source": [
    "## Загрузка данных"
   ]
  },
  {
   "cell_type": "code",
   "execution_count": 16,
   "metadata": {},
   "outputs": [],
   "source": [
    "import numpy as np\n",
    "import pandas as pd\n",
    "from sklearn.linear_model import LinearRegression\n",
    "from sklearn.metrics import r2_score\n",
    "from sklearn.model_selection import train_test_split\n",
    "\n",
    "import warnings\n",
    "warnings.filterwarnings('ignore')"
   ]
  },
  {
   "cell_type": "code",
   "execution_count": 17,
   "metadata": {},
   "outputs": [
    {
     "data": {
      "text/html": [
       "<div>\n",
       "<style scoped>\n",
       "    .dataframe tbody tr th:only-of-type {\n",
       "        vertical-align: middle;\n",
       "    }\n",
       "\n",
       "    .dataframe tbody tr th {\n",
       "        vertical-align: top;\n",
       "    }\n",
       "\n",
       "    .dataframe thead th {\n",
       "        text-align: right;\n",
       "    }\n",
       "</style>\n",
       "<table border=\"1\" class=\"dataframe\">\n",
       "  <thead>\n",
       "    <tr style=\"text-align: right;\">\n",
       "      <th></th>\n",
       "      <th>Пол</th>\n",
       "      <th>Возраст</th>\n",
       "      <th>Зарплата</th>\n",
       "      <th>Члены семьи</th>\n",
       "      <th>Страховые выплаты</th>\n",
       "    </tr>\n",
       "  </thead>\n",
       "  <tbody>\n",
       "    <tr>\n",
       "      <th>0</th>\n",
       "      <td>1</td>\n",
       "      <td>41.0</td>\n",
       "      <td>49600.0</td>\n",
       "      <td>1</td>\n",
       "      <td>0</td>\n",
       "    </tr>\n",
       "    <tr>\n",
       "      <th>1</th>\n",
       "      <td>0</td>\n",
       "      <td>46.0</td>\n",
       "      <td>38000.0</td>\n",
       "      <td>1</td>\n",
       "      <td>1</td>\n",
       "    </tr>\n",
       "    <tr>\n",
       "      <th>2</th>\n",
       "      <td>0</td>\n",
       "      <td>29.0</td>\n",
       "      <td>21000.0</td>\n",
       "      <td>0</td>\n",
       "      <td>0</td>\n",
       "    </tr>\n",
       "    <tr>\n",
       "      <th>3</th>\n",
       "      <td>0</td>\n",
       "      <td>21.0</td>\n",
       "      <td>41700.0</td>\n",
       "      <td>2</td>\n",
       "      <td>0</td>\n",
       "    </tr>\n",
       "    <tr>\n",
       "      <th>4</th>\n",
       "      <td>1</td>\n",
       "      <td>28.0</td>\n",
       "      <td>26100.0</td>\n",
       "      <td>0</td>\n",
       "      <td>0</td>\n",
       "    </tr>\n",
       "  </tbody>\n",
       "</table>\n",
       "</div>"
      ],
      "text/plain": [
       "   Пол  Возраст  Зарплата  Члены семьи  Страховые выплаты\n",
       "0    1     41.0   49600.0            1                  0\n",
       "1    0     46.0   38000.0            1                  1\n",
       "2    0     29.0   21000.0            0                  0\n",
       "3    0     21.0   41700.0            2                  0\n",
       "4    1     28.0   26100.0            0                  0"
      ]
     },
     "execution_count": 17,
     "metadata": {},
     "output_type": "execute_result"
    }
   ],
   "source": [
    "data = pd.read_csv('/datasets/insurance.csv')\n",
    "data.head()"
   ]
  },
  {
   "cell_type": "code",
   "execution_count": 18,
   "metadata": {},
   "outputs": [
    {
     "name": "stdout",
     "output_type": "stream",
     "text": [
      "<class 'pandas.core.frame.DataFrame'>\n",
      "RangeIndex: 5000 entries, 0 to 4999\n",
      "Data columns (total 5 columns):\n",
      " #   Column             Non-Null Count  Dtype  \n",
      "---  ------             --------------  -----  \n",
      " 0   Пол                5000 non-null   int64  \n",
      " 1   Возраст            5000 non-null   float64\n",
      " 2   Зарплата           5000 non-null   float64\n",
      " 3   Члены семьи        5000 non-null   int64  \n",
      " 4   Страховые выплаты  5000 non-null   int64  \n",
      "dtypes: float64(2), int64(3)\n",
      "memory usage: 195.4 KB\n"
     ]
    }
   ],
   "source": [
    "data.info()"
   ]
  },
  {
   "cell_type": "markdown",
   "metadata": {},
   "source": [
    "Чистые понятные данные, думаю более глубокий их анализ в данном контексте не требуется"
   ]
  },
  {
   "cell_type": "markdown",
   "metadata": {},
   "source": [
    "## Умножение матриц"
   ]
  },
  {
   "cell_type": "markdown",
   "metadata": {},
   "source": [
    "В этом задании вы можете записывать формулы в *Jupyter Notebook.*\n",
    "\n",
    "Чтобы записать формулу внутри текста, окружите её символами доллара \\\\$; если снаружи —  двойными символами \\\\$\\\\$. Эти формулы записываются на языке вёрстки *LaTeX.* \n",
    "\n",
    "Для примера мы записали формулы линейной регрессии. Можете их скопировать и отредактировать, чтобы решить задачу.\n",
    "\n",
    "Работать в *LaTeX* необязательно."
   ]
  },
  {
   "cell_type": "markdown",
   "metadata": {},
   "source": [
    "Обозначения:\n",
    "\n",
    "- $X$ — матрица признаков (нулевой столбец состоит из единиц)\n",
    "\n",
    "- $y$ — вектор целевого признака\n",
    "\n",
    "- $P$ — матрица, на которую умножаются признаки\n",
    "\n",
    "- $w$ — вектор весов линейной регрессии (нулевой элемент равен сдвигу)"
   ]
  },
  {
   "cell_type": "markdown",
   "metadata": {},
   "source": [
    "Предсказания:\n",
    "\n",
    "$$\n",
    "a = Xw\n",
    "$$\n",
    "\n",
    "Задача обучения:\n",
    "\n",
    "$$\n",
    "w = \\arg\\min_w MSE(Xw, y)\n",
    "$$\n",
    "\n",
    "Формула обучения:\n",
    "\n",
    "$$\n",
    "w = (X^T X)^{-1} X^T y\n",
    "$$"
   ]
  },
  {
   "cell_type": "markdown",
   "metadata": {},
   "source": [
    "**Ответ:** ...\n",
    "\n",
    "**Обоснование:** ..."
   ]
  },
  {
   "cell_type": "markdown",
   "metadata": {},
   "source": [
    "**Ответ:** не измениться"
   ]
  },
  {
   "cell_type": "markdown",
   "metadata": {},
   "source": [
    "**Обоснование:** Для обоснования данного ответа используем следующие свойства матричного умножения\n",
    "*  $ AB \\not\\equiv BA $ \n",
    "*  $(AB)^{-1} = B^{-1}A^{-1} $\n",
    "*  $(AB)^{T} = B^{T}A^{T} $ \n",
    "* $AA^{-1} = E $ \n",
    "* $АЕ = ЕА = А $ \n",
    "\n",
    "Исходную формулу:\n",
    "$$\n",
    "w = (X^T X)^{-1} X^T y\n",
    "$$\n",
    "\n",
    "Домнажаем на матрицу P:\n",
    "$$\n",
    "w1 = ((XP)^T XP)^{-1} (XP)^T y\n",
    "$$\n",
    "\n",
    "Используя $(AB)^{-1} = B^{-1}A^{-1} $, преобразуем формулу:\n",
    "$$\n",
    "w1 = (P^TX^T XP)^{-1} P^TX^T y\n",
    "$$\n",
    "\n",
    "Раскроем скобки используя $(AB)^{-1} = B^{-1}A^{-1} $ :\n",
    "$$\n",
    "w1 = P^{-1}(X^TX)^{-1}(P^T)^{-1}P^TX^T y\n",
    "$$\n",
    "\n",
    "Сократим  $P^T(P^T)^{-1}= E$, отметим что P квадратная матрица:\n",
    "$$\n",
    "w1 = P^{-1}(X^TX)^{-1}X^T y\n",
    "$$\n",
    "\n",
    "По имеющейся формуле $ w = (X^T X)^{-1} X^T y $ получаем:\n",
    "$$\n",
    "w1 = P^{-1}w\n",
    "$$\n",
    "\n",
    "Так же имеется $a = Xw$:\n",
    "$$\n",
    "a1 = XPw1\n",
    "$$\n",
    "\n",
    "Подставим $w1 = P^{-1}w$  и сократим:\n",
    "$$\n",
    "a1 = XPP^{-1}w = Xw = a\n",
    "$$\n",
    "\n",
    "Из полученных результатов можно сделать вывод что качество модели R2 не измениться\n"
   ]
  },
  {
   "cell_type": "markdown",
   "metadata": {},
   "source": [
    "## Алгоритм преобразования"
   ]
  },
  {
   "cell_type": "markdown",
   "metadata": {},
   "source": [
    "**Алгоритм**\n",
    "\n",
    "Создадим квадратную матрицу P и проверим ее на обратимость.\n",
    "\n",
    "Исходую матрицу признаков X  домножим на квадратную обратимую матрицу P (мы доказали, что так можно и результат с качеством не изменятся), так же при необходимости можно домножить на обратную P матрицу и востановить зашифрованные данные."
   ]
  },
  {
   "cell_type": "markdown",
   "metadata": {},
   "source": [
    "## Проверка алгоритма"
   ]
  },
  {
   "cell_type": "markdown",
   "metadata": {},
   "source": [
    "Для проверки алгоритма разобьем данные"
   ]
  },
  {
   "cell_type": "code",
   "execution_count": 19,
   "metadata": {},
   "outputs": [],
   "source": [
    "features = data.drop(columns='Страховые выплаты', axis=1)\n",
    "target = data['Страховые выплаты']\n",
    "features_train, features_test, target_train, target_test = train_test_split(\n",
    "    features,    target,     random_state=12345,shuffle=True,   test_size=0.25)"
   ]
  },
  {
   "cell_type": "markdown",
   "metadata": {},
   "source": [
    "Создадим шифрующую матрицу и проверим ее обратимость"
   ]
  },
  {
   "cell_type": "code",
   "execution_count": 20,
   "metadata": {},
   "outputs": [
    {
     "data": {
      "text/plain": [
       "array([[ 0.91166429,  1.24453832,  1.77085455, -2.45803073],\n",
       "       [-2.65871066, -0.18596162, -1.24511119,  2.37405702],\n",
       "       [ 1.99222361,  1.34839289, -0.20909839, -1.36652949],\n",
       "       [ 0.07748192, -1.75853636,  0.35077861,  1.59683567]])"
      ]
     },
     "execution_count": 20,
     "metadata": {},
     "output_type": "execute_result"
    }
   ],
   "source": [
    "P = np.random.rand(4,4)\n",
    "\n",
    "np.linalg.inv(P)"
   ]
  },
  {
   "cell_type": "markdown",
   "metadata": {},
   "source": [
    "Посчитаем R2 без шифрования."
   ]
  },
  {
   "cell_type": "code",
   "execution_count": 21,
   "metadata": {},
   "outputs": [
    {
     "data": {
      "text/plain": [
       "0.43522757127026546"
      ]
     },
     "execution_count": 21,
     "metadata": {},
     "output_type": "execute_result"
    }
   ],
   "source": [
    "    model = LinearRegression()\n",
    "    model.fit(features_train, target_train)\n",
    "    predictions = model.predict(features_test)\n",
    "    r2_score(target_test, predictions)"
   ]
  },
  {
   "cell_type": "markdown",
   "metadata": {},
   "source": [
    "Сделаем все тоже самое только с шифрованием"
   ]
  },
  {
   "cell_type": "code",
   "execution_count": 22,
   "metadata": {},
   "outputs": [
    {
     "data": {
      "text/plain": [
       "0.43522757127010403"
      ]
     },
     "execution_count": 22,
     "metadata": {},
     "output_type": "execute_result"
    }
   ],
   "source": [
    "    features_train = features_train.dot(P)\n",
    "features_test = features_test.dot(P)\n",
    "    \n",
    "    model1 = LinearRegression()\n",
    "    model1.fit(features_train, target_train)\n",
    "    predictions = model1.predict(features_test)\n",
    "    r2_score(target_test, predictions)"
   ]
  },
  {
   "cell_type": "markdown",
   "metadata": {},
   "source": [
    "**Вывод:**  метрика r2 не изменилась, следовательно данный метод шифрования не сказывается на качестве предсказания, а мы можем зашифровать данные клиента."
   ]
  }
 ],
 "metadata": {
  "ExecuteTimeLog": [
   {
    "duration": 64,
    "start_time": "2023-06-07T21:05:18.832Z"
   },
   {
    "duration": 1075,
    "start_time": "2023-06-07T21:05:21.195Z"
   },
   {
    "duration": 120,
    "start_time": "2023-06-07T21:05:22.277Z"
   },
   {
    "duration": 70,
    "start_time": "2023-06-07T21:05:35.623Z"
   },
   {
    "duration": 12,
    "start_time": "2023-06-07T21:05:48.103Z"
   },
   {
    "duration": 68,
    "start_time": "2023-06-07T21:51:41.150Z"
   },
   {
    "duration": 41,
    "start_time": "2023-06-07T22:29:33.399Z"
   },
   {
    "duration": 12,
    "start_time": "2023-06-07T22:29:45.535Z"
   },
   {
    "duration": 3,
    "start_time": "2023-06-07T22:30:24.691Z"
   },
   {
    "duration": 7,
    "start_time": "2023-06-07T22:30:29.144Z"
   },
   {
    "duration": 5,
    "start_time": "2023-06-07T22:33:06.327Z"
   },
   {
    "duration": 12,
    "start_time": "2023-06-07T22:36:14.065Z"
   },
   {
    "duration": 11,
    "start_time": "2023-06-07T22:37:32.294Z"
   },
   {
    "duration": 44,
    "start_time": "2023-06-07T22:37:49.912Z"
   },
   {
    "duration": 11,
    "start_time": "2023-06-07T22:37:54.353Z"
   },
   {
    "duration": 4,
    "start_time": "2023-06-07T22:40:13.687Z"
   },
   {
    "duration": 33,
    "start_time": "2023-06-07T22:40:13.878Z"
   },
   {
    "duration": 18,
    "start_time": "2023-06-07T22:40:14.070Z"
   },
   {
    "duration": 9,
    "start_time": "2023-06-07T22:40:18.555Z"
   },
   {
    "duration": 11,
    "start_time": "2023-06-07T22:40:18.565Z"
   },
   {
    "duration": 72,
    "start_time": "2023-06-07T22:40:18.579Z"
   },
   {
    "duration": 15,
    "start_time": "2023-06-07T22:40:18.654Z"
   },
   {
    "duration": 54,
    "start_time": "2023-06-07T23:38:19.582Z"
   }
  ],
  "kernelspec": {
   "display_name": "Python 3 (ipykernel)",
   "language": "python",
   "name": "python3"
  },
  "language_info": {
   "codemirror_mode": {
    "name": "ipython",
    "version": 3
   },
   "file_extension": ".py",
   "mimetype": "text/x-python",
   "name": "python",
   "nbconvert_exporter": "python",
   "pygments_lexer": "ipython3",
   "version": "3.9.5"
  },
  "toc": {
   "base_numbering": 1,
   "nav_menu": {},
   "number_sections": true,
   "sideBar": true,
   "skip_h1_title": true,
   "title_cell": "Содержание",
   "title_sidebar": "Contents",
   "toc_cell": true,
   "toc_position": {},
   "toc_section_display": true,
   "toc_window_display": true
  }
 },
 "nbformat": 4,
 "nbformat_minor": 2
}
