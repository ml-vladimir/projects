{
 "cells": [
  {
   "cell_type": "markdown",
   "metadata": {},
   "source": [
    "# Определение стоимости автомобилей"
   ]
  },
  {
   "cell_type": "markdown",
   "metadata": {},
   "source": [
    "Сервис по продаже автомобилей с пробегом «Не бит, не крашен» разрабатывает приложение для привлечения новых клиентов. В нём можно быстро узнать рыночную стоимость своего автомобиля. В вашем распоряжении исторические данные: технические характеристики, комплектации и цены автомобилей. Вам нужно построить модель для определения стоимости. \n",
    "\n",
    "Заказчику важны:\n",
    "\n",
    "- качество предсказания;\n",
    "- скорость предсказания;\n",
    "- время обучения."
   ]
  },
  {
   "cell_type": "markdown",
   "metadata": {},
   "source": [
    "**Описание проекта** \n",
    "\n",
    "Сервис по продаже автомобилей с пробегом «Не бит, не крашен» разрабатывает приложение, чтобы привлечь новых клиентов. В нём можно будет узнать рыночную стоимость своего автомобиля. \n",
    "Постройте модель, которая умеет её определять. В вашем распоряжении данные о технических характеристиках, комплектации и ценах других автомобилей.\n",
    "\n",
    "**Критерии, которые важны заказчику:**\n",
    "* качество предсказания;\n",
    "* время обучения модели;\n",
    "* время предсказания модели."
   ]
  },
  {
   "cell_type": "markdown",
   "metadata": {},
   "source": [
    "**Описание данных**\n",
    "\n",
    "Данные находятся в файле /datasets/autos.csv. Скачать датасет. \n",
    "\n",
    "**Признаки**\n",
    "* DateCrawled — дата скачивания анкеты из базы\n",
    "* VehicleType — тип автомобильного кузова\n",
    "* RegistrationYear — год регистрации автомобиля\n",
    "* Gearbox — тип коробки передач\n",
    "* Power — мощность (л. с.)\n",
    "* Model — модель автомобиля\n",
    "* Kilometer — пробег (км)\n",
    "* RegistrationMonth — месяц регистрации автомобиля\n",
    "* FuelType — тип топлива\n",
    "* Brand — марка автомобиля\n",
    "* Repaired — была машина в ремонте или нет\n",
    "* DateCreated — дата создания анкеты\n",
    "* NumberOfPictures — количество фотографий автомобиля\n",
    "* PostalCode — почтовый индекс владельца анкеты (пользователя)\n",
    "* LastSeen — дата последней активности пользователя\n",
    "\n",
    "**Целевой признак**\n",
    "* Price — цена (евро)"
   ]
  },
  {
   "cell_type": "markdown",
   "metadata": {},
   "source": [
    "## Подготовка данных"
   ]
  },
  {
   "cell_type": "code",
   "execution_count": 44,
   "metadata": {},
   "outputs": [],
   "source": [
    "import pandas as pd\n",
    "import numpy as np\n",
    "import matplotlib.pyplot as plt\n",
    "import seaborn as sns\n",
    "import time \n",
    "import re\n",
    "from sklearn.preprocessing import OrdinalEncoder\n",
    "from sklearn.model_selection import  train_test_split\n",
    "from sklearn.ensemble import RandomForestRegressor\n",
    "from lightgbm import LGBMRegressor\n",
    "from sklearn.linear_model import LogisticRegression \n",
    "from sklearn.preprocessing import StandardScaler\n",
    "from sklearn.metrics import mean_squared_error"
   ]
  },
  {
   "cell_type": "code",
   "execution_count": 2,
   "metadata": {},
   "outputs": [
    {
     "data": {
      "text/html": [
       "<div>\n",
       "<style scoped>\n",
       "    .dataframe tbody tr th:only-of-type {\n",
       "        vertical-align: middle;\n",
       "    }\n",
       "\n",
       "    .dataframe tbody tr th {\n",
       "        vertical-align: top;\n",
       "    }\n",
       "\n",
       "    .dataframe thead th {\n",
       "        text-align: right;\n",
       "    }\n",
       "</style>\n",
       "<table border=\"1\" class=\"dataframe\">\n",
       "  <thead>\n",
       "    <tr style=\"text-align: right;\">\n",
       "      <th></th>\n",
       "      <th>DateCrawled</th>\n",
       "      <th>Price</th>\n",
       "      <th>VehicleType</th>\n",
       "      <th>RegistrationYear</th>\n",
       "      <th>Gearbox</th>\n",
       "      <th>Power</th>\n",
       "      <th>Model</th>\n",
       "      <th>Kilometer</th>\n",
       "      <th>RegistrationMonth</th>\n",
       "      <th>FuelType</th>\n",
       "      <th>Brand</th>\n",
       "      <th>Repaired</th>\n",
       "      <th>DateCreated</th>\n",
       "      <th>NumberOfPictures</th>\n",
       "      <th>PostalCode</th>\n",
       "      <th>LastSeen</th>\n",
       "    </tr>\n",
       "  </thead>\n",
       "  <tbody>\n",
       "    <tr>\n",
       "      <th>0</th>\n",
       "      <td>2016-03-24 11:52:17</td>\n",
       "      <td>480</td>\n",
       "      <td>NaN</td>\n",
       "      <td>1993</td>\n",
       "      <td>manual</td>\n",
       "      <td>0</td>\n",
       "      <td>golf</td>\n",
       "      <td>150000</td>\n",
       "      <td>0</td>\n",
       "      <td>petrol</td>\n",
       "      <td>volkswagen</td>\n",
       "      <td>NaN</td>\n",
       "      <td>2016-03-24 00:00:00</td>\n",
       "      <td>0</td>\n",
       "      <td>70435</td>\n",
       "      <td>2016-04-07 03:16:57</td>\n",
       "    </tr>\n",
       "    <tr>\n",
       "      <th>1</th>\n",
       "      <td>2016-03-24 10:58:45</td>\n",
       "      <td>18300</td>\n",
       "      <td>coupe</td>\n",
       "      <td>2011</td>\n",
       "      <td>manual</td>\n",
       "      <td>190</td>\n",
       "      <td>NaN</td>\n",
       "      <td>125000</td>\n",
       "      <td>5</td>\n",
       "      <td>gasoline</td>\n",
       "      <td>audi</td>\n",
       "      <td>yes</td>\n",
       "      <td>2016-03-24 00:00:00</td>\n",
       "      <td>0</td>\n",
       "      <td>66954</td>\n",
       "      <td>2016-04-07 01:46:50</td>\n",
       "    </tr>\n",
       "    <tr>\n",
       "      <th>2</th>\n",
       "      <td>2016-03-14 12:52:21</td>\n",
       "      <td>9800</td>\n",
       "      <td>suv</td>\n",
       "      <td>2004</td>\n",
       "      <td>auto</td>\n",
       "      <td>163</td>\n",
       "      <td>grand</td>\n",
       "      <td>125000</td>\n",
       "      <td>8</td>\n",
       "      <td>gasoline</td>\n",
       "      <td>jeep</td>\n",
       "      <td>NaN</td>\n",
       "      <td>2016-03-14 00:00:00</td>\n",
       "      <td>0</td>\n",
       "      <td>90480</td>\n",
       "      <td>2016-04-05 12:47:46</td>\n",
       "    </tr>\n",
       "    <tr>\n",
       "      <th>3</th>\n",
       "      <td>2016-03-17 16:54:04</td>\n",
       "      <td>1500</td>\n",
       "      <td>small</td>\n",
       "      <td>2001</td>\n",
       "      <td>manual</td>\n",
       "      <td>75</td>\n",
       "      <td>golf</td>\n",
       "      <td>150000</td>\n",
       "      <td>6</td>\n",
       "      <td>petrol</td>\n",
       "      <td>volkswagen</td>\n",
       "      <td>no</td>\n",
       "      <td>2016-03-17 00:00:00</td>\n",
       "      <td>0</td>\n",
       "      <td>91074</td>\n",
       "      <td>2016-03-17 17:40:17</td>\n",
       "    </tr>\n",
       "    <tr>\n",
       "      <th>4</th>\n",
       "      <td>2016-03-31 17:25:20</td>\n",
       "      <td>3600</td>\n",
       "      <td>small</td>\n",
       "      <td>2008</td>\n",
       "      <td>manual</td>\n",
       "      <td>69</td>\n",
       "      <td>fabia</td>\n",
       "      <td>90000</td>\n",
       "      <td>7</td>\n",
       "      <td>gasoline</td>\n",
       "      <td>skoda</td>\n",
       "      <td>no</td>\n",
       "      <td>2016-03-31 00:00:00</td>\n",
       "      <td>0</td>\n",
       "      <td>60437</td>\n",
       "      <td>2016-04-06 10:17:21</td>\n",
       "    </tr>\n",
       "  </tbody>\n",
       "</table>\n",
       "</div>"
      ],
      "text/plain": [
       "           DateCrawled  Price VehicleType  RegistrationYear Gearbox  Power  \\\n",
       "0  2016-03-24 11:52:17    480         NaN              1993  manual      0   \n",
       "1  2016-03-24 10:58:45  18300       coupe              2011  manual    190   \n",
       "2  2016-03-14 12:52:21   9800         suv              2004    auto    163   \n",
       "3  2016-03-17 16:54:04   1500       small              2001  manual     75   \n",
       "4  2016-03-31 17:25:20   3600       small              2008  manual     69   \n",
       "\n",
       "   Model  Kilometer  RegistrationMonth  FuelType       Brand Repaired  \\\n",
       "0   golf     150000                  0    petrol  volkswagen      NaN   \n",
       "1    NaN     125000                  5  gasoline        audi      yes   \n",
       "2  grand     125000                  8  gasoline        jeep      NaN   \n",
       "3   golf     150000                  6    petrol  volkswagen       no   \n",
       "4  fabia      90000                  7  gasoline       skoda       no   \n",
       "\n",
       "           DateCreated  NumberOfPictures  PostalCode             LastSeen  \n",
       "0  2016-03-24 00:00:00                 0       70435  2016-04-07 03:16:57  \n",
       "1  2016-03-24 00:00:00                 0       66954  2016-04-07 01:46:50  \n",
       "2  2016-03-14 00:00:00                 0       90480  2016-04-05 12:47:46  \n",
       "3  2016-03-17 00:00:00                 0       91074  2016-03-17 17:40:17  \n",
       "4  2016-03-31 00:00:00                 0       60437  2016-04-06 10:17:21  "
      ]
     },
     "execution_count": 2,
     "metadata": {},
     "output_type": "execute_result"
    }
   ],
   "source": [
    "data = pd.read_csv('/datasets/autos.csv')\n",
    "data.head()"
   ]
  },
  {
   "cell_type": "markdown",
   "metadata": {},
   "source": [
    "Имеются признаки не относящиеся к ценообразованию(DateCrawled,DateCreated,NumberOfPictures,PostalCode,LastSeen), в процессе предобработки удалим их."
   ]
  },
  {
   "cell_type": "code",
   "execution_count": 3,
   "metadata": {},
   "outputs": [
    {
     "name": "stdout",
     "output_type": "stream",
     "text": [
      "<class 'pandas.core.frame.DataFrame'>\n",
      "RangeIndex: 354369 entries, 0 to 354368\n",
      "Data columns (total 16 columns):\n",
      " #   Column             Non-Null Count   Dtype \n",
      "---  ------             --------------   ----- \n",
      " 0   DateCrawled        354369 non-null  object\n",
      " 1   Price              354369 non-null  int64 \n",
      " 2   VehicleType        316879 non-null  object\n",
      " 3   RegistrationYear   354369 non-null  int64 \n",
      " 4   Gearbox            334536 non-null  object\n",
      " 5   Power              354369 non-null  int64 \n",
      " 6   Model              334664 non-null  object\n",
      " 7   Kilometer          354369 non-null  int64 \n",
      " 8   RegistrationMonth  354369 non-null  int64 \n",
      " 9   FuelType           321474 non-null  object\n",
      " 10  Brand              354369 non-null  object\n",
      " 11  Repaired           283215 non-null  object\n",
      " 12  DateCreated        354369 non-null  object\n",
      " 13  NumberOfPictures   354369 non-null  int64 \n",
      " 14  PostalCode         354369 non-null  int64 \n",
      " 15  LastSeen           354369 non-null  object\n",
      "dtypes: int64(7), object(9)\n",
      "memory usage: 43.3+ MB\n"
     ]
    }
   ],
   "source": [
    "data.info()"
   ]
  },
  {
   "cell_type": "code",
   "execution_count": 4,
   "metadata": {},
   "outputs": [
    {
     "data": {
      "text/plain": [
       "DateCrawled              0\n",
       "Price                    0\n",
       "VehicleType          37490\n",
       "RegistrationYear         0\n",
       "Gearbox              19833\n",
       "Power                    0\n",
       "Model                19705\n",
       "Kilometer                0\n",
       "RegistrationMonth        0\n",
       "FuelType             32895\n",
       "Brand                    0\n",
       "Repaired             71154\n",
       "DateCreated              0\n",
       "NumberOfPictures         0\n",
       "PostalCode               0\n",
       "LastSeen                 0\n",
       "dtype: int64"
      ]
     },
     "execution_count": 4,
     "metadata": {},
     "output_type": "execute_result"
    }
   ],
   "source": [
    "data.isna().sum()"
   ]
  },
  {
   "cell_type": "markdown",
   "metadata": {},
   "source": [
    "Признаки (VehicleType,Gearbox,FuelType,Model,Repaired)  содержат пропуски, пропусков довольно много и удалить их не получится, так же все эти признаки имеют категориальный тип следовательно добавим значение \"un\"(unknow), в процессе предобработки."
   ]
  },
  {
   "cell_type": "code",
   "execution_count": 5,
   "metadata": {},
   "outputs": [
    {
     "data": {
      "text/plain": [
       "4"
      ]
     },
     "execution_count": 5,
     "metadata": {},
     "output_type": "execute_result"
    }
   ],
   "source": [
    "data.duplicated().sum()"
   ]
  },
  {
   "cell_type": "markdown",
   "metadata": {},
   "source": [
    "Почистим дупликаты."
   ]
  },
  {
   "cell_type": "code",
   "execution_count": 6,
   "metadata": {},
   "outputs": [],
   "source": [
    "data = data.drop_duplicates()"
   ]
  },
  {
   "cell_type": "code",
   "execution_count": 7,
   "metadata": {},
   "outputs": [
    {
     "data": {
      "text/html": [
       "<div>\n",
       "<style scoped>\n",
       "    .dataframe tbody tr th:only-of-type {\n",
       "        vertical-align: middle;\n",
       "    }\n",
       "\n",
       "    .dataframe tbody tr th {\n",
       "        vertical-align: top;\n",
       "    }\n",
       "\n",
       "    .dataframe thead th {\n",
       "        text-align: right;\n",
       "    }\n",
       "</style>\n",
       "<table border=\"1\" class=\"dataframe\">\n",
       "  <thead>\n",
       "    <tr style=\"text-align: right;\">\n",
       "      <th></th>\n",
       "      <th>Price</th>\n",
       "      <th>RegistrationYear</th>\n",
       "      <th>Power</th>\n",
       "      <th>Kilometer</th>\n",
       "      <th>RegistrationMonth</th>\n",
       "      <th>NumberOfPictures</th>\n",
       "      <th>PostalCode</th>\n",
       "    </tr>\n",
       "  </thead>\n",
       "  <tbody>\n",
       "    <tr>\n",
       "      <th>count</th>\n",
       "      <td>354365.000000</td>\n",
       "      <td>354365.000000</td>\n",
       "      <td>354365.000000</td>\n",
       "      <td>354365.000000</td>\n",
       "      <td>354365.000000</td>\n",
       "      <td>354365.0</td>\n",
       "      <td>354365.000000</td>\n",
       "    </tr>\n",
       "    <tr>\n",
       "      <th>mean</th>\n",
       "      <td>4416.679830</td>\n",
       "      <td>2004.234481</td>\n",
       "      <td>110.093816</td>\n",
       "      <td>128211.363989</td>\n",
       "      <td>5.714650</td>\n",
       "      <td>0.0</td>\n",
       "      <td>50508.503800</td>\n",
       "    </tr>\n",
       "    <tr>\n",
       "      <th>std</th>\n",
       "      <td>4514.176349</td>\n",
       "      <td>90.228466</td>\n",
       "      <td>189.851330</td>\n",
       "      <td>37905.083858</td>\n",
       "      <td>3.726432</td>\n",
       "      <td>0.0</td>\n",
       "      <td>25783.100078</td>\n",
       "    </tr>\n",
       "    <tr>\n",
       "      <th>min</th>\n",
       "      <td>0.000000</td>\n",
       "      <td>1000.000000</td>\n",
       "      <td>0.000000</td>\n",
       "      <td>5000.000000</td>\n",
       "      <td>0.000000</td>\n",
       "      <td>0.0</td>\n",
       "      <td>1067.000000</td>\n",
       "    </tr>\n",
       "    <tr>\n",
       "      <th>25%</th>\n",
       "      <td>1050.000000</td>\n",
       "      <td>1999.000000</td>\n",
       "      <td>69.000000</td>\n",
       "      <td>125000.000000</td>\n",
       "      <td>3.000000</td>\n",
       "      <td>0.0</td>\n",
       "      <td>30165.000000</td>\n",
       "    </tr>\n",
       "    <tr>\n",
       "      <th>50%</th>\n",
       "      <td>2700.000000</td>\n",
       "      <td>2003.000000</td>\n",
       "      <td>105.000000</td>\n",
       "      <td>150000.000000</td>\n",
       "      <td>6.000000</td>\n",
       "      <td>0.0</td>\n",
       "      <td>49413.000000</td>\n",
       "    </tr>\n",
       "    <tr>\n",
       "      <th>75%</th>\n",
       "      <td>6400.000000</td>\n",
       "      <td>2008.000000</td>\n",
       "      <td>143.000000</td>\n",
       "      <td>150000.000000</td>\n",
       "      <td>9.000000</td>\n",
       "      <td>0.0</td>\n",
       "      <td>71083.000000</td>\n",
       "    </tr>\n",
       "    <tr>\n",
       "      <th>max</th>\n",
       "      <td>20000.000000</td>\n",
       "      <td>9999.000000</td>\n",
       "      <td>20000.000000</td>\n",
       "      <td>150000.000000</td>\n",
       "      <td>12.000000</td>\n",
       "      <td>0.0</td>\n",
       "      <td>99998.000000</td>\n",
       "    </tr>\n",
       "  </tbody>\n",
       "</table>\n",
       "</div>"
      ],
      "text/plain": [
       "               Price  RegistrationYear          Power      Kilometer  \\\n",
       "count  354365.000000     354365.000000  354365.000000  354365.000000   \n",
       "mean     4416.679830       2004.234481     110.093816  128211.363989   \n",
       "std      4514.176349         90.228466     189.851330   37905.083858   \n",
       "min         0.000000       1000.000000       0.000000    5000.000000   \n",
       "25%      1050.000000       1999.000000      69.000000  125000.000000   \n",
       "50%      2700.000000       2003.000000     105.000000  150000.000000   \n",
       "75%      6400.000000       2008.000000     143.000000  150000.000000   \n",
       "max     20000.000000       9999.000000   20000.000000  150000.000000   \n",
       "\n",
       "       RegistrationMonth  NumberOfPictures     PostalCode  \n",
       "count      354365.000000          354365.0  354365.000000  \n",
       "mean            5.714650               0.0   50508.503800  \n",
       "std             3.726432               0.0   25783.100078  \n",
       "min             0.000000               0.0    1067.000000  \n",
       "25%             3.000000               0.0   30165.000000  \n",
       "50%             6.000000               0.0   49413.000000  \n",
       "75%             9.000000               0.0   71083.000000  \n",
       "max            12.000000               0.0   99998.000000  "
      ]
     },
     "execution_count": 7,
     "metadata": {},
     "output_type": "execute_result"
    }
   ],
   "source": [
    "data.describe()"
   ]
  },
  {
   "cell_type": "markdown",
   "metadata": {},
   "source": [
    "**Имеются вопросы к:**\n",
    "* Price - бесплатные машины?\n",
    "* RegistrationYear - первую машину изобрели в 1895, на дворе 2023, судя по данным в базе 2016\n",
    "* Power - минимум и максимум мощности машины удивительны\n",
    "* Kilometer - пробег вполне реальный, но рассмотрим на всякий случай."
   ]
  },
  {
   "cell_type": "code",
   "execution_count": 8,
   "metadata": {},
   "outputs": [
    {
     "data": {
      "image/png": "[encoded data removed]",
      "text/plain": [
       "<Figure size 1152x576 with 1 Axes>"
      ]
     },
     "metadata": {
      "needs_background": "light"
     },
     "output_type": "display_data"
    }
   ],
   "source": [
    "plt.figure(figsize=(16,8))\n",
    "plt.title(\"Price\")\n",
    "plt.xlabel(\"Цена\")\n",
    "plt.ylabel(\"Количество\")\n",
    "ax = sns.histplot(data[\"Price\"])\n",
    "plt.show()"
   ]
  },
  {
   "cell_type": "markdown",
   "metadata": {},
   "source": [
    "Цена в целом распределена нормально, осталось разобраться с мальникими значениями. Для этого рассмотрим 1 квартиль.\n"
   ]
  },
  {
   "cell_type": "code",
   "execution_count": 9,
   "metadata": {},
   "outputs": [
    {
     "data": {
      "image/png": "[encoded data removed]",
      "text/plain": [
       "<Figure size 1152x576 with 1 Axes>"
      ]
     },
     "metadata": {
      "needs_background": "light"
     },
     "output_type": "display_data"
    }
   ],
   "source": [
    "plt.figure(figsize=(16,8))\n",
    "plt.xlabel(\"Количество\")\n",
    "plt.xlim(0,1050)\n",
    "ax = sns.histplot(data[\"Price\"])\n",
    "plt.show()"
   ]
  },
  {
   "cell_type": "markdown",
   "metadata": {},
   "source": [
    "Нижнюю границу возьмем 160"
   ]
  },
  {
   "cell_type": "code",
   "execution_count": 10,
   "metadata": {},
   "outputs": [],
   "source": [
    "data = data.query('Price > 160')"
   ]
  },
  {
   "cell_type": "code",
   "execution_count": 11,
   "metadata": {},
   "outputs": [
    {
     "name": "stderr",
     "output_type": "stream",
     "text": [
      "/opt/conda/lib/python3.9/site-packages/seaborn/_decorators.py:36: FutureWarning: Pass the following variable as a keyword arg: x. From version 0.12, the only valid positional argument will be `data`, and passing other arguments without an explicit keyword will result in an error or misinterpretation.\n",
      "  warnings.warn(\n"
     ]
    },
    {
     "data": {
      "image/png": "[encoded data removed]",
      "text/plain": [
       "<Figure size 1152x576 with 1 Axes>"
      ]
     },
     "metadata": {
      "needs_background": "light"
     },
     "output_type": "display_data"
    }
   ],
   "source": [
    "plt.figure(figsize=(16,8))\n",
    "plt.xlabel(\"Количество\")\n",
    "ax = sns.boxplot(data[\"Price\"])\n",
    "plt.show()"
   ]
  },
  {
   "cell_type": "markdown",
   "metadata": {},
   "source": [
    "Выбросы (хвост) конечно имеются, но распределены они достаточно плотно и оснований отказываться от этих данных нет"
   ]
  },
  {
   "cell_type": "markdown",
   "metadata": {},
   "source": [
    "Сразу очистим данные от машин \"невозможного\" года регистрации."
   ]
  },
  {
   "cell_type": "code",
   "execution_count": 12,
   "metadata": {},
   "outputs": [],
   "source": [
    "data = data.query('RegistrationYear > 1900 and RegistrationYear < 2023')"
   ]
  },
  {
   "cell_type": "code",
   "execution_count": 13,
   "metadata": {},
   "outputs": [
    {
     "data": {
      "image/png": "[encoded data removed]",
      "text/plain": [
       "<Figure size 1152x576 with 1 Axes>"
      ]
     },
     "metadata": {
      "needs_background": "light"
     },
     "output_type": "display_data"
    }
   ],
   "source": [
    "plt.figure(figsize=(16,8))\n",
    "plt.title(\"RegistrationYear\")\n",
    "plt.xlabel(\"Год выпуска\")\n",
    "plt.ylabel(\"Количество\")\n",
    "ax = sns.histplot(data[\"RegistrationYear\"])\n",
    "plt.show()"
   ]
  },
  {
   "cell_type": "code",
   "execution_count": 14,
   "metadata": {
    "scrolled": true
   },
   "outputs": [
    {
     "name": "stderr",
     "output_type": "stream",
     "text": [
      "/opt/conda/lib/python3.9/site-packages/seaborn/_decorators.py:36: FutureWarning: Pass the following variable as a keyword arg: x. From version 0.12, the only valid positional argument will be `data`, and passing other arguments without an explicit keyword will result in an error or misinterpretation.\n",
      "  warnings.warn(\n"
     ]
    },
    {
     "data": {
      "image/png": "[encoded data removed]",
      "text/plain": [
       "<Figure size 1152x576 with 1 Axes>"
      ]
     },
     "metadata": {
      "needs_background": "light"
     },
     "output_type": "display_data"
    }
   ],
   "source": [
    "plt.figure(figsize=(16,8))\n",
    "plt.xlabel(\"Количество\")\n",
    "ax = sns.boxplot(data[\"RegistrationYear\"])\n",
    "plt.show()"
   ]
  },
  {
   "cell_type": "markdown",
   "metadata": {},
   "source": [
    "Судя по двум графикам имеет смысл исключить машины меньше 1985 года регистрации"
   ]
  },
  {
   "cell_type": "code",
   "execution_count": 15,
   "metadata": {},
   "outputs": [
    {
     "data": {
      "image/png": "[encoded data removed]",
      "text/plain": [
       "<Figure size 1152x576 with 1 Axes>"
      ]
     },
     "metadata": {
      "needs_background": "light"
     },
     "output_type": "display_data"
    }
   ],
   "source": [
    "data = data.query('RegistrationYear > 1985 ')\n",
    "plt.figure(figsize=(16,8))\n",
    "plt.title(\"RegistrationYear\")\n",
    "plt.xlabel(\"Год выпуска\")\n",
    "plt.ylabel(\"Количество\")\n",
    "ax = sns.histplot(data[\"RegistrationYear\"])\n",
    "plt.show()"
   ]
  },
  {
   "cell_type": "markdown",
   "metadata": {},
   "source": [
    "Красивое распределение со всплесками в 2016-18  годах, объясняется типом рынка, по этому данные оставим."
   ]
  },
  {
   "cell_type": "markdown",
   "metadata": {},
   "source": [
    "Судя по значению describe  в пробеге boxplot b histplot  не помогут, рассмотрим проблемы иначе."
   ]
  },
  {
   "cell_type": "code",
   "execution_count": 16,
   "metadata": {},
   "outputs": [
    {
     "name": "stderr",
     "output_type": "stream",
     "text": [
      "/opt/conda/lib/python3.9/site-packages/seaborn/_decorators.py:36: FutureWarning: Pass the following variable as a keyword arg: x. From version 0.12, the only valid positional argument will be `data`, and passing other arguments without an explicit keyword will result in an error or misinterpretation.\n",
      "  warnings.warn(\n"
     ]
    },
    {
     "data": {
      "image/png": "[encoded data removed]",
      "text/plain": [
       "<Figure size 1152x576 with 1 Axes>"
      ]
     },
     "metadata": {
      "needs_background": "light"
     },
     "output_type": "display_data"
    }
   ],
   "source": [
    "\n",
    "plt.figure(figsize=(16,8))\n",
    "plt.title(\"Пробег\")\n",
    "ax = sns.countplot(data[\"Kilometer\"])\n",
    "plt.show()"
   ]
  },
  {
   "cell_type": "markdown",
   "metadata": {},
   "source": [
    "Не совсем однородное но вполне нормальное распределение машин по пробегу, эти данные править смысла не вижу"
   ]
  },
  {
   "cell_type": "code",
   "execution_count": 17,
   "metadata": {},
   "outputs": [
    {
     "data": {
      "image/png": "[encoded data removed]",
      "text/plain": [
       "<Figure size 432x288 with 1 Axes>"
      ]
     },
     "metadata": {
      "needs_background": "light"
     },
     "output_type": "display_data"
    }
   ],
   "source": [
    "plt.title(\"Power\")\n",
    "plt.xlabel(\"Мощность двигателя\")\n",
    "plt.ylabel(\"Количество\")\n",
    "ax = sns.histplot(data[\"Power\"])\n",
    "plt.show()"
   ]
  },
  {
   "cell_type": "code",
   "execution_count": 18,
   "metadata": {},
   "outputs": [
    {
     "name": "stderr",
     "output_type": "stream",
     "text": [
      "/opt/conda/lib/python3.9/site-packages/seaborn/_decorators.py:36: FutureWarning: Pass the following variable as a keyword arg: x. From version 0.12, the only valid positional argument will be `data`, and passing other arguments without an explicit keyword will result in an error or misinterpretation.\n",
      "  warnings.warn(\n"
     ]
    },
    {
     "data": {
      "image/png": "[encoded data removed]",
      "text/plain": [
       "<Figure size 1152x576 with 1 Axes>"
      ]
     },
     "metadata": {
      "needs_background": "light"
     },
     "output_type": "display_data"
    }
   ],
   "source": [
    "plt.figure(figsize=(16,8))\n",
    "plt.xlabel(\"Количество\")\n",
    "ax = sns.boxplot(data[\"Power\"])\n",
    "plt.show()"
   ]
  },
  {
   "cell_type": "code",
   "execution_count": 19,
   "metadata": {},
   "outputs": [
    {
     "name": "stderr",
     "output_type": "stream",
     "text": [
      "/opt/conda/lib/python3.9/site-packages/seaborn/_decorators.py:36: FutureWarning: Pass the following variable as a keyword arg: x. From version 0.12, the only valid positional argument will be `data`, and passing other arguments without an explicit keyword will result in an error or misinterpretation.\n",
      "  warnings.warn(\n"
     ]
    },
    {
     "data": {
      "image/png": "[encoded data removed]",
      "text/plain": [
       "<Figure size 1152x576 with 1 Axes>"
      ]
     },
     "metadata": {
      "needs_background": "light"
     },
     "output_type": "display_data"
    }
   ],
   "source": [
    "plt.figure(figsize=(16,8))\n",
    "plt.title(\"Количество\")\n",
    "ax = sns.countplot(data[\"Power\"])\n",
    "plt.show()"
   ]
  },
  {
   "cell_type": "markdown",
   "metadata": {},
   "source": [
    "Судя по трем графикам можно ограничить мощность до 2500, что бы определить нижнюю границу подробнее рассмотрим 1 квартиль"
   ]
  },
  {
   "cell_type": "code",
   "execution_count": 20,
   "metadata": {},
   "outputs": [
    {
     "data": {
      "image/png": "[encoded data removed]",
      "text/plain": [
       "<Figure size 1152x576 with 1 Axes>"
      ]
     },
     "metadata": {
      "needs_background": "light"
     },
     "output_type": "display_data"
    }
   ],
   "source": [
    "plt.figure(figsize=(16,8))\n",
    "plt.xlabel(\"Мощность\")\n",
    "plt.xlim(0,69)\n",
    "ax = sns.histplot(data[\"Power\"])\n",
    "plt.show()"
   ]
  },
  {
   "cell_type": "markdown",
   "metadata": {},
   "source": [
    "Нижную границу возьмем 65, дальше все стабильно."
   ]
  },
  {
   "cell_type": "code",
   "execution_count": 21,
   "metadata": {},
   "outputs": [],
   "source": [
    "data = data.query('Power > 65 and Power < 2500')"
   ]
  },
  {
   "cell_type": "code",
   "execution_count": 22,
   "metadata": {},
   "outputs": [
    {
     "name": "stderr",
     "output_type": "stream",
     "text": [
      "/opt/conda/lib/python3.9/site-packages/seaborn/_decorators.py:36: FutureWarning: Pass the following variable as a keyword arg: x. From version 0.12, the only valid positional argument will be `data`, and passing other arguments without an explicit keyword will result in an error or misinterpretation.\n",
      "  warnings.warn(\n"
     ]
    },
    {
     "data": {
      "image/png": "[encoded data removed]",
      "text/plain": [
       "<Figure size 1152x576 with 1 Axes>"
      ]
     },
     "metadata": {
      "needs_background": "light"
     },
     "output_type": "display_data"
    }
   ],
   "source": [
    "plt.figure(figsize=(16,8))\n",
    "plt.xlabel(\"Количество\")\n",
    "ax = sns.boxplot(data[\"Power\"])\n",
    "plt.show()"
   ]
  },
  {
   "cell_type": "markdown",
   "metadata": {},
   "source": [
    "Данные свыше 500 лошадиных сил тоже лучше исключить за их неоднородность и некоторую сверхъестественность."
   ]
  },
  {
   "cell_type": "code",
   "execution_count": 23,
   "metadata": {},
   "outputs": [
    {
     "name": "stderr",
     "output_type": "stream",
     "text": [
      "/opt/conda/lib/python3.9/site-packages/seaborn/_decorators.py:36: FutureWarning: Pass the following variable as a keyword arg: x. From version 0.12, the only valid positional argument will be `data`, and passing other arguments without an explicit keyword will result in an error or misinterpretation.\n",
      "  warnings.warn(\n"
     ]
    },
    {
     "data": {
      "image/png": "[encoded data removed]",
      "text/plain": [
       "<Figure size 1152x576 with 1 Axes>"
      ]
     },
     "metadata": {
      "needs_background": "light"
     },
     "output_type": "display_data"
    }
   ],
   "source": [
    "data = data.query(' Power < 500')\n",
    "plt.figure(figsize=(16,8))\n",
    "plt.xlabel(\"Количество\")\n",
    "ax = sns.boxplot(data[\"Power\"])\n",
    "plt.show()"
   ]
  },
  {
   "cell_type": "markdown",
   "metadata": {},
   "source": [
    "Такая картина вполне реалисчитчна."
   ]
  },
  {
   "cell_type": "code",
   "execution_count": 24,
   "metadata": {
    "scrolled": true
   },
   "outputs": [
    {
     "data": {
      "text/html": [
       "<div>\n",
       "<style scoped>\n",
       "    .dataframe tbody tr th:only-of-type {\n",
       "        vertical-align: middle;\n",
       "    }\n",
       "\n",
       "    .dataframe tbody tr th {\n",
       "        vertical-align: top;\n",
       "    }\n",
       "\n",
       "    .dataframe thead th {\n",
       "        text-align: right;\n",
       "    }\n",
       "</style>\n",
       "<table border=\"1\" class=\"dataframe\">\n",
       "  <thead>\n",
       "    <tr style=\"text-align: right;\">\n",
       "      <th></th>\n",
       "      <th>Price</th>\n",
       "      <th>RegistrationYear</th>\n",
       "      <th>Power</th>\n",
       "      <th>Kilometer</th>\n",
       "      <th>RegistrationMonth</th>\n",
       "      <th>NumberOfPictures</th>\n",
       "      <th>PostalCode</th>\n",
       "    </tr>\n",
       "  </thead>\n",
       "  <tbody>\n",
       "    <tr>\n",
       "      <th>count</th>\n",
       "      <td>258821.000000</td>\n",
       "      <td>258821.000000</td>\n",
       "      <td>258821.000000</td>\n",
       "      <td>258821.000000</td>\n",
       "      <td>258821.000000</td>\n",
       "      <td>258821.0</td>\n",
       "      <td>258821.000000</td>\n",
       "    </tr>\n",
       "    <tr>\n",
       "      <th>mean</th>\n",
       "      <td>5340.614811</td>\n",
       "      <td>2004.021903</td>\n",
       "      <td>130.862921</td>\n",
       "      <td>129092.828634</td>\n",
       "      <td>6.027815</td>\n",
       "      <td>0.0</td>\n",
       "      <td>51633.768717</td>\n",
       "    </tr>\n",
       "    <tr>\n",
       "      <th>std</th>\n",
       "      <td>4673.888532</td>\n",
       "      <td>6.064474</td>\n",
       "      <td>49.817210</td>\n",
       "      <td>36398.072271</td>\n",
       "      <td>3.576096</td>\n",
       "      <td>0.0</td>\n",
       "      <td>25872.325198</td>\n",
       "    </tr>\n",
       "    <tr>\n",
       "      <th>min</th>\n",
       "      <td>169.000000</td>\n",
       "      <td>1986.000000</td>\n",
       "      <td>66.000000</td>\n",
       "      <td>5000.000000</td>\n",
       "      <td>0.000000</td>\n",
       "      <td>0.0</td>\n",
       "      <td>1067.000000</td>\n",
       "    </tr>\n",
       "    <tr>\n",
       "      <th>25%</th>\n",
       "      <td>1699.000000</td>\n",
       "      <td>2000.000000</td>\n",
       "      <td>98.000000</td>\n",
       "      <td>125000.000000</td>\n",
       "      <td>3.000000</td>\n",
       "      <td>0.0</td>\n",
       "      <td>31162.000000</td>\n",
       "    </tr>\n",
       "    <tr>\n",
       "      <th>50%</th>\n",
       "      <td>3800.000000</td>\n",
       "      <td>2004.000000</td>\n",
       "      <td>120.000000</td>\n",
       "      <td>150000.000000</td>\n",
       "      <td>6.000000</td>\n",
       "      <td>0.0</td>\n",
       "      <td>50858.000000</td>\n",
       "    </tr>\n",
       "    <tr>\n",
       "      <th>75%</th>\n",
       "      <td>7750.000000</td>\n",
       "      <td>2008.000000</td>\n",
       "      <td>150.000000</td>\n",
       "      <td>150000.000000</td>\n",
       "      <td>9.000000</td>\n",
       "      <td>0.0</td>\n",
       "      <td>72510.000000</td>\n",
       "    </tr>\n",
       "    <tr>\n",
       "      <th>max</th>\n",
       "      <td>20000.000000</td>\n",
       "      <td>2019.000000</td>\n",
       "      <td>490.000000</td>\n",
       "      <td>150000.000000</td>\n",
       "      <td>12.000000</td>\n",
       "      <td>0.0</td>\n",
       "      <td>99998.000000</td>\n",
       "    </tr>\n",
       "  </tbody>\n",
       "</table>\n",
       "</div>"
      ],
      "text/plain": [
       "               Price  RegistrationYear          Power      Kilometer  \\\n",
       "count  258821.000000     258821.000000  258821.000000  258821.000000   \n",
       "mean     5340.614811       2004.021903     130.862921  129092.828634   \n",
       "std      4673.888532          6.064474      49.817210   36398.072271   \n",
       "min       169.000000       1986.000000      66.000000    5000.000000   \n",
       "25%      1699.000000       2000.000000      98.000000  125000.000000   \n",
       "50%      3800.000000       2004.000000     120.000000  150000.000000   \n",
       "75%      7750.000000       2008.000000     150.000000  150000.000000   \n",
       "max     20000.000000       2019.000000     490.000000  150000.000000   \n",
       "\n",
       "       RegistrationMonth  NumberOfPictures     PostalCode  \n",
       "count      258821.000000          258821.0  258821.000000  \n",
       "mean            6.027815               0.0   51633.768717  \n",
       "std             3.576096               0.0   25872.325198  \n",
       "min             0.000000               0.0    1067.000000  \n",
       "25%             3.000000               0.0   31162.000000  \n",
       "50%             6.000000               0.0   50858.000000  \n",
       "75%             9.000000               0.0   72510.000000  \n",
       "max            12.000000               0.0   99998.000000  "
      ]
     },
     "execution_count": 24,
     "metadata": {},
     "output_type": "execute_result"
    }
   ],
   "source": [
    "data.describe()"
   ]
  },
  {
   "cell_type": "markdown",
   "metadata": {},
   "source": [
    "Теперь значения числовых признаков выглядят выполне реалистично. Приступим к удалению ненужных столбцов, так же исправим формат записи их имен."
   ]
  },
  {
   "cell_type": "code",
   "execution_count": 25,
   "metadata": {},
   "outputs": [
    {
     "data": {
      "text/plain": [
       "Index(['date_crawled', 'price', 'vehicle_type', 'registration_year', 'gearbox',\n",
       "       'power', 'model', 'kilometer', 'registration_month', 'fuel_type',\n",
       "       'brand', 'repaired', 'date_created', 'number_of_pictures',\n",
       "       'postal_code', 'last_seen'],\n",
       "      dtype='object')"
      ]
     },
     "execution_count": 25,
     "metadata": {},
     "output_type": "execute_result"
    }
   ],
   "source": [
    "data.columns = [re.sub(r'(?<!^)(?=[A-Z])', '_', col).lower() for col in data.columns]\n",
    "data.columns"
   ]
  },
  {
   "cell_type": "code",
   "execution_count": 26,
   "metadata": {},
   "outputs": [],
   "source": [
    "data = data.drop(['date_crawled', 'date_created', 'postal_code', 'last_seen', 'number_of_pictures'], axis = 1)"
   ]
  },
  {
   "cell_type": "code",
   "execution_count": 27,
   "metadata": {},
   "outputs": [
    {
     "data": {
      "text/html": [
       "<div>\n",
       "<style scoped>\n",
       "    .dataframe tbody tr th:only-of-type {\n",
       "        vertical-align: middle;\n",
       "    }\n",
       "\n",
       "    .dataframe tbody tr th {\n",
       "        vertical-align: top;\n",
       "    }\n",
       "\n",
       "    .dataframe thead th {\n",
       "        text-align: right;\n",
       "    }\n",
       "</style>\n",
       "<table border=\"1\" class=\"dataframe\">\n",
       "  <thead>\n",
       "    <tr style=\"text-align: right;\">\n",
       "      <th></th>\n",
       "      <th>price</th>\n",
       "      <th>vehicle_type</th>\n",
       "      <th>registration_year</th>\n",
       "      <th>gearbox</th>\n",
       "      <th>power</th>\n",
       "      <th>model</th>\n",
       "      <th>kilometer</th>\n",
       "      <th>registration_month</th>\n",
       "      <th>fuel_type</th>\n",
       "      <th>brand</th>\n",
       "      <th>repaired</th>\n",
       "    </tr>\n",
       "  </thead>\n",
       "  <tbody>\n",
       "    <tr>\n",
       "      <th>1</th>\n",
       "      <td>18300</td>\n",
       "      <td>coupe</td>\n",
       "      <td>2011</td>\n",
       "      <td>manual</td>\n",
       "      <td>190</td>\n",
       "      <td>NaN</td>\n",
       "      <td>125000</td>\n",
       "      <td>5</td>\n",
       "      <td>gasoline</td>\n",
       "      <td>audi</td>\n",
       "      <td>yes</td>\n",
       "    </tr>\n",
       "    <tr>\n",
       "      <th>2</th>\n",
       "      <td>9800</td>\n",
       "      <td>suv</td>\n",
       "      <td>2004</td>\n",
       "      <td>auto</td>\n",
       "      <td>163</td>\n",
       "      <td>grand</td>\n",
       "      <td>125000</td>\n",
       "      <td>8</td>\n",
       "      <td>gasoline</td>\n",
       "      <td>jeep</td>\n",
       "      <td>NaN</td>\n",
       "    </tr>\n",
       "    <tr>\n",
       "      <th>3</th>\n",
       "      <td>1500</td>\n",
       "      <td>small</td>\n",
       "      <td>2001</td>\n",
       "      <td>manual</td>\n",
       "      <td>75</td>\n",
       "      <td>golf</td>\n",
       "      <td>150000</td>\n",
       "      <td>6</td>\n",
       "      <td>petrol</td>\n",
       "      <td>volkswagen</td>\n",
       "      <td>no</td>\n",
       "    </tr>\n",
       "    <tr>\n",
       "      <th>4</th>\n",
       "      <td>3600</td>\n",
       "      <td>small</td>\n",
       "      <td>2008</td>\n",
       "      <td>manual</td>\n",
       "      <td>69</td>\n",
       "      <td>fabia</td>\n",
       "      <td>90000</td>\n",
       "      <td>7</td>\n",
       "      <td>gasoline</td>\n",
       "      <td>skoda</td>\n",
       "      <td>no</td>\n",
       "    </tr>\n",
       "    <tr>\n",
       "      <th>5</th>\n",
       "      <td>650</td>\n",
       "      <td>sedan</td>\n",
       "      <td>1995</td>\n",
       "      <td>manual</td>\n",
       "      <td>102</td>\n",
       "      <td>3er</td>\n",
       "      <td>150000</td>\n",
       "      <td>10</td>\n",
       "      <td>petrol</td>\n",
       "      <td>bmw</td>\n",
       "      <td>yes</td>\n",
       "    </tr>\n",
       "  </tbody>\n",
       "</table>\n",
       "</div>"
      ],
      "text/plain": [
       "   price vehicle_type  registration_year gearbox  power  model  kilometer  \\\n",
       "1  18300        coupe               2011  manual    190    NaN     125000   \n",
       "2   9800          suv               2004    auto    163  grand     125000   \n",
       "3   1500        small               2001  manual     75   golf     150000   \n",
       "4   3600        small               2008  manual     69  fabia      90000   \n",
       "5    650        sedan               1995  manual    102    3er     150000   \n",
       "\n",
       "   registration_month fuel_type       brand repaired  \n",
       "1                   5  gasoline        audi      yes  \n",
       "2                   8  gasoline        jeep      NaN  \n",
       "3                   6    petrol  volkswagen       no  \n",
       "4                   7  gasoline       skoda       no  \n",
       "5                  10    petrol         bmw      yes  "
      ]
     },
     "execution_count": 27,
     "metadata": {},
     "output_type": "execute_result"
    }
   ],
   "source": [
    "data.head()"
   ]
  },
  {
   "cell_type": "markdown",
   "metadata": {},
   "source": [
    "NaN заменим на un."
   ]
  },
  {
   "cell_type": "code",
   "execution_count": 28,
   "metadata": {},
   "outputs": [],
   "source": [
    "data['gearbox'] = data['gearbox'].fillna('un')\n",
    "data['vehicle_type'] = data['vehicle_type'].fillna('un')\n",
    "data['fuel_type'] = data['fuel_type'].fillna('un')\n",
    "data['model'] = data['model'].fillna('un')\n",
    "data['repaired'] = data['repaired'].fillna('un')"
   ]
  },
  {
   "cell_type": "code",
   "execution_count": 29,
   "metadata": {},
   "outputs": [
    {
     "name": "stdout",
     "output_type": "stream",
     "text": [
      "<class 'pandas.core.frame.DataFrame'>\n",
      "Int64Index: 258821 entries, 1 to 354368\n",
      "Data columns (total 11 columns):\n",
      " #   Column              Non-Null Count   Dtype \n",
      "---  ------              --------------   ----- \n",
      " 0   price               258821 non-null  int64 \n",
      " 1   vehicle_type        258821 non-null  object\n",
      " 2   registration_year   258821 non-null  int64 \n",
      " 3   gearbox             258821 non-null  object\n",
      " 4   power               258821 non-null  int64 \n",
      " 5   model               258821 non-null  object\n",
      " 6   kilometer           258821 non-null  int64 \n",
      " 7   registration_month  258821 non-null  int64 \n",
      " 8   fuel_type           258821 non-null  object\n",
      " 9   brand               258821 non-null  object\n",
      " 10  repaired            258821 non-null  object\n",
      "dtypes: int64(5), object(6)\n",
      "memory usage: 23.7+ MB\n"
     ]
    }
   ],
   "source": [
    "data.info()"
   ]
  },
  {
   "cell_type": "code",
   "execution_count": 30,
   "metadata": {},
   "outputs": [
    {
     "data": {
      "text/html": [
       "<div>\n",
       "<style scoped>\n",
       "    .dataframe tbody tr th:only-of-type {\n",
       "        vertical-align: middle;\n",
       "    }\n",
       "\n",
       "    .dataframe tbody tr th {\n",
       "        vertical-align: top;\n",
       "    }\n",
       "\n",
       "    .dataframe thead th {\n",
       "        text-align: right;\n",
       "    }\n",
       "</style>\n",
       "<table border=\"1\" class=\"dataframe\">\n",
       "  <thead>\n",
       "    <tr style=\"text-align: right;\">\n",
       "      <th></th>\n",
       "      <th>price</th>\n",
       "      <th>registration_year</th>\n",
       "      <th>power</th>\n",
       "      <th>kilometer</th>\n",
       "      <th>registration_month</th>\n",
       "    </tr>\n",
       "  </thead>\n",
       "  <tbody>\n",
       "    <tr>\n",
       "      <th>price</th>\n",
       "      <td>1.000000</td>\n",
       "      <td>0.528195</td>\n",
       "      <td>0.453457</td>\n",
       "      <td>-0.422947</td>\n",
       "      <td>0.067366</td>\n",
       "    </tr>\n",
       "    <tr>\n",
       "      <th>registration_year</th>\n",
       "      <td>0.528195</td>\n",
       "      <td>1.000000</td>\n",
       "      <td>0.043655</td>\n",
       "      <td>-0.375080</td>\n",
       "      <td>0.015479</td>\n",
       "    </tr>\n",
       "    <tr>\n",
       "      <th>power</th>\n",
       "      <td>0.453457</td>\n",
       "      <td>0.043655</td>\n",
       "      <td>1.000000</td>\n",
       "      <td>0.110917</td>\n",
       "      <td>0.036128</td>\n",
       "    </tr>\n",
       "    <tr>\n",
       "      <th>kilometer</th>\n",
       "      <td>-0.422947</td>\n",
       "      <td>-0.375080</td>\n",
       "      <td>0.110917</td>\n",
       "      <td>1.000000</td>\n",
       "      <td>-0.018481</td>\n",
       "    </tr>\n",
       "    <tr>\n",
       "      <th>registration_month</th>\n",
       "      <td>0.067366</td>\n",
       "      <td>0.015479</td>\n",
       "      <td>0.036128</td>\n",
       "      <td>-0.018481</td>\n",
       "      <td>1.000000</td>\n",
       "    </tr>\n",
       "  </tbody>\n",
       "</table>\n",
       "</div>"
      ],
      "text/plain": [
       "                       price  registration_year     power  kilometer  \\\n",
       "price               1.000000           0.528195  0.453457  -0.422947   \n",
       "registration_year   0.528195           1.000000  0.043655  -0.375080   \n",
       "power               0.453457           0.043655  1.000000   0.110917   \n",
       "kilometer          -0.422947          -0.375080  0.110917   1.000000   \n",
       "registration_month  0.067366           0.015479  0.036128  -0.018481   \n",
       "\n",
       "                    registration_month  \n",
       "price                         0.067366  \n",
       "registration_year             0.015479  \n",
       "power                         0.036128  \n",
       "kilometer                    -0.018481  \n",
       "registration_month            1.000000  "
      ]
     },
     "execution_count": 30,
     "metadata": {},
     "output_type": "execute_result"
    }
   ],
   "source": [
    "data.corr()"
   ]
  },
  {
   "cell_type": "markdown",
   "metadata": {},
   "source": [
    "Потеряли много данных, но матрица корреляций подтверждает, что востановить 0е значения через закономерность  маловероятно."
   ]
  },
  {
   "cell_type": "markdown",
   "metadata": {},
   "source": [
    "Приступим к формированию данных для обучения.\n",
    "Для начала преобразуем категориальные признаки с помощью OrdinalEncoder."
   ]
  },
  {
   "cell_type": "code",
   "execution_count": 31,
   "metadata": {},
   "outputs": [
    {
     "name": "stderr",
     "output_type": "stream",
     "text": [
      "/tmp/ipykernel_344/2917803440.py:9: SettingWithCopyWarning: \n",
      "A value is trying to be set on a copy of a slice from a DataFrame.\n",
      "Try using .loc[row_indexer,col_indexer] = value instead\n",
      "\n",
      "See the caveats in the documentation: https://pandas.pydata.org/pandas-docs/stable/user_guide/indexing.html#returning-a-view-versus-a-copy\n",
      "  data_train[categ_columns] = enc.transform(data_train[categ_columns])\n",
      "/opt/conda/lib/python3.9/site-packages/pandas/core/indexing.py:1738: SettingWithCopyWarning: \n",
      "A value is trying to be set on a copy of a slice from a DataFrame.\n",
      "Try using .loc[row_indexer,col_indexer] = value instead\n",
      "\n",
      "See the caveats in the documentation: https://pandas.pydata.org/pandas-docs/stable/user_guide/indexing.html#returning-a-view-versus-a-copy\n",
      "  self._setitem_single_column(loc, value[:, i].tolist(), pi)\n"
     ]
    },
    {
     "name": "stdout",
     "output_type": "stream",
     "text": [
      "<class 'pandas.core.frame.DataFrame'>\n",
      "Int64Index: 258821 entries, 1 to 354368\n",
      "Data columns (total 11 columns):\n",
      " #   Column              Non-Null Count   Dtype   \n",
      "---  ------              --------------   -----   \n",
      " 0   price               258821 non-null  int64   \n",
      " 1   vehicle_type        258821 non-null  category\n",
      " 2   registration_year   258821 non-null  int64   \n",
      " 3   gearbox             258821 non-null  category\n",
      " 4   power               258821 non-null  int64   \n",
      " 5   model               258821 non-null  category\n",
      " 6   kilometer           258821 non-null  int64   \n",
      " 7   registration_month  258821 non-null  int64   \n",
      " 8   fuel_type           258821 non-null  category\n",
      " 9   brand               258821 non-null  category\n",
      " 10  repaired            258821 non-null  category\n",
      "dtypes: category(6), int64(5)\n",
      "memory usage: 13.6 MB\n"
     ]
    }
   ],
   "source": [
    "categ_columns = data.select_dtypes(include='object').columns\n",
    "data[categ_columns] = data[categ_columns].astype('category')\n",
    "data_train, data_valid = train_test_split(\n",
    "    data, test_size=0.4, random_state=12345)\n",
    "data_test, data_valid = train_test_split(\n",
    "    data_valid, test_size=0.5, random_state=12345)\n",
    "enc = OrdinalEncoder()\n",
    "enc.fit(data[categ_columns])\n",
    "data_train[categ_columns] = enc.transform(data_train[categ_columns])\n",
    "data_test[categ_columns] = enc.transform(data_test[categ_columns])\n",
    "data_valid[categ_columns] = enc.transform(data_valid[categ_columns])\n",
    "data.info()"
   ]
  },
  {
   "cell_type": "code",
   "execution_count": 32,
   "metadata": {},
   "outputs": [],
   "source": [
    "def split_target(data):\n",
    "    features = data.drop(['price'], axis=1)\n",
    "    target = data['price']\n",
    "    return features,target"
   ]
  },
  {
   "cell_type": "code",
   "execution_count": 33,
   "metadata": {},
   "outputs": [],
   "source": [
    "features_train,target_train = split_target(data_train)\n",
    "features_test,target_test = split_target(data_test)\n",
    "features_valid,target_valid = split_target(data_valid)"
   ]
  },
  {
   "cell_type": "code",
   "execution_count": 34,
   "metadata": {},
   "outputs": [
    {
     "name": "stdout",
     "output_type": "stream",
     "text": [
      "<class 'pandas.core.frame.DataFrame'>\n",
      "Int64Index: 155292 entries, 161666 to 297758\n",
      "Data columns (total 11 columns):\n",
      " #   Column              Non-Null Count   Dtype  \n",
      "---  ------              --------------   -----  \n",
      " 0   price               155292 non-null  int64  \n",
      " 1   vehicle_type        155292 non-null  float64\n",
      " 2   registration_year   155292 non-null  int64  \n",
      " 3   gearbox             155292 non-null  float64\n",
      " 4   power               155292 non-null  int64  \n",
      " 5   model               155292 non-null  float64\n",
      " 6   kilometer           155292 non-null  int64  \n",
      " 7   registration_month  155292 non-null  int64  \n",
      " 8   fuel_type           155292 non-null  float64\n",
      " 9   brand               155292 non-null  float64\n",
      " 10  repaired            155292 non-null  float64\n",
      "dtypes: float64(6), int64(5)\n",
      "memory usage: 14.2 MB\n"
     ]
    }
   ],
   "source": [
    "data_train.info()"
   ]
  },
  {
   "cell_type": "code",
   "execution_count": 35,
   "metadata": {},
   "outputs": [
    {
     "name": "stdout",
     "output_type": "stream",
     "text": [
      "<class 'pandas.core.frame.DataFrame'>\n",
      "Int64Index: 51764 entries, 321817 to 77540\n",
      "Data columns (total 11 columns):\n",
      " #   Column              Non-Null Count  Dtype  \n",
      "---  ------              --------------  -----  \n",
      " 0   price               51764 non-null  int64  \n",
      " 1   vehicle_type        51764 non-null  float64\n",
      " 2   registration_year   51764 non-null  int64  \n",
      " 3   gearbox             51764 non-null  float64\n",
      " 4   power               51764 non-null  int64  \n",
      " 5   model               51764 non-null  float64\n",
      " 6   kilometer           51764 non-null  int64  \n",
      " 7   registration_month  51764 non-null  int64  \n",
      " 8   fuel_type           51764 non-null  float64\n",
      " 9   brand               51764 non-null  float64\n",
      " 10  repaired            51764 non-null  float64\n",
      "dtypes: float64(6), int64(5)\n",
      "memory usage: 4.7 MB\n"
     ]
    }
   ],
   "source": [
    "data_test.info()"
   ]
  },
  {
   "cell_type": "code",
   "execution_count": 36,
   "metadata": {},
   "outputs": [
    {
     "name": "stdout",
     "output_type": "stream",
     "text": [
      "<class 'pandas.core.frame.DataFrame'>\n",
      "Int64Index: 51765 entries, 279250 to 178703\n",
      "Data columns (total 11 columns):\n",
      " #   Column              Non-Null Count  Dtype  \n",
      "---  ------              --------------  -----  \n",
      " 0   price               51765 non-null  int64  \n",
      " 1   vehicle_type        51765 non-null  float64\n",
      " 2   registration_year   51765 non-null  int64  \n",
      " 3   gearbox             51765 non-null  float64\n",
      " 4   power               51765 non-null  int64  \n",
      " 5   model               51765 non-null  float64\n",
      " 6   kilometer           51765 non-null  int64  \n",
      " 7   registration_month  51765 non-null  int64  \n",
      " 8   fuel_type           51765 non-null  float64\n",
      " 9   brand               51765 non-null  float64\n",
      " 10  repaired            51765 non-null  float64\n",
      "dtypes: float64(6), int64(5)\n",
      "memory usage: 4.7 MB\n"
     ]
    }
   ],
   "source": [
    "data_valid.info()"
   ]
  },
  {
   "cell_type": "markdown",
   "metadata": {},
   "source": [
    "Удалим все ненужное"
   ]
  },
  {
   "cell_type": "code",
   "execution_count": 37,
   "metadata": {},
   "outputs": [],
   "source": [
    "del data, categ_columns,enc,data_train,data_test,data_valid"
   ]
  },
  {
   "cell_type": "markdown",
   "metadata": {},
   "source": [
    "**Подведем итоги подготовки данных:**\n",
    "Данные поступили низкого качества и пришлось проделать достаточно работы, что бы привести их в подобающее состояние:\n",
    "* В столбцах категориальных признаков NaN заменили на un, то есть добавили новые категории\n",
    "* Привели названия столбцов к подходящему для работы формату\n",
    "* Убрали выбросы в численных признаках, так же избавились от 0 значений в них же, заменить эти значения( скорее всего пропуски в данных) не представлялось возможным в данных условиях\n",
    "\n",
    "Для нахождения выбросов были применены графические методы (boxplot, countplot, histplot)\n"
   ]
  },
  {
   "cell_type": "markdown",
   "metadata": {},
   "source": [
    "## Обучение моделей"
   ]
  },
  {
   "cell_type": "markdown",
   "metadata": {},
   "source": [
    "Для рассмотрения моделей напишем функцию вывода результатов"
   ]
  },
  {
   "cell_type": "code",
   "execution_count": 38,
   "metadata": {},
   "outputs": [],
   "source": [
    "def model_result_(model, features_train, features_test, target_train, target_test):\n",
    "    start1 = time.time()\n",
    "    model.fit(features_train, target_train)\n",
    "    end1 = time.time()\n",
    "    time_train = end1 - start1\n",
    "\n",
    "    start2 = time.time()\n",
    "    pred = model.predict(features_test)\n",
    "    end2 = time.time()\n",
    "    time_predict = end2 - start2\n",
    "\n",
    "    rmse = mean_squared_error(target_test, pred) ** 0.5\n",
    "    return [round(rmse), round(time_train, 1), round(time_predict, 1)]\n",
    "random_state = 12345"
   ]
  },
  {
   "cell_type": "code",
   "execution_count": 39,
   "metadata": {},
   "outputs": [
    {
     "name": "stdout",
     "output_type": "stream",
     "text": [
      "271.8379137516022\n",
      "176.87088918685913\n",
      "312.0621030330658\n",
      "468.0672559738159\n",
      "RMSE: 1788.5888850227088 time_train: 468.0672559738159 time_predict 0.42269182205200195 глубина: 10 количество деревьев: 80\n"
     ]
    }
   ],
   "source": [
    "best_rmse = 60000\n",
    "for est in  [60,80]: \n",
    "    for dep in [5,10]:\n",
    "        lgb_model = LGBMRegressor(random_state=random_state, max_depth=dep, n_estimators=est,)\n",
    "        start1 = time.time()\n",
    "        lgb_model.fit(features_train, target_train)\n",
    "        end1 = time.time()\n",
    "        time_train = end1 - start1\n",
    "        print(time_train)\n",
    "        start2 = time.time()\n",
    "        pred = lgb_model.predict(features_test)\n",
    "        end2 = time.time()\n",
    "        time_predict = end2 - start2\n",
    "        rmse = mean_squared_error(target_test, pred) ** 0.5\n",
    "        if rmse < best_rmse:\n",
    "            best_rmse = rmse\n",
    "            result = [time_train,time_predict] \n",
    "            best_depth = dep\n",
    "            best_estimators = est\n",
    "print(\"RMSE:\",best_rmse, \"time_train:\",result[0],\"time_predict\",result[1],\"глубина:\", best_depth, \"количество деревьев:\" ,best_estimators)\n"
   ]
  },
  {
   "cell_type": "code",
   "execution_count": 40,
   "metadata": {},
   "outputs": [],
   "source": [
    "results = pd.DataFrame(columns = ['model', 'rmse', 'time_train', 'time_predict'])\n",
    "results = results.append({'model': 'RandomForestRegressor', 'rmse': best_rmse,\n",
    "                    'time_train': result[0], 'time_predict': result[1]}, ignore_index=True)"
   ]
  },
  {
   "cell_type": "code",
   "execution_count": 41,
   "metadata": {},
   "outputs": [
    {
     "name": "stdout",
     "output_type": "stream",
     "text": [
      "RMSE: 1936.5867642222304 time_train: 8.3895742893219 time_predict 0.18004369735717773 глубина: 10 количество деревьев: 40\n"
     ]
    }
   ],
   "source": [
    "best_rmse = 60000\n",
    "for est in [20,30,40,50]: \n",
    "    for dep in [5,10]:\n",
    "        rfr_model = RandomForestRegressor(random_state=random_state, max_depth=dep, n_estimators=est)\n",
    "        start1 = time.time()\n",
    "        rfr_model.fit(features_train, target_train)\n",
    "        end1 = time.time()\n",
    "        time_train = end1 - start1\n",
    "        start2 = time.time()\n",
    "        pred = rfr_model.predict(features_test)\n",
    "        end2 = time.time()\n",
    "        time_predict = end2 - start2\n",
    "        rmse = mean_squared_error(target_test, pred) ** 0.5\n",
    "        if rmse < best_rmse:\n",
    "            best_rmse = rmse\n",
    "            result = [time_train,time_predict] \n",
    "            best_depth = dep\n",
    "            best_estimators = est\n",
    "print(\"RMSE:\",best_rmse, \"time_train:\",result[0],\"time_predict\",result[1],\"глубина:\", best_depth, \"количество деревьев:\" ,best_estimators)\n",
    "results = results.append({'model': 'LGBMRegressor', 'rmse': best_rmse,\n",
    "                    'time_train': result[0], 'time_predict': result[1]}, ignore_index=True)"
   ]
  },
  {
   "cell_type": "markdown",
   "metadata": {},
   "source": [
    "## Анализ моделей"
   ]
  },
  {
   "cell_type": "markdown",
   "metadata": {},
   "source": [
    "Посмотрим на результаты отобранных моделей и сравним."
   ]
  },
  {
   "cell_type": "code",
   "execution_count": 42,
   "metadata": {},
   "outputs": [
    {
     "data": {
      "text/html": [
       "<div>\n",
       "<style scoped>\n",
       "    .dataframe tbody tr th:only-of-type {\n",
       "        vertical-align: middle;\n",
       "    }\n",
       "\n",
       "    .dataframe tbody tr th {\n",
       "        vertical-align: top;\n",
       "    }\n",
       "\n",
       "    .dataframe thead th {\n",
       "        text-align: right;\n",
       "    }\n",
       "</style>\n",
       "<table border=\"1\" class=\"dataframe\">\n",
       "  <thead>\n",
       "    <tr style=\"text-align: right;\">\n",
       "      <th></th>\n",
       "      <th>model</th>\n",
       "      <th>rmse</th>\n",
       "      <th>time_train</th>\n",
       "      <th>time_predict</th>\n",
       "    </tr>\n",
       "  </thead>\n",
       "  <tbody>\n",
       "    <tr>\n",
       "      <th>0</th>\n",
       "      <td>RandomForestRegressor</td>\n",
       "      <td>1788.588885</td>\n",
       "      <td>468.067256</td>\n",
       "      <td>0.422692</td>\n",
       "    </tr>\n",
       "    <tr>\n",
       "      <th>1</th>\n",
       "      <td>LGBMRegressor</td>\n",
       "      <td>1936.586764</td>\n",
       "      <td>8.389574</td>\n",
       "      <td>0.180044</td>\n",
       "    </tr>\n",
       "  </tbody>\n",
       "</table>\n",
       "</div>"
      ],
      "text/plain": [
       "                   model         rmse  time_train  time_predict\n",
       "0  RandomForestRegressor  1788.588885  468.067256      0.422692\n",
       "1          LGBMRegressor  1936.586764    8.389574      0.180044"
      ]
     },
     "execution_count": 42,
     "metadata": {},
     "output_type": "execute_result"
    }
   ],
   "source": [
    "results"
   ]
  },
  {
   "cell_type": "code",
   "execution_count": 45,
   "metadata": {},
   "outputs": [
    {
     "data": {
      "image/png": "[encoded data removed]",
      "text/plain": [
       "<Figure size 1152x720 with 3 Axes>"
      ]
     },
     "metadata": {
      "needs_background": "light"
     },
     "output_type": "display_data"
    }
   ],
   "source": [
    "f, (ax1, ax2, ax3) = plt.subplots(3, 1, figsize=(16, 10), sharex=True)\n",
    "\n",
    "x = results['model']\n",
    "y1 = results['rmse']\n",
    "sns.barplot(x=x, y=y1, palette=\"bright\", ax=ax1)\n",
    "ax1.axhline(0,)\n",
    "ax1.set_ylabel(\"RMSE\")\n",
    "\n",
    "y2 = results['time_train']\n",
    "sns.barplot(x=x, y=y2, palette=\"rocket\", ax=ax2)\n",
    "ax2.axhline(0, color=\"k\")\n",
    "ax2.set_ylabel(\"Время обучения\")\n",
    "\n",
    "y3 = results['time_predict']\n",
    "sns.barplot(x=x, y=y3, palette=\"deep\", ax=ax3)\n",
    "ax3.axhline(0, color=\"k\")\n",
    "ax3.set_ylabel(\"Время предсказания\")\n",
    "\n",
    "sns.despine(bottom=True)\n",
    "plt.setp(f.axes, yticks=[])\n",
    "plt.tight_layout(h_pad=2)"
   ]
  },
  {
   "cell_type": "markdown",
   "metadata": {},
   "source": [
    "**Вывод:**\n",
    "Обе модели дают досаточно точные ответы, время обучения LGBMRegressor, конечно оставляет желать лучшего, но это скорее скажется на работе разработчика, т.к. предсказывает она так же быстро.\n",
    "\n",
    "К работе заказчику я бы рекомендовал модель случайного леса, т.к. ее проще переобучить, и результат точнее, скорость предскказания настолько высока у обеих моделей, что этот фактор из сравнения можно убрать."
   ]
  },
  {
   "cell_type": "markdown",
   "metadata": {},
   "source": [
    "Посмотрим на результаты рекомендованной нами модели на валидационной(да да тестовой) выборке."
   ]
  },
  {
   "cell_type": "code",
   "execution_count": 48,
   "metadata": {},
   "outputs": [
    {
     "name": "stdout",
     "output_type": "stream",
     "text": [
      "RMSE: 1922.7794624384396 time_predict: 0.2449812889099121\n"
     ]
    }
   ],
   "source": [
    "start2 = time.time()\n",
    "pred = rfr_model.predict(features_valid)\n",
    "end2 = time.time()\n",
    "time_predict = end2 - start2\n",
    "rmse = mean_squared_error(target_valid, pred) ** 0.5\n",
    "print (\"RMSE:\",rmse, \"time_predict:\",time_predict)"
   ]
  },
  {
   "cell_type": "markdown",
   "metadata": {},
   "source": [
    "\n",
    "\n",
    "**Вывод по проделанной работе:**\n",
    "Полученные данные были достаточно грязными, и не малую часть работы заняло преведение их в стоящий вид, дольшинство характеристик категориальные, что по этому было решено преобразовать их с помощью OrdinalEncoder. Подбор гиперпараметров оказался досаточно длительным из-за долгого времени обучения LGBMRegressor, скорее всего можно было облегчить данные.\n",
    "(*Ohe просто убивал работу) В результате было получено две модели с характеристиками удовлетворяющими условю заказа RMSE<2500.\n",
    "\n",
    "В итоге было принято решение работать с моделью случайного леса, т.к. ее RMSE  ниже. \n",
    "\n",
    "**Небольшое предположение** \n",
    "Вызов функции получения результата как будто еще сильнее замедляет работу тетрадки."
   ]
  }
 ],
 "metadata": {
  "ExecuteTimeLog": [
   {
    "duration": 50,
    "start_time": "2023-06-08T18:28:15.018Z"
   },
   {
    "duration": 6,
    "start_time": "2023-06-08T18:28:27.062Z"
   },
   {
    "duration": 1561,
    "start_time": "2023-06-08T18:28:29.404Z"
   },
   {
    "duration": 3218,
    "start_time": "2023-06-08T18:28:30.968Z"
   },
   {
    "duration": 836,
    "start_time": "2023-06-08T18:28:43.883Z"
   },
   {
    "duration": 111,
    "start_time": "2023-06-08T18:28:56.262Z"
   },
   {
    "duration": 100,
    "start_time": "2023-06-08T18:38:23.675Z"
   },
   {
    "duration": 464,
    "start_time": "2023-06-08T18:40:00.367Z"
   },
   {
    "duration": 517,
    "start_time": "2023-06-08T18:43:32.360Z"
   },
   {
    "duration": 79,
    "start_time": "2023-06-08T18:44:27.813Z"
   },
   {
    "duration": 108,
    "start_time": "2023-06-08T18:44:39.735Z"
   },
   {
    "duration": 11,
    "start_time": "2023-06-08T18:55:14.246Z"
   },
   {
    "duration": 11,
    "start_time": "2023-06-08T18:55:50.281Z"
   },
   {
    "duration": 4,
    "start_time": "2023-06-08T18:55:56.547Z"
   },
   {
    "duration": 1781,
    "start_time": "2023-06-08T18:55:59.532Z"
   },
   {
    "duration": 66,
    "start_time": "2023-06-08T18:56:57.585Z"
   },
   {
    "duration": 490,
    "start_time": "2023-06-08T19:00:32.704Z"
   },
   {
    "duration": 240,
    "start_time": "2023-06-08T19:01:56.742Z"
   },
   {
    "duration": 339,
    "start_time": "2023-06-08T19:02:18.622Z"
   },
   {
    "duration": 509,
    "start_time": "2023-06-08T19:02:50.350Z"
   },
   {
    "duration": 461,
    "start_time": "2023-06-08T19:03:06.579Z"
   },
   {
    "duration": 487,
    "start_time": "2023-06-08T19:03:15.254Z"
   },
   {
    "duration": 4,
    "start_time": "2023-06-08T19:52:31.211Z"
   },
   {
    "duration": 887,
    "start_time": "2023-06-08T19:52:31.218Z"
   },
   {
    "duration": 115,
    "start_time": "2023-06-08T19:52:32.106Z"
   },
   {
    "duration": 105,
    "start_time": "2023-06-08T19:52:32.223Z"
   },
   {
    "duration": 427,
    "start_time": "2023-06-08T19:52:32.330Z"
   },
   {
    "duration": 446,
    "start_time": "2023-06-08T19:52:32.759Z"
   },
   {
    "duration": 106,
    "start_time": "2023-06-08T19:52:33.206Z"
   },
   {
    "duration": 488,
    "start_time": "2023-06-08T19:52:33.314Z"
   },
   {
    "duration": 58577,
    "start_time": "2023-06-08T19:53:29.945Z"
   },
   {
    "duration": 18338,
    "start_time": "2023-06-08T19:54:28.524Z"
   },
   {
    "duration": 15650,
    "start_time": "2023-06-08T19:54:46.864Z"
   },
   {
    "duration": 178,
    "start_time": "2023-06-08T19:55:51.292Z"
   },
   {
    "duration": 51558,
    "start_time": "2023-06-08T19:57:05.740Z"
   },
   {
    "duration": 18937,
    "start_time": "2023-06-08T19:57:57.300Z"
   },
   {
    "duration": 523,
    "start_time": "2023-06-08T19:58:16.239Z"
   },
   {
    "duration": 484,
    "start_time": "2023-06-08T19:58:16.763Z"
   },
   {
    "duration": 14384,
    "start_time": "2023-06-08T20:01:10.412Z"
   },
   {
    "duration": 55257,
    "start_time": "2023-06-08T20:01:29.980Z"
   },
   {
    "duration": 18938,
    "start_time": "2023-06-08T20:02:25.240Z"
   },
   {
    "duration": 31,
    "start_time": "2023-06-08T20:05:08.554Z"
   },
   {
    "duration": 48,
    "start_time": "2023-06-08T20:05:20.288Z"
   },
   {
    "duration": 479,
    "start_time": "2023-06-08T20:05:29.771Z"
   },
   {
    "duration": 63,
    "start_time": "2023-06-08T20:07:23.008Z"
   },
   {
    "duration": 898,
    "start_time": "2023-06-08T20:07:32.508Z"
   },
   {
    "duration": 61,
    "start_time": "2023-06-08T20:07:44.449Z"
   },
   {
    "duration": 50,
    "start_time": "2023-06-08T20:08:15.203Z"
   },
   {
    "duration": 1526,
    "start_time": "2023-06-08T20:10:30.772Z"
   },
   {
    "duration": 264,
    "start_time": "2023-06-08T20:13:28.174Z"
   },
   {
    "duration": 501,
    "start_time": "2023-06-08T21:45:23.423Z"
   },
   {
    "duration": 176,
    "start_time": "2023-06-08T21:45:56.293Z"
   },
   {
    "duration": 13,
    "start_time": "2023-06-08T21:46:24.548Z"
   },
   {
    "duration": 12,
    "start_time": "2023-06-08T21:46:30.296Z"
   },
   {
    "duration": 465,
    "start_time": "2023-06-08T21:49:12.294Z"
   },
   {
    "duration": 152,
    "start_time": "2023-06-08T21:50:45.493Z"
   },
   {
    "duration": 3,
    "start_time": "2023-06-08T21:50:56.253Z"
   },
   {
    "duration": 783,
    "start_time": "2023-06-08T21:50:56.500Z"
   },
   {
    "duration": 122,
    "start_time": "2023-06-08T21:50:57.285Z"
   },
   {
    "duration": 130,
    "start_time": "2023-06-08T21:50:57.409Z"
   },
   {
    "duration": 446,
    "start_time": "2023-06-08T21:50:57.626Z"
   },
   {
    "duration": 504,
    "start_time": "2023-06-08T21:51:00.262Z"
   },
   {
    "duration": 123,
    "start_time": "2023-06-08T21:51:00.768Z"
   },
   {
    "duration": 496,
    "start_time": "2023-06-08T21:51:00.893Z"
   },
   {
    "duration": 67,
    "start_time": "2023-06-08T21:51:01.391Z"
   },
   {
    "duration": 187,
    "start_time": "2023-06-08T21:51:01.460Z"
   },
   {
    "duration": 465,
    "start_time": "2023-06-08T21:51:16.013Z"
   },
   {
    "duration": 56,
    "start_time": "2023-06-08T21:51:18.155Z"
   },
   {
    "duration": 174,
    "start_time": "2023-06-08T21:51:20.192Z"
   },
   {
    "duration": 56,
    "start_time": "2023-06-08T21:51:48.296Z"
   },
   {
    "duration": 792,
    "start_time": "2023-06-08T21:51:50.270Z"
   },
   {
    "duration": 143,
    "start_time": "2023-06-08T21:51:56.359Z"
   },
   {
    "duration": 510,
    "start_time": "2023-06-08T21:53:09.139Z"
   },
   {
    "duration": 68,
    "start_time": "2023-06-08T21:55:13.447Z"
   },
   {
    "duration": 210,
    "start_time": "2023-06-08T21:55:44.590Z"
   },
   {
    "duration": 196,
    "start_time": "2023-06-08T21:55:56.534Z"
   },
   {
    "duration": 16124,
    "start_time": "2023-06-08T21:57:02.409Z"
   },
   {
    "duration": 15635,
    "start_time": "2023-06-08T21:57:18.535Z"
   },
   {
    "duration": 154,
    "start_time": "2023-06-08T21:57:42.123Z"
   },
   {
    "duration": 220,
    "start_time": "2023-06-08T21:58:14.438Z"
   },
   {
    "duration": 8386,
    "start_time": "2023-06-08T21:58:47.720Z"
   },
   {
    "duration": 51,
    "start_time": "2023-06-08T22:01:17.369Z"
   },
   {
    "duration": 1823,
    "start_time": "2023-06-08T22:01:17.787Z"
   },
   {
    "duration": 147,
    "start_time": "2023-06-08T22:01:40.777Z"
   },
   {
    "duration": 94,
    "start_time": "2023-06-08T22:02:13.033Z"
   },
   {
    "duration": 11,
    "start_time": "2023-06-08T22:02:29.522Z"
   },
   {
    "duration": 4,
    "start_time": "2023-06-08T22:02:33.650Z"
   },
   {
    "duration": 52,
    "start_time": "2023-06-08T22:04:26.043Z"
   },
   {
    "duration": 130,
    "start_time": "2023-06-08T22:05:16.268Z"
   },
   {
    "duration": 174,
    "start_time": "2023-06-08T22:05:32.505Z"
   },
   {
    "duration": 102,
    "start_time": "2023-06-08T22:06:18.853Z"
   },
   {
    "duration": 776,
    "start_time": "2023-06-08T22:08:24.243Z"
   },
   {
    "duration": 117,
    "start_time": "2023-06-08T22:08:25.021Z"
   },
   {
    "duration": 162,
    "start_time": "2023-06-08T22:08:25.140Z"
   },
   {
    "duration": 453,
    "start_time": "2023-06-08T22:08:25.350Z"
   },
   {
    "duration": 507,
    "start_time": "2023-06-08T22:08:25.805Z"
   },
   {
    "duration": 112,
    "start_time": "2023-06-08T22:08:26.314Z"
   },
   {
    "duration": 487,
    "start_time": "2023-06-08T22:08:26.443Z"
   },
   {
    "duration": 79,
    "start_time": "2023-06-08T22:08:27.130Z"
   },
   {
    "duration": 179,
    "start_time": "2023-06-08T22:08:30.064Z"
   },
   {
    "duration": 127,
    "start_time": "2023-06-08T22:09:54.380Z"
   },
   {
    "duration": 860,
    "start_time": "2023-06-08T22:10:07.559Z"
   },
   {
    "duration": 4,
    "start_time": "2023-06-08T22:10:31.374Z"
   },
   {
    "duration": 783,
    "start_time": "2023-06-08T22:10:31.614Z"
   },
   {
    "duration": 124,
    "start_time": "2023-06-08T22:10:32.399Z"
   },
   {
    "duration": 113,
    "start_time": "2023-06-08T22:10:32.525Z"
   },
   {
    "duration": 486,
    "start_time": "2023-06-08T22:10:32.846Z"
   },
   {
    "duration": 517,
    "start_time": "2023-06-08T22:10:33.407Z"
   },
   {
    "duration": 103,
    "start_time": "2023-06-08T22:10:33.927Z"
   },
   {
    "duration": 467,
    "start_time": "2023-06-08T22:10:34.214Z"
   },
   {
    "duration": 436,
    "start_time": "2023-06-08T22:10:35.805Z"
   },
   {
    "duration": 53,
    "start_time": "2023-06-08T22:11:41.313Z"
   },
   {
    "duration": 170,
    "start_time": "2023-06-08T22:11:41.368Z"
   },
   {
    "duration": 55,
    "start_time": "2023-06-08T22:11:49.270Z"
   },
   {
    "duration": 776,
    "start_time": "2023-06-08T22:11:50.326Z"
   },
   {
    "duration": 287,
    "start_time": "2023-06-08T22:11:53.244Z"
   },
   {
    "duration": 487,
    "start_time": "2023-06-08T22:11:59.580Z"
   },
   {
    "duration": 246,
    "start_time": "2023-06-08T22:12:05.301Z"
   },
   {
    "duration": 13039,
    "start_time": "2023-06-08T22:12:57.949Z"
   },
   {
    "duration": 49,
    "start_time": "2023-06-08T22:14:24.186Z"
   },
   {
    "duration": 784,
    "start_time": "2023-06-08T22:14:28.496Z"
   },
   {
    "duration": 193,
    "start_time": "2023-06-08T22:14:33.088Z"
   },
   {
    "duration": 72,
    "start_time": "2023-06-08T22:14:34.682Z"
   },
   {
    "duration": 14,
    "start_time": "2023-06-08T22:17:37.878Z"
   },
   {
    "duration": 4,
    "start_time": "2023-06-08T22:17:59.594Z"
   },
   {
    "duration": 771,
    "start_time": "2023-06-08T22:17:59.925Z"
   },
   {
    "duration": 119,
    "start_time": "2023-06-08T22:18:00.748Z"
   },
   {
    "duration": 99,
    "start_time": "2023-06-08T22:18:00.970Z"
   },
   {
    "duration": 476,
    "start_time": "2023-06-08T22:18:01.376Z"
   },
   {
    "duration": 500,
    "start_time": "2023-06-08T22:18:01.858Z"
   },
   {
    "duration": 117,
    "start_time": "2023-06-08T22:18:02.360Z"
   },
   {
    "duration": 495,
    "start_time": "2023-06-08T22:18:02.479Z"
   },
   {
    "duration": 471,
    "start_time": "2023-06-08T22:18:02.976Z"
   },
   {
    "duration": 59,
    "start_time": "2023-06-08T22:18:05.384Z"
   },
   {
    "duration": 166,
    "start_time": "2023-06-08T22:18:05.445Z"
   },
   {
    "duration": 59,
    "start_time": "2023-06-08T22:18:05.613Z"
   },
   {
    "duration": 753,
    "start_time": "2023-06-08T22:18:05.674Z"
   },
   {
    "duration": 150,
    "start_time": "2023-06-08T22:18:06.429Z"
   },
   {
    "duration": 464,
    "start_time": "2023-06-08T22:18:06.581Z"
   },
   {
    "duration": 237,
    "start_time": "2023-06-08T22:18:07.046Z"
   },
   {
    "duration": 14994,
    "start_time": "2023-06-08T22:18:07.284Z"
   },
   {
    "duration": 166,
    "start_time": "2023-06-08T22:18:22.281Z"
   },
   {
    "duration": 9595,
    "start_time": "2023-06-08T22:18:22.456Z"
   },
   {
    "duration": 12404,
    "start_time": "2023-06-08T22:18:32.057Z"
   },
   {
    "duration": 50,
    "start_time": "2023-06-08T22:18:44.463Z"
   },
   {
    "duration": 879,
    "start_time": "2023-06-08T22:18:44.515Z"
   },
   {
    "duration": 195,
    "start_time": "2023-06-08T22:18:45.396Z"
   },
   {
    "duration": 86,
    "start_time": "2023-06-08T22:18:45.594Z"
   },
   {
    "duration": 4,
    "start_time": "2023-06-08T22:18:45.682Z"
   },
   {
    "duration": 25,
    "start_time": "2023-06-08T22:20:37.654Z"
   },
   {
    "duration": 12,
    "start_time": "2023-06-08T22:20:55.894Z"
   },
   {
    "duration": 821,
    "start_time": "2023-06-08T22:24:04.813Z"
   },
   {
    "duration": 56,
    "start_time": "2023-06-08T22:26:19.301Z"
   },
   {
    "duration": 54,
    "start_time": "2023-06-08T22:26:32.401Z"
   },
   {
    "duration": 43,
    "start_time": "2023-06-08T22:28:55.941Z"
   },
   {
    "duration": 870,
    "start_time": "2023-06-08T22:36:03.665Z"
   },
   {
    "duration": 399,
    "start_time": "2023-06-08T22:41:54.638Z"
   },
   {
    "duration": 6,
    "start_time": "2023-06-08T22:49:55.287Z"
   },
   {
    "duration": 1726,
    "start_time": "2023-06-09T14:35:34.090Z"
   },
   {
    "duration": 1184,
    "start_time": "2023-06-09T14:35:35.818Z"
   },
   {
    "duration": 133,
    "start_time": "2023-06-09T14:35:37.003Z"
   },
   {
    "duration": 125,
    "start_time": "2023-06-09T14:35:37.138Z"
   },
   {
    "duration": 486,
    "start_time": "2023-06-09T14:35:37.265Z"
   },
   {
    "duration": 534,
    "start_time": "2023-06-09T14:35:37.753Z"
   },
   {
    "duration": 125,
    "start_time": "2023-06-09T14:35:38.289Z"
   },
   {
    "duration": 603,
    "start_time": "2023-06-09T14:35:38.417Z"
   },
   {
    "duration": 601,
    "start_time": "2023-06-09T14:35:39.021Z"
   },
   {
    "duration": 75,
    "start_time": "2023-06-09T14:35:39.623Z"
   },
   {
    "duration": 190,
    "start_time": "2023-06-09T14:35:39.700Z"
   },
   {
    "duration": 83,
    "start_time": "2023-06-09T14:35:39.891Z"
   },
   {
    "duration": 867,
    "start_time": "2023-06-09T14:35:39.977Z"
   },
   {
    "duration": 156,
    "start_time": "2023-06-09T14:35:40.846Z"
   },
   {
    "duration": 520,
    "start_time": "2023-06-09T14:35:41.003Z"
   },
   {
    "duration": 255,
    "start_time": "2023-06-09T14:35:41.525Z"
   },
   {
    "duration": 15722,
    "start_time": "2023-06-09T14:35:41.782Z"
   },
   {
    "duration": 177,
    "start_time": "2023-06-09T14:35:57.505Z"
   },
   {
    "duration": 10078,
    "start_time": "2023-06-09T14:35:57.683Z"
   },
   {
    "duration": 14493,
    "start_time": "2023-06-09T14:36:07.763Z"
   },
   {
    "duration": 51,
    "start_time": "2023-06-09T14:36:22.258Z"
   },
   {
    "duration": 171,
    "start_time": "2023-06-09T14:36:22.310Z"
   },
   {
    "duration": 195,
    "start_time": "2023-06-09T14:36:22.483Z"
   },
   {
    "duration": 92,
    "start_time": "2023-06-09T14:36:22.680Z"
   },
   {
    "duration": 5,
    "start_time": "2023-06-09T14:36:22.774Z"
   },
   {
    "duration": 24,
    "start_time": "2023-06-09T14:36:22.780Z"
   },
   {
    "duration": 11,
    "start_time": "2023-06-09T14:36:22.806Z"
   },
   {
    "duration": 77,
    "start_time": "2023-06-09T14:36:22.842Z"
   },
   {
    "duration": 76,
    "start_time": "2023-06-09T14:36:22.921Z"
   },
   {
    "duration": 51,
    "start_time": "2023-06-09T14:36:22.998Z"
   },
   {
    "duration": 621,
    "start_time": "2023-06-09T14:36:23.051Z"
   },
   {
    "duration": 438,
    "start_time": "2023-06-09T14:36:23.673Z"
   },
   {
    "duration": 6,
    "start_time": "2023-06-09T14:36:24.113Z"
   },
   {
    "duration": 130,
    "start_time": "2023-06-09T14:36:36.467Z"
   },
   {
    "duration": 12,
    "start_time": "2023-06-09T14:37:11.525Z"
   },
   {
    "duration": 15,
    "start_time": "2023-06-09T14:37:40.154Z"
   },
   {
    "duration": 14,
    "start_time": "2023-06-09T14:38:04.358Z"
   },
   {
    "duration": 15,
    "start_time": "2023-06-09T14:38:40.198Z"
   },
   {
    "duration": 12,
    "start_time": "2023-06-09T14:39:08.923Z"
   },
   {
    "duration": 14,
    "start_time": "2023-06-09T14:39:30.031Z"
   },
   {
    "duration": 5,
    "start_time": "2023-06-09T14:40:44.293Z"
   },
   {
    "duration": 304,
    "start_time": "2023-06-09T14:40:44.884Z"
   },
   {
    "duration": 314,
    "start_time": "2023-06-09T14:42:49.689Z"
   },
   {
    "duration": 6909,
    "start_time": "2023-06-09T14:43:20.225Z"
   },
   {
    "duration": 4,
    "start_time": "2023-06-09T14:44:29.569Z"
   },
   {
    "duration": 7160,
    "start_time": "2023-06-09T14:44:30.156Z"
   },
   {
    "duration": 6808,
    "start_time": "2023-06-09T14:45:20.354Z"
   },
   {
    "duration": 16,
    "start_time": "2023-06-09T14:45:52.136Z"
   },
   {
    "duration": 6817,
    "start_time": "2023-06-09T14:46:05.028Z"
   },
   {
    "duration": 3595,
    "start_time": "2023-06-09T14:48:13.823Z"
   },
   {
    "duration": 23677,
    "start_time": "2023-06-09T14:49:06.559Z"
   },
   {
    "duration": 14,
    "start_time": "2023-06-09T14:54:08.952Z"
   },
   {
    "duration": 4,
    "start_time": "2023-06-09T14:54:51.560Z"
   },
   {
    "duration": 0,
    "start_time": "2023-06-09T15:04:00.920Z"
   },
   {
    "duration": 0,
    "start_time": "2023-06-09T15:18:30.873Z"
   },
   {
    "duration": 1545,
    "start_time": "2023-06-09T15:18:41.303Z"
   },
   {
    "duration": 969,
    "start_time": "2023-06-09T15:18:43.890Z"
   },
   {
    "duration": 155,
    "start_time": "2023-06-09T15:18:46.910Z"
   },
   {
    "duration": 125,
    "start_time": "2023-06-09T15:18:47.067Z"
   },
   {
    "duration": 582,
    "start_time": "2023-06-09T15:18:47.193Z"
   },
   {
    "duration": 629,
    "start_time": "2023-06-09T15:18:47.778Z"
   },
   {
    "duration": 139,
    "start_time": "2023-06-09T15:18:48.409Z"
   },
   {
    "duration": 607,
    "start_time": "2023-06-09T15:18:48.550Z"
   },
   {
    "duration": 634,
    "start_time": "2023-06-09T15:18:49.159Z"
   },
   {
    "duration": 79,
    "start_time": "2023-06-09T15:18:49.796Z"
   },
   {
    "duration": 204,
    "start_time": "2023-06-09T15:18:49.877Z"
   },
   {
    "duration": 84,
    "start_time": "2023-06-09T15:18:50.083Z"
   },
   {
    "duration": 887,
    "start_time": "2023-06-09T15:18:50.170Z"
   },
   {
    "duration": 151,
    "start_time": "2023-06-09T15:18:51.083Z"
   },
   {
    "duration": 576,
    "start_time": "2023-06-09T15:18:52.582Z"
   },
   {
    "duration": 266,
    "start_time": "2023-06-09T15:18:54.192Z"
   },
   {
    "duration": 17187,
    "start_time": "2023-06-09T15:18:55.173Z"
   },
   {
    "duration": 171,
    "start_time": "2023-06-09T15:19:12.362Z"
   },
   {
    "duration": 11049,
    "start_time": "2023-06-09T15:19:12.535Z"
   },
   {
    "duration": 15608,
    "start_time": "2023-06-09T15:19:23.586Z"
   },
   {
    "duration": 73,
    "start_time": "2023-06-09T15:19:39.197Z"
   },
   {
    "duration": 197,
    "start_time": "2023-06-09T15:19:39.272Z"
   },
   {
    "duration": 207,
    "start_time": "2023-06-09T15:19:39.471Z"
   },
   {
    "duration": 92,
    "start_time": "2023-06-09T15:19:39.680Z"
   },
   {
    "duration": 9,
    "start_time": "2023-06-09T15:19:39.775Z"
   },
   {
    "duration": 56,
    "start_time": "2023-06-09T15:19:39.789Z"
   },
   {
    "duration": 18,
    "start_time": "2023-06-09T15:19:39.847Z"
   },
   {
    "duration": 116,
    "start_time": "2023-06-09T15:19:39.868Z"
   },
   {
    "duration": 70,
    "start_time": "2023-06-09T15:19:39.986Z"
   },
   {
    "duration": 49,
    "start_time": "2023-06-09T15:19:40.059Z"
   },
   {
    "duration": 672,
    "start_time": "2023-06-09T15:19:40.110Z"
   },
   {
    "duration": 130,
    "start_time": "2023-06-09T15:19:40.784Z"
   },
   {
    "duration": 0,
    "start_time": "2023-06-09T15:19:40.917Z"
   },
   {
    "duration": 0,
    "start_time": "2023-06-09T15:19:40.918Z"
   },
   {
    "duration": 0,
    "start_time": "2023-06-09T15:19:40.919Z"
   },
   {
    "duration": 0,
    "start_time": "2023-06-09T15:19:40.921Z"
   },
   {
    "duration": 0,
    "start_time": "2023-06-09T15:19:40.922Z"
   },
   {
    "duration": 4,
    "start_time": "2023-06-09T15:20:01.757Z"
   },
   {
    "duration": 425,
    "start_time": "2023-06-09T15:20:10.114Z"
   },
   {
    "duration": 4,
    "start_time": "2023-06-09T15:20:12.371Z"
   },
   {
    "duration": 11,
    "start_time": "2023-06-09T15:20:13.293Z"
   },
   {
    "duration": 1909,
    "start_time": "2023-06-09T15:30:01.459Z"
   },
   {
    "duration": 936,
    "start_time": "2023-06-09T15:30:03.370Z"
   },
   {
    "duration": 135,
    "start_time": "2023-06-09T15:30:04.308Z"
   },
   {
    "duration": 112,
    "start_time": "2023-06-09T15:30:04.447Z"
   },
   {
    "duration": 534,
    "start_time": "2023-06-09T15:30:04.561Z"
   },
   {
    "duration": 578,
    "start_time": "2023-06-09T15:30:05.096Z"
   },
   {
    "duration": 115,
    "start_time": "2023-06-09T15:30:05.676Z"
   },
   {
    "duration": 581,
    "start_time": "2023-06-09T15:30:05.793Z"
   },
   {
    "duration": 662,
    "start_time": "2023-06-09T15:30:06.377Z"
   },
   {
    "duration": 68,
    "start_time": "2023-06-09T15:30:07.040Z"
   },
   {
    "duration": 210,
    "start_time": "2023-06-09T15:30:07.110Z"
   },
   {
    "duration": 76,
    "start_time": "2023-06-09T15:30:07.322Z"
   },
   {
    "duration": 908,
    "start_time": "2023-06-09T15:30:07.400Z"
   },
   {
    "duration": 205,
    "start_time": "2023-06-09T15:30:08.312Z"
   },
   {
    "duration": 599,
    "start_time": "2023-06-09T15:30:08.520Z"
   },
   {
    "duration": 259,
    "start_time": "2023-06-09T15:30:09.121Z"
   },
   {
    "duration": 15874,
    "start_time": "2023-06-09T15:30:09.382Z"
   },
   {
    "duration": 164,
    "start_time": "2023-06-09T15:30:25.258Z"
   },
   {
    "duration": 10294,
    "start_time": "2023-06-09T15:30:25.423Z"
   },
   {
    "duration": 14684,
    "start_time": "2023-06-09T15:30:35.720Z"
   },
   {
    "duration": 62,
    "start_time": "2023-06-09T15:30:50.406Z"
   },
   {
    "duration": 166,
    "start_time": "2023-06-09T15:30:50.470Z"
   },
   {
    "duration": 205,
    "start_time": "2023-06-09T15:30:50.637Z"
   },
   {
    "duration": 74,
    "start_time": "2023-06-09T15:30:50.844Z"
   },
   {
    "duration": 7,
    "start_time": "2023-06-09T15:30:50.941Z"
   },
   {
    "duration": 45,
    "start_time": "2023-06-09T15:30:50.950Z"
   },
   {
    "duration": 13,
    "start_time": "2023-06-09T15:30:50.997Z"
   },
   {
    "duration": 74,
    "start_time": "2023-06-09T15:30:51.013Z"
   },
   {
    "duration": 67,
    "start_time": "2023-06-09T15:30:51.089Z"
   },
   {
    "duration": 47,
    "start_time": "2023-06-09T15:30:51.158Z"
   },
   {
    "duration": 622,
    "start_time": "2023-06-09T15:30:51.208Z"
   },
   {
    "duration": 416,
    "start_time": "2023-06-09T15:30:51.832Z"
   },
   {
    "duration": 5,
    "start_time": "2023-06-09T15:30:52.251Z"
   },
   {
    "duration": 64,
    "start_time": "2023-06-09T15:31:49.649Z"
   },
   {
    "duration": 1683,
    "start_time": "2023-06-09T15:31:59.664Z"
   },
   {
    "duration": 1002,
    "start_time": "2023-06-09T15:32:02.737Z"
   },
   {
    "duration": 145,
    "start_time": "2023-06-09T15:32:03.742Z"
   },
   {
    "duration": 137,
    "start_time": "2023-06-09T15:32:03.890Z"
   },
   {
    "duration": 562,
    "start_time": "2023-06-09T15:32:04.063Z"
   },
   {
    "duration": 607,
    "start_time": "2023-06-09T15:32:04.627Z"
   },
   {
    "duration": 136,
    "start_time": "2023-06-09T15:32:05.237Z"
   },
   {
    "duration": 585,
    "start_time": "2023-06-09T15:32:07.305Z"
   },
   {
    "duration": 683,
    "start_time": "2023-06-09T15:32:07.892Z"
   },
   {
    "duration": 90,
    "start_time": "2023-06-09T15:32:08.577Z"
   },
   {
    "duration": 214,
    "start_time": "2023-06-09T15:32:08.669Z"
   },
   {
    "duration": 107,
    "start_time": "2023-06-09T15:32:08.886Z"
   },
   {
    "duration": 903,
    "start_time": "2023-06-09T15:32:08.995Z"
   },
   {
    "duration": 195,
    "start_time": "2023-06-09T15:32:09.901Z"
   },
   {
    "duration": 580,
    "start_time": "2023-06-09T15:32:10.098Z"
   },
   {
    "duration": 257,
    "start_time": "2023-06-09T15:32:10.681Z"
   },
   {
    "duration": 16941,
    "start_time": "2023-06-09T15:32:10.943Z"
   },
   {
    "duration": 265,
    "start_time": "2023-06-09T15:32:27.886Z"
   },
   {
    "duration": 10721,
    "start_time": "2023-06-09T15:32:28.154Z"
   },
   {
    "duration": 15532,
    "start_time": "2023-06-09T15:32:38.878Z"
   },
   {
    "duration": 73,
    "start_time": "2023-06-09T15:32:54.412Z"
   },
   {
    "duration": 192,
    "start_time": "2023-06-09T15:32:54.488Z"
   },
   {
    "duration": 219,
    "start_time": "2023-06-09T15:32:54.683Z"
   },
   {
    "duration": 109,
    "start_time": "2023-06-09T15:32:54.904Z"
   },
   {
    "duration": 7,
    "start_time": "2023-06-09T15:32:55.016Z"
   },
   {
    "duration": 54,
    "start_time": "2023-06-09T15:32:55.025Z"
   },
   {
    "duration": 29,
    "start_time": "2023-06-09T15:32:55.081Z"
   },
   {
    "duration": 88,
    "start_time": "2023-06-09T15:32:55.112Z"
   },
   {
    "duration": 75,
    "start_time": "2023-06-09T15:32:55.202Z"
   },
   {
    "duration": 39,
    "start_time": "2023-06-09T15:32:55.280Z"
   },
   {
    "duration": 833,
    "start_time": "2023-06-09T15:32:55.342Z"
   },
   {
    "duration": 450,
    "start_time": "2023-06-09T15:32:56.177Z"
   },
   {
    "duration": 5,
    "start_time": "2023-06-09T15:32:56.629Z"
   },
   {
    "duration": 125,
    "start_time": "2023-06-09T15:32:56.636Z"
   },
   {
    "duration": 0,
    "start_time": "2023-06-09T15:32:56.763Z"
   },
   {
    "duration": 0,
    "start_time": "2023-06-09T15:32:56.765Z"
   },
   {
    "duration": 5,
    "start_time": "2023-06-09T15:33:22.582Z"
   },
   {
    "duration": 25193,
    "start_time": "2023-06-09T15:33:25.759Z"
   },
   {
    "duration": 1273494,
    "start_time": "2023-06-09T15:33:50.955Z"
   },
   {
    "duration": 0,
    "start_time": "2023-06-09T15:55:04.451Z"
   },
   {
    "duration": 6,
    "start_time": "2023-06-09T15:56:31.142Z"
   },
   {
    "duration": 235391,
    "start_time": "2023-06-09T15:56:32.477Z"
   },
   {
    "duration": 31572,
    "start_time": "2023-06-09T16:03:26.089Z"
   },
   {
    "duration": 94,
    "start_time": "2023-06-09T16:07:32.409Z"
   },
   {
    "duration": 338009,
    "start_time": "2023-06-09T16:07:55.561Z"
   },
   {
    "duration": 577569,
    "start_time": "2023-06-09T16:14:55.291Z"
   },
   {
    "duration": 17,
    "start_time": "2023-06-09T16:25:01.109Z"
   },
   {
    "duration": 107,
    "start_time": "2023-06-09T16:25:05.998Z"
   },
   {
    "duration": 4,
    "start_time": "2023-06-09T16:25:09.092Z"
   },
   {
    "duration": 70,
    "start_time": "2023-06-09T16:25:10.341Z"
   },
   {
    "duration": 14,
    "start_time": "2023-06-09T16:25:56.124Z"
   },
   {
    "duration": 50,
    "start_time": "2023-06-09T16:26:11.171Z"
   },
   {
    "duration": 3,
    "start_time": "2023-06-09T16:26:42.062Z"
   },
   {
    "duration": 853,
    "start_time": "2023-06-09T16:26:42.067Z"
   },
   {
    "duration": 134,
    "start_time": "2023-06-09T16:26:42.922Z"
   },
   {
    "duration": 146,
    "start_time": "2023-06-09T16:26:43.058Z"
   },
   {
    "duration": 473,
    "start_time": "2023-06-09T16:26:43.206Z"
   },
   {
    "duration": 503,
    "start_time": "2023-06-09T16:26:43.681Z"
   },
   {
    "duration": 121,
    "start_time": "2023-06-09T16:26:44.186Z"
   },
   {
    "duration": 578,
    "start_time": "2023-06-09T16:26:44.309Z"
   },
   {
    "duration": 525,
    "start_time": "2023-06-09T16:26:44.889Z"
   },
   {
    "duration": 64,
    "start_time": "2023-06-09T16:26:45.416Z"
   },
   {
    "duration": 1548,
    "start_time": "2023-06-09T16:26:45.482Z"
   },
   {
    "duration": 57,
    "start_time": "2023-06-09T16:26:47.042Z"
   },
   {
    "duration": 943,
    "start_time": "2023-06-09T16:26:47.102Z"
   },
   {
    "duration": 174,
    "start_time": "2023-06-09T16:26:48.047Z"
   },
   {
    "duration": 668,
    "start_time": "2023-06-09T16:26:48.224Z"
   },
   {
    "duration": 280,
    "start_time": "2023-06-09T16:26:48.894Z"
   },
   {
    "duration": 17600,
    "start_time": "2023-06-09T16:26:49.177Z"
   },
   {
    "duration": 195,
    "start_time": "2023-06-09T16:27:06.778Z"
   },
   {
    "duration": 10688,
    "start_time": "2023-06-09T16:27:06.975Z"
   },
   {
    "duration": 16247,
    "start_time": "2023-06-09T16:27:17.665Z"
   },
   {
    "duration": 64,
    "start_time": "2023-06-09T16:27:33.914Z"
   },
   {
    "duration": 191,
    "start_time": "2023-06-09T16:27:33.980Z"
   },
   {
    "duration": 225,
    "start_time": "2023-06-09T16:27:34.175Z"
   },
   {
    "duration": 94,
    "start_time": "2023-06-09T16:27:34.402Z"
   },
   {
    "duration": 6,
    "start_time": "2023-06-09T16:27:34.499Z"
   },
   {
    "duration": 39,
    "start_time": "2023-06-09T16:27:34.507Z"
   },
   {
    "duration": 14,
    "start_time": "2023-06-09T16:27:34.549Z"
   },
   {
    "duration": 77,
    "start_time": "2023-06-09T16:27:34.565Z"
   },
   {
    "duration": 67,
    "start_time": "2023-06-09T16:27:34.644Z"
   },
   {
    "duration": 65,
    "start_time": "2023-06-09T16:27:34.713Z"
   },
   {
    "duration": 18,
    "start_time": "2023-06-09T16:27:34.781Z"
   },
   {
    "duration": 109,
    "start_time": "2023-06-09T16:27:34.801Z"
   },
   {
    "duration": 5,
    "start_time": "2023-06-09T16:27:34.912Z"
   },
   {
    "duration": 56,
    "start_time": "2023-06-09T16:27:53.266Z"
   },
   {
    "duration": 59,
    "start_time": "2023-06-09T16:29:52.715Z"
   },
   {
    "duration": 5,
    "start_time": "2023-06-09T16:33:22.113Z"
   },
   {
    "duration": 790,
    "start_time": "2023-06-09T16:33:22.327Z"
   },
   {
    "duration": 152,
    "start_time": "2023-06-09T16:33:23.120Z"
   },
   {
    "duration": 126,
    "start_time": "2023-06-09T16:33:23.274Z"
   },
   {
    "duration": 465,
    "start_time": "2023-06-09T16:33:23.440Z"
   },
   {
    "duration": 577,
    "start_time": "2023-06-09T16:33:23.907Z"
   },
   {
    "duration": 119,
    "start_time": "2023-06-09T16:33:24.487Z"
   },
   {
    "duration": 571,
    "start_time": "2023-06-09T16:33:24.609Z"
   },
   {
    "duration": 512,
    "start_time": "2023-06-09T16:33:25.183Z"
   },
   {
    "duration": 75,
    "start_time": "2023-06-09T16:33:25.698Z"
   },
   {
    "duration": 195,
    "start_time": "2023-06-09T16:33:25.775Z"
   },
   {
    "duration": 59,
    "start_time": "2023-06-09T16:33:26.331Z"
   },
   {
    "duration": 2447,
    "start_time": "2023-06-09T16:33:26.559Z"
   },
   {
    "duration": 173,
    "start_time": "2023-06-09T16:33:29.008Z"
   },
   {
    "duration": 608,
    "start_time": "2023-06-09T16:33:29.184Z"
   },
   {
    "duration": 279,
    "start_time": "2023-06-09T16:33:29.794Z"
   },
   {
    "duration": 18495,
    "start_time": "2023-06-09T16:33:30.076Z"
   },
   {
    "duration": 232,
    "start_time": "2023-06-09T16:33:48.587Z"
   },
   {
    "duration": 11609,
    "start_time": "2023-06-09T16:33:48.821Z"
   },
   {
    "duration": 15658,
    "start_time": "2023-06-09T16:34:00.433Z"
   },
   {
    "duration": 66,
    "start_time": "2023-06-09T16:34:16.093Z"
   },
   {
    "duration": 881,
    "start_time": "2023-06-09T16:34:16.161Z"
   },
   {
    "duration": 203,
    "start_time": "2023-06-09T16:34:17.044Z"
   },
   {
    "duration": 76,
    "start_time": "2023-06-09T16:34:17.249Z"
   },
   {
    "duration": 16,
    "start_time": "2023-06-09T16:34:17.327Z"
   },
   {
    "duration": 46,
    "start_time": "2023-06-09T16:34:17.344Z"
   },
   {
    "duration": 13,
    "start_time": "2023-06-09T16:34:17.391Z"
   },
   {
    "duration": 82,
    "start_time": "2023-06-09T16:34:17.405Z"
   },
   {
    "duration": 63,
    "start_time": "2023-06-09T16:34:17.489Z"
   },
   {
    "duration": 35,
    "start_time": "2023-06-09T16:34:17.556Z"
   },
   {
    "duration": 603,
    "start_time": "2023-06-09T16:34:17.593Z"
   },
   {
    "duration": 190,
    "start_time": "2023-06-09T16:34:18.198Z"
   },
   {
    "duration": 25,
    "start_time": "2023-06-09T16:34:39.315Z"
   },
   {
    "duration": 343,
    "start_time": "2023-06-09T16:34:52.885Z"
   },
   {
    "duration": 6,
    "start_time": "2023-06-09T16:34:55.441Z"
   },
   {
    "duration": 12,
    "start_time": "2023-06-09T16:34:58.812Z"
   },
   {
    "duration": 1700,
    "start_time": "2023-06-09T16:36:47.076Z"
   },
   {
    "duration": 944,
    "start_time": "2023-06-09T16:36:48.779Z"
   },
   {
    "duration": 141,
    "start_time": "2023-06-09T16:36:49.725Z"
   },
   {
    "duration": 141,
    "start_time": "2023-06-09T16:36:49.869Z"
   },
   {
    "duration": 557,
    "start_time": "2023-06-09T16:36:50.012Z"
   },
   {
    "duration": 595,
    "start_time": "2023-06-09T16:36:50.571Z"
   },
   {
    "duration": 116,
    "start_time": "2023-06-09T16:36:51.169Z"
   },
   {
    "duration": 548,
    "start_time": "2023-06-09T16:36:51.288Z"
   },
   {
    "duration": 629,
    "start_time": "2023-06-09T16:36:51.837Z"
   },
   {
    "duration": 79,
    "start_time": "2023-06-09T16:36:52.468Z"
   },
   {
    "duration": 204,
    "start_time": "2023-06-09T16:36:52.549Z"
   },
   {
    "duration": 93,
    "start_time": "2023-06-09T16:36:52.756Z"
   },
   {
    "duration": 875,
    "start_time": "2023-06-09T16:36:52.851Z"
   },
   {
    "duration": 164,
    "start_time": "2023-06-09T16:36:53.728Z"
   },
   {
    "duration": 596,
    "start_time": "2023-06-09T16:36:53.895Z"
   },
   {
    "duration": 252,
    "start_time": "2023-06-09T16:36:54.493Z"
   },
   {
    "duration": 16221,
    "start_time": "2023-06-09T16:36:55.835Z"
   },
   {
    "duration": 177,
    "start_time": "2023-06-09T16:37:12.058Z"
   },
   {
    "duration": 10444,
    "start_time": "2023-06-09T16:37:12.241Z"
   },
   {
    "duration": 14733,
    "start_time": "2023-06-09T16:37:22.687Z"
   },
   {
    "duration": 67,
    "start_time": "2023-06-09T16:37:37.424Z"
   },
   {
    "duration": 190,
    "start_time": "2023-06-09T16:37:37.492Z"
   },
   {
    "duration": 222,
    "start_time": "2023-06-09T16:37:37.683Z"
   },
   {
    "duration": 100,
    "start_time": "2023-06-09T16:37:37.907Z"
   },
   {
    "duration": 5,
    "start_time": "2023-06-09T16:37:38.009Z"
   },
   {
    "duration": 58,
    "start_time": "2023-06-09T16:37:38.016Z"
   },
   {
    "duration": 12,
    "start_time": "2023-06-09T16:37:38.076Z"
   },
   {
    "duration": 97,
    "start_time": "2023-06-09T16:37:38.091Z"
   },
   {
    "duration": 91,
    "start_time": "2023-06-09T16:37:38.190Z"
   },
   {
    "duration": 67,
    "start_time": "2023-06-09T16:37:38.285Z"
   },
   {
    "duration": 660,
    "start_time": "2023-06-09T16:37:38.354Z"
   },
   {
    "duration": 188,
    "start_time": "2023-06-09T16:37:39.016Z"
   },
   {
    "duration": 19,
    "start_time": "2023-06-09T16:37:39.206Z"
   },
   {
    "duration": 22,
    "start_time": "2023-06-09T16:38:01.626Z"
   },
   {
    "duration": 404,
    "start_time": "2023-06-09T16:38:03.859Z"
   },
   {
    "duration": 5,
    "start_time": "2023-06-09T16:38:10.884Z"
   },
   {
    "duration": 1662,
    "start_time": "2023-06-09T16:42:22.967Z"
   },
   {
    "duration": 911,
    "start_time": "2023-06-09T16:42:24.631Z"
   },
   {
    "duration": 153,
    "start_time": "2023-06-09T16:42:25.544Z"
   },
   {
    "duration": 130,
    "start_time": "2023-06-09T16:42:25.699Z"
   },
   {
    "duration": 598,
    "start_time": "2023-06-09T16:42:25.922Z"
   },
   {
    "duration": 582,
    "start_time": "2023-06-09T16:42:26.521Z"
   },
   {
    "duration": 118,
    "start_time": "2023-06-09T16:42:27.105Z"
   },
   {
    "duration": 583,
    "start_time": "2023-06-09T16:42:27.225Z"
   },
   {
    "duration": 729,
    "start_time": "2023-06-09T16:42:27.811Z"
   },
   {
    "duration": 80,
    "start_time": "2023-06-09T16:42:28.543Z"
   },
   {
    "duration": 222,
    "start_time": "2023-06-09T16:42:28.625Z"
   },
   {
    "duration": 66,
    "start_time": "2023-06-09T16:42:30.873Z"
   },
   {
    "duration": 966,
    "start_time": "2023-06-09T16:42:30.941Z"
   },
   {
    "duration": 196,
    "start_time": "2023-06-09T16:42:31.909Z"
   },
   {
    "duration": 594,
    "start_time": "2023-06-09T16:42:32.107Z"
   },
   {
    "duration": 277,
    "start_time": "2023-06-09T16:42:32.705Z"
   },
   {
    "duration": 16782,
    "start_time": "2023-06-09T16:42:32.984Z"
   },
   {
    "duration": 215,
    "start_time": "2023-06-09T16:42:49.769Z"
   },
   {
    "duration": 10896,
    "start_time": "2023-06-09T16:42:49.986Z"
   },
   {
    "duration": 14999,
    "start_time": "2023-06-09T16:43:00.884Z"
   },
   {
    "duration": 74,
    "start_time": "2023-06-09T16:43:15.886Z"
   },
   {
    "duration": 172,
    "start_time": "2023-06-09T16:43:15.963Z"
   },
   {
    "duration": 201,
    "start_time": "2023-06-09T16:43:16.142Z"
   },
   {
    "duration": 75,
    "start_time": "2023-06-09T16:43:16.345Z"
   },
   {
    "duration": 22,
    "start_time": "2023-06-09T16:43:16.422Z"
   },
   {
    "duration": 47,
    "start_time": "2023-06-09T16:43:16.445Z"
   },
   {
    "duration": 43,
    "start_time": "2023-06-09T16:43:32.263Z"
   },
   {
    "duration": 178,
    "start_time": "2023-06-09T16:43:35.110Z"
   },
   {
    "duration": 7,
    "start_time": "2023-06-09T16:43:42.979Z"
   },
   {
    "duration": 22,
    "start_time": "2023-06-09T16:43:44.219Z"
   },
   {
    "duration": 70,
    "start_time": "2023-06-09T16:43:49.160Z"
   },
   {
    "duration": 5,
    "start_time": "2023-06-09T16:43:55.006Z"
   },
   {
    "duration": 197,
    "start_time": "2023-06-09T16:43:56.828Z"
   },
   {
    "duration": 25,
    "start_time": "2023-06-09T16:45:27.059Z"
   },
   {
    "duration": 5,
    "start_time": "2023-06-09T16:45:36.810Z"
   },
   {
    "duration": 977,
    "start_time": "2023-06-09T16:45:37.393Z"
   },
   {
    "duration": 182,
    "start_time": "2023-06-09T16:45:38.372Z"
   },
   {
    "duration": 216,
    "start_time": "2023-06-09T16:45:38.556Z"
   },
   {
    "duration": 553,
    "start_time": "2023-06-09T16:45:38.775Z"
   },
   {
    "duration": 572,
    "start_time": "2023-06-09T16:45:39.330Z"
   },
   {
    "duration": 124,
    "start_time": "2023-06-09T16:45:39.904Z"
   },
   {
    "duration": 596,
    "start_time": "2023-06-09T16:45:40.031Z"
   },
   {
    "duration": 589,
    "start_time": "2023-06-09T16:45:40.629Z"
   },
   {
    "duration": 74,
    "start_time": "2023-06-09T16:45:41.221Z"
   },
   {
    "duration": 1568,
    "start_time": "2023-06-09T16:45:42.182Z"
   },
   {
    "duration": 57,
    "start_time": "2023-06-09T16:45:43.752Z"
   },
   {
    "duration": 1010,
    "start_time": "2023-06-09T16:45:43.811Z"
   },
   {
    "duration": 181,
    "start_time": "2023-06-09T16:45:44.823Z"
   },
   {
    "duration": 536,
    "start_time": "2023-06-09T16:45:45.007Z"
   },
   {
    "duration": 248,
    "start_time": "2023-06-09T16:45:45.545Z"
   },
   {
    "duration": 16125,
    "start_time": "2023-06-09T16:45:45.795Z"
   },
   {
    "duration": 243,
    "start_time": "2023-06-09T16:46:01.922Z"
   },
   {
    "duration": 10545,
    "start_time": "2023-06-09T16:46:02.167Z"
   },
   {
    "duration": 15125,
    "start_time": "2023-06-09T16:46:12.714Z"
   },
   {
    "duration": 48,
    "start_time": "2023-06-09T16:46:27.842Z"
   },
   {
    "duration": 183,
    "start_time": "2023-06-09T16:46:27.892Z"
   },
   {
    "duration": 226,
    "start_time": "2023-06-09T16:46:28.077Z"
   },
   {
    "duration": 115,
    "start_time": "2023-06-09T16:46:28.307Z"
   },
   {
    "duration": 6,
    "start_time": "2023-06-09T16:46:28.424Z"
   },
   {
    "duration": 55,
    "start_time": "2023-06-09T16:46:28.432Z"
   },
   {
    "duration": 20,
    "start_time": "2023-06-09T16:46:28.490Z"
   },
   {
    "duration": 125,
    "start_time": "2023-06-09T16:46:28.512Z"
   },
   {
    "duration": 104,
    "start_time": "2023-06-09T16:46:28.640Z"
   },
   {
    "duration": 40,
    "start_time": "2023-06-09T16:46:28.746Z"
   },
   {
    "duration": 1031,
    "start_time": "2023-06-09T16:46:28.788Z"
   },
   {
    "duration": 27,
    "start_time": "2023-06-09T16:46:29.821Z"
   },
   {
    "duration": 17,
    "start_time": "2023-06-09T16:46:29.853Z"
   },
   {
    "duration": 98,
    "start_time": "2023-06-09T16:46:29.872Z"
   },
   {
    "duration": 19,
    "start_time": "2023-06-09T16:46:40.088Z"
   },
   {
    "duration": 9,
    "start_time": "2023-06-09T16:46:42.497Z"
   },
   {
    "duration": 17,
    "start_time": "2023-06-09T16:46:42.830Z"
   },
   {
    "duration": 57,
    "start_time": "2023-06-09T16:46:44.459Z"
   },
   {
    "duration": 5,
    "start_time": "2023-06-09T16:46:47.170Z"
   },
   {
    "duration": 1669,
    "start_time": "2023-06-09T16:47:23.214Z"
   },
   {
    "duration": 933,
    "start_time": "2023-06-09T16:47:24.885Z"
   },
   {
    "duration": 154,
    "start_time": "2023-06-09T16:47:25.822Z"
   },
   {
    "duration": 136,
    "start_time": "2023-06-09T16:47:25.978Z"
   },
   {
    "duration": 601,
    "start_time": "2023-06-09T16:47:26.116Z"
   },
   {
    "duration": 718,
    "start_time": "2023-06-09T16:47:26.719Z"
   },
   {
    "duration": 161,
    "start_time": "2023-06-09T16:47:27.439Z"
   },
   {
    "duration": 898,
    "start_time": "2023-06-09T16:47:27.602Z"
   },
   {
    "duration": 886,
    "start_time": "2023-06-09T16:47:28.505Z"
   },
   {
    "duration": 96,
    "start_time": "2023-06-09T16:47:29.394Z"
   },
   {
    "duration": 239,
    "start_time": "2023-06-09T16:47:29.492Z"
   },
   {
    "duration": 81,
    "start_time": "2023-06-09T16:47:29.741Z"
   },
   {
    "duration": 1148,
    "start_time": "2023-06-09T16:47:29.824Z"
   },
   {
    "duration": 221,
    "start_time": "2023-06-09T16:47:30.981Z"
   },
   {
    "duration": 1078,
    "start_time": "2023-06-09T16:47:31.205Z"
   },
   {
    "duration": 325,
    "start_time": "2023-06-09T16:47:32.286Z"
   },
   {
    "duration": 18893,
    "start_time": "2023-06-09T16:47:32.613Z"
   },
   {
    "duration": 217,
    "start_time": "2023-06-09T16:47:51.508Z"
   },
   {
    "duration": 11863,
    "start_time": "2023-06-09T16:47:51.728Z"
   },
   {
    "duration": 16920,
    "start_time": "2023-06-09T16:48:03.594Z"
   },
   {
    "duration": 74,
    "start_time": "2023-06-09T16:48:20.516Z"
   },
   {
    "duration": 204,
    "start_time": "2023-06-09T16:48:20.592Z"
   },
   {
    "duration": 232,
    "start_time": "2023-06-09T16:48:20.798Z"
   },
   {
    "duration": 93,
    "start_time": "2023-06-09T16:48:21.032Z"
   },
   {
    "duration": 6,
    "start_time": "2023-06-09T16:48:21.127Z"
   },
   {
    "duration": 69,
    "start_time": "2023-06-09T16:48:21.135Z"
   },
   {
    "duration": 12,
    "start_time": "2023-06-09T16:48:21.208Z"
   },
   {
    "duration": 87,
    "start_time": "2023-06-09T16:48:21.222Z"
   },
   {
    "duration": 76,
    "start_time": "2023-06-09T16:48:21.311Z"
   },
   {
    "duration": 47,
    "start_time": "2023-06-09T16:48:21.390Z"
   },
   {
    "duration": 1183,
    "start_time": "2023-06-09T16:48:21.438Z"
   },
   {
    "duration": 27,
    "start_time": "2023-06-09T16:48:22.623Z"
   },
   {
    "duration": 26,
    "start_time": "2023-06-09T16:48:22.653Z"
   },
   {
    "duration": 57,
    "start_time": "2023-06-09T16:48:22.681Z"
   },
   {
    "duration": 7,
    "start_time": "2023-06-09T16:48:22.741Z"
   },
   {
    "duration": 1770,
    "start_time": "2023-06-09T16:51:30.866Z"
   },
   {
    "duration": 1042,
    "start_time": "2023-06-09T16:51:32.638Z"
   },
   {
    "duration": 141,
    "start_time": "2023-06-09T16:51:33.681Z"
   },
   {
    "duration": 143,
    "start_time": "2023-06-09T16:51:33.824Z"
   },
   {
    "duration": 646,
    "start_time": "2023-06-09T16:51:33.970Z"
   },
   {
    "duration": 660,
    "start_time": "2023-06-09T16:51:34.618Z"
   },
   {
    "duration": 121,
    "start_time": "2023-06-09T16:51:35.280Z"
   },
   {
    "duration": 640,
    "start_time": "2023-06-09T16:51:35.402Z"
   },
   {
    "duration": 719,
    "start_time": "2023-06-09T16:51:36.044Z"
   },
   {
    "duration": 77,
    "start_time": "2023-06-09T16:51:36.766Z"
   },
   {
    "duration": 205,
    "start_time": "2023-06-09T16:51:36.845Z"
   },
   {
    "duration": 75,
    "start_time": "2023-06-09T16:51:37.052Z"
   },
   {
    "duration": 952,
    "start_time": "2023-06-09T16:51:37.144Z"
   },
   {
    "duration": 203,
    "start_time": "2023-06-09T16:51:38.099Z"
   },
   {
    "duration": 699,
    "start_time": "2023-06-09T16:51:38.304Z"
   },
   {
    "duration": 296,
    "start_time": "2023-06-09T16:51:39.005Z"
   },
   {
    "duration": 17522,
    "start_time": "2023-06-09T16:51:39.303Z"
   },
   {
    "duration": 204,
    "start_time": "2023-06-09T16:51:56.827Z"
   },
   {
    "duration": 10828,
    "start_time": "2023-06-09T16:51:57.032Z"
   },
   {
    "duration": 14857,
    "start_time": "2023-06-09T16:52:07.862Z"
   },
   {
    "duration": 62,
    "start_time": "2023-06-09T16:52:22.721Z"
   },
   {
    "duration": 173,
    "start_time": "2023-06-09T16:52:22.785Z"
   },
   {
    "duration": 212,
    "start_time": "2023-06-09T16:52:22.960Z"
   },
   {
    "duration": 89,
    "start_time": "2023-06-09T16:52:23.173Z"
   },
   {
    "duration": 6,
    "start_time": "2023-06-09T16:52:23.264Z"
   },
   {
    "duration": 48,
    "start_time": "2023-06-09T16:52:23.271Z"
   },
   {
    "duration": 12,
    "start_time": "2023-06-09T16:52:23.321Z"
   },
   {
    "duration": 83,
    "start_time": "2023-06-09T16:52:23.335Z"
   },
   {
    "duration": 72,
    "start_time": "2023-06-09T16:52:23.420Z"
   },
   {
    "duration": 50,
    "start_time": "2023-06-09T16:52:23.494Z"
   },
   {
    "duration": 975,
    "start_time": "2023-06-09T16:52:23.546Z"
   },
   {
    "duration": 21,
    "start_time": "2023-06-09T16:52:24.523Z"
   },
   {
    "duration": 24,
    "start_time": "2023-06-09T16:52:24.546Z"
   },
   {
    "duration": 67,
    "start_time": "2023-06-09T16:52:24.572Z"
   },
   {
    "duration": 6,
    "start_time": "2023-06-09T16:52:24.640Z"
   },
   {
    "duration": 1816,
    "start_time": "2023-06-09T16:53:27.994Z"
   },
   {
    "duration": 1132,
    "start_time": "2023-06-09T16:53:29.812Z"
   },
   {
    "duration": 162,
    "start_time": "2023-06-09T16:53:30.946Z"
   },
   {
    "duration": 148,
    "start_time": "2023-06-09T16:53:31.110Z"
   },
   {
    "duration": 708,
    "start_time": "2023-06-09T16:53:31.260Z"
   },
   {
    "duration": 641,
    "start_time": "2023-06-09T16:53:31.970Z"
   },
   {
    "duration": 107,
    "start_time": "2023-06-09T16:53:32.613Z"
   },
   {
    "duration": 598,
    "start_time": "2023-06-09T16:53:32.723Z"
   },
   {
    "duration": 665,
    "start_time": "2023-06-09T16:53:33.323Z"
   },
   {
    "duration": 81,
    "start_time": "2023-06-09T16:53:33.991Z"
   },
   {
    "duration": 233,
    "start_time": "2023-06-09T16:53:34.074Z"
   },
   {
    "duration": 86,
    "start_time": "2023-06-09T16:53:34.308Z"
   },
   {
    "duration": 978,
    "start_time": "2023-06-09T16:53:34.396Z"
   },
   {
    "duration": 189,
    "start_time": "2023-06-09T16:53:35.377Z"
   },
   {
    "duration": 659,
    "start_time": "2023-06-09T16:53:35.568Z"
   },
   {
    "duration": 281,
    "start_time": "2023-06-09T16:53:36.229Z"
   },
   {
    "duration": 16892,
    "start_time": "2023-06-09T16:53:36.512Z"
   },
   {
    "duration": 188,
    "start_time": "2023-06-09T16:53:53.405Z"
   },
   {
    "duration": 11136,
    "start_time": "2023-06-09T16:53:53.594Z"
   },
   {
    "duration": 15397,
    "start_time": "2023-06-09T16:54:04.741Z"
   },
   {
    "duration": 60,
    "start_time": "2023-06-09T16:54:20.140Z"
   },
   {
    "duration": 190,
    "start_time": "2023-06-09T16:54:20.202Z"
   },
   {
    "duration": 210,
    "start_time": "2023-06-09T16:54:20.393Z"
   },
   {
    "duration": 89,
    "start_time": "2023-06-09T16:54:20.604Z"
   },
   {
    "duration": 5,
    "start_time": "2023-06-09T16:54:20.694Z"
   },
   {
    "duration": 49,
    "start_time": "2023-06-09T16:54:20.700Z"
   },
   {
    "duration": 20,
    "start_time": "2023-06-09T16:54:20.753Z"
   },
   {
    "duration": 65,
    "start_time": "2023-06-09T16:54:20.777Z"
   },
   {
    "duration": 66,
    "start_time": "2023-06-09T16:54:20.845Z"
   },
   {
    "duration": 73,
    "start_time": "2023-06-09T16:54:20.913Z"
   },
   {
    "duration": 1018,
    "start_time": "2023-06-09T16:54:20.987Z"
   },
   {
    "duration": 17,
    "start_time": "2023-06-09T16:54:22.007Z"
   },
   {
    "duration": 25,
    "start_time": "2023-06-09T16:54:22.042Z"
   },
   {
    "duration": 98,
    "start_time": "2023-06-09T16:54:22.070Z"
   },
   {
    "duration": 6,
    "start_time": "2023-06-09T16:54:22.170Z"
   },
   {
    "duration": 44633,
    "start_time": "2023-06-09T16:54:22.180Z"
   },
   {
    "duration": 2129,
    "start_time": "2023-06-10T17:50:56.577Z"
   },
   {
    "duration": 3963,
    "start_time": "2023-06-10T17:50:58.708Z"
   },
   {
    "duration": 165,
    "start_time": "2023-06-10T17:51:02.673Z"
   },
   {
    "duration": 161,
    "start_time": "2023-06-10T17:51:02.842Z"
   },
   {
    "duration": 635,
    "start_time": "2023-06-10T17:51:03.005Z"
   },
   {
    "duration": 633,
    "start_time": "2023-06-10T17:51:03.643Z"
   },
   {
    "duration": 137,
    "start_time": "2023-06-10T17:51:04.278Z"
   },
   {
    "duration": 627,
    "start_time": "2023-06-10T17:51:04.417Z"
   },
   {
    "duration": 635,
    "start_time": "2023-06-10T17:51:05.050Z"
   },
   {
    "duration": 77,
    "start_time": "2023-06-10T17:51:05.687Z"
   },
   {
    "duration": 213,
    "start_time": "2023-06-10T17:51:05.766Z"
   },
   {
    "duration": 86,
    "start_time": "2023-06-10T17:51:05.982Z"
   },
   {
    "duration": 943,
    "start_time": "2023-06-10T17:51:06.071Z"
   },
   {
    "duration": 206,
    "start_time": "2023-06-10T17:51:07.019Z"
   },
   {
    "duration": 731,
    "start_time": "2023-06-10T17:51:07.230Z"
   },
   {
    "duration": 378,
    "start_time": "2023-06-10T17:51:07.963Z"
   },
   {
    "duration": 18652,
    "start_time": "2023-06-10T17:51:08.348Z"
   },
   {
    "duration": 214,
    "start_time": "2023-06-10T17:51:27.002Z"
   },
   {
    "duration": 12690,
    "start_time": "2023-06-10T17:51:27.226Z"
   },
   {
    "duration": 16533,
    "start_time": "2023-06-10T17:51:39.933Z"
   },
   {
    "duration": 58,
    "start_time": "2023-06-10T17:51:56.468Z"
   },
   {
    "duration": 167,
    "start_time": "2023-06-10T17:51:56.532Z"
   },
   {
    "duration": 218,
    "start_time": "2023-06-10T17:51:56.702Z"
   },
   {
    "duration": 85,
    "start_time": "2023-06-10T17:51:56.926Z"
   },
   {
    "duration": 6,
    "start_time": "2023-06-10T17:51:57.013Z"
   },
   {
    "duration": 28,
    "start_time": "2023-06-10T17:51:57.039Z"
   },
   {
    "duration": 18,
    "start_time": "2023-06-10T17:51:57.070Z"
   },
   {
    "duration": 119,
    "start_time": "2023-06-10T17:51:57.090Z"
   },
   {
    "duration": 84,
    "start_time": "2023-06-10T17:51:57.211Z"
   },
   {
    "duration": 61,
    "start_time": "2023-06-10T17:51:57.297Z"
   },
   {
    "duration": 1188,
    "start_time": "2023-06-10T17:51:57.361Z"
   },
   {
    "duration": 18,
    "start_time": "2023-06-10T17:51:58.550Z"
   },
   {
    "duration": 18,
    "start_time": "2023-06-10T17:51:58.572Z"
   },
   {
    "duration": 100,
    "start_time": "2023-06-10T17:51:58.592Z"
   },
   {
    "duration": 6,
    "start_time": "2023-06-10T17:51:58.695Z"
   },
   {
    "duration": 71177,
    "start_time": "2023-06-10T17:51:58.703Z"
   },
   {
    "duration": 2683185,
    "start_time": "2023-06-10T17:53:09.883Z"
   },
   {
    "duration": 0,
    "start_time": "2023-06-10T18:37:53.071Z"
   },
   {
    "duration": 0,
    "start_time": "2023-06-10T18:37:53.072Z"
   },
   {
    "duration": 2103,
    "start_time": "2023-06-10T18:42:28.646Z"
   },
   {
    "duration": 1446,
    "start_time": "2023-06-10T18:42:30.752Z"
   },
   {
    "duration": 274,
    "start_time": "2023-06-10T18:42:32.201Z"
   },
   {
    "duration": 267,
    "start_time": "2023-06-10T18:42:32.478Z"
   },
   {
    "duration": 646,
    "start_time": "2023-06-10T18:42:32.759Z"
   },
   {
    "duration": 795,
    "start_time": "2023-06-10T18:42:33.408Z"
   },
   {
    "duration": 153,
    "start_time": "2023-06-10T18:42:34.206Z"
   },
   {
    "duration": 777,
    "start_time": "2023-06-10T18:42:34.362Z"
   },
   {
    "duration": 688,
    "start_time": "2023-06-10T18:42:35.145Z"
   },
   {
    "duration": 68,
    "start_time": "2023-06-10T18:42:35.835Z"
   },
   {
    "duration": 287,
    "start_time": "2023-06-10T18:42:35.906Z"
   },
   {
    "duration": 95,
    "start_time": "2023-06-10T18:42:36.195Z"
   },
   {
    "duration": 1495,
    "start_time": "2023-06-10T18:42:36.293Z"
   },
   {
    "duration": 235,
    "start_time": "2023-06-10T18:42:37.796Z"
   },
   {
    "duration": 807,
    "start_time": "2023-06-10T18:42:38.037Z"
   },
   {
    "duration": 339,
    "start_time": "2023-06-10T18:42:38.852Z"
   },
   {
    "duration": 20923,
    "start_time": "2023-06-10T18:42:39.193Z"
   },
   {
    "duration": 265,
    "start_time": "2023-06-10T18:43:00.119Z"
   },
   {
    "duration": 13148,
    "start_time": "2023-06-10T18:43:00.387Z"
   },
   {
    "duration": 1782,
    "start_time": "2023-06-10T18:43:49.118Z"
   },
   {
    "duration": 1105,
    "start_time": "2023-06-10T18:43:50.903Z"
   },
   {
    "duration": 257,
    "start_time": "2023-06-10T18:43:52.011Z"
   },
   {
    "duration": 225,
    "start_time": "2023-06-10T18:43:52.270Z"
   },
   {
    "duration": 654,
    "start_time": "2023-06-10T18:43:53.097Z"
   },
   {
    "duration": 120,
    "start_time": "2023-06-10T18:43:53.753Z"
   },
   {
    "duration": 626,
    "start_time": "2023-06-10T18:43:53.875Z"
   },
   {
    "duration": 771,
    "start_time": "2023-06-10T18:43:54.503Z"
   },
   {
    "duration": 78,
    "start_time": "2023-06-10T18:43:55.277Z"
   },
   {
    "duration": 285,
    "start_time": "2023-06-10T18:43:55.356Z"
   },
   {
    "duration": 81,
    "start_time": "2023-06-10T18:43:55.643Z"
   },
   {
    "duration": 1148,
    "start_time": "2023-06-10T18:43:55.729Z"
   },
   {
    "duration": 211,
    "start_time": "2023-06-10T18:43:56.882Z"
   },
   {
    "duration": 2035,
    "start_time": "2023-06-10T18:46:37.424Z"
   },
   {
    "duration": 1221,
    "start_time": "2023-06-10T18:46:39.462Z"
   },
   {
    "duration": 188,
    "start_time": "2023-06-10T18:46:40.685Z"
   },
   {
    "duration": 188,
    "start_time": "2023-06-10T18:46:40.876Z"
   },
   {
    "duration": 641,
    "start_time": "2023-06-10T18:46:41.067Z"
   },
   {
    "duration": 694,
    "start_time": "2023-06-10T18:46:41.710Z"
   },
   {
    "duration": 154,
    "start_time": "2023-06-10T18:46:42.406Z"
   },
   {
    "duration": 712,
    "start_time": "2023-06-10T18:46:42.562Z"
   },
   {
    "duration": 680,
    "start_time": "2023-06-10T18:46:43.276Z"
   },
   {
    "duration": 78,
    "start_time": "2023-06-10T18:46:43.960Z"
   },
   {
    "duration": 250,
    "start_time": "2023-06-10T18:46:44.040Z"
   },
   {
    "duration": 92,
    "start_time": "2023-06-10T18:46:44.292Z"
   },
   {
    "duration": 1094,
    "start_time": "2023-06-10T18:46:44.386Z"
   },
   {
    "duration": 196,
    "start_time": "2023-06-10T18:46:45.482Z"
   },
   {
    "duration": 613,
    "start_time": "2023-06-10T18:46:45.680Z"
   },
   {
    "duration": 304,
    "start_time": "2023-06-10T18:46:46.295Z"
   },
   {
    "duration": 18782,
    "start_time": "2023-06-10T18:46:46.601Z"
   },
   {
    "duration": 274,
    "start_time": "2023-06-10T18:47:05.386Z"
   },
   {
    "duration": 12443,
    "start_time": "2023-06-10T18:47:05.662Z"
   },
   {
    "duration": 17742,
    "start_time": "2023-06-10T18:47:18.107Z"
   },
   {
    "duration": 51,
    "start_time": "2023-06-10T18:47:35.851Z"
   },
   {
    "duration": 238,
    "start_time": "2023-06-10T18:47:35.904Z"
   },
   {
    "duration": 214,
    "start_time": "2023-06-10T18:47:36.147Z"
   },
   {
    "duration": 103,
    "start_time": "2023-06-10T18:47:36.363Z"
   },
   {
    "duration": 6,
    "start_time": "2023-06-10T18:47:36.468Z"
   },
   {
    "duration": 29,
    "start_time": "2023-06-10T18:47:36.475Z"
   },
   {
    "duration": 39,
    "start_time": "2023-06-10T18:47:36.506Z"
   },
   {
    "duration": 95,
    "start_time": "2023-06-10T18:47:36.553Z"
   },
   {
    "duration": 93,
    "start_time": "2023-06-10T18:47:36.650Z"
   },
   {
    "duration": 46,
    "start_time": "2023-06-10T18:47:36.745Z"
   },
   {
    "duration": 1153,
    "start_time": "2023-06-10T18:47:36.793Z"
   },
   {
    "duration": 16,
    "start_time": "2023-06-10T18:47:37.950Z"
   },
   {
    "duration": 16,
    "start_time": "2023-06-10T18:47:37.968Z"
   },
   {
    "duration": 116,
    "start_time": "2023-06-10T18:47:37.987Z"
   },
   {
    "duration": 4,
    "start_time": "2023-06-10T18:47:38.105Z"
   },
   {
    "duration": 21,
    "start_time": "2023-06-10T18:47:38.111Z"
   },
   {
    "duration": 119516,
    "start_time": "2023-06-10T18:47:38.135Z"
   },
   {
    "duration": 1977,
    "start_time": "2023-06-10T18:56:26.574Z"
   },
   {
    "duration": 1569,
    "start_time": "2023-06-10T18:56:28.554Z"
   },
   {
    "duration": 285,
    "start_time": "2023-06-10T18:56:30.126Z"
   },
   {
    "duration": 270,
    "start_time": "2023-06-10T18:56:30.414Z"
   },
   {
    "duration": 848,
    "start_time": "2023-06-10T18:56:30.687Z"
   },
   {
    "duration": 901,
    "start_time": "2023-06-10T18:56:31.538Z"
   },
   {
    "duration": 125,
    "start_time": "2023-06-10T18:56:32.442Z"
   },
   {
    "duration": 861,
    "start_time": "2023-06-10T18:56:32.569Z"
   },
   {
    "duration": 814,
    "start_time": "2023-06-10T18:56:33.435Z"
   },
   {
    "duration": 87,
    "start_time": "2023-06-10T18:56:34.254Z"
   },
   {
    "duration": 214,
    "start_time": "2023-06-10T18:56:34.343Z"
   },
   {
    "duration": 102,
    "start_time": "2023-06-10T18:56:34.559Z"
   },
   {
    "duration": 1269,
    "start_time": "2023-06-10T18:56:34.663Z"
   },
   {
    "duration": 202,
    "start_time": "2023-06-10T18:56:35.938Z"
   },
   {
    "duration": 896,
    "start_time": "2023-06-10T18:56:36.142Z"
   },
   {
    "duration": 419,
    "start_time": "2023-06-10T18:56:37.044Z"
   },
   {
    "duration": 19996,
    "start_time": "2023-06-10T18:56:37.467Z"
   },
   {
    "duration": 256,
    "start_time": "2023-06-10T18:56:57.464Z"
   },
   {
    "duration": 13603,
    "start_time": "2023-06-10T18:56:57.730Z"
   },
   {
    "duration": 21991,
    "start_time": "2023-06-10T18:57:11.341Z"
   },
   {
    "duration": 71,
    "start_time": "2023-06-10T18:57:33.342Z"
   },
   {
    "duration": 209,
    "start_time": "2023-06-10T18:57:33.423Z"
   },
   {
    "duration": 243,
    "start_time": "2023-06-10T18:57:33.634Z"
   },
   {
    "duration": 105,
    "start_time": "2023-06-10T18:57:33.879Z"
   },
   {
    "duration": 6,
    "start_time": "2023-06-10T18:57:33.986Z"
   },
   {
    "duration": 52,
    "start_time": "2023-06-10T18:57:33.995Z"
   },
   {
    "duration": 13,
    "start_time": "2023-06-10T18:57:34.058Z"
   },
   {
    "duration": 120,
    "start_time": "2023-06-10T18:57:34.078Z"
   },
   {
    "duration": 107,
    "start_time": "2023-06-10T18:57:34.200Z"
   },
   {
    "duration": 97,
    "start_time": "2023-06-10T18:57:34.310Z"
   },
   {
    "duration": 1074,
    "start_time": "2023-06-10T18:57:34.409Z"
   },
   {
    "duration": 17,
    "start_time": "2023-06-10T18:57:35.486Z"
   },
   {
    "duration": 40,
    "start_time": "2023-06-10T18:57:35.509Z"
   },
   {
    "duration": 138,
    "start_time": "2023-06-10T18:57:35.559Z"
   },
   {
    "duration": 4,
    "start_time": "2023-06-10T18:57:35.699Z"
   },
   {
    "duration": 49,
    "start_time": "2023-06-10T18:57:35.706Z"
   },
   {
    "duration": 142579,
    "start_time": "2023-06-10T18:57:35.758Z"
   },
   {
    "duration": 4364,
    "start_time": "2023-06-10T19:04:47.621Z"
   },
   {
    "duration": 6019,
    "start_time": "2023-06-10T19:04:51.999Z"
   },
   {
    "duration": 266,
    "start_time": "2023-06-10T19:04:58.021Z"
   },
   {
    "duration": 283,
    "start_time": "2023-06-10T19:04:58.296Z"
   },
   {
    "duration": 922,
    "start_time": "2023-06-10T19:04:58.581Z"
   },
   {
    "duration": 1002,
    "start_time": "2023-06-10T19:04:59.505Z"
   },
   {
    "duration": 171,
    "start_time": "2023-06-10T19:05:00.510Z"
   },
   {
    "duration": 1241,
    "start_time": "2023-06-10T19:05:00.683Z"
   },
   {
    "duration": 1130,
    "start_time": "2023-06-10T19:05:01.947Z"
   },
   {
    "duration": 178,
    "start_time": "2023-06-10T19:05:03.098Z"
   },
   {
    "duration": 387,
    "start_time": "2023-06-10T19:05:03.296Z"
   },
   {
    "duration": 100,
    "start_time": "2023-06-10T19:05:03.691Z"
   },
   {
    "duration": 1668,
    "start_time": "2023-06-10T19:05:03.797Z"
   },
   {
    "duration": 314,
    "start_time": "2023-06-10T19:05:05.475Z"
   },
   {
    "duration": 1087,
    "start_time": "2023-06-10T19:05:05.798Z"
   },
   {
    "duration": 370,
    "start_time": "2023-06-10T19:05:06.887Z"
   },
   {
    "duration": 26613,
    "start_time": "2023-06-10T19:05:07.272Z"
   },
   {
    "duration": 314,
    "start_time": "2023-06-10T19:05:33.895Z"
   },
   {
    "duration": 15825,
    "start_time": "2023-06-10T19:05:34.217Z"
   },
   {
    "duration": 24338,
    "start_time": "2023-06-10T19:05:50.045Z"
   },
   {
    "duration": 79,
    "start_time": "2023-06-10T19:06:14.396Z"
   },
   {
    "duration": 376,
    "start_time": "2023-06-10T19:06:14.481Z"
   },
   {
    "duration": 299,
    "start_time": "2023-06-10T19:06:14.878Z"
   },
   {
    "duration": 102,
    "start_time": "2023-06-10T19:06:15.180Z"
   },
   {
    "duration": 7,
    "start_time": "2023-06-10T19:06:15.284Z"
   },
   {
    "duration": 68,
    "start_time": "2023-06-10T19:06:15.294Z"
   },
   {
    "duration": 53,
    "start_time": "2023-06-10T19:06:15.364Z"
   },
   {
    "duration": 217,
    "start_time": "2023-06-10T19:06:15.421Z"
   },
   {
    "duration": 142,
    "start_time": "2023-06-10T19:06:15.644Z"
   },
   {
    "duration": 68,
    "start_time": "2023-06-10T19:06:15.793Z"
   },
   {
    "duration": 1614,
    "start_time": "2023-06-10T19:06:15.869Z"
   },
   {
    "duration": 19,
    "start_time": "2023-06-10T19:06:17.485Z"
   },
   {
    "duration": 47,
    "start_time": "2023-06-10T19:06:17.507Z"
   },
   {
    "duration": 109,
    "start_time": "2023-06-10T19:06:17.556Z"
   },
   {
    "duration": 16,
    "start_time": "2023-06-10T19:06:17.668Z"
   },
   {
    "duration": 27,
    "start_time": "2023-06-10T19:06:17.688Z"
   },
   {
    "duration": 180648,
    "start_time": "2023-06-10T19:06:17.717Z"
   },
   {
    "duration": 38,
    "start_time": "2023-06-10T19:09:18.368Z"
   },
   {
    "duration": 235,
    "start_time": "2023-06-10T19:09:18.415Z"
   },
   {
    "duration": 0,
    "start_time": "2023-06-10T19:09:18.653Z"
   },
   {
    "duration": 1442718,
    "start_time": "2023-06-10T19:10:00.415Z"
   },
   {
    "duration": 660587,
    "start_time": "2023-06-10T20:05:59.854Z"
   },
   {
    "duration": 1591040,
    "start_time": "2023-06-10T21:12:23.231Z"
   },
   {
    "duration": 13,
    "start_time": "2023-06-10T21:40:24.571Z"
   },
   {
    "duration": 0,
    "start_time": "2023-06-10T21:40:24.586Z"
   },
   {
    "duration": 414416,
    "start_time": "2023-06-10T21:40:39.267Z"
   },
   {
    "duration": 0,
    "start_time": "2023-06-10T21:47:33.685Z"
   },
   {
    "duration": 0,
    "start_time": "2023-06-10T21:47:33.686Z"
   },
   {
    "duration": 0,
    "start_time": "2023-06-10T21:47:33.688Z"
   },
   {
    "duration": 6,
    "start_time": "2023-06-10T21:48:30.880Z"
   },
   {
    "duration": 14,
    "start_time": "2023-06-10T21:49:18.887Z"
   },
   {
    "duration": 23,
    "start_time": "2023-06-10T21:49:58.048Z"
   },
   {
    "duration": 23274,
    "start_time": "2023-06-10T21:49:59.207Z"
   },
   {
    "duration": 11,
    "start_time": "2023-06-10T21:50:22.485Z"
   },
   {
    "duration": 16,
    "start_time": "2023-06-10T21:50:22.498Z"
   },
   {
    "duration": 30,
    "start_time": "2023-06-10T21:51:01.878Z"
   },
   {
    "duration": 9,
    "start_time": "2023-06-10T21:51:22.520Z"
   },
   {
    "duration": 705,
    "start_time": "2023-06-10T21:51:38.023Z"
   },
   {
    "duration": 1895,
    "start_time": "2023-06-10T21:52:17.718Z"
   },
   {
    "duration": 4421,
    "start_time": "2023-06-10T21:52:19.618Z"
   },
   {
    "duration": 226,
    "start_time": "2023-06-10T21:52:24.041Z"
   },
   {
    "duration": 252,
    "start_time": "2023-06-10T21:52:24.270Z"
   },
   {
    "duration": 703,
    "start_time": "2023-06-10T21:52:24.524Z"
   },
   {
    "duration": 776,
    "start_time": "2023-06-10T21:52:25.230Z"
   },
   {
    "duration": 141,
    "start_time": "2023-06-10T21:52:26.008Z"
   },
   {
    "duration": 711,
    "start_time": "2023-06-10T21:52:26.156Z"
   },
   {
    "duration": 783,
    "start_time": "2023-06-10T21:52:26.874Z"
   },
   {
    "duration": 111,
    "start_time": "2023-06-10T21:52:27.661Z"
   },
   {
    "duration": 231,
    "start_time": "2023-06-10T21:52:27.776Z"
   },
   {
    "duration": 83,
    "start_time": "2023-06-10T21:52:28.009Z"
   },
   {
    "duration": 1173,
    "start_time": "2023-06-10T21:52:28.093Z"
   },
   {
    "duration": 191,
    "start_time": "2023-06-10T21:52:29.272Z"
   },
   {
    "duration": 805,
    "start_time": "2023-06-10T21:52:29.469Z"
   },
   {
    "duration": 302,
    "start_time": "2023-06-10T21:52:30.281Z"
   },
   {
    "duration": 19267,
    "start_time": "2023-06-10T21:52:30.586Z"
   },
   {
    "duration": 244,
    "start_time": "2023-06-10T21:52:49.856Z"
   },
   {
    "duration": 12604,
    "start_time": "2023-06-10T21:52:50.103Z"
   },
   {
    "duration": 18082,
    "start_time": "2023-06-10T21:53:02.709Z"
   },
   {
    "duration": 74,
    "start_time": "2023-06-10T21:53:20.798Z"
   },
   {
    "duration": 226,
    "start_time": "2023-06-10T21:53:20.883Z"
   },
   {
    "duration": 281,
    "start_time": "2023-06-10T21:53:21.111Z"
   },
   {
    "duration": 104,
    "start_time": "2023-06-10T21:53:21.399Z"
   },
   {
    "duration": 6,
    "start_time": "2023-06-10T21:53:21.505Z"
   },
   {
    "duration": 32,
    "start_time": "2023-06-10T21:53:21.513Z"
   },
   {
    "duration": 35,
    "start_time": "2023-06-10T21:53:21.552Z"
   },
   {
    "duration": 113,
    "start_time": "2023-06-10T21:53:21.592Z"
   },
   {
    "duration": 104,
    "start_time": "2023-06-10T21:53:21.707Z"
   },
   {
    "duration": 60,
    "start_time": "2023-06-10T21:53:21.813Z"
   },
   {
    "duration": 1293,
    "start_time": "2023-06-10T21:53:21.879Z"
   },
   {
    "duration": 23,
    "start_time": "2023-06-10T21:53:23.176Z"
   },
   {
    "duration": 16,
    "start_time": "2023-06-10T21:53:23.201Z"
   },
   {
    "duration": 81,
    "start_time": "2023-06-10T21:53:23.235Z"
   },
   {
    "duration": 3,
    "start_time": "2023-06-10T21:53:23.318Z"
   },
   {
    "duration": 27,
    "start_time": "2023-06-10T21:53:23.323Z"
   },
   {
    "duration": 134786,
    "start_time": "2023-06-10T21:53:23.354Z"
   },
   {
    "duration": 5,
    "start_time": "2023-06-10T21:55:38.145Z"
   },
   {
    "duration": 1550197,
    "start_time": "2023-06-10T21:55:38.155Z"
   },
   {
    "duration": 405817,
    "start_time": "2023-06-10T22:21:28.354Z"
   },
   {
    "duration": 17,
    "start_time": "2023-06-10T22:28:14.232Z"
   },
   {
    "duration": 18617,
    "start_time": "2023-06-10T22:28:14.254Z"
   },
   {
    "duration": 8,
    "start_time": "2023-06-10T22:28:32.873Z"
   },
   {
    "duration": 601,
    "start_time": "2023-06-10T22:28:32.882Z"
   },
   {
    "duration": 1927,
    "start_time": "2023-06-11T20:48:41.215Z"
   },
   {
    "duration": 1658,
    "start_time": "2023-06-11T20:48:43.144Z"
   },
   {
    "duration": 172,
    "start_time": "2023-06-11T20:48:44.803Z"
   },
   {
    "duration": 185,
    "start_time": "2023-06-11T20:48:44.976Z"
   },
   {
    "duration": 566,
    "start_time": "2023-06-11T20:48:45.163Z"
   },
   {
    "duration": 583,
    "start_time": "2023-06-11T20:48:45.730Z"
   },
   {
    "duration": 155,
    "start_time": "2023-06-11T20:48:46.327Z"
   },
   {
    "duration": 636,
    "start_time": "2023-06-11T20:48:46.491Z"
   },
   {
    "duration": 705,
    "start_time": "2023-06-11T20:48:47.135Z"
   },
   {
    "duration": 84,
    "start_time": "2023-06-11T20:48:47.842Z"
   },
   {
    "duration": 204,
    "start_time": "2023-06-11T20:48:47.931Z"
   },
   {
    "duration": 62,
    "start_time": "2023-06-11T20:48:48.137Z"
   },
   {
    "duration": 939,
    "start_time": "2023-06-11T20:48:48.203Z"
   },
   {
    "duration": 167,
    "start_time": "2023-06-11T20:48:49.150Z"
   },
   {
    "duration": 511,
    "start_time": "2023-06-11T20:48:49.327Z"
   },
   {
    "duration": 227,
    "start_time": "2023-06-11T20:48:49.839Z"
   },
   {
    "duration": 15452,
    "start_time": "2023-06-11T20:48:50.067Z"
   },
   {
    "duration": 185,
    "start_time": "2023-06-11T20:49:05.521Z"
   },
   {
    "duration": 9807,
    "start_time": "2023-06-11T20:49:05.708Z"
   },
   {
    "duration": 14576,
    "start_time": "2023-06-11T20:49:15.517Z"
   },
   {
    "duration": 54,
    "start_time": "2023-06-11T20:49:30.098Z"
   },
   {
    "duration": 223,
    "start_time": "2023-06-11T20:49:30.154Z"
   },
   {
    "duration": 212,
    "start_time": "2023-06-11T20:49:30.380Z"
   },
   {
    "duration": 78,
    "start_time": "2023-06-11T20:49:30.594Z"
   },
   {
    "duration": 68,
    "start_time": "2023-06-11T20:49:30.675Z"
   },
   {
    "duration": 50,
    "start_time": "2023-06-11T20:49:30.744Z"
   },
   {
    "duration": 112,
    "start_time": "2023-06-11T20:49:30.795Z"
   },
   {
    "duration": 145,
    "start_time": "2023-06-11T20:49:30.920Z"
   },
   {
    "duration": 95,
    "start_time": "2023-06-11T20:49:31.067Z"
   },
   {
    "duration": 54,
    "start_time": "2023-06-11T20:49:31.164Z"
   },
   {
    "duration": 1059,
    "start_time": "2023-06-11T20:49:31.219Z"
   },
   {
    "duration": 959,
    "start_time": "2023-06-11T20:51:36.747Z"
   },
   {
    "duration": 111,
    "start_time": "2023-06-11T20:52:29.827Z"
   },
   {
    "duration": 4,
    "start_time": "2023-06-11T20:56:34.420Z"
   },
   {
    "duration": 25,
    "start_time": "2023-06-11T20:56:35.111Z"
   },
   {
    "duration": 8,
    "start_time": "2023-06-11T20:56:44.716Z"
   },
   {
    "duration": 30,
    "start_time": "2023-06-11T20:56:45.383Z"
   },
   {
    "duration": 1425,
    "start_time": "2023-06-11T21:17:43.809Z"
   },
   {
    "duration": 875,
    "start_time": "2023-06-11T21:17:45.235Z"
   },
   {
    "duration": 207,
    "start_time": "2023-06-11T21:17:46.113Z"
   },
   {
    "duration": 213,
    "start_time": "2023-06-11T21:17:46.329Z"
   },
   {
    "duration": 642,
    "start_time": "2023-06-11T21:17:46.550Z"
   },
   {
    "duration": 522,
    "start_time": "2023-06-11T21:17:47.194Z"
   },
   {
    "duration": 96,
    "start_time": "2023-06-11T21:17:47.717Z"
   },
   {
    "duration": 556,
    "start_time": "2023-06-11T21:17:47.815Z"
   },
   {
    "duration": 660,
    "start_time": "2023-06-11T21:17:48.372Z"
   },
   {
    "duration": 61,
    "start_time": "2023-06-11T21:17:49.034Z"
   },
   {
    "duration": 176,
    "start_time": "2023-06-11T21:17:49.098Z"
   },
   {
    "duration": 76,
    "start_time": "2023-06-11T21:17:49.276Z"
   },
   {
    "duration": 828,
    "start_time": "2023-06-11T21:17:49.354Z"
   },
   {
    "duration": 187,
    "start_time": "2023-06-11T21:17:50.186Z"
   },
   {
    "duration": 491,
    "start_time": "2023-06-11T21:17:50.375Z"
   },
   {
    "duration": 218,
    "start_time": "2023-06-11T21:17:50.868Z"
   },
   {
    "duration": 12921,
    "start_time": "2023-06-11T21:17:51.088Z"
   },
   {
    "duration": 190,
    "start_time": "2023-06-11T21:18:04.022Z"
   },
   {
    "duration": 8708,
    "start_time": "2023-06-11T21:18:04.215Z"
   },
   {
    "duration": 11994,
    "start_time": "2023-06-11T21:18:12.928Z"
   },
   {
    "duration": 45,
    "start_time": "2023-06-11T21:18:24.933Z"
   },
   {
    "duration": 321,
    "start_time": "2023-06-11T21:18:24.979Z"
   },
   {
    "duration": 205,
    "start_time": "2023-06-11T21:18:25.305Z"
   },
   {
    "duration": 93,
    "start_time": "2023-06-11T21:18:25.519Z"
   },
   {
    "duration": 9,
    "start_time": "2023-06-11T21:18:25.627Z"
   },
   {
    "duration": 32,
    "start_time": "2023-06-11T21:18:25.638Z"
   },
   {
    "duration": 11,
    "start_time": "2023-06-11T21:18:25.672Z"
   },
   {
    "duration": 119,
    "start_time": "2023-06-11T21:18:25.707Z"
   },
   {
    "duration": 75,
    "start_time": "2023-06-11T21:18:25.827Z"
   },
   {
    "duration": 44,
    "start_time": "2023-06-11T21:18:25.911Z"
   },
   {
    "duration": 139,
    "start_time": "2023-06-11T21:18:25.957Z"
   },
   {
    "duration": 1,
    "start_time": "2023-06-11T21:18:26.097Z"
   },
   {
    "duration": 0,
    "start_time": "2023-06-11T21:18:26.098Z"
   },
   {
    "duration": 0,
    "start_time": "2023-06-11T21:18:26.099Z"
   },
   {
    "duration": 0,
    "start_time": "2023-06-11T21:18:26.101Z"
   },
   {
    "duration": 0,
    "start_time": "2023-06-11T21:18:26.102Z"
   },
   {
    "duration": 0,
    "start_time": "2023-06-11T21:18:26.103Z"
   },
   {
    "duration": 0,
    "start_time": "2023-06-11T21:18:26.104Z"
   },
   {
    "duration": 0,
    "start_time": "2023-06-11T21:18:26.105Z"
   },
   {
    "duration": 0,
    "start_time": "2023-06-11T21:18:26.106Z"
   },
   {
    "duration": 0,
    "start_time": "2023-06-11T21:18:26.108Z"
   },
   {
    "duration": 1135,
    "start_time": "2023-06-11T21:19:04.240Z"
   },
   {
    "duration": 73,
    "start_time": "2023-06-11T21:22:19.376Z"
   },
   {
    "duration": 3,
    "start_time": "2023-06-11T21:22:22.829Z"
   },
   {
    "duration": 7,
    "start_time": "2023-06-11T21:22:24.667Z"
   },
   {
    "duration": 8,
    "start_time": "2023-06-11T21:22:27.409Z"
   },
   {
    "duration": 4,
    "start_time": "2023-06-11T21:22:28.960Z"
   },
   {
    "duration": 4,
    "start_time": "2023-06-11T21:22:29.178Z"
   },
   {
    "duration": 56,
    "start_time": "2023-06-11T21:22:29.615Z"
   },
   {
    "duration": 32,
    "start_time": "2023-06-11T21:24:27.691Z"
   },
   {
    "duration": 1850,
    "start_time": "2023-06-11T21:24:36.320Z"
   },
   {
    "duration": 942,
    "start_time": "2023-06-11T21:24:38.172Z"
   },
   {
    "duration": 147,
    "start_time": "2023-06-11T21:24:39.118Z"
   },
   {
    "duration": 186,
    "start_time": "2023-06-11T21:24:39.267Z"
   },
   {
    "duration": 628,
    "start_time": "2023-06-11T21:24:39.456Z"
   },
   {
    "duration": 601,
    "start_time": "2023-06-11T21:24:40.099Z"
   },
   {
    "duration": 121,
    "start_time": "2023-06-11T21:24:40.701Z"
   },
   {
    "duration": 595,
    "start_time": "2023-06-11T21:24:40.823Z"
   },
   {
    "duration": 578,
    "start_time": "2023-06-11T21:24:41.428Z"
   },
   {
    "duration": 58,
    "start_time": "2023-06-11T21:24:42.015Z"
   },
   {
    "duration": 178,
    "start_time": "2023-06-11T21:24:42.075Z"
   },
   {
    "duration": 83,
    "start_time": "2023-06-11T21:24:42.254Z"
   },
   {
    "duration": 820,
    "start_time": "2023-06-11T21:24:42.343Z"
   },
   {
    "duration": 159,
    "start_time": "2023-06-11T21:24:43.167Z"
   },
   {
    "duration": 569,
    "start_time": "2023-06-11T21:24:43.328Z"
   },
   {
    "duration": 239,
    "start_time": "2023-06-11T21:24:43.899Z"
   },
   {
    "duration": 13168,
    "start_time": "2023-06-11T21:24:44.142Z"
   },
   {
    "duration": 202,
    "start_time": "2023-06-11T21:24:57.317Z"
   },
   {
    "duration": 9685,
    "start_time": "2023-06-11T21:24:57.521Z"
   },
   {
    "duration": 13200,
    "start_time": "2023-06-11T21:25:07.207Z"
   },
   {
    "duration": 60,
    "start_time": "2023-06-11T21:25:20.413Z"
   },
   {
    "duration": 183,
    "start_time": "2023-06-11T21:25:20.475Z"
   },
   {
    "duration": 209,
    "start_time": "2023-06-11T21:25:20.663Z"
   },
   {
    "duration": 122,
    "start_time": "2023-06-11T21:25:20.874Z"
   },
   {
    "duration": 24,
    "start_time": "2023-06-11T21:25:21.001Z"
   },
   {
    "duration": 36,
    "start_time": "2023-06-11T21:25:21.028Z"
   },
   {
    "duration": 14,
    "start_time": "2023-06-11T21:25:21.066Z"
   },
   {
    "duration": 116,
    "start_time": "2023-06-11T21:25:21.082Z"
   },
   {
    "duration": 113,
    "start_time": "2023-06-11T21:25:21.206Z"
   },
   {
    "duration": 114,
    "start_time": "2023-06-11T21:25:21.323Z"
   },
   {
    "duration": 1247,
    "start_time": "2023-06-11T21:25:21.455Z"
   },
   {
    "duration": 9,
    "start_time": "2023-06-11T21:25:22.705Z"
   },
   {
    "duration": 50,
    "start_time": "2023-06-11T21:25:22.732Z"
   },
   {
    "duration": 34,
    "start_time": "2023-06-11T21:25:22.784Z"
   },
   {
    "duration": 56,
    "start_time": "2023-06-11T21:25:22.820Z"
   },
   {
    "duration": 36,
    "start_time": "2023-06-11T21:25:22.877Z"
   },
   {
    "duration": 56,
    "start_time": "2023-06-11T21:25:22.917Z"
   },
   {
    "duration": 113751,
    "start_time": "2023-06-11T21:25:22.975Z"
   },
   {
    "duration": 2169,
    "start_time": "2023-06-11T22:05:16.557Z"
   },
   {
    "duration": 900,
    "start_time": "2023-06-11T22:05:18.728Z"
   },
   {
    "duration": 205,
    "start_time": "2023-06-11T22:05:19.629Z"
   },
   {
    "duration": 178,
    "start_time": "2023-06-11T22:05:19.838Z"
   },
   {
    "duration": 627,
    "start_time": "2023-06-11T22:05:20.019Z"
   },
   {
    "duration": 548,
    "start_time": "2023-06-11T22:05:20.652Z"
   },
   {
    "duration": 139,
    "start_time": "2023-06-11T22:05:21.206Z"
   },
   {
    "duration": 575,
    "start_time": "2023-06-11T22:05:21.346Z"
   },
   {
    "duration": 580,
    "start_time": "2023-06-11T22:05:21.936Z"
   },
   {
    "duration": 64,
    "start_time": "2023-06-11T22:05:22.518Z"
   },
   {
    "duration": 184,
    "start_time": "2023-06-11T22:05:22.585Z"
   },
   {
    "duration": 111,
    "start_time": "2023-06-11T22:05:22.771Z"
   },
   {
    "duration": 1191,
    "start_time": "2023-06-11T22:05:22.884Z"
   },
   {
    "duration": 209,
    "start_time": "2023-06-11T22:05:24.090Z"
   },
   {
    "duration": 607,
    "start_time": "2023-06-11T22:05:24.301Z"
   },
   {
    "duration": 238,
    "start_time": "2023-06-11T22:05:24.923Z"
   },
   {
    "duration": 15399,
    "start_time": "2023-06-11T22:05:25.163Z"
   },
   {
    "duration": 186,
    "start_time": "2023-06-11T22:05:40.564Z"
   },
   {
    "duration": 10626,
    "start_time": "2023-06-11T22:05:40.751Z"
   },
   {
    "duration": 14759,
    "start_time": "2023-06-11T22:05:51.383Z"
   },
   {
    "duration": 73,
    "start_time": "2023-06-11T22:06:06.147Z"
   },
   {
    "duration": 186,
    "start_time": "2023-06-11T22:06:06.228Z"
   },
   {
    "duration": 211,
    "start_time": "2023-06-11T22:06:06.415Z"
   },
   {
    "duration": 85,
    "start_time": "2023-06-11T22:06:06.628Z"
   },
   {
    "duration": 23,
    "start_time": "2023-06-11T22:06:06.715Z"
   },
   {
    "duration": 64,
    "start_time": "2023-06-11T22:06:06.742Z"
   },
   {
    "duration": 45,
    "start_time": "2023-06-11T22:06:06.810Z"
   },
   {
    "duration": 126,
    "start_time": "2023-06-11T22:06:06.858Z"
   },
   {
    "duration": 109,
    "start_time": "2023-06-11T22:06:06.993Z"
   },
   {
    "duration": 158,
    "start_time": "2023-06-11T22:06:07.104Z"
   },
   {
    "duration": 1102,
    "start_time": "2023-06-11T22:06:07.264Z"
   },
   {
    "duration": 4,
    "start_time": "2023-06-11T22:06:08.369Z"
   },
   {
    "duration": 127,
    "start_time": "2023-06-11T22:06:08.375Z"
   },
   {
    "duration": 62,
    "start_time": "2023-06-11T22:06:08.507Z"
   },
   {
    "duration": 4,
    "start_time": "2023-06-11T22:06:08.571Z"
   },
   {
    "duration": 6,
    "start_time": "2023-06-11T22:06:08.577Z"
   },
   {
    "duration": 83,
    "start_time": "2023-06-11T22:06:08.587Z"
   },
   {
    "duration": 1445,
    "start_time": "2023-06-11T22:43:22.461Z"
   },
   {
    "duration": 827,
    "start_time": "2023-06-11T22:43:23.907Z"
   },
   {
    "duration": 136,
    "start_time": "2023-06-11T22:43:24.736Z"
   },
   {
    "duration": 137,
    "start_time": "2023-06-11T22:43:24.874Z"
   },
   {
    "duration": 456,
    "start_time": "2023-06-11T22:43:25.013Z"
   },
   {
    "duration": 498,
    "start_time": "2023-06-11T22:43:25.470Z"
   },
   {
    "duration": 112,
    "start_time": "2023-06-11T22:43:25.970Z"
   },
   {
    "duration": 526,
    "start_time": "2023-06-11T22:43:26.084Z"
   },
   {
    "duration": 544,
    "start_time": "2023-06-11T22:43:26.612Z"
   },
   {
    "duration": 67,
    "start_time": "2023-06-11T22:43:27.158Z"
   },
   {
    "duration": 183,
    "start_time": "2023-06-11T22:43:27.227Z"
   },
   {
    "duration": 58,
    "start_time": "2023-06-11T22:43:27.412Z"
   },
   {
    "duration": 750,
    "start_time": "2023-06-11T22:43:27.471Z"
   },
   {
    "duration": 148,
    "start_time": "2023-06-11T22:43:28.222Z"
   },
   {
    "duration": 473,
    "start_time": "2023-06-11T22:43:28.371Z"
   },
   {
    "duration": 213,
    "start_time": "2023-06-11T22:43:28.846Z"
   },
   {
    "duration": 12626,
    "start_time": "2023-06-11T22:43:29.060Z"
   },
   {
    "duration": 154,
    "start_time": "2023-06-11T22:43:41.687Z"
   },
   {
    "duration": 8076,
    "start_time": "2023-06-11T22:43:41.843Z"
   },
   {
    "duration": 10991,
    "start_time": "2023-06-11T22:43:49.920Z"
   },
   {
    "duration": 45,
    "start_time": "2023-06-11T22:44:00.913Z"
   },
   {
    "duration": 172,
    "start_time": "2023-06-11T22:44:00.960Z"
   },
   {
    "duration": 183,
    "start_time": "2023-06-11T22:44:01.134Z"
   },
   {
    "duration": 88,
    "start_time": "2023-06-11T22:44:01.319Z"
   },
   {
    "duration": 6,
    "start_time": "2023-06-11T22:44:01.409Z"
   },
   {
    "duration": 58,
    "start_time": "2023-06-11T22:44:01.416Z"
   },
   {
    "duration": 42,
    "start_time": "2023-06-11T22:44:01.475Z"
   },
   {
    "duration": 113,
    "start_time": "2023-06-11T22:44:01.520Z"
   },
   {
    "duration": 108,
    "start_time": "2023-06-11T22:44:01.635Z"
   },
   {
    "duration": 84,
    "start_time": "2023-06-11T22:44:01.745Z"
   },
   {
    "duration": 984,
    "start_time": "2023-06-11T22:44:01.831Z"
   },
   {
    "duration": 2,
    "start_time": "2023-06-11T22:44:02.817Z"
   },
   {
    "duration": 23,
    "start_time": "2023-06-11T22:44:02.821Z"
   },
   {
    "duration": 18,
    "start_time": "2023-06-11T22:44:02.846Z"
   },
   {
    "duration": 4,
    "start_time": "2023-06-11T22:44:02.866Z"
   },
   {
    "duration": 15,
    "start_time": "2023-06-11T22:44:02.871Z"
   },
   {
    "duration": 10,
    "start_time": "2023-06-11T22:44:02.887Z"
   },
   {
    "duration": 1385,
    "start_time": "2023-06-11T22:44:27.755Z"
   },
   {
    "duration": 809,
    "start_time": "2023-06-11T22:44:29.142Z"
   },
   {
    "duration": 147,
    "start_time": "2023-06-11T22:44:29.953Z"
   },
   {
    "duration": 120,
    "start_time": "2023-06-11T22:44:30.112Z"
   },
   {
    "duration": 450,
    "start_time": "2023-06-11T22:44:30.233Z"
   },
   {
    "duration": 496,
    "start_time": "2023-06-11T22:44:30.684Z"
   },
   {
    "duration": 93,
    "start_time": "2023-06-11T22:44:31.182Z"
   },
   {
    "duration": 480,
    "start_time": "2023-06-11T22:44:31.277Z"
   },
   {
    "duration": 549,
    "start_time": "2023-06-11T22:44:31.759Z"
   },
   {
    "duration": 53,
    "start_time": "2023-06-11T22:44:32.311Z"
   },
   {
    "duration": 165,
    "start_time": "2023-06-11T22:44:32.366Z"
   },
   {
    "duration": 81,
    "start_time": "2023-06-11T22:44:32.533Z"
   },
   {
    "duration": 686,
    "start_time": "2023-06-11T22:44:32.616Z"
   },
   {
    "duration": 138,
    "start_time": "2023-06-11T22:44:33.311Z"
   },
   {
    "duration": 452,
    "start_time": "2023-06-11T22:44:33.450Z"
   },
   {
    "duration": 200,
    "start_time": "2023-06-11T22:44:33.915Z"
   },
   {
    "duration": 11668,
    "start_time": "2023-06-11T22:44:34.126Z"
   },
   {
    "duration": 155,
    "start_time": "2023-06-11T22:44:45.795Z"
   },
   {
    "duration": 8467,
    "start_time": "2023-06-11T22:44:45.953Z"
   },
   {
    "duration": 11287,
    "start_time": "2023-06-11T22:44:54.422Z"
   },
   {
    "duration": 47,
    "start_time": "2023-06-11T22:45:05.711Z"
   },
   {
    "duration": 152,
    "start_time": "2023-06-11T22:45:05.759Z"
   },
   {
    "duration": 207,
    "start_time": "2023-06-11T22:45:05.914Z"
   },
   {
    "duration": 91,
    "start_time": "2023-06-11T22:45:06.123Z"
   },
   {
    "duration": 6,
    "start_time": "2023-06-11T22:45:06.218Z"
   },
   {
    "duration": 43,
    "start_time": "2023-06-11T22:45:06.226Z"
   },
   {
    "duration": 11,
    "start_time": "2023-06-11T22:45:06.271Z"
   },
   {
    "duration": 105,
    "start_time": "2023-06-11T22:45:06.285Z"
   },
   {
    "duration": 64,
    "start_time": "2023-06-11T22:45:06.407Z"
   },
   {
    "duration": 43,
    "start_time": "2023-06-11T22:45:06.472Z"
   },
   {
    "duration": 849,
    "start_time": "2023-06-11T22:45:06.516Z"
   },
   {
    "duration": 3,
    "start_time": "2023-06-11T22:45:07.366Z"
   },
   {
    "duration": 65,
    "start_time": "2023-06-11T22:45:07.371Z"
   },
   {
    "duration": 11,
    "start_time": "2023-06-11T22:45:07.437Z"
   },
   {
    "duration": 25,
    "start_time": "2023-06-11T22:45:07.450Z"
   },
   {
    "duration": 63,
    "start_time": "2023-06-11T22:45:07.476Z"
   },
   {
    "duration": 8,
    "start_time": "2023-06-11T22:45:07.540Z"
   },
   {
    "duration": 8,
    "start_time": "2023-06-11T22:45:07.549Z"
   },
   {
    "duration": 50,
    "start_time": "2023-06-11T22:45:07.559Z"
   },
   {
    "duration": 1387,
    "start_time": "2023-06-11T22:48:09.409Z"
   },
   {
    "duration": 834,
    "start_time": "2023-06-11T22:48:10.798Z"
   },
   {
    "duration": 132,
    "start_time": "2023-06-11T22:48:11.634Z"
   },
   {
    "duration": 137,
    "start_time": "2023-06-11T22:48:11.767Z"
   },
   {
    "duration": 440,
    "start_time": "2023-06-11T22:48:11.908Z"
   },
   {
    "duration": 501,
    "start_time": "2023-06-11T22:48:12.350Z"
   },
   {
    "duration": 109,
    "start_time": "2023-06-11T22:48:12.853Z"
   },
   {
    "duration": 487,
    "start_time": "2023-06-11T22:48:12.963Z"
   },
   {
    "duration": 507,
    "start_time": "2023-06-11T22:48:13.451Z"
   },
   {
    "duration": 65,
    "start_time": "2023-06-11T22:48:13.959Z"
   },
   {
    "duration": 170,
    "start_time": "2023-06-11T22:48:14.026Z"
   },
   {
    "duration": 62,
    "start_time": "2023-06-11T22:48:14.198Z"
   },
   {
    "duration": 714,
    "start_time": "2023-06-11T22:48:14.262Z"
   },
   {
    "duration": 152,
    "start_time": "2023-06-11T22:48:14.979Z"
   },
   {
    "duration": 479,
    "start_time": "2023-06-11T22:48:15.132Z"
   },
   {
    "duration": 207,
    "start_time": "2023-06-11T22:48:15.613Z"
   },
   {
    "duration": 11811,
    "start_time": "2023-06-11T22:48:15.821Z"
   },
   {
    "duration": 156,
    "start_time": "2023-06-11T22:48:27.634Z"
   },
   {
    "duration": 8223,
    "start_time": "2023-06-11T22:48:27.791Z"
   },
   {
    "duration": 11004,
    "start_time": "2023-06-11T22:48:36.016Z"
   },
   {
    "duration": 46,
    "start_time": "2023-06-11T22:48:47.022Z"
   },
   {
    "duration": 175,
    "start_time": "2023-06-11T22:48:47.069Z"
   },
   {
    "duration": 171,
    "start_time": "2023-06-11T22:48:47.245Z"
   },
   {
    "duration": 84,
    "start_time": "2023-06-11T22:48:47.418Z"
   },
   {
    "duration": 9,
    "start_time": "2023-06-11T22:48:47.507Z"
   },
   {
    "duration": 39,
    "start_time": "2023-06-11T22:48:47.518Z"
   },
   {
    "duration": 11,
    "start_time": "2023-06-11T22:48:47.558Z"
   },
   {
    "duration": 88,
    "start_time": "2023-06-11T22:48:47.570Z"
   },
   {
    "duration": 83,
    "start_time": "2023-06-11T22:48:47.660Z"
   },
   {
    "duration": 69,
    "start_time": "2023-06-11T22:48:47.745Z"
   },
   {
    "duration": 741,
    "start_time": "2023-06-11T22:48:47.816Z"
   },
   {
    "duration": 2,
    "start_time": "2023-06-11T22:48:48.558Z"
   },
   {
    "duration": 43,
    "start_time": "2023-06-11T22:48:48.562Z"
   },
   {
    "duration": 37,
    "start_time": "2023-06-11T22:48:48.606Z"
   },
   {
    "duration": 25,
    "start_time": "2023-06-11T22:48:48.644Z"
   },
   {
    "duration": 65,
    "start_time": "2023-06-11T22:48:48.670Z"
   },
   {
    "duration": 18,
    "start_time": "2023-06-11T22:48:48.737Z"
   },
   {
    "duration": 18,
    "start_time": "2023-06-11T22:48:48.757Z"
   },
   {
    "duration": 1655,
    "start_time": "2023-06-11T22:51:34.347Z"
   },
   {
    "duration": 908,
    "start_time": "2023-06-11T22:51:36.012Z"
   },
   {
    "duration": 131,
    "start_time": "2023-06-11T22:51:36.922Z"
   },
   {
    "duration": 136,
    "start_time": "2023-06-11T22:51:37.054Z"
   },
   {
    "duration": 456,
    "start_time": "2023-06-11T22:51:37.192Z"
   },
   {
    "duration": 501,
    "start_time": "2023-06-11T22:51:37.649Z"
   },
   {
    "duration": 103,
    "start_time": "2023-06-11T22:51:38.152Z"
   },
   {
    "duration": 481,
    "start_time": "2023-06-11T22:51:38.257Z"
   },
   {
    "duration": 506,
    "start_time": "2023-06-11T22:51:38.740Z"
   },
   {
    "duration": 67,
    "start_time": "2023-06-11T22:51:39.247Z"
   },
   {
    "duration": 163,
    "start_time": "2023-06-11T22:51:39.316Z"
   },
   {
    "duration": 58,
    "start_time": "2023-06-11T22:51:39.494Z"
   },
   {
    "duration": 694,
    "start_time": "2023-06-11T22:51:39.553Z"
   },
   {
    "duration": 152,
    "start_time": "2023-06-11T22:51:40.250Z"
   },
   {
    "duration": 454,
    "start_time": "2023-06-11T22:51:40.403Z"
   },
   {
    "duration": 216,
    "start_time": "2023-06-11T22:51:40.858Z"
   },
   {
    "duration": 11304,
    "start_time": "2023-06-11T22:51:41.075Z"
   },
   {
    "duration": 153,
    "start_time": "2023-06-11T22:51:52.381Z"
   },
   {
    "duration": 8011,
    "start_time": "2023-06-11T22:51:52.535Z"
   },
   {
    "duration": 11062,
    "start_time": "2023-06-11T22:52:00.548Z"
   },
   {
    "duration": 38,
    "start_time": "2023-06-11T22:52:11.612Z"
   },
   {
    "duration": 159,
    "start_time": "2023-06-11T22:52:11.652Z"
   },
   {
    "duration": 166,
    "start_time": "2023-06-11T22:52:11.813Z"
   },
   {
    "duration": 74,
    "start_time": "2023-06-11T22:52:11.981Z"
   },
   {
    "duration": 4,
    "start_time": "2023-06-11T22:52:12.056Z"
   },
   {
    "duration": 74,
    "start_time": "2023-06-11T22:52:12.061Z"
   },
   {
    "duration": 9,
    "start_time": "2023-06-11T22:52:12.137Z"
   },
   {
    "duration": 90,
    "start_time": "2023-06-11T22:52:12.147Z"
   },
   {
    "duration": 53,
    "start_time": "2023-06-11T22:52:12.238Z"
   },
   {
    "duration": 63,
    "start_time": "2023-06-11T22:52:12.292Z"
   },
   {
    "duration": 797,
    "start_time": "2023-06-11T22:52:12.356Z"
   },
   {
    "duration": 3,
    "start_time": "2023-06-11T22:52:13.154Z"
   },
   {
    "duration": 74,
    "start_time": "2023-06-11T22:52:13.158Z"
   },
   {
    "duration": 14,
    "start_time": "2023-06-11T22:52:13.233Z"
   },
   {
    "duration": 9,
    "start_time": "2023-06-11T22:52:13.249Z"
   },
   {
    "duration": 18,
    "start_time": "2023-06-11T22:52:13.259Z"
   },
   {
    "duration": 36,
    "start_time": "2023-06-11T22:52:13.279Z"
   },
   {
    "duration": 9,
    "start_time": "2023-06-11T22:52:13.317Z"
   },
   {
    "duration": 1540,
    "start_time": "2023-06-11T22:55:25.003Z"
   },
   {
    "duration": 921,
    "start_time": "2023-06-11T22:55:26.545Z"
   },
   {
    "duration": 160,
    "start_time": "2023-06-11T22:55:27.468Z"
   },
   {
    "duration": 120,
    "start_time": "2023-06-11T22:55:27.630Z"
   },
   {
    "duration": 523,
    "start_time": "2023-06-11T22:55:27.751Z"
   },
   {
    "duration": 567,
    "start_time": "2023-06-11T22:55:28.276Z"
   },
   {
    "duration": 128,
    "start_time": "2023-06-11T22:55:28.844Z"
   },
   {
    "duration": 521,
    "start_time": "2023-06-11T22:55:28.974Z"
   },
   {
    "duration": 562,
    "start_time": "2023-06-11T22:55:29.496Z"
   },
   {
    "duration": 67,
    "start_time": "2023-06-11T22:55:30.060Z"
   },
   {
    "duration": 302,
    "start_time": "2023-06-11T22:55:30.128Z"
   },
   {
    "duration": 137,
    "start_time": "2023-06-11T22:55:30.432Z"
   },
   {
    "duration": 940,
    "start_time": "2023-06-11T22:55:30.570Z"
   },
   {
    "duration": 191,
    "start_time": "2023-06-11T22:55:31.515Z"
   },
   {
    "duration": 599,
    "start_time": "2023-06-11T22:55:31.716Z"
   },
   {
    "duration": 245,
    "start_time": "2023-06-11T22:55:32.319Z"
   },
   {
    "duration": 12905,
    "start_time": "2023-06-11T22:55:32.566Z"
   },
   {
    "duration": 158,
    "start_time": "2023-06-11T22:55:45.473Z"
   },
   {
    "duration": 8015,
    "start_time": "2023-06-11T22:55:45.632Z"
   },
   {
    "duration": 11456,
    "start_time": "2023-06-11T22:55:53.649Z"
   },
   {
    "duration": 46,
    "start_time": "2023-06-11T22:56:05.106Z"
   },
   {
    "duration": 152,
    "start_time": "2023-06-11T22:56:05.154Z"
   },
   {
    "duration": 200,
    "start_time": "2023-06-11T22:56:05.307Z"
   },
   {
    "duration": 70,
    "start_time": "2023-06-11T22:56:05.509Z"
   },
   {
    "duration": 16,
    "start_time": "2023-06-11T22:56:05.581Z"
   },
   {
    "duration": 30,
    "start_time": "2023-06-11T22:56:05.598Z"
   },
   {
    "duration": 14,
    "start_time": "2023-06-11T22:56:05.631Z"
   },
   {
    "duration": 90,
    "start_time": "2023-06-11T22:56:05.649Z"
   },
   {
    "duration": 88,
    "start_time": "2023-06-11T22:56:05.741Z"
   },
   {
    "duration": 35,
    "start_time": "2023-06-11T22:56:05.830Z"
   },
   {
    "duration": 892,
    "start_time": "2023-06-11T22:56:05.866Z"
   },
   {
    "duration": 2,
    "start_time": "2023-06-11T22:56:06.760Z"
   },
   {
    "duration": 67,
    "start_time": "2023-06-11T22:56:06.763Z"
   },
   {
    "duration": 25,
    "start_time": "2023-06-11T22:56:06.832Z"
   },
   {
    "duration": 10,
    "start_time": "2023-06-11T22:56:06.858Z"
   },
   {
    "duration": 10,
    "start_time": "2023-06-11T22:56:06.869Z"
   },
   {
    "duration": 22,
    "start_time": "2023-06-11T22:56:06.880Z"
   },
   {
    "duration": 22,
    "start_time": "2023-06-11T22:56:06.909Z"
   },
   {
    "duration": 1570748,
    "start_time": "2023-06-11T22:56:06.933Z"
   },
   {
    "duration": 0,
    "start_time": "2023-06-11T23:22:17.692Z"
   },
   {
    "duration": 0,
    "start_time": "2023-06-11T23:22:17.694Z"
   },
   {
    "duration": 0,
    "start_time": "2023-06-11T23:22:17.695Z"
   },
   {
    "duration": 0,
    "start_time": "2023-06-11T23:22:17.696Z"
   },
   {
    "duration": 0,
    "start_time": "2023-06-11T23:22:17.697Z"
   },
   {
    "duration": 1358,
    "start_time": "2023-06-11T23:23:36.962Z"
   },
   {
    "duration": 801,
    "start_time": "2023-06-11T23:23:38.322Z"
   },
   {
    "duration": 119,
    "start_time": "2023-06-11T23:23:39.125Z"
   },
   {
    "duration": 112,
    "start_time": "2023-06-11T23:23:39.246Z"
   },
   {
    "duration": 455,
    "start_time": "2023-06-11T23:23:39.360Z"
   },
   {
    "duration": 464,
    "start_time": "2023-06-11T23:23:39.816Z"
   },
   {
    "duration": 102,
    "start_time": "2023-06-11T23:23:40.282Z"
   },
   {
    "duration": 459,
    "start_time": "2023-06-11T23:23:40.385Z"
   },
   {
    "duration": 533,
    "start_time": "2023-06-11T23:23:40.846Z"
   },
   {
    "duration": 72,
    "start_time": "2023-06-11T23:23:41.380Z"
   },
   {
    "duration": 164,
    "start_time": "2023-06-11T23:23:41.454Z"
   },
   {
    "duration": 54,
    "start_time": "2023-06-11T23:23:41.619Z"
   },
   {
    "duration": 698,
    "start_time": "2023-06-11T23:23:41.674Z"
   },
   {
    "duration": 152,
    "start_time": "2023-06-11T23:23:42.375Z"
   },
   {
    "duration": 482,
    "start_time": "2023-06-11T23:23:42.528Z"
   },
   {
    "duration": 204,
    "start_time": "2023-06-11T23:23:43.012Z"
   },
   {
    "duration": 11853,
    "start_time": "2023-06-11T23:23:43.218Z"
   },
   {
    "duration": 157,
    "start_time": "2023-06-11T23:23:55.072Z"
   },
   {
    "duration": 8338,
    "start_time": "2023-06-11T23:23:55.230Z"
   },
   {
    "duration": 11251,
    "start_time": "2023-06-11T23:24:03.570Z"
   },
   {
    "duration": 44,
    "start_time": "2023-06-11T23:24:14.823Z"
   },
   {
    "duration": 156,
    "start_time": "2023-06-11T23:24:14.868Z"
   },
   {
    "duration": 195,
    "start_time": "2023-06-11T23:24:15.026Z"
   },
   {
    "duration": 83,
    "start_time": "2023-06-11T23:24:15.223Z"
   },
   {
    "duration": 8,
    "start_time": "2023-06-11T23:24:15.308Z"
   },
   {
    "duration": 38,
    "start_time": "2023-06-11T23:24:15.318Z"
   },
   {
    "duration": 11,
    "start_time": "2023-06-11T23:24:15.357Z"
   },
   {
    "duration": 111,
    "start_time": "2023-06-11T23:24:15.370Z"
   },
   {
    "duration": 65,
    "start_time": "2023-06-11T23:24:15.484Z"
   },
   {
    "duration": 58,
    "start_time": "2023-06-11T23:24:15.551Z"
   },
   {
    "duration": 890,
    "start_time": "2023-06-11T23:24:15.611Z"
   },
   {
    "duration": 3,
    "start_time": "2023-06-11T23:24:16.502Z"
   },
   {
    "duration": 18,
    "start_time": "2023-06-11T23:24:16.506Z"
   },
   {
    "duration": 34,
    "start_time": "2023-06-11T23:24:16.525Z"
   },
   {
    "duration": 31,
    "start_time": "2023-06-11T23:24:16.561Z"
   },
   {
    "duration": 39,
    "start_time": "2023-06-11T23:24:16.593Z"
   },
   {
    "duration": 16,
    "start_time": "2023-06-11T23:24:16.634Z"
   },
   {
    "duration": 22,
    "start_time": "2023-06-11T23:24:16.651Z"
   },
   {
    "duration": 1230511,
    "start_time": "2023-06-11T23:24:16.674Z"
   },
   {
    "duration": 16,
    "start_time": "2023-06-11T23:44:47.194Z"
   },
   {
    "duration": 48292,
    "start_time": "2023-06-11T23:44:47.217Z"
   },
   {
    "duration": 7,
    "start_time": "2023-06-11T23:45:35.510Z"
   },
   {
    "duration": 140,
    "start_time": "2023-06-11T23:45:35.518Z"
   },
   {
    "duration": 0,
    "start_time": "2023-06-11T23:45:35.660Z"
   },
   {
    "duration": 3,
    "start_time": "2023-06-11T23:50:53.272Z"
   },
   {
    "duration": 374,
    "start_time": "2023-06-11T23:51:10.554Z"
   },
   {
    "duration": 271,
    "start_time": "2023-06-11T23:51:30.965Z"
   },
   {
    "duration": 236,
    "start_time": "2023-06-11T23:51:49.819Z"
   },
   {
    "duration": 250,
    "start_time": "2023-06-11T23:52:06.170Z"
   }
  ],
  "kernelspec": {
   "display_name": "Python 3 (ipykernel)",
   "language": "python",
   "name": "python3"
  },
  "language_info": {
   "codemirror_mode": {
    "name": "ipython",
    "version": 3
   },
   "file_extension": ".py",
   "mimetype": "text/x-python",
   "name": "python",
   "nbconvert_exporter": "python",
   "pygments_lexer": "ipython3",
   "version": "3.9.5"
  },
  "toc": {
   "base_numbering": 1,
   "nav_menu": {},
   "number_sections": true,
   "sideBar": true,
   "skip_h1_title": true,
   "title_cell": "Table of Contents",
   "title_sidebar": "Contents",
   "toc_cell": false,
   "toc_position": {},
   "toc_section_display": true,
   "toc_window_display": false
  }
 },
 "nbformat": 4,
 "nbformat_minor": 2
}
