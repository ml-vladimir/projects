{
 "cells": [
  {
   "cell_type": "markdown",
   "metadata": {},
   "source": [
    "# Рекомендация тарифов"
   ]
  },
  {
   "cell_type": "markdown",
   "metadata": {},
   "source": [
    "В вашем распоряжении данные о поведении клиентов, которые уже перешли на эти тарифы (из проекта курса «Статистический анализ данных»). Нужно построить модель для задачи классификации, которая выберет подходящий тариф. Предобработка данных не понадобится — вы её уже сделали.\n",
    "\n",
    "Постройте модель с максимально большим значением *accuracy*. Чтобы сдать проект успешно, нужно довести долю правильных ответов по крайней мере до 0.75. Проверьте *accuracy* на тестовой выборке самостоятельно."
   ]
  },
  {
   "cell_type": "markdown",
   "metadata": {},
   "source": [
    "## Откройте и изучите файл"
   ]
  },
  {
   "cell_type": "code",
   "execution_count": 87,
   "metadata": {},
   "outputs": [],
   "source": [
    "import pandas as pd\n",
    "from sklearn.tree import DecisionTreeClassifier \n",
    "from sklearn.ensemble import RandomForestClassifier\n",
    "from sklearn.linear_model import LogisticRegression \n",
    "from sklearn.model_selection import train_test_split\n",
    "from sklearn.metrics import mean_squared_error\n",
    "import matplotlib.pyplot as plt"
   ]
  },
  {
   "cell_type": "code",
   "execution_count": 88,
   "metadata": {},
   "outputs": [],
   "source": [
    "data = pd.read_csv('/datasets/users_behavior.csv')"
   ]
  },
  {
   "cell_type": "code",
   "execution_count": 89,
   "metadata": {},
   "outputs": [
    {
     "data": {
      "text/html": [
       "<div>\n",
       "<style scoped>\n",
       "    .dataframe tbody tr th:only-of-type {\n",
       "        vertical-align: middle;\n",
       "    }\n",
       "\n",
       "    .dataframe tbody tr th {\n",
       "        vertical-align: top;\n",
       "    }\n",
       "\n",
       "    .dataframe thead th {\n",
       "        text-align: right;\n",
       "    }\n",
       "</style>\n",
       "<table border=\"1\" class=\"dataframe\">\n",
       "  <thead>\n",
       "    <tr style=\"text-align: right;\">\n",
       "      <th></th>\n",
       "      <th>calls</th>\n",
       "      <th>minutes</th>\n",
       "      <th>messages</th>\n",
       "      <th>mb_used</th>\n",
       "      <th>is_ultra</th>\n",
       "    </tr>\n",
       "  </thead>\n",
       "  <tbody>\n",
       "    <tr>\n",
       "      <th>0</th>\n",
       "      <td>40.0</td>\n",
       "      <td>311.90</td>\n",
       "      <td>83.0</td>\n",
       "      <td>19915.42</td>\n",
       "      <td>0</td>\n",
       "    </tr>\n",
       "    <tr>\n",
       "      <th>1</th>\n",
       "      <td>85.0</td>\n",
       "      <td>516.75</td>\n",
       "      <td>56.0</td>\n",
       "      <td>22696.96</td>\n",
       "      <td>0</td>\n",
       "    </tr>\n",
       "    <tr>\n",
       "      <th>2</th>\n",
       "      <td>77.0</td>\n",
       "      <td>467.66</td>\n",
       "      <td>86.0</td>\n",
       "      <td>21060.45</td>\n",
       "      <td>0</td>\n",
       "    </tr>\n",
       "    <tr>\n",
       "      <th>3</th>\n",
       "      <td>106.0</td>\n",
       "      <td>745.53</td>\n",
       "      <td>81.0</td>\n",
       "      <td>8437.39</td>\n",
       "      <td>1</td>\n",
       "    </tr>\n",
       "    <tr>\n",
       "      <th>4</th>\n",
       "      <td>66.0</td>\n",
       "      <td>418.74</td>\n",
       "      <td>1.0</td>\n",
       "      <td>14502.75</td>\n",
       "      <td>0</td>\n",
       "    </tr>\n",
       "    <tr>\n",
       "      <th>5</th>\n",
       "      <td>58.0</td>\n",
       "      <td>344.56</td>\n",
       "      <td>21.0</td>\n",
       "      <td>15823.37</td>\n",
       "      <td>0</td>\n",
       "    </tr>\n",
       "    <tr>\n",
       "      <th>6</th>\n",
       "      <td>57.0</td>\n",
       "      <td>431.64</td>\n",
       "      <td>20.0</td>\n",
       "      <td>3738.90</td>\n",
       "      <td>1</td>\n",
       "    </tr>\n",
       "    <tr>\n",
       "      <th>7</th>\n",
       "      <td>15.0</td>\n",
       "      <td>132.40</td>\n",
       "      <td>6.0</td>\n",
       "      <td>21911.60</td>\n",
       "      <td>0</td>\n",
       "    </tr>\n",
       "    <tr>\n",
       "      <th>8</th>\n",
       "      <td>7.0</td>\n",
       "      <td>43.39</td>\n",
       "      <td>3.0</td>\n",
       "      <td>2538.67</td>\n",
       "      <td>1</td>\n",
       "    </tr>\n",
       "    <tr>\n",
       "      <th>9</th>\n",
       "      <td>90.0</td>\n",
       "      <td>665.41</td>\n",
       "      <td>38.0</td>\n",
       "      <td>17358.61</td>\n",
       "      <td>0</td>\n",
       "    </tr>\n",
       "    <tr>\n",
       "      <th>10</th>\n",
       "      <td>82.0</td>\n",
       "      <td>560.51</td>\n",
       "      <td>20.0</td>\n",
       "      <td>9619.53</td>\n",
       "      <td>1</td>\n",
       "    </tr>\n",
       "    <tr>\n",
       "      <th>11</th>\n",
       "      <td>45.0</td>\n",
       "      <td>344.32</td>\n",
       "      <td>13.0</td>\n",
       "      <td>19898.81</td>\n",
       "      <td>0</td>\n",
       "    </tr>\n",
       "    <tr>\n",
       "      <th>12</th>\n",
       "      <td>51.0</td>\n",
       "      <td>437.13</td>\n",
       "      <td>61.0</td>\n",
       "      <td>21523.58</td>\n",
       "      <td>0</td>\n",
       "    </tr>\n",
       "    <tr>\n",
       "      <th>13</th>\n",
       "      <td>56.0</td>\n",
       "      <td>433.07</td>\n",
       "      <td>16.0</td>\n",
       "      <td>16702.36</td>\n",
       "      <td>0</td>\n",
       "    </tr>\n",
       "    <tr>\n",
       "      <th>14</th>\n",
       "      <td>108.0</td>\n",
       "      <td>587.90</td>\n",
       "      <td>0.0</td>\n",
       "      <td>14406.50</td>\n",
       "      <td>1</td>\n",
       "    </tr>\n",
       "    <tr>\n",
       "      <th>15</th>\n",
       "      <td>6.0</td>\n",
       "      <td>22.13</td>\n",
       "      <td>0.0</td>\n",
       "      <td>2710.09</td>\n",
       "      <td>0</td>\n",
       "    </tr>\n",
       "    <tr>\n",
       "      <th>16</th>\n",
       "      <td>2.0</td>\n",
       "      <td>18.73</td>\n",
       "      <td>0.0</td>\n",
       "      <td>588.89</td>\n",
       "      <td>0</td>\n",
       "    </tr>\n",
       "    <tr>\n",
       "      <th>17</th>\n",
       "      <td>26.0</td>\n",
       "      <td>163.62</td>\n",
       "      <td>4.0</td>\n",
       "      <td>16870.34</td>\n",
       "      <td>0</td>\n",
       "    </tr>\n",
       "    <tr>\n",
       "      <th>18</th>\n",
       "      <td>79.0</td>\n",
       "      <td>532.62</td>\n",
       "      <td>90.0</td>\n",
       "      <td>19908.31</td>\n",
       "      <td>0</td>\n",
       "    </tr>\n",
       "    <tr>\n",
       "      <th>19</th>\n",
       "      <td>49.0</td>\n",
       "      <td>341.67</td>\n",
       "      <td>81.0</td>\n",
       "      <td>11770.28</td>\n",
       "      <td>1</td>\n",
       "    </tr>\n",
       "    <tr>\n",
       "      <th>20</th>\n",
       "      <td>93.0</td>\n",
       "      <td>691.37</td>\n",
       "      <td>31.0</td>\n",
       "      <td>25950.28</td>\n",
       "      <td>1</td>\n",
       "    </tr>\n",
       "    <tr>\n",
       "      <th>21</th>\n",
       "      <td>56.0</td>\n",
       "      <td>411.46</td>\n",
       "      <td>97.0</td>\n",
       "      <td>15393.91</td>\n",
       "      <td>0</td>\n",
       "    </tr>\n",
       "    <tr>\n",
       "      <th>22</th>\n",
       "      <td>48.0</td>\n",
       "      <td>351.60</td>\n",
       "      <td>66.0</td>\n",
       "      <td>16469.90</td>\n",
       "      <td>1</td>\n",
       "    </tr>\n",
       "    <tr>\n",
       "      <th>23</th>\n",
       "      <td>11.0</td>\n",
       "      <td>96.05</td>\n",
       "      <td>19.0</td>\n",
       "      <td>2305.74</td>\n",
       "      <td>0</td>\n",
       "    </tr>\n",
       "    <tr>\n",
       "      <th>24</th>\n",
       "      <td>56.0</td>\n",
       "      <td>360.30</td>\n",
       "      <td>30.0</td>\n",
       "      <td>13560.15</td>\n",
       "      <td>0</td>\n",
       "    </tr>\n",
       "    <tr>\n",
       "      <th>25</th>\n",
       "      <td>53.0</td>\n",
       "      <td>356.22</td>\n",
       "      <td>52.0</td>\n",
       "      <td>22471.77</td>\n",
       "      <td>0</td>\n",
       "    </tr>\n",
       "    <tr>\n",
       "      <th>26</th>\n",
       "      <td>81.0</td>\n",
       "      <td>624.71</td>\n",
       "      <td>38.0</td>\n",
       "      <td>8644.66</td>\n",
       "      <td>1</td>\n",
       "    </tr>\n",
       "    <tr>\n",
       "      <th>27</th>\n",
       "      <td>154.0</td>\n",
       "      <td>1078.64</td>\n",
       "      <td>48.0</td>\n",
       "      <td>29335.15</td>\n",
       "      <td>1</td>\n",
       "    </tr>\n",
       "    <tr>\n",
       "      <th>28</th>\n",
       "      <td>37.0</td>\n",
       "      <td>286.68</td>\n",
       "      <td>44.0</td>\n",
       "      <td>19542.45</td>\n",
       "      <td>0</td>\n",
       "    </tr>\n",
       "    <tr>\n",
       "      <th>29</th>\n",
       "      <td>50.0</td>\n",
       "      <td>358.01</td>\n",
       "      <td>44.0</td>\n",
       "      <td>9998.83</td>\n",
       "      <td>1</td>\n",
       "    </tr>\n",
       "  </tbody>\n",
       "</table>\n",
       "</div>"
      ],
      "text/plain": [
       "    calls  minutes  messages   mb_used  is_ultra\n",
       "0    40.0   311.90      83.0  19915.42         0\n",
       "1    85.0   516.75      56.0  22696.96         0\n",
       "2    77.0   467.66      86.0  21060.45         0\n",
       "3   106.0   745.53      81.0   8437.39         1\n",
       "4    66.0   418.74       1.0  14502.75         0\n",
       "5    58.0   344.56      21.0  15823.37         0\n",
       "6    57.0   431.64      20.0   3738.90         1\n",
       "7    15.0   132.40       6.0  21911.60         0\n",
       "8     7.0    43.39       3.0   2538.67         1\n",
       "9    90.0   665.41      38.0  17358.61         0\n",
       "10   82.0   560.51      20.0   9619.53         1\n",
       "11   45.0   344.32      13.0  19898.81         0\n",
       "12   51.0   437.13      61.0  21523.58         0\n",
       "13   56.0   433.07      16.0  16702.36         0\n",
       "14  108.0   587.90       0.0  14406.50         1\n",
       "15    6.0    22.13       0.0   2710.09         0\n",
       "16    2.0    18.73       0.0    588.89         0\n",
       "17   26.0   163.62       4.0  16870.34         0\n",
       "18   79.0   532.62      90.0  19908.31         0\n",
       "19   49.0   341.67      81.0  11770.28         1\n",
       "20   93.0   691.37      31.0  25950.28         1\n",
       "21   56.0   411.46      97.0  15393.91         0\n",
       "22   48.0   351.60      66.0  16469.90         1\n",
       "23   11.0    96.05      19.0   2305.74         0\n",
       "24   56.0   360.30      30.0  13560.15         0\n",
       "25   53.0   356.22      52.0  22471.77         0\n",
       "26   81.0   624.71      38.0   8644.66         1\n",
       "27  154.0  1078.64      48.0  29335.15         1\n",
       "28   37.0   286.68      44.0  19542.45         0\n",
       "29   50.0   358.01      44.0   9998.83         1"
      ]
     },
     "execution_count": 89,
     "metadata": {},
     "output_type": "execute_result"
    }
   ],
   "source": [
    "data.head(30)"
   ]
  },
  {
   "cell_type": "code",
   "execution_count": 90,
   "metadata": {},
   "outputs": [
    {
     "name": "stdout",
     "output_type": "stream",
     "text": [
      "<class 'pandas.core.frame.DataFrame'>\n",
      "RangeIndex: 3214 entries, 0 to 3213\n",
      "Data columns (total 5 columns):\n",
      " #   Column    Non-Null Count  Dtype  \n",
      "---  ------    --------------  -----  \n",
      " 0   calls     3214 non-null   float64\n",
      " 1   minutes   3214 non-null   float64\n",
      " 2   messages  3214 non-null   float64\n",
      " 3   mb_used   3214 non-null   float64\n",
      " 4   is_ultra  3214 non-null   int64  \n",
      "dtypes: float64(4), int64(1)\n",
      "memory usage: 125.7 KB\n"
     ]
    }
   ],
   "source": [
    "data.info()"
   ]
  },
  {
   "cell_type": "code",
   "execution_count": 91,
   "metadata": {},
   "outputs": [
    {
     "data": {
      "text/plain": [
       "(2229, 5)"
      ]
     },
     "execution_count": 91,
     "metadata": {},
     "output_type": "execute_result"
    }
   ],
   "source": [
    "data_ultra = data[data['is_ultra']==0]\n",
    "data_ultra.shape"
   ]
  },
  {
   "cell_type": "markdown",
   "metadata": {},
   "source": [
    "Две трети пользователей, пользуются тарифом ультра."
   ]
  },
  {
   "cell_type": "markdown",
   "metadata": {},
   "source": [
    "## Разбейте данные на выборки"
   ]
  },
  {
   "cell_type": "code",
   "execution_count": 92,
   "metadata": {},
   "outputs": [],
   "source": [
    "#выделим признаки и цель\n",
    "features = data.drop(['is_ultra'], axis=1)\n",
    "target = data['is_ultra']\n",
    "#введем random_state как постоянную величину, что бы не ошибиться\n",
    "random_state=12345\n",
    "#разобьем на обучающую, валидационную и тестовую выборки в соотношении 3:1:1\n",
    "features, features_test, target, target_test = train_test_split(\n",
    "    features, target, test_size=0.2, random_state=random_state, stratify=target)\n",
    "features_train, features_valid, target_train, target_valid = train_test_split(\n",
    "    features, target, train_size=0.25, random_state=random_state, stratify=target)\n"
   ]
  },
  {
   "cell_type": "code",
   "execution_count": 93,
   "metadata": {},
   "outputs": [
    {
     "name": "stdout",
     "output_type": "stream",
     "text": [
      "train (642, 4) (642,)\n",
      "test (643, 4) (643,)\n",
      "valid (1929, 4) (1929,)\n"
     ]
    }
   ],
   "source": [
    "print('train',features_train.shape,target_train.shape)\n",
    "print('test',features_test.shape,target_test.shape)\n",
    "print('valid',features_valid.shape,target_valid.shape)"
   ]
  },
  {
   "cell_type": "markdown",
   "metadata": {},
   "source": [
    "## Исследуйте модели"
   ]
  },
  {
   "cell_type": "markdown",
   "metadata": {},
   "source": [
    "**Т.к. поставленная задача соответсвует задачи классификации будем использовать следущие модели:**\n",
    "\n",
    "* Логистическая регрессия\n",
    "* Дерево решений\n",
    "* Случайный лес\n"
   ]
  },
  {
   "cell_type": "code",
   "execution_count": 94,
   "metadata": {
    "scrolled": true
   },
   "outputs": [
    {
     "name": "stderr",
     "output_type": "stream",
     "text": [
      "/opt/conda/lib/python3.9/site-packages/scipy/optimize/_linesearch.py:456: LineSearchWarning: The line search algorithm did not converge\n",
      "  warn('The line search algorithm did not converge', LineSearchWarning)\n",
      "/opt/conda/lib/python3.9/site-packages/scipy/optimize/_linesearch.py:305: LineSearchWarning: The line search algorithm did not converge\n",
      "  warn('The line search algorithm did not converge', LineSearchWarning)\n",
      "/opt/conda/lib/python3.9/site-packages/scipy/optimize/_linesearch.py:456: LineSearchWarning: The line search algorithm did not converge\n",
      "  warn('The line search algorithm did not converge', LineSearchWarning)\n",
      "/opt/conda/lib/python3.9/site-packages/scipy/optimize/_linesearch.py:305: LineSearchWarning: The line search algorithm did not converge\n",
      "  warn('The line search algorithm did not converge', LineSearchWarning)\n",
      "/opt/conda/lib/python3.9/site-packages/scipy/optimize/_linesearch.py:456: LineSearchWarning: The line search algorithm did not converge\n",
      "  warn('The line search algorithm did not converge', LineSearchWarning)\n",
      "/opt/conda/lib/python3.9/site-packages/scipy/optimize/_linesearch.py:305: LineSearchWarning: The line search algorithm did not converge\n",
      "  warn('The line search algorithm did not converge', LineSearchWarning)\n",
      "/opt/conda/lib/python3.9/site-packages/scipy/optimize/_linesearch.py:456: LineSearchWarning: The line search algorithm did not converge\n",
      "  warn('The line search algorithm did not converge', LineSearchWarning)\n",
      "/opt/conda/lib/python3.9/site-packages/scipy/optimize/_linesearch.py:305: LineSearchWarning: The line search algorithm did not converge\n",
      "  warn('The line search algorithm did not converge', LineSearchWarning)\n",
      "/opt/conda/lib/python3.9/site-packages/scipy/optimize/_linesearch.py:456: LineSearchWarning: The line search algorithm did not converge\n",
      "  warn('The line search algorithm did not converge', LineSearchWarning)\n",
      "/opt/conda/lib/python3.9/site-packages/scipy/optimize/_linesearch.py:305: LineSearchWarning: The line search algorithm did not converge\n",
      "  warn('The line search algorithm did not converge', LineSearchWarning)\n",
      "/opt/conda/lib/python3.9/site-packages/scipy/optimize/_linesearch.py:456: LineSearchWarning: The line search algorithm did not converge\n",
      "  warn('The line search algorithm did not converge', LineSearchWarning)\n",
      "/opt/conda/lib/python3.9/site-packages/scipy/optimize/_linesearch.py:305: LineSearchWarning: The line search algorithm did not converge\n",
      "  warn('The line search algorithm did not converge', LineSearchWarning)\n",
      "/opt/conda/lib/python3.9/site-packages/sklearn/linear_model/_sag.py:328: ConvergenceWarning: The max_iter was reached which means the coef_ did not converge\n",
      "  warnings.warn(\"The max_iter was reached which means \"\n",
      "/opt/conda/lib/python3.9/site-packages/sklearn/linear_model/_sag.py:328: ConvergenceWarning: The max_iter was reached which means the coef_ did not converge\n",
      "  warnings.warn(\"The max_iter was reached which means \"\n",
      "/opt/conda/lib/python3.9/site-packages/sklearn/linear_model/_sag.py:328: ConvergenceWarning: The max_iter was reached which means the coef_ did not converge\n",
      "  warnings.warn(\"The max_iter was reached which means \"\n",
      "/opt/conda/lib/python3.9/site-packages/sklearn/linear_model/_sag.py:328: ConvergenceWarning: The max_iter was reached which means the coef_ did not converge\n",
      "  warnings.warn(\"The max_iter was reached which means \"\n",
      "/opt/conda/lib/python3.9/site-packages/sklearn/linear_model/_sag.py:328: ConvergenceWarning: The max_iter was reached which means the coef_ did not converge\n",
      "  warnings.warn(\"The max_iter was reached which means \"\n",
      "/opt/conda/lib/python3.9/site-packages/sklearn/linear_model/_sag.py:328: ConvergenceWarning: The max_iter was reached which means the coef_ did not converge\n",
      "  warnings.warn(\"The max_iter was reached which means \"\n",
      "/opt/conda/lib/python3.9/site-packages/sklearn/linear_model/_sag.py:328: ConvergenceWarning: The max_iter was reached which means the coef_ did not converge\n",
      "  warnings.warn(\"The max_iter was reached which means \"\n",
      "/opt/conda/lib/python3.9/site-packages/sklearn/linear_model/_sag.py:328: ConvergenceWarning: The max_iter was reached which means the coef_ did not converge\n",
      "  warnings.warn(\"The max_iter was reached which means \"\n"
     ]
    },
    {
     "name": "stdout",
     "output_type": "stream",
     "text": [
      "LogisticRegression(random_state=12345, solver='newton-cg') 0.7304302747537584\n"
     ]
    },
    {
     "name": "stderr",
     "output_type": "stream",
     "text": [
      "/opt/conda/lib/python3.9/site-packages/sklearn/linear_model/_sag.py:328: ConvergenceWarning: The max_iter was reached which means the coef_ did not converge\n",
      "  warnings.warn(\"The max_iter was reached which means \"\n",
      "/opt/conda/lib/python3.9/site-packages/sklearn/linear_model/_sag.py:328: ConvergenceWarning: The max_iter was reached which means the coef_ did not converge\n",
      "  warnings.warn(\"The max_iter was reached which means \"\n",
      "/opt/conda/lib/python3.9/site-packages/sklearn/linear_model/_sag.py:328: ConvergenceWarning: The max_iter was reached which means the coef_ did not converge\n",
      "  warnings.warn(\"The max_iter was reached which means \"\n",
      "/opt/conda/lib/python3.9/site-packages/sklearn/linear_model/_sag.py:328: ConvergenceWarning: The max_iter was reached which means the coef_ did not converge\n",
      "  warnings.warn(\"The max_iter was reached which means \"\n"
     ]
    }
   ],
   "source": [
    "best_model_lr = None\n",
    "best_result_lr = 0\n",
    "for solver in ['liblinear', 'newton-cg', 'lbfgs', 'sag', 'saga']:\n",
    "    for max_iter in [100,200,300,400,500,1000]:\n",
    "        model = LogisticRegression(random_state=random_state, solver=solver, max_iter=max_iter) \n",
    "        model.fit(features_train,target_train) \n",
    "        result = model.score(features_valid,target_valid)\n",
    "        if result > best_result_lr:\n",
    "            best_model_lr = model\n",
    "            best_result_lr = result\n",
    "print(best_model,best_result)"
   ]
  },
  {
   "cell_type": "markdown",
   "metadata": {},
   "source": [
    " **Логистическая регрессия** :Модель не показала, необходимого результата и к расмотрению не допускается."
   ]
  },
  {
   "cell_type": "code",
   "execution_count": 95,
   "metadata": {},
   "outputs": [
    {
     "name": "stdout",
     "output_type": "stream",
     "text": [
      "DecisionTreeClassifier(max_depth=5, random_state=12345) 0.7947122861586314\n"
     ]
    }
   ],
   "source": [
    "best_model_dtc = None\n",
    "best_result_dtc = 0\n",
    "results_dtc_tr = []\n",
    "results_dtc_val = []\n",
    "for min_samples_split in range (2,5):\n",
    "    for splitter in ['best','random']:\n",
    "        for criterion in ['gini','entropy']:\n",
    "            for max_depth in range(1, 20):\n",
    "                model = DecisionTreeClassifier(random_state=random_state, max_depth=max_depth,criterion=criterion,\\\n",
    "                                   splitter=splitter,min_samples_split=min_samples_split) \n",
    "                model.fit(features_train,target_train) \n",
    "                result = model.score(features_valid,target_valid)\n",
    "                if result > best_result_dtc:\n",
    "                    best_model_dtc = model\n",
    "                    best_result_dtc = result\n",
    "print(best_model_dtc,best_result_dtc)"
   ]
  },
  {
   "cell_type": "markdown",
   "metadata": {},
   "source": [
    " **Дерево решений**:\n",
    " Модель показала необходимую точность, рассмотрим при каких значениях гиперпараметров."
   ]
  },
  {
   "cell_type": "code",
   "execution_count": 96,
   "metadata": {},
   "outputs": [
    {
     "name": "stdout",
     "output_type": "stream",
     "text": [
      "{'ccp_alpha': 0.0, 'class_weight': None, 'criterion': 'gini', 'max_depth': 5, 'max_features': None, 'max_leaf_nodes': None, 'min_impurity_decrease': 0.0, 'min_impurity_split': None, 'min_samples_leaf': 1, 'min_samples_split': 2, 'min_weight_fraction_leaf': 0.0, 'random_state': 12345, 'splitter': 'best'}\n"
     ]
    }
   ],
   "source": [
    "print(best_model_dtc.get_params())"
   ]
  },
  {
   "cell_type": "markdown",
   "metadata": {},
   "source": [
    "**Значения гиперпараметров решающего дерева**\n",
    "* criterion - gini\n",
    "* min_samples_split - 2\n",
    "* splitter - best\n",
    "* max_depth - 5"
   ]
  },
  {
   "cell_type": "code",
   "execution_count": 97,
   "metadata": {},
   "outputs": [
    {
     "name": "stdout",
     "output_type": "stream",
     "text": [
      "RandomForestClassifier(max_depth=8, max_features='sqrt', n_estimators=10,\n",
      "                       random_state=12345) 0.8009331259720062\n"
     ]
    }
   ],
   "source": [
    "best_model_rfc = None\n",
    "best_result_rfc = 0\n",
    "for criterion in ['gini', 'entropy']:\n",
    "    for max_features in ['sqrt', 'log2']:\n",
    "        for n_estimators in range(5,15):\n",
    "            for max_depth in range(5,15):\n",
    "                model = RandomForestClassifier(random_state=random_state, criterion=criterion,\n",
    "                                    max_features=max_features, max_depth=max_depth, n_estimators=n_estimators)\n",
    "                model.fit(features_train,target_train) \n",
    "                result = model.score(features_valid,target_valid)\n",
    "                if result > best_result_rfc:\n",
    "                    best_model_rfc = model\n",
    "                    best_result_rfc = result\n",
    "print(best_model_rfc,best_result_rfc)"
   ]
  },
  {
   "cell_type": "markdown",
   "metadata": {},
   "source": [
    " **Случайный лес**:\n",
    " Модель так же показала необходимую точность, рассмотрим при каких значениях гиперпараметров."
   ]
  },
  {
   "cell_type": "code",
   "execution_count": 98,
   "metadata": {},
   "outputs": [
    {
     "name": "stdout",
     "output_type": "stream",
     "text": [
      "{'bootstrap': True, 'ccp_alpha': 0.0, 'class_weight': None, 'criterion': 'gini', 'max_depth': 8, 'max_features': 'sqrt', 'max_leaf_nodes': None, 'max_samples': None, 'min_impurity_decrease': 0.0, 'min_impurity_split': None, 'min_samples_leaf': 1, 'min_samples_split': 2, 'min_weight_fraction_leaf': 0.0, 'n_estimators': 10, 'n_jobs': None, 'oob_score': False, 'random_state': 12345, 'verbose': 0, 'warm_start': False}\n"
     ]
    }
   ],
   "source": [
    "print(best_model_rfc.get_params())\n"
   ]
  },
  {
   "cell_type": "markdown",
   "metadata": {},
   "source": [
    "**Значения гиперпараметров случайного леса**\n",
    "* criterion - gini\n",
    "* n_estimators - 10\n",
    "* max_depth - 8\n",
    "* max_features - sqrt"
   ]
  },
  {
   "cell_type": "markdown",
   "metadata": {},
   "source": [
    "**Красткий вывод**: т.к. accuracy  решающего древа и случайного леса практически не отличаются, проверим на тестовой выборке обе модели."
   ]
  },
  {
   "cell_type": "markdown",
   "metadata": {},
   "source": [
    "## Проверьте модель на тестовой выборке"
   ]
  },
  {
   "cell_type": "markdown",
   "metadata": {},
   "source": [
    "Посмотрим результат случайного леса на тестовой выборке."
   ]
  },
  {
   "cell_type": "code",
   "execution_count": 99,
   "metadata": {},
   "outputs": [
    {
     "name": "stdout",
     "output_type": "stream",
     "text": [
      "0.7962674961119751\n"
     ]
    }
   ],
   "source": [
    "result = best_model_rfc.score(features_test,target_test)\n",
    "print(result)"
   ]
  },
  {
   "cell_type": "markdown",
   "metadata": {},
   "source": [
    "Посмотрим результат обучающего древа на тестововй выборке."
   ]
  },
  {
   "cell_type": "code",
   "execution_count": 100,
   "metadata": {},
   "outputs": [
    {
     "name": "stdout",
     "output_type": "stream",
     "text": [
      "0.7962674961119751\n"
     ]
    }
   ],
   "source": [
    "result = best_model_dtc.score(features_test,target_test)\n",
    "print(result)"
   ]
  },
  {
   "cell_type": "markdown",
   "metadata": {},
   "source": [
    "**Вывод**: т.к. результаты совпали лучше использовать решающее дерево."
   ]
  },
  {
   "cell_type": "markdown",
   "metadata": {},
   "source": [
    "Попробуем еще раз обучить модоели на слиянии тренировочной и валидационной выборок."
   ]
  },
  {
   "cell_type": "code",
   "execution_count": 105,
   "metadata": {},
   "outputs": [
    {
     "name": "stdout",
     "output_type": "stream",
     "text": [
      "0.7807153965785381 0.8265266433294438\n"
     ]
    }
   ],
   "source": [
    "features_train_2 = pd.concat([features_train,features_valid])\n",
    "target_train_2 = pd.concat([target_train,target_valid])\n",
    "model_rfc = RandomForestClassifier(random_state=random_state, criterion='gini',\n",
    "                                    max_features='sqrt', max_depth=8, n_estimators=10)\n",
    "model_rfc.fit(features_train_2,target_train_2) \n",
    "result_rfc = model.score(features_valid,target_valid)\n",
    "model_dtc = DecisionTreeClassifier(random_state=random_state, max_depth=5,criterion='gini',\\\n",
    "                                   splitter='best',min_samples_split=2) \n",
    "model_dtc.fit(features_train_2,target_train_2) \n",
    "result_dtc = model.score(features_train_2,target_train_2)\n",
    "print(result_rfc,result_dtc)"
   ]
  },
  {
   "cell_type": "markdown",
   "metadata": {},
   "source": [
    "Подтвердили вывод, что решающее дерево справилось лучше."
   ]
  },
  {
   "cell_type": "markdown",
   "metadata": {},
   "source": [
    "## (бонус) Проверьте модели на адекватность"
   ]
  },
  {
   "cell_type": "markdown",
   "metadata": {},
   "source": [
    "Поскольку в предоставленных для обучения сданных большинство пользователей пользовалось тарифом ультра можно предположить, что если всегда его предлагать то в 2/3 случаев констаннтная модель будет права, проверим."
   ]
  },
  {
   "cell_type": "code",
   "execution_count": 101,
   "metadata": {},
   "outputs": [
    {
     "name": "stdout",
     "output_type": "stream",
     "text": [
      "0.6936236391912908\n"
     ]
    }
   ],
   "source": [
    "const_all_ultra = pd.Series ([0] * len(target_test))\n",
    "result = accuracy_score(target_test, const_all_ultra)\n",
    "print(result)\n"
   ]
  },
  {
   "cell_type": "markdown",
   "metadata": {},
   "source": [
    "Подозрительно высокий результат, который не сильно уступает обученной модели, можно сделать вывод, что диссбаланс в данных сильно портит обучение модели и следовательно оправданность ее применения в бизнесе."
   ]
  }
 ],
 "metadata": {
  "ExecuteTimeLog": [
   {
    "duration": 1320,
    "start_time": "2023-02-24T08:03:49.489Z"
   },
   {
    "duration": 65,
    "start_time": "2023-02-24T08:03:50.812Z"
   },
   {
    "duration": 25,
    "start_time": "2023-02-24T08:03:50.879Z"
   },
   {
    "duration": 12,
    "start_time": "2023-02-24T08:03:51.784Z"
   },
   {
    "duration": 288,
    "start_time": "2023-02-24T08:04:54.345Z"
   },
   {
    "duration": 27,
    "start_time": "2023-02-24T08:04:55.215Z"
   },
   {
    "duration": 25,
    "start_time": "2023-02-24T08:04:55.776Z"
   },
   {
    "duration": 17,
    "start_time": "2023-02-24T08:04:56.440Z"
   },
   {
    "duration": 120,
    "start_time": "2023-02-24T08:19:32.968Z"
   },
   {
    "duration": 15,
    "start_time": "2023-02-24T08:19:47.517Z"
   },
   {
    "duration": 10,
    "start_time": "2023-02-24T08:20:11.832Z"
   },
   {
    "duration": 11,
    "start_time": "2023-02-24T08:20:25.728Z"
   },
   {
    "duration": 12,
    "start_time": "2023-02-24T08:20:48.553Z"
   },
   {
    "duration": 44,
    "start_time": "2023-02-28T22:41:58.879Z"
   },
   {
    "duration": 1109,
    "start_time": "2023-02-28T22:42:10.829Z"
   },
   {
    "duration": 140,
    "start_time": "2023-02-28T22:42:11.940Z"
   },
   {
    "duration": 23,
    "start_time": "2023-02-28T22:42:12.082Z"
   },
   {
    "duration": 15,
    "start_time": "2023-02-28T22:42:12.108Z"
   },
   {
    "duration": 10,
    "start_time": "2023-02-28T22:42:12.202Z"
   },
   {
    "duration": 22,
    "start_time": "2023-02-28T22:42:16.369Z"
   },
   {
    "duration": 25,
    "start_time": "2023-02-28T22:42:42.008Z"
   },
   {
    "duration": 66,
    "start_time": "2023-02-28T22:42:52.628Z"
   },
   {
    "duration": 70,
    "start_time": "2023-02-28T22:46:43.632Z"
   },
   {
    "duration": 8887,
    "start_time": "2023-02-28T22:47:44.922Z"
   },
   {
    "duration": 8793,
    "start_time": "2023-02-28T22:48:47.889Z"
   },
   {
    "duration": 530,
    "start_time": "2023-02-28T23:05:54.580Z"
   },
   {
    "duration": 162,
    "start_time": "2023-02-28T23:06:39.699Z"
   },
   {
    "duration": 1480,
    "start_time": "2023-02-28T23:07:08.808Z"
   },
   {
    "duration": 14,
    "start_time": "2023-02-28T23:08:00.722Z"
   },
   {
    "duration": 708,
    "start_time": "2023-02-28T23:08:11.127Z"
   },
   {
    "duration": 813,
    "start_time": "2023-02-28T23:08:35.430Z"
   },
   {
    "duration": 739,
    "start_time": "2023-02-28T23:08:43.071Z"
   },
   {
    "duration": 96,
    "start_time": "2023-02-28T23:08:59.807Z"
   },
   {
    "duration": 731,
    "start_time": "2023-02-28T23:09:19.701Z"
   },
   {
    "duration": 899,
    "start_time": "2023-02-28T23:10:03.905Z"
   },
   {
    "duration": 983,
    "start_time": "2023-02-28T23:10:17.023Z"
   },
   {
    "duration": 994,
    "start_time": "2023-02-28T23:10:35.444Z"
   },
   {
    "duration": 926,
    "start_time": "2023-02-28T23:11:46.182Z"
   },
   {
    "duration": 903,
    "start_time": "2023-02-28T23:11:55.763Z"
   },
   {
    "duration": 66,
    "start_time": "2023-02-28T23:12:00.458Z"
   },
   {
    "duration": 8624,
    "start_time": "2023-02-28T23:12:03.085Z"
   },
   {
    "duration": 167,
    "start_time": "2023-02-28T23:19:25.901Z"
   },
   {
    "duration": 680,
    "start_time": "2023-02-28T23:19:41.012Z"
   },
   {
    "duration": 637,
    "start_time": "2023-02-28T23:19:53.575Z"
   },
   {
    "duration": 672,
    "start_time": "2023-02-28T23:20:02.516Z"
   },
   {
    "duration": 108,
    "start_time": "2023-03-19T13:42:30.863Z"
   },
   {
    "duration": 71,
    "start_time": "2023-03-19T13:48:57.219Z"
   },
   {
    "duration": 1233,
    "start_time": "2023-03-19T13:49:03.208Z"
   },
   {
    "duration": 241,
    "start_time": "2023-03-19T13:49:04.444Z"
   },
   {
    "duration": 23,
    "start_time": "2023-03-19T13:49:04.687Z"
   },
   {
    "duration": 10,
    "start_time": "2023-03-19T13:49:04.712Z"
   },
   {
    "duration": 22,
    "start_time": "2023-03-19T13:49:04.724Z"
   },
   {
    "duration": 1329,
    "start_time": "2023-03-19T13:49:07.056Z"
   },
   {
    "duration": 820,
    "start_time": "2023-03-19T13:49:10.805Z"
   },
   {
    "duration": 14,
    "start_time": "2023-03-19T13:49:19.762Z"
   },
   {
    "duration": 11012,
    "start_time": "2023-03-19T13:54:07.870Z"
   },
   {
    "duration": 11,
    "start_time": "2023-03-19T13:55:13.251Z"
   },
   {
    "duration": 86,
    "start_time": "2023-03-19T13:55:48.211Z"
   },
   {
    "duration": 729,
    "start_time": "2023-03-19T13:55:57.389Z"
   },
   {
    "duration": 7,
    "start_time": "2023-03-19T13:56:01.664Z"
   },
   {
    "duration": 7,
    "start_time": "2023-03-19T14:01:48.083Z"
   },
   {
    "duration": 106,
    "start_time": "2023-03-19T14:06:37.713Z"
   },
   {
    "duration": 12,
    "start_time": "2023-03-19T14:07:01.754Z"
   },
   {
    "duration": 10,
    "start_time": "2023-03-19T14:07:34.263Z"
   },
   {
    "duration": 13,
    "start_time": "2023-03-19T14:08:05.872Z"
   },
   {
    "duration": 6,
    "start_time": "2023-03-19T14:08:25.671Z"
   },
   {
    "duration": 10,
    "start_time": "2023-03-19T14:08:58.120Z"
   },
   {
    "duration": 7,
    "start_time": "2023-03-19T14:09:58.623Z"
   },
   {
    "duration": 3,
    "start_time": "2023-03-19T14:10:10.666Z"
   },
   {
    "duration": 30,
    "start_time": "2023-03-19T14:10:10.893Z"
   },
   {
    "duration": 23,
    "start_time": "2023-03-19T14:10:11.118Z"
   },
   {
    "duration": 11,
    "start_time": "2023-03-19T14:10:11.364Z"
   },
   {
    "duration": 12,
    "start_time": "2023-03-19T14:10:11.886Z"
   },
   {
    "duration": 1042,
    "start_time": "2023-03-19T14:10:14.268Z"
   },
   {
    "duration": 727,
    "start_time": "2023-03-19T14:10:17.847Z"
   },
   {
    "duration": 4,
    "start_time": "2023-03-19T14:10:20.189Z"
   },
   {
    "duration": 10198,
    "start_time": "2023-03-19T14:10:22.576Z"
   },
   {
    "duration": 4,
    "start_time": "2023-03-19T14:10:34.906Z"
   },
   {
    "duration": 11,
    "start_time": "2023-03-19T14:10:43.692Z"
   },
   {
    "duration": 11,
    "start_time": "2023-03-19T14:10:58.358Z"
   },
   {
    "duration": 17,
    "start_time": "2023-03-19T14:15:36.757Z"
   },
   {
    "duration": 5,
    "start_time": "2023-03-19T14:15:55.148Z"
   },
   {
    "duration": 1020,
    "start_time": "2023-03-19T14:16:00.426Z"
   },
   {
    "duration": 1827,
    "start_time": "2023-03-19T14:27:42.550Z"
   },
   {
    "duration": 29,
    "start_time": "2023-03-19T14:27:44.379Z"
   },
   {
    "duration": 18,
    "start_time": "2023-03-19T14:27:44.410Z"
   },
   {
    "duration": 10,
    "start_time": "2023-03-19T14:27:44.430Z"
   },
   {
    "duration": 9,
    "start_time": "2023-03-19T14:27:44.441Z"
   },
   {
    "duration": 732,
    "start_time": "2023-03-19T14:27:44.451Z"
   },
   {
    "duration": 578,
    "start_time": "2023-03-19T14:27:45.185Z"
   },
   {
    "duration": 3,
    "start_time": "2023-03-19T14:27:45.764Z"
   },
   {
    "duration": 7824,
    "start_time": "2023-03-19T14:27:45.768Z"
   },
   {
    "duration": 3,
    "start_time": "2023-03-19T14:27:53.594Z"
   },
   {
    "duration": 10,
    "start_time": "2023-03-19T14:27:53.599Z"
   },
   {
    "duration": 8,
    "start_time": "2023-03-19T14:27:53.611Z"
   },
   {
    "duration": 3,
    "start_time": "2023-03-19T14:28:00.409Z"
   },
   {
    "duration": 4,
    "start_time": "2023-03-19T14:28:43.165Z"
   },
   {
    "duration": 8,
    "start_time": "2023-03-19T14:29:51.052Z"
   },
   {
    "duration": 3,
    "start_time": "2023-03-19T14:53:00.656Z"
   },
   {
    "duration": 39,
    "start_time": "2023-03-19T14:53:01.308Z"
   },
   {
    "duration": 16,
    "start_time": "2023-03-19T14:53:01.684Z"
   },
   {
    "duration": 13,
    "start_time": "2023-03-19T14:53:02.379Z"
   },
   {
    "duration": 11,
    "start_time": "2023-03-19T14:53:04.418Z"
   },
   {
    "duration": 10,
    "start_time": "2023-03-19T14:53:06.356Z"
   },
   {
    "duration": 118,
    "start_time": "2023-03-19T14:53:14.683Z"
   },
   {
    "duration": 9,
    "start_time": "2023-03-19T14:53:23.418Z"
   },
   {
    "duration": 8,
    "start_time": "2023-03-19T14:54:20.621Z"
   },
   {
    "duration": 5,
    "start_time": "2023-03-19T14:55:33.395Z"
   },
   {
    "duration": 5,
    "start_time": "2023-03-19T14:56:13.057Z"
   },
   {
    "duration": 4,
    "start_time": "2023-03-19T14:56:51.666Z"
   },
   {
    "duration": 10,
    "start_time": "2023-03-19T14:58:50.959Z"
   },
   {
    "duration": 451,
    "start_time": "2023-03-19T15:19:21.997Z"
   },
   {
    "duration": 48,
    "start_time": "2023-03-19T15:19:22.452Z"
   },
   {
    "duration": 18,
    "start_time": "2023-03-19T15:19:22.659Z"
   },
   {
    "duration": 12,
    "start_time": "2023-03-19T15:19:22.886Z"
   },
   {
    "duration": 19,
    "start_time": "2023-03-19T15:19:24.125Z"
   },
   {
    "duration": 5,
    "start_time": "2023-03-19T15:19:25.158Z"
   },
   {
    "duration": 1037,
    "start_time": "2023-03-19T15:19:28.173Z"
   },
   {
    "duration": 1373,
    "start_time": "2023-03-19T15:19:33.117Z"
   },
   {
    "duration": 1526,
    "start_time": "2023-03-19T15:19:55.919Z"
   },
   {
    "duration": 1371,
    "start_time": "2023-03-19T15:20:10.164Z"
   },
   {
    "duration": 1391,
    "start_time": "2023-03-19T15:20:24.609Z"
   },
   {
    "duration": 150,
    "start_time": "2023-03-19T15:20:27.973Z"
   },
   {
    "duration": 126,
    "start_time": "2023-03-19T15:20:55.648Z"
   },
   {
    "duration": 206,
    "start_time": "2023-03-19T15:22:32.847Z"
   },
   {
    "duration": 143,
    "start_time": "2023-03-19T15:23:01.513Z"
   },
   {
    "duration": 80,
    "start_time": "2023-03-19T15:28:50.132Z"
   },
   {
    "duration": 9,
    "start_time": "2023-03-19T15:34:51.627Z"
   },
   {
    "duration": 7,
    "start_time": "2023-03-19T15:35:53.418Z"
   },
   {
    "duration": 7,
    "start_time": "2023-03-19T15:36:55.570Z"
   },
   {
    "duration": 7,
    "start_time": "2023-03-19T15:37:30.987Z"
   },
   {
    "duration": 4,
    "start_time": "2023-03-19T15:45:37.854Z"
   },
   {
    "duration": 3,
    "start_time": "2023-03-19T15:46:10.715Z"
   },
   {
    "duration": 34,
    "start_time": "2023-03-19T15:46:11.177Z"
   },
   {
    "duration": 25,
    "start_time": "2023-03-19T15:46:11.374Z"
   },
   {
    "duration": 13,
    "start_time": "2023-03-19T15:46:11.596Z"
   },
   {
    "duration": 8,
    "start_time": "2023-03-19T15:46:11.806Z"
   },
   {
    "duration": 10,
    "start_time": "2023-03-19T15:46:12.698Z"
   },
   {
    "duration": 4,
    "start_time": "2023-03-19T15:46:12.924Z"
   },
   {
    "duration": 997,
    "start_time": "2023-03-19T15:46:13.847Z"
   },
   {
    "duration": 1419,
    "start_time": "2023-03-19T15:46:14.849Z"
   },
   {
    "duration": 5,
    "start_time": "2023-03-19T15:46:16.270Z"
   },
   {
    "duration": 10900,
    "start_time": "2023-03-19T15:46:16.277Z"
   },
   {
    "duration": 16,
    "start_time": "2023-03-19T15:46:27.181Z"
   },
   {
    "duration": 1,
    "start_time": "2023-03-19T15:46:27.199Z"
   },
   {
    "duration": 0,
    "start_time": "2023-03-19T15:46:27.201Z"
   },
   {
    "duration": 0,
    "start_time": "2023-03-19T15:46:27.202Z"
   },
   {
    "duration": 12,
    "start_time": "2023-03-19T15:46:47.281Z"
   },
   {
    "duration": 5,
    "start_time": "2023-03-19T15:47:34.569Z"
   },
   {
    "duration": 3,
    "start_time": "2023-03-19T15:48:30.077Z"
   },
   {
    "duration": 33,
    "start_time": "2023-03-19T15:48:30.494Z"
   },
   {
    "duration": 23,
    "start_time": "2023-03-19T15:48:30.724Z"
   },
   {
    "duration": 14,
    "start_time": "2023-03-19T15:48:30.978Z"
   },
   {
    "duration": 10,
    "start_time": "2023-03-19T15:48:31.194Z"
   },
   {
    "duration": 15,
    "start_time": "2023-03-19T15:48:34.197Z"
   },
   {
    "duration": 6,
    "start_time": "2023-03-19T15:48:34.474Z"
   },
   {
    "duration": 1004,
    "start_time": "2023-03-19T15:48:43.206Z"
   },
   {
    "duration": 1298,
    "start_time": "2023-03-19T15:48:48.706Z"
   },
   {
    "duration": 4,
    "start_time": "2023-03-19T15:48:50.007Z"
   },
   {
    "duration": 10319,
    "start_time": "2023-03-19T15:49:24.218Z"
   },
   {
    "duration": 10,
    "start_time": "2023-03-19T15:49:34.539Z"
   },
   {
    "duration": 8,
    "start_time": "2023-03-19T15:49:46.283Z"
   },
   {
    "duration": 5,
    "start_time": "2023-03-19T15:49:48.994Z"
   },
   {
    "duration": 4,
    "start_time": "2023-03-19T15:50:02.720Z"
   },
   {
    "duration": 16,
    "start_time": "2023-03-19T15:54:57.558Z"
   },
   {
    "duration": 5,
    "start_time": "2023-03-19T15:55:38.389Z"
   },
   {
    "duration": 72,
    "start_time": "2023-03-19T16:00:22.195Z"
   },
   {
    "duration": 76,
    "start_time": "2023-03-19T16:00:41.481Z"
   }
  ],
  "kernelspec": {
   "display_name": "Python 3 (ipykernel)",
   "language": "python",
   "name": "python3"
  },
  "language_info": {
   "codemirror_mode": {
    "name": "ipython",
    "version": 3
   },
   "file_extension": ".py",
   "mimetype": "text/x-python",
   "name": "python",
   "nbconvert_exporter": "python",
   "pygments_lexer": "ipython3",
   "version": "3.9.5"
  },
  "toc": {
   "base_numbering": 1,
   "nav_menu": {},
   "number_sections": true,
   "sideBar": true,
   "skip_h1_title": true,
   "title_cell": "Table of Contents",
   "title_sidebar": "Contents",
   "toc_cell": false,
   "toc_position": {},
   "toc_section_display": true,
   "toc_window_display": false
  }
 },
 "nbformat": 4,
 "nbformat_minor": 2
}
