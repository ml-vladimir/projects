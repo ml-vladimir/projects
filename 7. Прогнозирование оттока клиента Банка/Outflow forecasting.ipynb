{
 "cells": [
  {
   "cell_type": "markdown",
   "metadata": {
    "toc": true
   },
   "source": [
    "<h1>Содержание<span class=\"tocSkip\"></span></h1>\n",
    "<div class=\"toc\"><ul class=\"toc-item\"><li><span><a href=\"#Подготовка-данных\" data-toc-modified-id=\"Подготовка-данных-1\"><span class=\"toc-item-num\">1&nbsp;&nbsp;</span>Подготовка данных</a></span></li><li><span><a href=\"#Исследование-задачи\" data-toc-modified-id=\"Исследование-задачи-2\"><span class=\"toc-item-num\">2&nbsp;&nbsp;</span>Исследование задачи</a></span></li><li><span><a href=\"#Борьба-с-дисбалансом\" data-toc-modified-id=\"Борьба-с-дисбалансом-3\"><span class=\"toc-item-num\">3&nbsp;&nbsp;</span>Борьба с дисбалансом</a></span></li><li><span><a href=\"#Тестирование-модели\" data-toc-modified-id=\"Тестирование-модели-4\"><span class=\"toc-item-num\">4&nbsp;&nbsp;</span>Тестирование модели</a></span></li><li><span><a href=\"#Чек-лист-готовности-проекта\" data-toc-modified-id=\"Чек-лист-готовности-проекта-5\"><span class=\"toc-item-num\">5&nbsp;&nbsp;</span>Чек-лист готовности проекта</a></span></li></ul></div>"
   ]
  },
  {
   "cell_type": "markdown",
   "metadata": {},
   "source": [
    "# Отток клиентов"
   ]
  },
  {
   "cell_type": "markdown",
   "metadata": {},
   "source": [
    "Из «Бета-Банка» стали уходить клиенты. Каждый месяц. Немного, но заметно. Банковские маркетологи посчитали: сохранять текущих клиентов дешевле, чем привлекать новых.\n",
    "\n",
    "Нужно спрогнозировать, уйдёт клиент из банка в ближайшее время или нет. Вам предоставлены исторические данные о поведении клиентов и расторжении договоров с банком. \n",
    "\n",
    "Постройте модель с предельно большим значением *F1*-меры. Чтобы сдать проект успешно, нужно довести метрику до 0.59. Проверьте *F1*-меру на тестовой выборке самостоятельно.\n",
    "\n",
    "Дополнительно измеряйте *AUC-ROC*, сравнивайте её значение с *F1*-мерой.\n",
    "\n",
    "Источник данных: [https://www.kaggle.com/barelydedicated/bank-customer-churn-modeling](https://www.kaggle.com/barelydedicated/bank-customer-churn-modeling)"
   ]
  },
  {
   "cell_type": "markdown",
   "metadata": {},
   "source": [
    "## Подготовка данных"
   ]
  },
  {
   "cell_type": "code",
   "execution_count": 1,
   "metadata": {},
   "outputs": [],
   "source": [
    "import pandas as pd \n",
    "import numpy as np\n",
    "import matplotlib.pyplot as plt\n",
    "from tqdm.notebook import trange, tqdm\n",
    "from sklearn.model_selection import train_test_split\n",
    "from sklearn.preprocessing import StandardScaler\n",
    "from sklearn.metrics import f1_score, roc_auc_score, accuracy_score,\\\n",
    "precision_score, recall_score, precision_recall_curve\n",
    "from sklearn.utils import shuffle\n",
    "from sklearn.tree import DecisionTreeClassifier\n",
    "from sklearn.linear_model import LogisticRegression\n",
    "from sklearn.ensemble import RandomForestClassifier\n",
    "import re\n",
    "import warnings"
   ]
  },
  {
   "cell_type": "code",
   "execution_count": 2,
   "metadata": {},
   "outputs": [],
   "source": [
    "warnings.filterwarnings('ignore')"
   ]
  },
  {
   "cell_type": "code",
   "execution_count": 3,
   "metadata": {},
   "outputs": [
    {
     "name": "stdout",
     "output_type": "stream",
     "text": [
      "<class 'pandas.core.frame.DataFrame'>\n",
      "RangeIndex: 10000 entries, 0 to 9999\n",
      "Data columns (total 14 columns):\n",
      " #   Column           Non-Null Count  Dtype  \n",
      "---  ------           --------------  -----  \n",
      " 0   RowNumber        10000 non-null  int64  \n",
      " 1   CustomerId       10000 non-null  int64  \n",
      " 2   Surname          10000 non-null  object \n",
      " 3   CreditScore      10000 non-null  int64  \n",
      " 4   Geography        10000 non-null  object \n",
      " 5   Gender           10000 non-null  object \n",
      " 6   Age              10000 non-null  int64  \n",
      " 7   Tenure           9091 non-null   float64\n",
      " 8   Balance          10000 non-null  float64\n",
      " 9   NumOfProducts    10000 non-null  int64  \n",
      " 10  HasCrCard        10000 non-null  int64  \n",
      " 11  IsActiveMember   10000 non-null  int64  \n",
      " 12  EstimatedSalary  10000 non-null  float64\n",
      " 13  Exited           10000 non-null  int64  \n",
      "dtypes: float64(3), int64(8), object(3)\n",
      "memory usage: 1.1+ MB\n"
     ]
    },
    {
     "data": {
      "text/html": [
       "<div>\n",
       "<style scoped>\n",
       "    .dataframe tbody tr th:only-of-type {\n",
       "        vertical-align: middle;\n",
       "    }\n",
       "\n",
       "    .dataframe tbody tr th {\n",
       "        vertical-align: top;\n",
       "    }\n",
       "\n",
       "    .dataframe thead th {\n",
       "        text-align: right;\n",
       "    }\n",
       "</style>\n",
       "<table border=\"1\" class=\"dataframe\">\n",
       "  <thead>\n",
       "    <tr style=\"text-align: right;\">\n",
       "      <th></th>\n",
       "      <th>RowNumber</th>\n",
       "      <th>CustomerId</th>\n",
       "      <th>Surname</th>\n",
       "      <th>CreditScore</th>\n",
       "      <th>Geography</th>\n",
       "      <th>Gender</th>\n",
       "      <th>Age</th>\n",
       "      <th>Tenure</th>\n",
       "      <th>Balance</th>\n",
       "      <th>NumOfProducts</th>\n",
       "      <th>HasCrCard</th>\n",
       "      <th>IsActiveMember</th>\n",
       "      <th>EstimatedSalary</th>\n",
       "      <th>Exited</th>\n",
       "    </tr>\n",
       "  </thead>\n",
       "  <tbody>\n",
       "    <tr>\n",
       "      <th>0</th>\n",
       "      <td>1</td>\n",
       "      <td>15634602</td>\n",
       "      <td>Hargrave</td>\n",
       "      <td>619</td>\n",
       "      <td>France</td>\n",
       "      <td>Female</td>\n",
       "      <td>42</td>\n",
       "      <td>2.0</td>\n",
       "      <td>0.00</td>\n",
       "      <td>1</td>\n",
       "      <td>1</td>\n",
       "      <td>1</td>\n",
       "      <td>101348.88</td>\n",
       "      <td>1</td>\n",
       "    </tr>\n",
       "    <tr>\n",
       "      <th>1</th>\n",
       "      <td>2</td>\n",
       "      <td>15647311</td>\n",
       "      <td>Hill</td>\n",
       "      <td>608</td>\n",
       "      <td>Spain</td>\n",
       "      <td>Female</td>\n",
       "      <td>41</td>\n",
       "      <td>1.0</td>\n",
       "      <td>83807.86</td>\n",
       "      <td>1</td>\n",
       "      <td>0</td>\n",
       "      <td>1</td>\n",
       "      <td>112542.58</td>\n",
       "      <td>0</td>\n",
       "    </tr>\n",
       "    <tr>\n",
       "      <th>2</th>\n",
       "      <td>3</td>\n",
       "      <td>15619304</td>\n",
       "      <td>Onio</td>\n",
       "      <td>502</td>\n",
       "      <td>France</td>\n",
       "      <td>Female</td>\n",
       "      <td>42</td>\n",
       "      <td>8.0</td>\n",
       "      <td>159660.80</td>\n",
       "      <td>3</td>\n",
       "      <td>1</td>\n",
       "      <td>0</td>\n",
       "      <td>113931.57</td>\n",
       "      <td>1</td>\n",
       "    </tr>\n",
       "    <tr>\n",
       "      <th>3</th>\n",
       "      <td>4</td>\n",
       "      <td>15701354</td>\n",
       "      <td>Boni</td>\n",
       "      <td>699</td>\n",
       "      <td>France</td>\n",
       "      <td>Female</td>\n",
       "      <td>39</td>\n",
       "      <td>1.0</td>\n",
       "      <td>0.00</td>\n",
       "      <td>2</td>\n",
       "      <td>0</td>\n",
       "      <td>0</td>\n",
       "      <td>93826.63</td>\n",
       "      <td>0</td>\n",
       "    </tr>\n",
       "    <tr>\n",
       "      <th>4</th>\n",
       "      <td>5</td>\n",
       "      <td>15737888</td>\n",
       "      <td>Mitchell</td>\n",
       "      <td>850</td>\n",
       "      <td>Spain</td>\n",
       "      <td>Female</td>\n",
       "      <td>43</td>\n",
       "      <td>2.0</td>\n",
       "      <td>125510.82</td>\n",
       "      <td>1</td>\n",
       "      <td>1</td>\n",
       "      <td>1</td>\n",
       "      <td>79084.10</td>\n",
       "      <td>0</td>\n",
       "    </tr>\n",
       "  </tbody>\n",
       "</table>\n",
       "</div>"
      ],
      "text/plain": [
       "   RowNumber  CustomerId   Surname  CreditScore Geography  Gender  Age  \\\n",
       "0          1    15634602  Hargrave          619    France  Female   42   \n",
       "1          2    15647311      Hill          608     Spain  Female   41   \n",
       "2          3    15619304      Onio          502    France  Female   42   \n",
       "3          4    15701354      Boni          699    France  Female   39   \n",
       "4          5    15737888  Mitchell          850     Spain  Female   43   \n",
       "\n",
       "   Tenure    Balance  NumOfProducts  HasCrCard  IsActiveMember  \\\n",
       "0     2.0       0.00              1          1               1   \n",
       "1     1.0   83807.86              1          0               1   \n",
       "2     8.0  159660.80              3          1               0   \n",
       "3     1.0       0.00              2          0               0   \n",
       "4     2.0  125510.82              1          1               1   \n",
       "\n",
       "   EstimatedSalary  Exited  \n",
       "0        101348.88       1  \n",
       "1        112542.58       0  \n",
       "2        113931.57       1  \n",
       "3         93826.63       0  \n",
       "4         79084.10       0  "
      ]
     },
     "execution_count": 3,
     "metadata": {},
     "output_type": "execute_result"
    }
   ],
   "source": [
    "data = pd.read_csv('/datasets/Churn.csv')\n",
    "data.info()\n",
    "data.head()"
   ]
  },
  {
   "cell_type": "markdown",
   "metadata": {},
   "source": [
    "**После общего ознакомления можно сделать некоторые выводы:**\n",
    "* Столбец Tenure (сколько лет человек является клиентом банка) имеет пустые значения (NaN)\n",
    "* Имеются столбцы которые не несут полезной информации для исследования: RowNumber(номер строки в таблице, думаю не требует пояснений его бесполезности), CustomerId и Surname (фасилия и уникальный индификатор клиента для построения общей картины о клиентах тоже не потребуются)\n",
    "* Имеются катекгориальные признаки Geography(страна) и Gender(пол) *(со странами было бы круто проверить на уникальность, но думаю это перебор)\n",
    "* *Надобы привести названия к правильной запитси\n",
    "* Провести проверку на выбросы и дупликаты\n",
    "* Разбить данные на выборки\n",
    "* Маштабировать соответствующие признаки\n"
   ]
  },
  {
   "cell_type": "code",
   "execution_count": 4,
   "metadata": {},
   "outputs": [],
   "source": [
    "data.columns = [re.sub(r'(?<!^)(?=[A-Z])', '_', i).lower()for i in data.columns]"
   ]
  },
  {
   "cell_type": "code",
   "execution_count": 5,
   "metadata": {},
   "outputs": [
    {
     "data": {
      "text/html": [
       "<div>\n",
       "<style scoped>\n",
       "    .dataframe tbody tr th:only-of-type {\n",
       "        vertical-align: middle;\n",
       "    }\n",
       "\n",
       "    .dataframe tbody tr th {\n",
       "        vertical-align: top;\n",
       "    }\n",
       "\n",
       "    .dataframe thead th {\n",
       "        text-align: right;\n",
       "    }\n",
       "</style>\n",
       "<table border=\"1\" class=\"dataframe\">\n",
       "  <thead>\n",
       "    <tr style=\"text-align: right;\">\n",
       "      <th></th>\n",
       "      <th>row_number</th>\n",
       "      <th>customer_id</th>\n",
       "      <th>credit_score</th>\n",
       "      <th>age</th>\n",
       "      <th>tenure</th>\n",
       "      <th>balance</th>\n",
       "      <th>num_of_products</th>\n",
       "      <th>has_cr_card</th>\n",
       "      <th>is_active_member</th>\n",
       "      <th>estimated_salary</th>\n",
       "      <th>exited</th>\n",
       "    </tr>\n",
       "  </thead>\n",
       "  <tbody>\n",
       "    <tr>\n",
       "      <th>row_number</th>\n",
       "      <td>1.000000</td>\n",
       "      <td>0.004202</td>\n",
       "      <td>0.005840</td>\n",
       "      <td>0.000783</td>\n",
       "      <td>-0.007322</td>\n",
       "      <td>-0.009067</td>\n",
       "      <td>0.007246</td>\n",
       "      <td>0.000599</td>\n",
       "      <td>0.012044</td>\n",
       "      <td>-0.005988</td>\n",
       "      <td>-0.016571</td>\n",
       "    </tr>\n",
       "    <tr>\n",
       "      <th>customer_id</th>\n",
       "      <td>0.004202</td>\n",
       "      <td>1.000000</td>\n",
       "      <td>0.005308</td>\n",
       "      <td>0.009497</td>\n",
       "      <td>-0.021418</td>\n",
       "      <td>-0.012419</td>\n",
       "      <td>0.016972</td>\n",
       "      <td>-0.014025</td>\n",
       "      <td>0.001665</td>\n",
       "      <td>0.015271</td>\n",
       "      <td>-0.006248</td>\n",
       "    </tr>\n",
       "    <tr>\n",
       "      <th>credit_score</th>\n",
       "      <td>0.005840</td>\n",
       "      <td>0.005308</td>\n",
       "      <td>1.000000</td>\n",
       "      <td>-0.003965</td>\n",
       "      <td>-0.000062</td>\n",
       "      <td>0.006268</td>\n",
       "      <td>0.012238</td>\n",
       "      <td>-0.005458</td>\n",
       "      <td>0.025651</td>\n",
       "      <td>-0.001384</td>\n",
       "      <td>-0.027094</td>\n",
       "    </tr>\n",
       "    <tr>\n",
       "      <th>age</th>\n",
       "      <td>0.000783</td>\n",
       "      <td>0.009497</td>\n",
       "      <td>-0.003965</td>\n",
       "      <td>1.000000</td>\n",
       "      <td>-0.013134</td>\n",
       "      <td>0.028308</td>\n",
       "      <td>-0.030680</td>\n",
       "      <td>-0.011721</td>\n",
       "      <td>0.085472</td>\n",
       "      <td>-0.007201</td>\n",
       "      <td>0.285323</td>\n",
       "    </tr>\n",
       "    <tr>\n",
       "      <th>tenure</th>\n",
       "      <td>-0.007322</td>\n",
       "      <td>-0.021418</td>\n",
       "      <td>-0.000062</td>\n",
       "      <td>-0.013134</td>\n",
       "      <td>1.000000</td>\n",
       "      <td>-0.007911</td>\n",
       "      <td>0.011979</td>\n",
       "      <td>0.027232</td>\n",
       "      <td>-0.032178</td>\n",
       "      <td>0.010520</td>\n",
       "      <td>-0.016761</td>\n",
       "    </tr>\n",
       "    <tr>\n",
       "      <th>balance</th>\n",
       "      <td>-0.009067</td>\n",
       "      <td>-0.012419</td>\n",
       "      <td>0.006268</td>\n",
       "      <td>0.028308</td>\n",
       "      <td>-0.007911</td>\n",
       "      <td>1.000000</td>\n",
       "      <td>-0.304180</td>\n",
       "      <td>-0.014858</td>\n",
       "      <td>-0.010084</td>\n",
       "      <td>0.012797</td>\n",
       "      <td>0.118533</td>\n",
       "    </tr>\n",
       "    <tr>\n",
       "      <th>num_of_products</th>\n",
       "      <td>0.007246</td>\n",
       "      <td>0.016972</td>\n",
       "      <td>0.012238</td>\n",
       "      <td>-0.030680</td>\n",
       "      <td>0.011979</td>\n",
       "      <td>-0.304180</td>\n",
       "      <td>1.000000</td>\n",
       "      <td>0.003183</td>\n",
       "      <td>0.009612</td>\n",
       "      <td>0.014204</td>\n",
       "      <td>-0.047820</td>\n",
       "    </tr>\n",
       "    <tr>\n",
       "      <th>has_cr_card</th>\n",
       "      <td>0.000599</td>\n",
       "      <td>-0.014025</td>\n",
       "      <td>-0.005458</td>\n",
       "      <td>-0.011721</td>\n",
       "      <td>0.027232</td>\n",
       "      <td>-0.014858</td>\n",
       "      <td>0.003183</td>\n",
       "      <td>1.000000</td>\n",
       "      <td>-0.011866</td>\n",
       "      <td>-0.009933</td>\n",
       "      <td>-0.007138</td>\n",
       "    </tr>\n",
       "    <tr>\n",
       "      <th>is_active_member</th>\n",
       "      <td>0.012044</td>\n",
       "      <td>0.001665</td>\n",
       "      <td>0.025651</td>\n",
       "      <td>0.085472</td>\n",
       "      <td>-0.032178</td>\n",
       "      <td>-0.010084</td>\n",
       "      <td>0.009612</td>\n",
       "      <td>-0.011866</td>\n",
       "      <td>1.000000</td>\n",
       "      <td>-0.011421</td>\n",
       "      <td>-0.156128</td>\n",
       "    </tr>\n",
       "    <tr>\n",
       "      <th>estimated_salary</th>\n",
       "      <td>-0.005988</td>\n",
       "      <td>0.015271</td>\n",
       "      <td>-0.001384</td>\n",
       "      <td>-0.007201</td>\n",
       "      <td>0.010520</td>\n",
       "      <td>0.012797</td>\n",
       "      <td>0.014204</td>\n",
       "      <td>-0.009933</td>\n",
       "      <td>-0.011421</td>\n",
       "      <td>1.000000</td>\n",
       "      <td>0.012097</td>\n",
       "    </tr>\n",
       "    <tr>\n",
       "      <th>exited</th>\n",
       "      <td>-0.016571</td>\n",
       "      <td>-0.006248</td>\n",
       "      <td>-0.027094</td>\n",
       "      <td>0.285323</td>\n",
       "      <td>-0.016761</td>\n",
       "      <td>0.118533</td>\n",
       "      <td>-0.047820</td>\n",
       "      <td>-0.007138</td>\n",
       "      <td>-0.156128</td>\n",
       "      <td>0.012097</td>\n",
       "      <td>1.000000</td>\n",
       "    </tr>\n",
       "  </tbody>\n",
       "</table>\n",
       "</div>"
      ],
      "text/plain": [
       "                  row_number  customer_id  credit_score       age    tenure  \\\n",
       "row_number          1.000000     0.004202      0.005840  0.000783 -0.007322   \n",
       "customer_id         0.004202     1.000000      0.005308  0.009497 -0.021418   \n",
       "credit_score        0.005840     0.005308      1.000000 -0.003965 -0.000062   \n",
       "age                 0.000783     0.009497     -0.003965  1.000000 -0.013134   \n",
       "tenure             -0.007322    -0.021418     -0.000062 -0.013134  1.000000   \n",
       "balance            -0.009067    -0.012419      0.006268  0.028308 -0.007911   \n",
       "num_of_products     0.007246     0.016972      0.012238 -0.030680  0.011979   \n",
       "has_cr_card         0.000599    -0.014025     -0.005458 -0.011721  0.027232   \n",
       "is_active_member    0.012044     0.001665      0.025651  0.085472 -0.032178   \n",
       "estimated_salary   -0.005988     0.015271     -0.001384 -0.007201  0.010520   \n",
       "exited             -0.016571    -0.006248     -0.027094  0.285323 -0.016761   \n",
       "\n",
       "                   balance  num_of_products  has_cr_card  is_active_member  \\\n",
       "row_number       -0.009067         0.007246     0.000599          0.012044   \n",
       "customer_id      -0.012419         0.016972    -0.014025          0.001665   \n",
       "credit_score      0.006268         0.012238    -0.005458          0.025651   \n",
       "age               0.028308        -0.030680    -0.011721          0.085472   \n",
       "tenure           -0.007911         0.011979     0.027232         -0.032178   \n",
       "balance           1.000000        -0.304180    -0.014858         -0.010084   \n",
       "num_of_products  -0.304180         1.000000     0.003183          0.009612   \n",
       "has_cr_card      -0.014858         0.003183     1.000000         -0.011866   \n",
       "is_active_member -0.010084         0.009612    -0.011866          1.000000   \n",
       "estimated_salary  0.012797         0.014204    -0.009933         -0.011421   \n",
       "exited            0.118533        -0.047820    -0.007138         -0.156128   \n",
       "\n",
       "                  estimated_salary    exited  \n",
       "row_number               -0.005988 -0.016571  \n",
       "customer_id               0.015271 -0.006248  \n",
       "credit_score             -0.001384 -0.027094  \n",
       "age                      -0.007201  0.285323  \n",
       "tenure                    0.010520 -0.016761  \n",
       "balance                   0.012797  0.118533  \n",
       "num_of_products           0.014204 -0.047820  \n",
       "has_cr_card              -0.009933 -0.007138  \n",
       "is_active_member         -0.011421 -0.156128  \n",
       "estimated_salary          1.000000  0.012097  \n",
       "exited                    0.012097  1.000000  "
      ]
     },
     "execution_count": 5,
     "metadata": {},
     "output_type": "execute_result"
    }
   ],
   "source": [
    "data.corr()"
   ]
  },
  {
   "cell_type": "markdown",
   "metadata": {},
   "source": [
    "Видимой зависимости не прослеживается, заменим значения на 0 или удалим, что сделать в итоге выберем по результативности модели."
   ]
  },
  {
   "cell_type": "code",
   "execution_count": 6,
   "metadata": {},
   "outputs": [],
   "source": [
    "#data.dropna(subset=['tenure'], inplace=True)\n",
    "data = data.fillna(0)"
   ]
  },
  {
   "cell_type": "markdown",
   "metadata": {},
   "source": [
    "Удалим ненужные данные"
   ]
  },
  {
   "cell_type": "code",
   "execution_count": 7,
   "metadata": {},
   "outputs": [],
   "source": [
    "data.drop(['row_number', 'customer_id', 'surname'], axis='columns', inplace=True)"
   ]
  },
  {
   "cell_type": "markdown",
   "metadata": {},
   "source": [
    "Проверим значения на выбросы и дупликаты"
   ]
  },
  {
   "cell_type": "code",
   "execution_count": 8,
   "metadata": {},
   "outputs": [
    {
     "data": {
      "text/html": [
       "<div>\n",
       "<style scoped>\n",
       "    .dataframe tbody tr th:only-of-type {\n",
       "        vertical-align: middle;\n",
       "    }\n",
       "\n",
       "    .dataframe tbody tr th {\n",
       "        vertical-align: top;\n",
       "    }\n",
       "\n",
       "    .dataframe thead th {\n",
       "        text-align: right;\n",
       "    }\n",
       "</style>\n",
       "<table border=\"1\" class=\"dataframe\">\n",
       "  <thead>\n",
       "    <tr style=\"text-align: right;\">\n",
       "      <th></th>\n",
       "      <th>credit_score</th>\n",
       "      <th>age</th>\n",
       "      <th>tenure</th>\n",
       "      <th>balance</th>\n",
       "      <th>num_of_products</th>\n",
       "      <th>has_cr_card</th>\n",
       "      <th>is_active_member</th>\n",
       "      <th>estimated_salary</th>\n",
       "      <th>exited</th>\n",
       "    </tr>\n",
       "  </thead>\n",
       "  <tbody>\n",
       "    <tr>\n",
       "      <th>count</th>\n",
       "      <td>10000.000000</td>\n",
       "      <td>10000.000000</td>\n",
       "      <td>10000.000000</td>\n",
       "      <td>10000.000000</td>\n",
       "      <td>10000.000000</td>\n",
       "      <td>10000.00000</td>\n",
       "      <td>10000.000000</td>\n",
       "      <td>10000.000000</td>\n",
       "      <td>10000.000000</td>\n",
       "    </tr>\n",
       "    <tr>\n",
       "      <th>mean</th>\n",
       "      <td>650.528800</td>\n",
       "      <td>38.921800</td>\n",
       "      <td>4.543400</td>\n",
       "      <td>76485.889288</td>\n",
       "      <td>1.530200</td>\n",
       "      <td>0.70550</td>\n",
       "      <td>0.515100</td>\n",
       "      <td>100090.239881</td>\n",
       "      <td>0.203700</td>\n",
       "    </tr>\n",
       "    <tr>\n",
       "      <th>std</th>\n",
       "      <td>96.653299</td>\n",
       "      <td>10.487806</td>\n",
       "      <td>3.111573</td>\n",
       "      <td>62397.405202</td>\n",
       "      <td>0.581654</td>\n",
       "      <td>0.45584</td>\n",
       "      <td>0.499797</td>\n",
       "      <td>57510.492818</td>\n",
       "      <td>0.402769</td>\n",
       "    </tr>\n",
       "    <tr>\n",
       "      <th>min</th>\n",
       "      <td>350.000000</td>\n",
       "      <td>18.000000</td>\n",
       "      <td>0.000000</td>\n",
       "      <td>0.000000</td>\n",
       "      <td>1.000000</td>\n",
       "      <td>0.00000</td>\n",
       "      <td>0.000000</td>\n",
       "      <td>11.580000</td>\n",
       "      <td>0.000000</td>\n",
       "    </tr>\n",
       "    <tr>\n",
       "      <th>25%</th>\n",
       "      <td>584.000000</td>\n",
       "      <td>32.000000</td>\n",
       "      <td>2.000000</td>\n",
       "      <td>0.000000</td>\n",
       "      <td>1.000000</td>\n",
       "      <td>0.00000</td>\n",
       "      <td>0.000000</td>\n",
       "      <td>51002.110000</td>\n",
       "      <td>0.000000</td>\n",
       "    </tr>\n",
       "    <tr>\n",
       "      <th>50%</th>\n",
       "      <td>652.000000</td>\n",
       "      <td>37.000000</td>\n",
       "      <td>4.000000</td>\n",
       "      <td>97198.540000</td>\n",
       "      <td>1.000000</td>\n",
       "      <td>1.00000</td>\n",
       "      <td>1.000000</td>\n",
       "      <td>100193.915000</td>\n",
       "      <td>0.000000</td>\n",
       "    </tr>\n",
       "    <tr>\n",
       "      <th>75%</th>\n",
       "      <td>718.000000</td>\n",
       "      <td>44.000000</td>\n",
       "      <td>7.000000</td>\n",
       "      <td>127644.240000</td>\n",
       "      <td>2.000000</td>\n",
       "      <td>1.00000</td>\n",
       "      <td>1.000000</td>\n",
       "      <td>149388.247500</td>\n",
       "      <td>0.000000</td>\n",
       "    </tr>\n",
       "    <tr>\n",
       "      <th>max</th>\n",
       "      <td>850.000000</td>\n",
       "      <td>92.000000</td>\n",
       "      <td>10.000000</td>\n",
       "      <td>250898.090000</td>\n",
       "      <td>4.000000</td>\n",
       "      <td>1.00000</td>\n",
       "      <td>1.000000</td>\n",
       "      <td>199992.480000</td>\n",
       "      <td>1.000000</td>\n",
       "    </tr>\n",
       "  </tbody>\n",
       "</table>\n",
       "</div>"
      ],
      "text/plain": [
       "       credit_score           age        tenure        balance  \\\n",
       "count  10000.000000  10000.000000  10000.000000   10000.000000   \n",
       "mean     650.528800     38.921800      4.543400   76485.889288   \n",
       "std       96.653299     10.487806      3.111573   62397.405202   \n",
       "min      350.000000     18.000000      0.000000       0.000000   \n",
       "25%      584.000000     32.000000      2.000000       0.000000   \n",
       "50%      652.000000     37.000000      4.000000   97198.540000   \n",
       "75%      718.000000     44.000000      7.000000  127644.240000   \n",
       "max      850.000000     92.000000     10.000000  250898.090000   \n",
       "\n",
       "       num_of_products  has_cr_card  is_active_member  estimated_salary  \\\n",
       "count     10000.000000  10000.00000      10000.000000      10000.000000   \n",
       "mean          1.530200      0.70550          0.515100     100090.239881   \n",
       "std           0.581654      0.45584          0.499797      57510.492818   \n",
       "min           1.000000      0.00000          0.000000         11.580000   \n",
       "25%           1.000000      0.00000          0.000000      51002.110000   \n",
       "50%           1.000000      1.00000          1.000000     100193.915000   \n",
       "75%           2.000000      1.00000          1.000000     149388.247500   \n",
       "max           4.000000      1.00000          1.000000     199992.480000   \n",
       "\n",
       "             exited  \n",
       "count  10000.000000  \n",
       "mean       0.203700  \n",
       "std        0.402769  \n",
       "min        0.000000  \n",
       "25%        0.000000  \n",
       "50%        0.000000  \n",
       "75%        0.000000  \n",
       "max        1.000000  "
      ]
     },
     "execution_count": 8,
     "metadata": {},
     "output_type": "execute_result"
    }
   ],
   "source": [
    "data.describe()"
   ]
  },
  {
   "cell_type": "markdown",
   "metadata": {},
   "source": [
    "Распределения значений не вызывают подозрений."
   ]
  },
  {
   "cell_type": "code",
   "execution_count": 9,
   "metadata": {},
   "outputs": [
    {
     "data": {
      "text/plain": [
       "0"
      ]
     },
     "execution_count": 9,
     "metadata": {},
     "output_type": "execute_result"
    }
   ],
   "source": [
    "data.duplicated().sum()"
   ]
  },
  {
   "cell_type": "markdown",
   "metadata": {},
   "source": [
    "Разберемся с категориальными признаками"
   ]
  },
  {
   "cell_type": "markdown",
   "metadata": {},
   "source": [
    "Посмотрим уникальные значения geography"
   ]
  },
  {
   "cell_type": "code",
   "execution_count": 10,
   "metadata": {},
   "outputs": [
    {
     "data": {
      "text/plain": [
       "array(['France', 'Spain', 'Germany'], dtype=object)"
      ]
     },
     "execution_count": 10,
     "metadata": {},
     "output_type": "execute_result"
    }
   ],
   "source": [
    "data['geography'].unique()"
   ]
  },
  {
   "cell_type": "code",
   "execution_count": 11,
   "metadata": {},
   "outputs": [],
   "source": [
    "data_ohe = pd.get_dummies(data, drop_first=True)"
   ]
  },
  {
   "cell_type": "code",
   "execution_count": 12,
   "metadata": {},
   "outputs": [
    {
     "name": "stdout",
     "output_type": "stream",
     "text": [
      "<class 'pandas.core.frame.DataFrame'>\n",
      "RangeIndex: 10000 entries, 0 to 9999\n",
      "Data columns (total 11 columns):\n",
      " #   Column            Non-Null Count  Dtype  \n",
      "---  ------            --------------  -----  \n",
      " 0   credit_score      10000 non-null  int64  \n",
      " 1   geography         10000 non-null  object \n",
      " 2   gender            10000 non-null  object \n",
      " 3   age               10000 non-null  int64  \n",
      " 4   tenure            10000 non-null  float64\n",
      " 5   balance           10000 non-null  float64\n",
      " 6   num_of_products   10000 non-null  int64  \n",
      " 7   has_cr_card       10000 non-null  int64  \n",
      " 8   is_active_member  10000 non-null  int64  \n",
      " 9   estimated_salary  10000 non-null  float64\n",
      " 10  exited            10000 non-null  int64  \n",
      "dtypes: float64(3), int64(6), object(2)\n",
      "memory usage: 859.5+ KB\n"
     ]
    }
   ],
   "source": [
    "data.info()"
   ]
  },
  {
   "cell_type": "code",
   "execution_count": 13,
   "metadata": {},
   "outputs": [
    {
     "name": "stdout",
     "output_type": "stream",
     "text": [
      "<class 'pandas.core.frame.DataFrame'>\n",
      "RangeIndex: 10000 entries, 0 to 9999\n",
      "Data columns (total 12 columns):\n",
      " #   Column             Non-Null Count  Dtype  \n",
      "---  ------             --------------  -----  \n",
      " 0   credit_score       10000 non-null  int64  \n",
      " 1   age                10000 non-null  int64  \n",
      " 2   tenure             10000 non-null  float64\n",
      " 3   balance            10000 non-null  float64\n",
      " 4   num_of_products    10000 non-null  int64  \n",
      " 5   has_cr_card        10000 non-null  int64  \n",
      " 6   is_active_member   10000 non-null  int64  \n",
      " 7   estimated_salary   10000 non-null  float64\n",
      " 8   exited             10000 non-null  int64  \n",
      " 9   geography_Germany  10000 non-null  uint8  \n",
      " 10  geography_Spain    10000 non-null  uint8  \n",
      " 11  gender_Male        10000 non-null  uint8  \n",
      "dtypes: float64(3), int64(6), uint8(3)\n",
      "memory usage: 732.5 KB\n"
     ]
    }
   ],
   "source": [
    "data_ohe.info()"
   ]
  },
  {
   "cell_type": "markdown",
   "metadata": {},
   "source": [
    "Можно приступать к разбиению данных на выборки.\n",
    "Зададим random_state, что бы не ошибиться "
   ]
  },
  {
   "cell_type": "code",
   "execution_count": 14,
   "metadata": {},
   "outputs": [],
   "source": [
    "random_state=12345"
   ]
  },
  {
   "cell_type": "code",
   "execution_count": 15,
   "metadata": {},
   "outputs": [],
   "source": [
    "target = data_ohe['exited']\n",
    "features = data_ohe.drop('exited', axis=1)\n",
    "features_train, features_rest, target_train, target_rest = train_test_split(features, target, test_size=.4, random_state=random_state)\n",
    "features_valid, features_test, target_valid, target_test = train_test_split(features_rest, target_rest, test_size=.5, random_state=random_state)"
   ]
  },
  {
   "cell_type": "markdown",
   "metadata": {},
   "source": [
    "Проверим размеры выборок"
   ]
  },
  {
   "cell_type": "code",
   "execution_count": 16,
   "metadata": {},
   "outputs": [
    {
     "name": "stdout",
     "output_type": "stream",
     "text": [
      "(6000, 11)\n",
      "(2000, 11)\n",
      "(2000, 11)\n"
     ]
    }
   ],
   "source": [
    "print(features_train.shape)\n",
    "print(features_valid.shape)\n",
    "print(features_test.shape)"
   ]
  },
  {
   "cell_type": "markdown",
   "metadata": {},
   "source": [
    "Маштабируем признаки "
   ]
  },
  {
   "cell_type": "code",
   "execution_count": 17,
   "metadata": {},
   "outputs": [],
   "source": [
    "numeric = ['credit_score', 'age', 'tenure', 'balance', 'num_of_products', \n",
    "                 'estimated_salary']\n",
    "\n",
    "scaler = StandardScaler()\n",
    "scaler.fit(features_train[numeric])\n",
    "features_train[numeric] = scaler.transform(features_train[numeric])\n",
    "features_valid[numeric] = scaler.transform(features_valid[numeric])\n",
    "features_test[numeric] = scaler.transform(features_test[numeric])\n",
    "\n",
    "pd.options.mode.chained_assignment = None "
   ]
  },
  {
   "cell_type": "markdown",
   "metadata": {},
   "source": [
    "## Исследование задачи"
   ]
  },
  {
   "cell_type": "markdown",
   "metadata": {},
   "source": [
    "Обучим модели и изучим значения их метрик (f1 и accuracy)"
   ]
  },
  {
   "cell_type": "code",
   "execution_count": 18,
   "metadata": {},
   "outputs": [],
   "source": [
    "score = pd.DataFrame(columns=['model_name', 'f1', 'accuracy', 'auc_roc'])\n"
   ]
  },
  {
   "cell_type": "code",
   "execution_count": 19,
   "metadata": {},
   "outputs": [
    {
     "name": "stdout",
     "output_type": "stream",
     "text": [
      "0.33389544688026984 0.8025\n"
     ]
    },
    {
     "data": {
      "text/html": [
       "<div>\n",
       "<style scoped>\n",
       "    .dataframe tbody tr th:only-of-type {\n",
       "        vertical-align: middle;\n",
       "    }\n",
       "\n",
       "    .dataframe tbody tr th {\n",
       "        vertical-align: top;\n",
       "    }\n",
       "\n",
       "    .dataframe thead th {\n",
       "        text-align: right;\n",
       "    }\n",
       "</style>\n",
       "<table border=\"1\" class=\"dataframe\">\n",
       "  <thead>\n",
       "    <tr style=\"text-align: right;\">\n",
       "      <th></th>\n",
       "      <th>model_name</th>\n",
       "      <th>f1</th>\n",
       "      <th>accuracy</th>\n",
       "      <th>auc_roc</th>\n",
       "    </tr>\n",
       "  </thead>\n",
       "  <tbody>\n",
       "    <tr>\n",
       "      <th>0</th>\n",
       "      <td>LogisticRegression</td>\n",
       "      <td>0.333895</td>\n",
       "      <td>0.8025</td>\n",
       "      <td>0.758632</td>\n",
       "    </tr>\n",
       "  </tbody>\n",
       "</table>\n",
       "</div>"
      ],
      "text/plain": [
       "           model_name        f1  accuracy   auc_roc\n",
       "0  LogisticRegression  0.333895    0.8025  0.758632"
      ]
     },
     "execution_count": 19,
     "metadata": {},
     "output_type": "execute_result"
    }
   ],
   "source": [
    "best_model_lr = None\n",
    "best_accuracy = 0\n",
    "best_f1 = 0\n",
    "best_auc_roc = 0\n",
    "for max_iter in [100,200,300,400,500,1000]:\n",
    "    model = LogisticRegression(random_state=random_state, max_iter=max_iter,solver='liblinear') \n",
    "    model.fit(features_train,target_train)\n",
    "    predicted = model.predict(features_valid)\n",
    "    f1 = f1_score(target_valid, predicted) \n",
    "    if f1 > best_f1:\n",
    "        best_model_lr = model\n",
    "        best_accuracy = model.score(features_valid,target_valid)\n",
    "        probabilities = model.predict_proba(features_valid)\n",
    "        probabilities_one =  probabilities[:, 1]\n",
    "        best_auc_roc = roc_auc_score(target_valid,probabilities_one)\n",
    "        best_f1 = f1\n",
    "\n",
    "print(best_f1,best_accuracy)\n",
    "score = score.append({'model_name' : 'LogisticRegression', 'f1': best_f1, 'accuracy': best_accuracy, 'auc_roc':best_auc_roc},\n",
    "                              ignore_index=True)\n",
    "score"
   ]
  },
  {
   "cell_type": "code",
   "execution_count": 20,
   "metadata": {},
   "outputs": [
    {
     "data": {
      "text/html": [
       "<div>\n",
       "<style scoped>\n",
       "    .dataframe tbody tr th:only-of-type {\n",
       "        vertical-align: middle;\n",
       "    }\n",
       "\n",
       "    .dataframe tbody tr th {\n",
       "        vertical-align: top;\n",
       "    }\n",
       "\n",
       "    .dataframe thead th {\n",
       "        text-align: right;\n",
       "    }\n",
       "</style>\n",
       "<table border=\"1\" class=\"dataframe\">\n",
       "  <thead>\n",
       "    <tr style=\"text-align: right;\">\n",
       "      <th></th>\n",
       "      <th>model_name</th>\n",
       "      <th>f1</th>\n",
       "      <th>accuracy</th>\n",
       "      <th>auc_roc</th>\n",
       "    </tr>\n",
       "  </thead>\n",
       "  <tbody>\n",
       "    <tr>\n",
       "      <th>0</th>\n",
       "      <td>LogisticRegression</td>\n",
       "      <td>0.333895</td>\n",
       "      <td>0.8025</td>\n",
       "      <td>0.758632</td>\n",
       "    </tr>\n",
       "    <tr>\n",
       "      <th>1</th>\n",
       "      <td>DecisionTreeClassifier</td>\n",
       "      <td>0.333895</td>\n",
       "      <td>0.7910</td>\n",
       "      <td>0.690880</td>\n",
       "    </tr>\n",
       "  </tbody>\n",
       "</table>\n",
       "</div>"
      ],
      "text/plain": [
       "               model_name        f1  accuracy   auc_roc\n",
       "0      LogisticRegression  0.333895    0.8025  0.758632\n",
       "1  DecisionTreeClassifier  0.333895    0.7910  0.690880"
      ]
     },
     "execution_count": 20,
     "metadata": {},
     "output_type": "execute_result"
    }
   ],
   "source": [
    "best_model_dtc = None\n",
    "best_accuracy = 0\n",
    "best_f1 = 0\n",
    "best_auc_roc = 0\n",
    "for min_samples_split in range (2,5):\n",
    "    for splitter in ['best','random']:\n",
    "            for max_depth in range(1, 20):\n",
    "                model = DecisionTreeClassifier(random_state=random_state, max_depth=max_depth,\\\n",
    "                                   splitter=splitter,min_samples_split=min_samples_split) \n",
    "                model.fit(features_train,target_train)\n",
    "                best_model_dtc = model\n",
    "                best_accuracy = model.score(features_valid,target_valid)\n",
    "                probabilities = model.predict_proba(features_valid)\n",
    "                probabilities_one =  probabilities[:, 1]\n",
    "                best_auc_roc = roc_auc_score(target_valid,probabilities_one)\n",
    "                best_f1 = f1\n",
    "score = score.append({'model_name' : 'DecisionTreeClassifier', 'f1': best_f1, 'accuracy': best_accuracy,'auc_roc':best_auc_roc},\n",
    "                              ignore_index=True)\n",
    "score"
   ]
  },
  {
   "cell_type": "code",
   "execution_count": 21,
   "metadata": {},
   "outputs": [
    {
     "data": {
      "text/html": [
       "<div>\n",
       "<style scoped>\n",
       "    .dataframe tbody tr th:only-of-type {\n",
       "        vertical-align: middle;\n",
       "    }\n",
       "\n",
       "    .dataframe tbody tr th {\n",
       "        vertical-align: top;\n",
       "    }\n",
       "\n",
       "    .dataframe thead th {\n",
       "        text-align: right;\n",
       "    }\n",
       "</style>\n",
       "<table border=\"1\" class=\"dataframe\">\n",
       "  <thead>\n",
       "    <tr style=\"text-align: right;\">\n",
       "      <th></th>\n",
       "      <th>model_name</th>\n",
       "      <th>f1</th>\n",
       "      <th>accuracy</th>\n",
       "      <th>auc_roc</th>\n",
       "    </tr>\n",
       "  </thead>\n",
       "  <tbody>\n",
       "    <tr>\n",
       "      <th>0</th>\n",
       "      <td>LogisticRegression</td>\n",
       "      <td>0.333895</td>\n",
       "      <td>0.8025</td>\n",
       "      <td>0.758632</td>\n",
       "    </tr>\n",
       "    <tr>\n",
       "      <th>1</th>\n",
       "      <td>DecisionTreeClassifier</td>\n",
       "      <td>0.333895</td>\n",
       "      <td>0.7910</td>\n",
       "      <td>0.690880</td>\n",
       "    </tr>\n",
       "    <tr>\n",
       "      <th>2</th>\n",
       "      <td>RandomForestClassifier</td>\n",
       "      <td>0.598519</td>\n",
       "      <td>0.8645</td>\n",
       "      <td>0.829207</td>\n",
       "    </tr>\n",
       "  </tbody>\n",
       "</table>\n",
       "</div>"
      ],
      "text/plain": [
       "               model_name        f1  accuracy   auc_roc\n",
       "0      LogisticRegression  0.333895    0.8025  0.758632\n",
       "1  DecisionTreeClassifier  0.333895    0.7910  0.690880\n",
       "2  RandomForestClassifier  0.598519    0.8645  0.829207"
      ]
     },
     "execution_count": 21,
     "metadata": {},
     "output_type": "execute_result"
    }
   ],
   "source": [
    "best_model_rfc = None\n",
    "best_accuracy = 0\n",
    "best_f1 = 0\n",
    "for criterion in ['gini', 'entropy']:\n",
    "    for max_features in ['sqrt', 'log2']:\n",
    "        for n_estimators in range(5,15):\n",
    "            for max_depth in range(5,15):\n",
    "                model = RandomForestClassifier(random_state=random_state, criterion=criterion,\n",
    "                                    max_features=max_features, max_depth=max_depth, n_estimators=n_estimators)\n",
    "                model.fit(features_train,target_train)\n",
    "                predicted = model.predict(features_valid)\n",
    "                f1 = f1_score(target_valid, predicted) \n",
    "                if f1 > best_f1:\n",
    "                    best_model_rfc = model\n",
    "                    best_accuracy = model.score(features_valid,target_valid)\n",
    "                    probabilities = model.predict_proba(features_valid)\n",
    "                    probabilities_one =  probabilities[:, 1]\n",
    "                    best_auc_roc = roc_auc_score(target_valid,probabilities_one)\n",
    "                    best_f1 = f1\n",
    "score = score.append({'model_name' : 'RandomForestClassifier', 'f1': best_f1, 'accuracy': best_accuracy,'auc_roc':best_auc_roc},\n",
    "                              ignore_index=True)\n",
    "score"
   ]
  },
  {
   "cell_type": "code",
   "execution_count": 22,
   "metadata": {},
   "outputs": [
    {
     "data": {
      "text/html": [
       "<div>\n",
       "<style scoped>\n",
       "    .dataframe tbody tr th:only-of-type {\n",
       "        vertical-align: middle;\n",
       "    }\n",
       "\n",
       "    .dataframe tbody tr th {\n",
       "        vertical-align: top;\n",
       "    }\n",
       "\n",
       "    .dataframe thead th {\n",
       "        text-align: right;\n",
       "    }\n",
       "</style>\n",
       "<table border=\"1\" class=\"dataframe\">\n",
       "  <thead>\n",
       "    <tr style=\"text-align: right;\">\n",
       "      <th></th>\n",
       "      <th>model_name</th>\n",
       "      <th>f1</th>\n",
       "      <th>accuracy</th>\n",
       "      <th>auc_roc</th>\n",
       "    </tr>\n",
       "  </thead>\n",
       "  <tbody>\n",
       "    <tr>\n",
       "      <th>0</th>\n",
       "      <td>LogisticRegression</td>\n",
       "      <td>0.333895</td>\n",
       "      <td>0.8025</td>\n",
       "      <td>0.758632</td>\n",
       "    </tr>\n",
       "    <tr>\n",
       "      <th>1</th>\n",
       "      <td>DecisionTreeClassifier</td>\n",
       "      <td>0.333895</td>\n",
       "      <td>0.7910</td>\n",
       "      <td>0.690880</td>\n",
       "    </tr>\n",
       "    <tr>\n",
       "      <th>2</th>\n",
       "      <td>RandomForestClassifier</td>\n",
       "      <td>0.598519</td>\n",
       "      <td>0.8645</td>\n",
       "      <td>0.829207</td>\n",
       "    </tr>\n",
       "  </tbody>\n",
       "</table>\n",
       "</div>"
      ],
      "text/plain": [
       "               model_name        f1  accuracy   auc_roc\n",
       "0      LogisticRegression  0.333895    0.8025  0.758632\n",
       "1  DecisionTreeClassifier  0.333895    0.7910  0.690880\n",
       "2  RandomForestClassifier  0.598519    0.8645  0.829207"
      ]
     },
     "execution_count": 22,
     "metadata": {},
     "output_type": "execute_result"
    },
    {
     "data": {
      "image/png": "[encoded data removed]",
      "text/plain": [
       "<Figure size 864x504 with 1 Axes>"
      ]
     },
     "metadata": {
      "needs_background": "light"
     },
     "output_type": "display_data"
    }
   ],
   "source": [
    "score.plot(x='model_name', kind='bar', figsize=(12,7), fontsize=14, grid=True, title='Сравнение метрик моделей' )\n",
    "plt.xticks(rotation=0)\n",
    "score"
   ]
  },
  {
   "cell_type": "markdown",
   "metadata": {},
   "source": [
    "Значение метрики f1 оставляет желать лучшего, а вот значение accuracy подозрительно высоко, такое возможно при дисбалансе классов, проверим."
   ]
  },
  {
   "cell_type": "code",
   "execution_count": 23,
   "metadata": {},
   "outputs": [
    {
     "name": "stdout",
     "output_type": "stream",
     "text": [
      "0    0.7963\n",
      "1    0.2037\n",
      "Name: exited, dtype: float64\n"
     ]
    },
    {
     "data": {
      "text/plain": [
       "<AxesSubplot:>"
      ]
     },
     "execution_count": 23,
     "metadata": {},
     "output_type": "execute_result"
    },
    {
     "data": {
      "image/png": "[encoded data removed]",
      "text/plain": [
       "<Figure size 432x288 with 1 Axes>"
      ]
     },
     "metadata": {
      "needs_background": "light"
     },
     "output_type": "display_data"
    }
   ],
   "source": [
    "ballans = data_ohe['exited'].value_counts(normalize=True)\n",
    "print(ballans)\n",
    "ballans.plot(kind='bar')"
   ]
  },
  {
   "cell_type": "markdown",
   "metadata": {},
   "source": [
    "Заметна явная диспропорция в значениях, то есть такая высокая точность может быть достигнута и константной моделью. Будем исправлять. работать будем работать с моделью случайный лес, ее результаты лучше всех."
   ]
  },
  {
   "cell_type": "markdown",
   "metadata": {},
   "source": [
    "## Борьба с дисбалансом"
   ]
  },
  {
   "cell_type": "markdown",
   "metadata": {},
   "source": [
    "**Попробуем два варианта решение проблемы**\n",
    "* Взвешивание классов\n",
    "* Увиличение выборки"
   ]
  },
  {
   "cell_type": "code",
   "execution_count": 24,
   "metadata": {},
   "outputs": [
    {
     "name": "stdout",
     "output_type": "stream",
     "text": [
      "0.6248671625929862 0.8235 0.848422595104011\n"
     ]
    }
   ],
   "source": [
    "score_one = pd.DataFrame(columns=['Метод', 'f1', 'accuracy'])\n",
    "best_model_rfc = None\n",
    "best_accuracy = 0\n",
    "best_f1 = 0\n",
    "best_auc_roc = 0\n",
    "for criterion in ['gini', 'entropy']:\n",
    "    for max_features in ['sqrt', 'log2']:\n",
    "        for n_estimators in range(5,15):\n",
    "            for max_depth in range(5,15):\n",
    "                model = RandomForestClassifier(random_state=random_state, criterion=criterion,\n",
    "                                    max_features=max_features, max_depth=max_depth, n_estimators=n_estimators,class_weight='balanced')\n",
    "                model.fit(features_train,target_train)\n",
    "                predicted = model.predict(features_valid)\n",
    "                f1 = f1_score(target_valid, predicted) \n",
    "                if f1 > best_f1:\n",
    "                    best_model_rfc = model\n",
    "                    probabilities = model.predict_proba(features_valid)\n",
    "                    probabilities_one =  probabilities[:, 1]\n",
    "                    best_auc_roc = roc_auc_score(target_valid,probabilities_one)\n",
    "                    best_accuracy = model.score(features_valid,target_valid)\n",
    "                    best_f1 = f1\n",
    "score_one = score_one.append({'Метод' : 'Взвешивание классов', 'f1': best_f1, 'accuracy': best_accuracy},\n",
    "                              ignore_index=True)\n",
    "print(best_f1,best_accuracy,best_auc_roc)"
   ]
  },
  {
   "cell_type": "markdown",
   "metadata": {},
   "source": [
    "Accuracy неожиданно упала, а вот f1 стала лучше."
   ]
  },
  {
   "cell_type": "code",
   "execution_count": 25,
   "metadata": {},
   "outputs": [],
   "source": [
    "def upsample(features, target, repeat):\n",
    "    features_zeros = features[target == 0]\n",
    "    features_ones = features[target == 1]\n",
    "    target_zeros = target[target == 0]\n",
    "    target_ones = target[target == 1]\n",
    "\n",
    "    features_upsampled = pd.concat([features_zeros] + [features_ones] * repeat)\n",
    "    target_upsampled = pd.concat([target_zeros] + [target_ones] * repeat)\n",
    "    \n",
    "    features_upsampled, target_upsampled = shuffle(\n",
    "        features_upsampled, target_upsampled, random_state=12345)\n",
    "    \n",
    "    return features_upsampled, target_upsampled\n"
   ]
  },
  {
   "cell_type": "code",
   "execution_count": 26,
   "metadata": {},
   "outputs": [
    {
     "data": {
      "text/plain": [
       "0    0.501043\n",
       "1    0.498957\n",
       "Name: exited, dtype: float64"
      ]
     },
     "execution_count": 26,
     "metadata": {},
     "output_type": "execute_result"
    }
   ],
   "source": [
    "features_upsampled, target_upsampled = upsample(features_train, target_train, 4)\n",
    "target_upsampled.value_counts(normalize=True)"
   ]
  },
  {
   "cell_type": "code",
   "execution_count": 27,
   "metadata": {},
   "outputs": [
    {
     "name": "stdout",
     "output_type": "stream",
     "text": [
      "0.625 0.841 0.841746865151616\n"
     ]
    }
   ],
   "source": [
    "best_model_rfc = None\n",
    "best_accuracy = 0\n",
    "best_f1 = 0\n",
    "best_auc_roc = 0\n",
    "for criterion in ['gini', 'entropy']:\n",
    "    for max_features in ['sqrt', 'log2']:\n",
    "        for n_estimators in range(5,15):\n",
    "            for max_depth in range(5,15):\n",
    "                model = RandomForestClassifier(random_state=random_state, criterion=criterion,\n",
    "                                    max_features=max_features, max_depth=max_depth, n_estimators=n_estimators)\n",
    "                model.fit(features_upsampled,target_upsampled)\n",
    "                predicted = model.predict(features_valid)\n",
    "                f1 = f1_score(target_valid, predicted) \n",
    "                if f1 > best_f1:\n",
    "                    best_model_rfc = model\n",
    "                    probabilities = model.predict_proba(features_valid)\n",
    "                    probabilities_one =  probabilities[:, 1]\n",
    "                    best_auc_roc = roc_auc_score(target_valid,probabilities_one)\n",
    "                    best_accuracy = model.score(features_valid,target_valid)\n",
    "                    best_f1 = f1\n",
    "score = score.append({'model_name' : 'RandomForestClassifier', 'f1': best_f1, 'accuracy': best_accuracy},\n",
    "                              ignore_index=True)\n",
    "print(best_f1,best_accuracy,best_auc_roc)"
   ]
  },
  {
   "cell_type": "markdown",
   "metadata": {},
   "source": [
    "Данный способ порадовал, так и оставим, приступаем к тестированию модели"
   ]
  },
  {
   "cell_type": "markdown",
   "metadata": {},
   "source": [
    "## Тестирование модели"
   ]
  },
  {
   "cell_type": "code",
   "execution_count": 28,
   "metadata": {},
   "outputs": [
    {
     "data": {
      "text/html": [
       "<div>\n",
       "<style scoped>\n",
       "    .dataframe tbody tr th:only-of-type {\n",
       "        vertical-align: middle;\n",
       "    }\n",
       "\n",
       "    .dataframe tbody tr th {\n",
       "        vertical-align: top;\n",
       "    }\n",
       "\n",
       "    .dataframe thead th {\n",
       "        text-align: right;\n",
       "    }\n",
       "</style>\n",
       "<table border=\"1\" class=\"dataframe\">\n",
       "  <thead>\n",
       "    <tr style=\"text-align: right;\">\n",
       "      <th></th>\n",
       "      <th>f1</th>\n",
       "      <th>accuracy</th>\n",
       "      <th>auc_roc</th>\n",
       "    </tr>\n",
       "  </thead>\n",
       "  <tbody>\n",
       "    <tr>\n",
       "      <th>0</th>\n",
       "      <td>0.625</td>\n",
       "      <td>0.8325</td>\n",
       "      <td>0.835073</td>\n",
       "    </tr>\n",
       "  </tbody>\n",
       "</table>\n",
       "</div>"
      ],
      "text/plain": [
       "      f1  accuracy   auc_roc\n",
       "0  0.625    0.8325  0.835073"
      ]
     },
     "execution_count": 28,
     "metadata": {},
     "output_type": "execute_result"
    },
    {
     "data": {
      "image/png": "[encoded data removed]",
      "text/plain": [
       "<Figure size 864x648 with 1 Axes>"
      ]
     },
     "metadata": {
      "needs_background": "light"
     },
     "output_type": "display_data"
    }
   ],
   "source": [
    "predicted_test = best_model_rfc.predict(features_test)\n",
    "f1_test = f1_score(target_test, predicted_test)\n",
    "probabilities_test = best_model_rfc.predict_proba(features_test)\n",
    "probabilities_one_test = probabilities_test[:, 1]\n",
    "\n",
    "auc_roc = roc_auc_score(target_test,probabilities_one_test)\n",
    "accuracy_test = best_model_rfc.score(features_test,target_test)\n",
    "score = pd.DataFrame(columns=['f1', 'accuracy','auc_roc'])\n",
    "score = score.append({'f1': best_f1, 'accuracy': accuracy_test, 'auc_roc':auc_roc},\n",
    "                              ignore_index=True)\n",
    "score.plot(kind='bar',title='Сравнение метрик модели',figsize=(12,9))\n",
    "score"
   ]
  },
  {
   "cell_type": "markdown",
   "metadata": {},
   "source": [
    "Значения метрик говорят о успешном выборе модели и обработке данных."
   ]
  },
  {
   "cell_type": "markdown",
   "metadata": {},
   "source": [
    "**Краткий вывод**\n",
    "* Предобработали данные, данные были получены сразу без особых нареканий с небольшим кол-ом пропусков\n",
    "* Разобрались с категориальными признаками\n",
    "* Выбрали модель случайный лес, т.к. у нее наи лучшие показатели\n",
    "* Повысили точность и качество модели, посредством перебора гиперпараметров и устранения дисбаланса \n",
    "* На самом деле случаный лес, паказал хорошие результаты даже с дисболансом в классах "
   ]
  }
 ],
 "metadata": {
  "ExecuteTimeLog": [
   {
    "duration": 1424,
    "start_time": "2023-04-04T21:23:53.639Z"
   },
   {
    "duration": 77,
    "start_time": "2023-04-04T21:23:55.064Z"
   },
   {
    "duration": 44,
    "start_time": "2023-04-04T21:24:47.882Z"
   },
   {
    "duration": 56,
    "start_time": "2023-04-04T21:25:02.197Z"
   },
   {
    "duration": 94,
    "start_time": "2023-04-04T21:39:38.110Z"
   },
   {
    "duration": 9,
    "start_time": "2023-04-04T21:40:07.094Z"
   },
   {
    "duration": 10,
    "start_time": "2023-04-04T21:40:21.349Z"
   },
   {
    "duration": 8,
    "start_time": "2023-04-04T21:41:31.150Z"
   },
   {
    "duration": 19,
    "start_time": "2023-04-04T21:41:37.440Z"
   },
   {
    "duration": 13,
    "start_time": "2023-04-04T21:46:15.297Z"
   },
   {
    "duration": 4,
    "start_time": "2023-04-04T21:49:20.095Z"
   },
   {
    "duration": 54,
    "start_time": "2023-04-04T21:49:21.241Z"
   },
   {
    "duration": 3,
    "start_time": "2023-04-04T21:49:22.168Z"
   },
   {
    "duration": 18,
    "start_time": "2023-04-04T21:49:23.213Z"
   },
   {
    "duration": 4,
    "start_time": "2023-04-04T21:50:17.957Z"
   },
   {
    "duration": 6,
    "start_time": "2023-04-04T21:50:21.534Z"
   },
   {
    "duration": 15,
    "start_time": "2023-04-04T21:51:44.740Z"
   },
   {
    "duration": 3,
    "start_time": "2023-04-04T21:52:33.627Z"
   },
   {
    "duration": 56,
    "start_time": "2023-04-04T21:52:34.502Z"
   },
   {
    "duration": 3,
    "start_time": "2023-04-04T21:52:37.159Z"
   },
   {
    "duration": 18,
    "start_time": "2023-04-04T21:52:38.376Z"
   },
   {
    "duration": 4,
    "start_time": "2023-04-04T21:52:58.436Z"
   },
   {
    "duration": 14,
    "start_time": "2023-04-04T21:54:32.516Z"
   },
   {
    "duration": 3,
    "start_time": "2023-04-04T21:54:40.409Z"
   },
   {
    "duration": 55,
    "start_time": "2023-04-04T21:54:40.769Z"
   },
   {
    "duration": 4,
    "start_time": "2023-04-04T21:54:41.525Z"
   },
   {
    "duration": 21,
    "start_time": "2023-04-04T21:54:42.261Z"
   },
   {
    "duration": 4,
    "start_time": "2023-04-04T21:54:43.637Z"
   },
   {
    "duration": 5,
    "start_time": "2023-04-04T21:54:44.723Z"
   },
   {
    "duration": 39,
    "start_time": "2023-04-04T21:55:38.698Z"
   },
   {
    "duration": 10,
    "start_time": "2023-04-04T21:55:39.819Z"
   },
   {
    "duration": 8,
    "start_time": "2023-04-04T21:56:51.341Z"
   },
   {
    "duration": 9,
    "start_time": "2023-04-04T21:58:41.559Z"
   },
   {
    "duration": 11,
    "start_time": "2023-04-04T21:58:48.924Z"
   },
   {
    "duration": 11,
    "start_time": "2023-04-04T21:58:55.177Z"
   },
   {
    "duration": 10,
    "start_time": "2023-04-04T21:58:57.055Z"
   },
   {
    "duration": 11,
    "start_time": "2023-04-04T21:59:09.301Z"
   },
   {
    "duration": 11,
    "start_time": "2023-04-04T21:59:36.080Z"
   },
   {
    "duration": 2,
    "start_time": "2023-04-04T22:08:35.352Z"
   },
   {
    "duration": 10,
    "start_time": "2023-04-04T22:08:35.849Z"
   },
   {
    "duration": 4,
    "start_time": "2023-04-04T22:09:10.552Z"
   },
   {
    "duration": 54,
    "start_time": "2023-04-04T22:11:11.633Z"
   },
   {
    "duration": 28,
    "start_time": "2023-04-04T22:12:34.112Z"
   },
   {
    "duration": 32,
    "start_time": "2023-04-04T22:12:52.471Z"
   },
   {
    "duration": 21,
    "start_time": "2023-04-04T22:13:36.848Z"
   },
   {
    "duration": 22,
    "start_time": "2023-04-04T22:13:39.501Z"
   },
   {
    "duration": 185,
    "start_time": "2023-04-05T16:13:25.259Z"
   },
   {
    "duration": 2128,
    "start_time": "2023-04-05T16:17:53.702Z"
   },
   {
    "duration": 233,
    "start_time": "2023-04-05T16:17:55.832Z"
   },
   {
    "duration": 4,
    "start_time": "2023-04-05T16:17:56.067Z"
   },
   {
    "duration": 60,
    "start_time": "2023-04-05T16:17:56.088Z"
   },
   {
    "duration": 12,
    "start_time": "2023-04-05T16:17:56.150Z"
   },
   {
    "duration": 69,
    "start_time": "2023-04-05T16:17:56.163Z"
   },
   {
    "duration": 71,
    "start_time": "2023-04-05T16:17:56.235Z"
   },
   {
    "duration": 17,
    "start_time": "2023-04-05T16:17:56.600Z"
   },
   {
    "duration": 38,
    "start_time": "2023-04-05T16:17:57.067Z"
   },
   {
    "duration": 13,
    "start_time": "2023-04-05T16:17:57.299Z"
   },
   {
    "duration": 11,
    "start_time": "2023-04-05T16:17:57.515Z"
   },
   {
    "duration": 2,
    "start_time": "2023-04-05T16:17:58.003Z"
   },
   {
    "duration": 9,
    "start_time": "2023-04-05T16:17:59.956Z"
   },
   {
    "duration": 4,
    "start_time": "2023-04-05T16:18:00.432Z"
   },
   {
    "duration": 28,
    "start_time": "2023-04-05T16:18:00.903Z"
   },
   {
    "duration": 5,
    "start_time": "2023-04-05T16:18:01.866Z"
   },
   {
    "duration": 171,
    "start_time": "2023-04-05T16:18:03.374Z"
   },
   {
    "duration": 739,
    "start_time": "2023-04-05T16:18:45.972Z"
   },
   {
    "duration": 115,
    "start_time": "2023-04-05T16:20:43.554Z"
   },
   {
    "duration": 99,
    "start_time": "2023-04-05T16:20:55.949Z"
   },
   {
    "duration": 2102,
    "start_time": "2023-04-05T16:21:35.827Z"
   },
   {
    "duration": 25983,
    "start_time": "2023-04-05T16:22:46.622Z"
   },
   {
    "duration": 123,
    "start_time": "2023-04-05T16:23:17.602Z"
   },
   {
    "duration": 25,
    "start_time": "2023-04-05T16:23:24.699Z"
   },
   {
    "duration": 13,
    "start_time": "2023-04-05T16:23:46.138Z"
   },
   {
    "duration": 16,
    "start_time": "2023-04-05T16:23:56.199Z"
   },
   {
    "duration": 12,
    "start_time": "2023-04-05T16:24:33.834Z"
   },
   {
    "duration": 32,
    "start_time": "2023-04-05T16:24:53.049Z"
   },
   {
    "duration": 624,
    "start_time": "2023-04-05T16:25:27.261Z"
   },
   {
    "duration": 563,
    "start_time": "2023-04-05T16:25:45.433Z"
   },
   {
    "duration": 469,
    "start_time": "2023-04-05T16:26:25.736Z"
   },
   {
    "duration": 492,
    "start_time": "2023-04-05T16:26:43.217Z"
   },
   {
    "duration": 1873,
    "start_time": "2023-04-05T16:26:44.221Z"
   },
   {
    "duration": 26197,
    "start_time": "2023-04-05T16:26:46.096Z"
   },
   {
    "duration": 13,
    "start_time": "2023-04-05T16:27:12.295Z"
   },
   {
    "duration": 184,
    "start_time": "2023-04-05T16:27:31.399Z"
   },
   {
    "duration": 2198,
    "start_time": "2023-04-05T16:27:56.499Z"
   },
   {
    "duration": 181,
    "start_time": "2023-04-05T16:28:18.321Z"
   },
   {
    "duration": 2198,
    "start_time": "2023-04-05T16:30:21.765Z"
   },
   {
    "duration": 110,
    "start_time": "2023-04-05T16:30:31.891Z"
   },
   {
    "duration": 167,
    "start_time": "2023-04-05T16:38:38.643Z"
   },
   {
    "duration": 26388,
    "start_time": "2023-04-05T16:40:42.234Z"
   },
   {
    "duration": 119,
    "start_time": "2023-04-05T16:44:08.254Z"
   },
   {
    "duration": 4,
    "start_time": "2023-04-05T16:46:38.458Z"
   },
   {
    "duration": 14,
    "start_time": "2023-04-05T16:46:38.919Z"
   },
   {
    "duration": 29,
    "start_time": "2023-04-05T16:46:52.760Z"
   },
   {
    "duration": 34955,
    "start_time": "2023-04-05T16:46:53.834Z"
   },
   {
    "duration": 87,
    "start_time": "2023-04-05T16:48:10.894Z"
   },
   {
    "duration": 30,
    "start_time": "2023-04-05T16:53:34.490Z"
   },
   {
    "duration": 22,
    "start_time": "2023-04-05T16:53:44.907Z"
   },
   {
    "duration": 24,
    "start_time": "2023-04-05T16:53:52.837Z"
   },
   {
    "duration": 61,
    "start_time": "2023-04-05T16:56:30.141Z"
   },
   {
    "duration": 40,
    "start_time": "2023-04-05T16:56:47.994Z"
   },
   {
    "duration": 40,
    "start_time": "2023-04-05T16:57:29.098Z"
   },
   {
    "duration": 121,
    "start_time": "2023-04-05T16:57:48.400Z"
   },
   {
    "duration": 145,
    "start_time": "2023-04-05T16:59:35.193Z"
   },
   {
    "duration": 174,
    "start_time": "2023-04-05T17:00:13.333Z"
   },
   {
    "duration": 181,
    "start_time": "2023-04-05T17:00:34.265Z"
   },
   {
    "duration": 1732,
    "start_time": "2023-04-06T11:57:12.337Z"
   },
   {
    "duration": 124,
    "start_time": "2023-04-06T11:57:14.072Z"
   },
   {
    "duration": 3,
    "start_time": "2023-04-06T11:57:14.198Z"
   },
   {
    "duration": 31,
    "start_time": "2023-04-06T11:57:14.203Z"
   },
   {
    "duration": 5,
    "start_time": "2023-04-06T11:57:14.237Z"
   },
   {
    "duration": 9,
    "start_time": "2023-04-06T11:57:14.243Z"
   },
   {
    "duration": 42,
    "start_time": "2023-04-06T11:57:14.254Z"
   },
   {
    "duration": 11,
    "start_time": "2023-04-06T11:57:14.297Z"
   },
   {
    "duration": 12,
    "start_time": "2023-04-06T11:57:14.309Z"
   },
   {
    "duration": 40,
    "start_time": "2023-04-06T11:57:14.323Z"
   },
   {
    "duration": 12,
    "start_time": "2023-04-06T11:57:14.364Z"
   },
   {
    "duration": 8,
    "start_time": "2023-04-06T11:57:14.378Z"
   },
   {
    "duration": 13,
    "start_time": "2023-04-06T11:57:14.388Z"
   },
   {
    "duration": 4,
    "start_time": "2023-04-06T11:57:14.404Z"
   },
   {
    "duration": 56,
    "start_time": "2023-04-06T11:57:14.409Z"
   },
   {
    "duration": 5,
    "start_time": "2023-04-06T11:57:14.467Z"
   },
   {
    "duration": 689,
    "start_time": "2023-04-06T11:57:14.474Z"
   },
   {
    "duration": 1953,
    "start_time": "2023-04-06T11:57:15.165Z"
   },
   {
    "duration": 26162,
    "start_time": "2023-04-06T11:57:17.119Z"
   },
   {
    "duration": 188,
    "start_time": "2023-04-06T11:57:43.283Z"
   },
   {
    "duration": 197,
    "start_time": "2023-04-06T11:57:43.472Z"
   },
   {
    "duration": 25985,
    "start_time": "2023-04-06T11:57:43.671Z"
   },
   {
    "duration": 4,
    "start_time": "2023-04-06T11:58:09.658Z"
   },
   {
    "duration": 20,
    "start_time": "2023-04-06T11:58:09.664Z"
   },
   {
    "duration": 33797,
    "start_time": "2023-04-06T11:58:09.686Z"
   },
   {
    "duration": 212,
    "start_time": "2023-04-06T11:58:43.484Z"
   },
   {
    "duration": 13,
    "start_time": "2023-04-06T12:24:53.086Z"
   },
   {
    "duration": 6,
    "start_time": "2023-04-06T12:34:46.415Z"
   },
   {
    "duration": 4,
    "start_time": "2023-04-06T12:35:14.890Z"
   },
   {
    "duration": 3,
    "start_time": "2023-04-06T12:35:18.973Z"
   },
   {
    "duration": 173,
    "start_time": "2023-04-06T12:37:44.036Z"
   },
   {
    "duration": 212,
    "start_time": "2023-04-06T12:37:57.668Z"
   },
   {
    "duration": 5,
    "start_time": "2023-04-06T12:38:39.598Z"
   },
   {
    "duration": 1508,
    "start_time": "2023-04-06T17:15:44.073Z"
   },
   {
    "duration": 207,
    "start_time": "2023-04-06T17:15:45.838Z"
   },
   {
    "duration": 56,
    "start_time": "2023-04-06T17:15:55.370Z"
   },
   {
    "duration": 106,
    "start_time": "2023-04-06T17:17:37.079Z"
   },
   {
    "duration": 4,
    "start_time": "2023-04-06T17:17:42.897Z"
   },
   {
    "duration": 62,
    "start_time": "2023-04-06T17:17:43.406Z"
   },
   {
    "duration": 3,
    "start_time": "2023-04-06T17:17:44.943Z"
   },
   {
    "duration": 18,
    "start_time": "2023-04-06T17:17:46.039Z"
   },
   {
    "duration": 4,
    "start_time": "2023-04-06T17:17:49.097Z"
   },
   {
    "duration": 4,
    "start_time": "2023-04-06T17:17:50.161Z"
   },
   {
    "duration": 33,
    "start_time": "2023-04-06T17:17:51.295Z"
   },
   {
    "duration": 10,
    "start_time": "2023-04-06T17:17:52.792Z"
   },
   {
    "duration": 9,
    "start_time": "2023-04-06T17:17:55.036Z"
   },
   {
    "duration": 9,
    "start_time": "2023-04-06T17:18:14.936Z"
   },
   {
    "duration": 5,
    "start_time": "2023-04-06T17:21:00.177Z"
   },
   {
    "duration": 4,
    "start_time": "2023-04-06T17:28:14.588Z"
   },
   {
    "duration": 3,
    "start_time": "2023-04-06T17:28:14.786Z"
   },
   {
    "duration": 53,
    "start_time": "2023-04-06T17:28:15.192Z"
   },
   {
    "duration": 4,
    "start_time": "2023-04-06T17:28:16.286Z"
   },
   {
    "duration": 17,
    "start_time": "2023-04-06T17:28:16.936Z"
   },
   {
    "duration": 5,
    "start_time": "2023-04-06T17:28:17.649Z"
   },
   {
    "duration": 5,
    "start_time": "2023-04-06T17:28:18.333Z"
   },
   {
    "duration": 31,
    "start_time": "2023-04-06T17:28:19.031Z"
   },
   {
    "duration": 9,
    "start_time": "2023-04-06T17:28:19.740Z"
   },
   {
    "duration": 6,
    "start_time": "2023-04-06T17:28:20.586Z"
   },
   {
    "duration": 9,
    "start_time": "2023-04-06T17:28:20.897Z"
   },
   {
    "duration": 9,
    "start_time": "2023-04-06T17:28:21.439Z"
   },
   {
    "duration": 12,
    "start_time": "2023-04-06T17:28:21.859Z"
   },
   {
    "duration": 2,
    "start_time": "2023-04-06T17:28:22.552Z"
   },
   {
    "duration": 12,
    "start_time": "2023-04-06T17:28:23.091Z"
   },
   {
    "duration": 3,
    "start_time": "2023-04-06T17:28:23.534Z"
   },
   {
    "duration": 23,
    "start_time": "2023-04-06T17:28:24.527Z"
   },
   {
    "duration": 5,
    "start_time": "2023-04-06T17:28:31.545Z"
   },
   {
    "duration": 10,
    "start_time": "2023-04-06T17:28:32.497Z"
   },
   {
    "duration": 112,
    "start_time": "2023-04-06T17:28:44.287Z"
   },
   {
    "duration": 46,
    "start_time": "2023-04-06T17:29:12.027Z"
   },
   {
    "duration": 78,
    "start_time": "2023-04-06T17:29:25.002Z"
   },
   {
    "duration": 587,
    "start_time": "2023-04-06T17:29:39.803Z"
   },
   {
    "duration": 10,
    "start_time": "2023-04-06T17:30:07.561Z"
   },
   {
    "duration": 4199,
    "start_time": "2023-04-06T17:31:40.078Z"
   },
   {
    "duration": 1968,
    "start_time": "2023-04-06T17:34:32.338Z"
   },
   {
    "duration": 24277,
    "start_time": "2023-04-06T17:34:34.359Z"
   },
   {
    "duration": 199,
    "start_time": "2023-04-06T17:34:58.637Z"
   },
   {
    "duration": 164,
    "start_time": "2023-04-06T17:34:58.837Z"
   },
   {
    "duration": 23704,
    "start_time": "2023-04-06T17:35:23.824Z"
   },
   {
    "duration": 177,
    "start_time": "2023-04-06T17:35:47.529Z"
   },
   {
    "duration": 116,
    "start_time": "2023-04-06T17:35:47.708Z"
   },
   {
    "duration": 24614,
    "start_time": "2023-04-06T17:35:47.827Z"
   },
   {
    "duration": 4,
    "start_time": "2023-04-06T17:36:12.442Z"
   },
   {
    "duration": 19,
    "start_time": "2023-04-06T17:36:12.448Z"
   },
   {
    "duration": 4,
    "start_time": "2023-04-06T17:37:15.683Z"
   },
   {
    "duration": 19,
    "start_time": "2023-04-06T17:37:15.689Z"
   },
   {
    "duration": 70,
    "start_time": "2023-04-06T17:37:15.710Z"
   },
   {
    "duration": 3,
    "start_time": "2023-04-06T17:37:15.781Z"
   },
   {
    "duration": 31,
    "start_time": "2023-04-06T17:37:15.785Z"
   },
   {
    "duration": 4,
    "start_time": "2023-04-06T17:37:15.819Z"
   },
   {
    "duration": 11,
    "start_time": "2023-04-06T17:37:15.824Z"
   },
   {
    "duration": 39,
    "start_time": "2023-04-06T17:37:15.836Z"
   },
   {
    "duration": 7,
    "start_time": "2023-04-06T17:37:15.877Z"
   },
   {
    "duration": 4,
    "start_time": "2023-04-06T17:37:15.886Z"
   },
   {
    "duration": 17,
    "start_time": "2023-04-06T17:37:15.891Z"
   },
   {
    "duration": 25,
    "start_time": "2023-04-06T17:37:15.910Z"
   },
   {
    "duration": 22,
    "start_time": "2023-04-06T17:37:15.937Z"
   },
   {
    "duration": 17,
    "start_time": "2023-04-06T17:37:15.962Z"
   },
   {
    "duration": 18,
    "start_time": "2023-04-06T17:37:15.981Z"
   },
   {
    "duration": 8,
    "start_time": "2023-04-06T17:37:16.001Z"
   },
   {
    "duration": 34,
    "start_time": "2023-04-06T17:37:16.011Z"
   },
   {
    "duration": 5,
    "start_time": "2023-04-06T17:37:16.048Z"
   },
   {
    "duration": 817,
    "start_time": "2023-04-06T17:37:16.054Z"
   },
   {
    "duration": 2057,
    "start_time": "2023-04-06T17:37:16.873Z"
   },
   {
    "duration": 24094,
    "start_time": "2023-04-06T17:37:18.932Z"
   },
   {
    "duration": 165,
    "start_time": "2023-04-06T17:37:43.028Z"
   },
   {
    "duration": 106,
    "start_time": "2023-04-06T17:37:43.195Z"
   },
   {
    "duration": 25854,
    "start_time": "2023-04-06T17:37:43.303Z"
   },
   {
    "duration": 5,
    "start_time": "2023-04-06T17:38:09.158Z"
   },
   {
    "duration": 23,
    "start_time": "2023-04-06T17:38:09.172Z"
   },
   {
    "duration": 31898,
    "start_time": "2023-04-06T17:38:09.197Z"
   },
   {
    "duration": 177,
    "start_time": "2023-04-06T17:38:41.096Z"
   },
   {
    "duration": 1755,
    "start_time": "2023-04-07T10:18:00.263Z"
   },
   {
    "duration": 3,
    "start_time": "2023-04-07T10:18:02.021Z"
   },
   {
    "duration": 149,
    "start_time": "2023-04-07T10:18:02.025Z"
   },
   {
    "duration": 3,
    "start_time": "2023-04-07T10:18:02.176Z"
   },
   {
    "duration": 34,
    "start_time": "2023-04-07T10:18:02.181Z"
   },
   {
    "duration": 17,
    "start_time": "2023-04-07T10:18:02.217Z"
   },
   {
    "duration": 23,
    "start_time": "2023-04-07T10:18:02.236Z"
   },
   {
    "duration": 51,
    "start_time": "2023-04-07T10:18:02.261Z"
   },
   {
    "duration": 8,
    "start_time": "2023-04-07T10:18:02.314Z"
   },
   {
    "duration": 9,
    "start_time": "2023-04-07T10:18:02.324Z"
   },
   {
    "duration": 29,
    "start_time": "2023-04-07T10:18:02.334Z"
   },
   {
    "duration": 23,
    "start_time": "2023-04-07T10:18:02.365Z"
   },
   {
    "duration": 25,
    "start_time": "2023-04-07T10:18:02.390Z"
   },
   {
    "duration": 8,
    "start_time": "2023-04-07T10:18:02.418Z"
   },
   {
    "duration": 45,
    "start_time": "2023-04-07T10:18:02.428Z"
   },
   {
    "duration": 14,
    "start_time": "2023-04-07T10:18:02.475Z"
   },
   {
    "duration": 50,
    "start_time": "2023-04-07T10:18:02.491Z"
   },
   {
    "duration": 4,
    "start_time": "2023-04-07T10:18:02.544Z"
   },
   {
    "duration": 992,
    "start_time": "2023-04-07T10:18:02.550Z"
   },
   {
    "duration": 2048,
    "start_time": "2023-04-07T10:18:03.544Z"
   },
   {
    "duration": 24812,
    "start_time": "2023-04-07T10:18:05.593Z"
   },
   {
    "duration": 197,
    "start_time": "2023-04-07T10:18:30.406Z"
   },
   {
    "duration": 194,
    "start_time": "2023-04-07T10:18:30.604Z"
   },
   {
    "duration": 24823,
    "start_time": "2023-04-07T10:18:30.800Z"
   },
   {
    "duration": 4,
    "start_time": "2023-04-07T10:18:55.625Z"
   },
   {
    "duration": 19,
    "start_time": "2023-04-07T10:18:55.630Z"
   },
   {
    "duration": 32464,
    "start_time": "2023-04-07T10:18:55.651Z"
   },
   {
    "duration": 200,
    "start_time": "2023-04-07T10:19:28.117Z"
   },
   {
    "duration": 79,
    "start_time": "2023-04-07T16:01:43.178Z"
   },
   {
    "duration": 1893,
    "start_time": "2023-04-07T16:01:48.630Z"
   },
   {
    "duration": 7,
    "start_time": "2023-04-07T16:01:57.164Z"
   },
   {
    "duration": 112,
    "start_time": "2023-04-07T16:01:57.567Z"
   },
   {
    "duration": 3,
    "start_time": "2023-04-07T16:01:58.816Z"
   },
   {
    "duration": 28,
    "start_time": "2023-04-07T16:01:59.462Z"
   },
   {
    "duration": 8,
    "start_time": "2023-04-07T16:02:00.107Z"
   },
   {
    "duration": 7,
    "start_time": "2023-04-07T16:02:00.777Z"
   },
   {
    "duration": 65,
    "start_time": "2023-04-07T16:02:01.425Z"
   },
   {
    "duration": 12,
    "start_time": "2023-04-07T16:02:01.874Z"
   },
   {
    "duration": 6,
    "start_time": "2023-04-07T16:02:02.479Z"
   },
   {
    "duration": 11,
    "start_time": "2023-04-07T16:02:02.687Z"
   },
   {
    "duration": 13,
    "start_time": "2023-04-07T16:02:03.115Z"
   },
   {
    "duration": 11,
    "start_time": "2023-04-07T16:02:03.319Z"
   },
   {
    "duration": 3,
    "start_time": "2023-04-07T16:02:03.741Z"
   },
   {
    "duration": 13,
    "start_time": "2023-04-07T16:02:04.912Z"
   },
   {
    "duration": 4,
    "start_time": "2023-04-07T16:02:05.320Z"
   },
   {
    "duration": 28,
    "start_time": "2023-04-07T16:02:05.928Z"
   },
   {
    "duration": 8,
    "start_time": "2023-04-07T16:02:07.167Z"
   },
   {
    "duration": 598,
    "start_time": "2023-04-07T16:02:07.376Z"
   },
   {
    "duration": 2138,
    "start_time": "2023-04-07T16:02:08.064Z"
   },
   {
    "duration": 27120,
    "start_time": "2023-04-07T16:02:10.204Z"
   },
   {
    "duration": 252,
    "start_time": "2023-04-07T16:02:37.326Z"
   },
   {
    "duration": 198,
    "start_time": "2023-04-07T16:02:37.582Z"
   },
   {
    "duration": 27464,
    "start_time": "2023-04-07T16:03:05.020Z"
   },
   {
    "duration": 4,
    "start_time": "2023-04-07T16:03:32.486Z"
   },
   {
    "duration": 27,
    "start_time": "2023-04-07T16:03:32.491Z"
   },
   {
    "duration": 34938,
    "start_time": "2023-04-07T16:03:32.519Z"
   },
   {
    "duration": 216,
    "start_time": "2023-04-07T16:04:07.459Z"
   },
   {
    "duration": 1712,
    "start_time": "2023-04-08T10:05:46.605Z"
   },
   {
    "duration": 2,
    "start_time": "2023-04-08T10:05:48.319Z"
   },
   {
    "duration": 193,
    "start_time": "2023-04-08T10:05:48.323Z"
   },
   {
    "duration": 4,
    "start_time": "2023-04-08T10:05:48.518Z"
   },
   {
    "duration": 32,
    "start_time": "2023-04-08T10:05:48.524Z"
   },
   {
    "duration": 24,
    "start_time": "2023-04-08T10:05:48.558Z"
   },
   {
    "duration": 8,
    "start_time": "2023-04-08T10:05:48.583Z"
   },
   {
    "duration": 37,
    "start_time": "2023-04-08T10:05:48.592Z"
   },
   {
    "duration": 9,
    "start_time": "2023-04-08T10:05:48.630Z"
   },
   {
    "duration": 4,
    "start_time": "2023-04-08T10:05:48.642Z"
   },
   {
    "duration": 19,
    "start_time": "2023-04-08T10:05:48.648Z"
   },
   {
    "duration": 12,
    "start_time": "2023-04-08T10:05:48.686Z"
   },
   {
    "duration": 19,
    "start_time": "2023-04-08T10:05:48.699Z"
   },
   {
    "duration": 3,
    "start_time": "2023-04-08T10:05:48.720Z"
   },
   {
    "duration": 18,
    "start_time": "2023-04-08T10:05:48.725Z"
   },
   {
    "duration": 18,
    "start_time": "2023-04-08T10:05:48.746Z"
   },
   {
    "duration": 42,
    "start_time": "2023-04-08T10:05:48.766Z"
   },
   {
    "duration": 4,
    "start_time": "2023-04-08T10:05:48.810Z"
   },
   {
    "duration": 1074,
    "start_time": "2023-04-08T10:05:48.815Z"
   },
   {
    "duration": 2116,
    "start_time": "2023-04-08T10:05:49.891Z"
   },
   {
    "duration": 24873,
    "start_time": "2023-04-08T10:05:52.009Z"
   },
   {
    "duration": 198,
    "start_time": "2023-04-08T10:06:16.883Z"
   },
   {
    "duration": 192,
    "start_time": "2023-04-08T10:06:17.083Z"
   },
   {
    "duration": 25884,
    "start_time": "2023-04-08T10:06:17.276Z"
   },
   {
    "duration": 4,
    "start_time": "2023-04-08T10:06:43.161Z"
   },
   {
    "duration": 23,
    "start_time": "2023-04-08T10:06:43.167Z"
   },
   {
    "duration": 33663,
    "start_time": "2023-04-08T10:06:43.192Z"
   },
   {
    "duration": 234,
    "start_time": "2023-04-08T10:07:16.859Z"
   }
  ],
  "kernelspec": {
   "display_name": "Python 3 (ipykernel)",
   "language": "python",
   "name": "python3"
  },
  "language_info": {
   "codemirror_mode": {
    "name": "ipython",
    "version": 3
   },
   "file_extension": ".py",
   "mimetype": "text/x-python",
   "name": "python",
   "nbconvert_exporter": "python",
   "pygments_lexer": "ipython3",
   "version": "3.9.5"
  },
  "toc": {
   "base_numbering": 1,
   "nav_menu": {},
   "number_sections": true,
   "sideBar": true,
   "skip_h1_title": true,
   "title_cell": "Содержание",
   "title_sidebar": "Contents",
   "toc_cell": true,
   "toc_position": {
    "height": "calc(100% - 180px)",
    "left": "10px",
    "top": "150px",
    "width": "165px"
   },
   "toc_section_display": true,
   "toc_window_display": true
  }
 },
 "nbformat": 4,
 "nbformat_minor": 2
}
