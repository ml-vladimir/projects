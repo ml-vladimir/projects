{
 "cells": [
  {
   "cell_type": "markdown",
   "metadata": {},
   "source": [
    "# Выбор локации для скважины"
   ]
  },
  {
   "cell_type": "markdown",
   "metadata": {},
   "source": [
    "Допустим, вы работаете в добывающей компании «ГлавРосГосНефть». Нужно решить, где бурить новую скважину.\n",
    "\n",
    "Вам предоставлены пробы нефти в трёх регионах: в каждом 10 000 месторождений, где измерили качество нефти и объём её запасов. Постройте модель машинного обучения, которая поможет определить регион, где добыча принесёт наибольшую прибыль. Проанализируйте возможную прибыль и риски техникой *Bootstrap.*\n",
    "\n",
    "Шаги для выбора локации:\n",
    "\n",
    "- В избранном регионе ищут месторождения, для каждого определяют значения признаков;\n",
    "- Строят модель и оценивают объём запасов;\n",
    "- Выбирают месторождения с самым высокими оценками значений. Количество месторождений зависит от бюджета компании и стоимости разработки одной скважины;\n",
    "- Прибыль равна суммарной прибыли отобранных месторождений."
   ]
  },
  {
   "cell_type": "markdown",
   "metadata": {},
   "source": [
    "## Загрузка и подготовка данных"
   ]
  },
  {
   "cell_type": "code",
   "execution_count": 1,
   "metadata": {
    "scrolled": true
   },
   "outputs": [],
   "source": [
    "import pandas as pd\n",
    "import numpy as np\n",
    "import matplotlib.pyplot as plt\n",
    "import seaborn as sns\n",
    "from tqdm.notebook import trange\n",
    "from sklearn.model_selection import train_test_split\n",
    "from sklearn.metrics import mean_squared_error\n",
    "from sklearn.preprocessing import StandardScaler\n",
    "from sklearn.linear_model import LinearRegression\n",
    "random_state = 12345\n",
    "import warnings"
   ]
  },
  {
   "cell_type": "code",
   "execution_count": 200,
   "metadata": {},
   "outputs": [],
   "source": [
    "warnings.filterwarnings('ignore')"
   ]
  },
  {
   "cell_type": "code",
   "execution_count": 201,
   "metadata": {},
   "outputs": [],
   "source": [
    "data_0 = pd.read_csv('/datasets/geo_data_0.csv')\n",
    "data_1 = pd.read_csv('/datasets/geo_data_1.csv')\n",
    "data_2 = pd.read_csv('/datasets/geo_data_2.csv')"
   ]
  },
  {
   "cell_type": "markdown",
   "metadata": {},
   "source": [
    "Поскольку в работе имеем три дата-сета, для удобства объеденим их в массив(список датафреймов) и будем работать с ним."
   ]
  },
  {
   "cell_type": "code",
   "execution_count": 202,
   "metadata": {},
   "outputs": [],
   "source": [
    "data_list = [data_0, data_1, data_2]"
   ]
  },
  {
   "cell_type": "code",
   "execution_count": 203,
   "metadata": {},
   "outputs": [
    {
     "name": "stdout",
     "output_type": "stream",
     "text": [
      "      id        f0        f1        f2     product\n",
      "0  txEyH  0.705745 -0.497823  1.221170  105.280062\n",
      "1  2acmU  1.334711 -0.340164  4.365080   73.037750\n",
      "2  409Wp  1.022732  0.151990  1.419926   85.265647\n",
      "3  iJLyR -0.032172  0.139033  2.978566  168.620776\n",
      "4  Xdl7t  1.988431  0.155413  4.751769  154.036647\n",
      "      id         f0         f1        f2     product\n",
      "0  kBEdx -15.001348  -8.276000 -0.005876    3.179103\n",
      "1  62mP7  14.272088  -3.475083  0.999183   26.953261\n",
      "2  vyE1P   6.263187  -5.948386  5.001160  134.766305\n",
      "3  KcrkZ -13.081196 -11.506057  4.999415  137.945408\n",
      "4  AHL4O  12.702195  -8.147433  5.004363  134.766305\n",
      "      id        f0        f1        f2     product\n",
      "0  fwXo0 -1.146987  0.963328 -0.828965   27.758673\n",
      "1  WJtFt  0.262778  0.269839 -2.530187   56.069697\n",
      "2  ovLUW  0.194587  0.289035 -5.586433   62.871910\n",
      "3  q6cA6  2.236060 -0.553760  0.930038  114.572842\n",
      "4  WPMUX -0.515993  1.716266  5.899011  149.600746\n"
     ]
    }
   ],
   "source": [
    "for data in data_list:\n",
    "    print(data.head())"
   ]
  },
  {
   "cell_type": "markdown",
   "metadata": {},
   "source": [
    "Признаки f оставим, признак id  нужно будет убрать."
   ]
  },
  {
   "cell_type": "code",
   "execution_count": 204,
   "metadata": {},
   "outputs": [
    {
     "name": "stdout",
     "output_type": "stream",
     "text": [
      "<class 'pandas.core.frame.DataFrame'>\n",
      "RangeIndex: 100000 entries, 0 to 99999\n",
      "Data columns (total 5 columns):\n",
      " #   Column   Non-Null Count   Dtype  \n",
      "---  ------   --------------   -----  \n",
      " 0   id       100000 non-null  object \n",
      " 1   f0       100000 non-null  float64\n",
      " 2   f1       100000 non-null  float64\n",
      " 3   f2       100000 non-null  float64\n",
      " 4   product  100000 non-null  float64\n",
      "dtypes: float64(4), object(1)\n",
      "memory usage: 3.8+ MB\n",
      "None\n",
      "<class 'pandas.core.frame.DataFrame'>\n",
      "RangeIndex: 100000 entries, 0 to 99999\n",
      "Data columns (total 5 columns):\n",
      " #   Column   Non-Null Count   Dtype  \n",
      "---  ------   --------------   -----  \n",
      " 0   id       100000 non-null  object \n",
      " 1   f0       100000 non-null  float64\n",
      " 2   f1       100000 non-null  float64\n",
      " 3   f2       100000 non-null  float64\n",
      " 4   product  100000 non-null  float64\n",
      "dtypes: float64(4), object(1)\n",
      "memory usage: 3.8+ MB\n",
      "None\n",
      "<class 'pandas.core.frame.DataFrame'>\n",
      "RangeIndex: 100000 entries, 0 to 99999\n",
      "Data columns (total 5 columns):\n",
      " #   Column   Non-Null Count   Dtype  \n",
      "---  ------   --------------   -----  \n",
      " 0   id       100000 non-null  object \n",
      " 1   f0       100000 non-null  float64\n",
      " 2   f1       100000 non-null  float64\n",
      " 3   f2       100000 non-null  float64\n",
      " 4   product  100000 non-null  float64\n",
      "dtypes: float64(4), object(1)\n",
      "memory usage: 3.8+ MB\n",
      "None\n"
     ]
    }
   ],
   "source": [
    "for data in data_list:\n",
    "    print(data.info())"
   ]
  },
  {
   "cell_type": "code",
   "execution_count": 205,
   "metadata": {},
   "outputs": [
    {
     "name": "stdout",
     "output_type": "stream",
     "text": [
      "0\n",
      "0\n",
      "0\n"
     ]
    }
   ],
   "source": [
    "for data in data_list:\n",
    "    print(data.duplicated().sum())"
   ]
  },
  {
   "cell_type": "markdown",
   "metadata": {},
   "source": [
    "Пропусков и дупликатов нет, данные чистые."
   ]
  },
  {
   "cell_type": "code",
   "execution_count": 206,
   "metadata": {},
   "outputs": [
    {
     "name": "stdout",
     "output_type": "stream",
     "text": [
      "                  f0             f1             f2        product\n",
      "count  100000.000000  100000.000000  100000.000000  100000.000000\n",
      "mean        0.500419       0.250143       2.502647      92.500000\n",
      "std         0.871832       0.504433       3.248248      44.288691\n",
      "min        -1.408605      -0.848218     -12.088328       0.000000\n",
      "25%        -0.072580      -0.200881       0.287748      56.497507\n",
      "50%         0.502360       0.250252       2.515969      91.849972\n",
      "75%         1.073581       0.700646       4.715088     128.564089\n",
      "max         2.362331       1.343769      16.003790     185.364347\n",
      "                  f0             f1             f2        product\n",
      "count  100000.000000  100000.000000  100000.000000  100000.000000\n",
      "mean        1.141296      -4.796579       2.494541      68.825000\n",
      "std         8.965932       5.119872       1.703572      45.944423\n",
      "min       -31.609576     -26.358598      -0.018144       0.000000\n",
      "25%        -6.298551      -8.267985       1.000021      26.953261\n",
      "50%         1.153055      -4.813172       2.011479      57.085625\n",
      "75%         8.621015      -1.332816       3.999904     107.813044\n",
      "max        29.421755      18.734063       5.019721     137.945408\n",
      "                  f0             f1             f2        product\n",
      "count  100000.000000  100000.000000  100000.000000  100000.000000\n",
      "mean        0.002023      -0.002081       2.495128      95.000000\n",
      "std         1.732045       1.730417       3.473445      44.749921\n",
      "min        -8.760004      -7.084020     -11.970335       0.000000\n",
      "25%        -1.162288      -1.174820       0.130359      59.450441\n",
      "50%         0.009424      -0.009482       2.484236      94.925613\n",
      "75%         1.158535       1.163678       4.858794     130.595027\n",
      "max         7.238262       7.844801      16.739402     190.029838\n"
     ]
    }
   ],
   "source": [
    "for data in data_list:\n",
    "    print(data.describe())"
   ]
  },
  {
   "cell_type": "markdown",
   "metadata": {},
   "source": [
    "В целом притзнаки как будто распределены нормально, но как будто бы будет хорошо их нормализовать."
   ]
  },
  {
   "cell_type": "code",
   "execution_count": 207,
   "metadata": {},
   "outputs": [
    {
     "name": "stdout",
     "output_type": "stream",
     "text": [
      "               f0        f1        f2   product\n",
      "f0       1.000000 -0.440723 -0.003153  0.143536\n",
      "f1      -0.440723  1.000000  0.001724 -0.192356\n",
      "f2      -0.003153  0.001724  1.000000  0.483663\n",
      "product  0.143536 -0.192356  0.483663  1.000000\n",
      "               f0        f1        f2   product\n",
      "f0       1.000000  0.182287 -0.001777 -0.030491\n",
      "f1       0.182287  1.000000 -0.002595 -0.010155\n",
      "f2      -0.001777 -0.002595  1.000000  0.999397\n",
      "product -0.030491 -0.010155  0.999397  1.000000\n",
      "               f0        f1        f2   product\n",
      "f0       1.000000  0.000528 -0.000448 -0.001987\n",
      "f1       0.000528  1.000000  0.000779 -0.001012\n",
      "f2      -0.000448  0.000779  1.000000  0.445871\n",
      "product -0.001987 -0.001012  0.445871  1.000000\n"
     ]
    }
   ],
   "source": [
    "for data in data_list:\n",
    "    print(data.corr())"
   ]
  },
  {
   "cell_type": "markdown",
   "metadata": {},
   "source": [
    "Во втором месторождении наблюдается сильная зависимость от признака f2."
   ]
  },
  {
   "cell_type": "code",
   "execution_count": 208,
   "metadata": {},
   "outputs": [],
   "source": [
    "for i in range(len(data_list)):\n",
    "    data_list[i] = data_list[i].drop(columns=['id'], axis=0)"
   ]
  },
  {
   "cell_type": "markdown",
   "metadata": {},
   "source": [
    "Убрали признак id."
   ]
  },
  {
   "cell_type": "markdown",
   "metadata": {},
   "source": [
    "## Обучение и проверка модели"
   ]
  },
  {
   "cell_type": "markdown",
   "metadata": {},
   "source": [
    "Для удобства напишем функцию разделения на тренировачные и валидационные выборки."
   ]
  },
  {
   "cell_type": "code",
   "execution_count": 209,
   "metadata": {},
   "outputs": [],
   "source": [
    "def split(data): \n",
    "    train, valid = train_test_split(data, test_size=0.25, random_state=random_state)\n",
    "    features_train = train.drop(columns=['product'], axis=0)\n",
    "    target_train = train['product']\n",
    "    features_valid = valid.drop(columns=['product'], axis=0)\n",
    "    target_valid= valid['product']\n",
    "    return features_train, target_train, features_valid , target_valid"
   ]
  },
  {
   "cell_type": "code",
   "execution_count": 210,
   "metadata": {},
   "outputs": [],
   "source": [
    "features_train_0, target_train_0, features_valid_0, target_valid_0 = split(data_list[0])\n",
    "features_train_1, target_train_1, features_valid_1, target_valid_1 = split(data_list[1])\n",
    "features_train_2, target_train_2, features_valid_2, target_valid_2 = split(data_list[2])"
   ]
  },
  {
   "cell_type": "markdown",
   "metadata": {},
   "source": [
    "Как и планировалось нормализуем признаки."
   ]
  },
  {
   "cell_type": "code",
   "execution_count": 211,
   "metadata": {},
   "outputs": [],
   "source": [
    "scaler = StandardScaler()\n",
    "scaler.fit(features_train_0)\n",
    "features_train_0 = scaler.transform(features_train_0)\n",
    "features_valid_0 = scaler.transform(features_valid_0)\n",
    "\n",
    "scaler.fit(features_train_1)\n",
    "features_train_1 = scaler.transform(features_train_1)\n",
    "features_valid_1 = scaler.transform(features_valid_1)\n",
    "\n",
    "scaler.fit(features_train_2)\n",
    "features_train_2 = scaler.transform(features_train_2)\n",
    "features_valid_2 = scaler.transform(features_valid_2)"
   ]
  },
  {
   "cell_type": "markdown",
   "metadata": {},
   "source": [
    "Можем приступать к обучению моделей"
   ]
  },
  {
   "cell_type": "code",
   "execution_count": 212,
   "metadata": {},
   "outputs": [],
   "source": [
    "model = LinearRegression() \n",
    "def results (features_train, target_train, features_valid, target_valid):  \n",
    "    model.fit(features_train, target_train)\n",
    "    predict = pd.Series(model.predict(features_valid), target_valid.index)\n",
    "    mse = mean_squared_error(predict, target_valid)\n",
    "    predict_mean = predict.mean()\n",
    "    rmse = mse ** 0.5\n",
    "    print (\"Предсказанный средний запас:\", predict_mean)\n",
    "    print (\"RMSE:\", rmse)\n",
    "    return predict"
   ]
  },
  {
   "cell_type": "code",
   "execution_count": 213,
   "metadata": {},
   "outputs": [
    {
     "name": "stdout",
     "output_type": "stream",
     "text": [
      "Предсказанный средний запас: 92.59256778438035\n",
      "RMSE: 37.5794217150813\n"
     ]
    }
   ],
   "source": [
    "predict_0 = results(features_train_0, target_train_0, features_valid_0, target_valid_0)"
   ]
  },
  {
   "cell_type": "code",
   "execution_count": 214,
   "metadata": {},
   "outputs": [
    {
     "name": "stdout",
     "output_type": "stream",
     "text": [
      "Предсказанный средний запас: 68.728546895446\n",
      "RMSE: 0.893099286775617\n"
     ]
    }
   ],
   "source": [
    "predict_1 = results(features_train_1, target_train_1, features_valid_1, target_valid_1)"
   ]
  },
  {
   "cell_type": "code",
   "execution_count": 215,
   "metadata": {},
   "outputs": [
    {
     "name": "stdout",
     "output_type": "stream",
     "text": [
      "Предсказанный средний запас: 94.96504596800489\n",
      "RMSE: 40.02970873393434\n"
     ]
    }
   ],
   "source": [
    "predict_2 = results(features_train_2, target_train_2, features_valid_2, target_valid_2)"
   ]
  },
  {
   "cell_type": "markdown",
   "metadata": {},
   "source": [
    "Ошибка в 0 и 2 регионе очень высока относительно результата, а вот с 1 регионом работать будет приятно, скорее всего это из-за высокой корреляции с признаком f2."
   ]
  },
  {
   "cell_type": "code",
   "execution_count": 216,
   "metadata": {},
   "outputs": [
    {
     "data": {
      "text/plain": [
       "71751     95.894952\n",
       "80493     77.572583\n",
       "2655      77.892640\n",
       "53233     90.175134\n",
       "91141     70.510088\n",
       "            ...    \n",
       "12581    103.037104\n",
       "18456     85.403255\n",
       "73035     61.509833\n",
       "63834    118.180397\n",
       "43558    118.169392\n",
       "Length: 25000, dtype: float64"
      ]
     },
     "execution_count": 216,
     "metadata": {},
     "output_type": "execute_result"
    }
   ],
   "source": [
    "predict_0"
   ]
  },
  {
   "cell_type": "code",
   "execution_count": 217,
   "metadata": {},
   "outputs": [
    {
     "data": {
      "text/plain": [
       "71751     82.663314\n",
       "80493     54.431786\n",
       "2655      29.748760\n",
       "53233     53.552133\n",
       "91141      1.243856\n",
       "            ...    \n",
       "12581    136.869211\n",
       "18456    110.693465\n",
       "73035    137.879341\n",
       "63834     83.761966\n",
       "43558     53.958466\n",
       "Length: 25000, dtype: float64"
      ]
     },
     "execution_count": 217,
     "metadata": {},
     "output_type": "execute_result"
    }
   ],
   "source": [
    "predict_1"
   ]
  },
  {
   "cell_type": "code",
   "execution_count": 218,
   "metadata": {
    "scrolled": true
   },
   "outputs": [
    {
     "data": {
      "text/plain": [
       "71751     80.859783\n",
       "80493     53.906522\n",
       "2655      30.132364\n",
       "53233     53.906522\n",
       "91141      0.000000\n",
       "            ...    \n",
       "12581    137.945408\n",
       "18456    110.992147\n",
       "73035    137.945408\n",
       "63834     84.038886\n",
       "43558     53.906522\n",
       "Name: product, Length: 25000, dtype: float64"
      ]
     },
     "execution_count": 218,
     "metadata": {},
     "output_type": "execute_result"
    }
   ],
   "source": [
    "target_valid_1"
   ]
  },
  {
   "cell_type": "markdown",
   "metadata": {},
   "source": [
    "## Подготовка к расчёту прибыли"
   ]
  },
  {
   "cell_type": "markdown",
   "metadata": {},
   "source": [
    "Сохраним все переменные необходимые для расчета"
   ]
  },
  {
   "cell_type": "code",
   "execution_count": 219,
   "metadata": {},
   "outputs": [
    {
     "name": "stdout",
     "output_type": "stream",
     "text": [
      "50000000.0 111.11111111111111\n"
     ]
    }
   ],
   "source": [
    "wells = 200\n",
    "budget = 10000000000\n",
    "price_barrel = 450000\n",
    "risk = 0.025\n",
    "well_cost = budget/wells\n",
    "min_stock = well_cost/price_barrel\n",
    "print (well_cost,min_stock)"
   ]
  },
  {
   "cell_type": "markdown",
   "metadata": {},
   "source": [
    "Показатель средних запасов относительно необходимого оставляет желать лучшего, 0 и 1 регион дают надежду, но там большая ошибка."
   ]
  },
  {
   "cell_type": "markdown",
   "metadata": {},
   "source": [
    "## Расчёт прибыли и рисков "
   ]
  },
  {
   "cell_type": "markdown",
   "metadata": {},
   "source": [
    "Напишем функцию расчета прибыли "
   ]
  },
  {
   "cell_type": "code",
   "execution_count": 220,
   "metadata": {},
   "outputs": [],
   "source": [
    "def revenue(target, probabilities, count): \n",
    "    probs_sort = probabilities.sort_values(ascending=False)\n",
    "    selected = target[probs_sort.index][:count]\n",
    "    return selected.sum() * price_barrel - budget"
   ]
  },
  {
   "cell_type": "code",
   "execution_count": 224,
   "metadata": {},
   "outputs": [
    {
     "name": "stdout",
     "output_type": "stream",
     "text": [
      "Средняя выручка: 425938526.91059244\n",
      "95% доверительный интервал: -102090094.83793654 : 947976353.3583689\n",
      "Риск убытков: 0.06\n"
     ]
    },
    {
     "data": {
      "text/plain": [
       "Text(0.5, 1.0, 'Регион 0')"
      ]
     },
     "execution_count": 224,
     "metadata": {},
     "output_type": "execute_result"
    },
    {
     "data": {
      "image/png": "[encoded data removed]",
      "text/plain": [
       "<Figure size 936x576 with 1 Axes>"
      ]
     },
     "metadata": {
      "needs_background": "light"
     },
     "output_type": "display_data"
    }
   ],
   "source": [
    "values = []\n",
    "counter = 0\n",
    "state = np.random.RandomState(random_state)\n",
    "for i in range(1000):\n",
    "    target_subsample = target_valid_0.sample(n = 500, replace=True, random_state=state)\n",
    "    probs_subsample = predict_0.loc[target_subsample.index] \n",
    "    reven = revenue(target_subsample, probs_subsample, wells)\n",
    "    values.append(reven)\n",
    "    \n",
    "values = pd.Series(values)\n",
    "lower = values.quantile(risk)\n",
    "upper = values.quantile(0.975)\n",
    "mean =  values.mean()\n",
    "print(\"Средняя выручка:\",mean)\n",
    "print ('95% доверительный интервал:',lower,\":\", upper)\n",
    "print('Риск убытков:',values[values < 0].count() / len(values))\n",
    "\n",
    "plt.figure(figsize=(13,8))\n",
    "sns.distplot(values, color = 'green')\n",
    "plt.axvline(lower, color='r')\n",
    "plt.axvline(mean, color='black', linestyle=':')\n",
    "plt.axvline(upper, color='r')\n",
    "plt.title('Регион 0', fontsize=22)"
   ]
  },
  {
   "cell_type": "code",
   "execution_count": 225,
   "metadata": {},
   "outputs": [
    {
     "name": "stdout",
     "output_type": "stream",
     "text": [
      "Средняя выручка: 515222773.4432899\n",
      "95% доверительный интервал: 68873225.37050176 : 931547591.2570494\n",
      "Риск убытков: 0.01\n"
     ]
    },
    {
     "data": {
      "text/plain": [
       "Text(0.5, 1.0, 'Регион 1')"
      ]
     },
     "execution_count": 225,
     "metadata": {},
     "output_type": "execute_result"
    },
    {
     "data": {
      "image/png": "[encoded data removed]",
      "text/plain": [
       "<Figure size 936x576 with 1 Axes>"
      ]
     },
     "metadata": {
      "needs_background": "light"
     },
     "output_type": "display_data"
    }
   ],
   "source": [
    "values = []\n",
    "counter = 0\n",
    "state = np.random.RandomState(random_state)\n",
    "for i in range(1000):\n",
    "    target_subsample = target_valid_1.sample(n = 500, replace=True, random_state=state)\n",
    "    probs_subsample = predict_1.loc[target_subsample.index] \n",
    "    reven = revenue(target_subsample, probs_subsample, wells)\n",
    "    values.append(reven)\n",
    "    \n",
    "values = pd.Series(values)\n",
    "lower = values.quantile(risk)\n",
    "upper = values.quantile(0.975)\n",
    "mean =  values.mean()\n",
    "print(\"Средняя выручка:\",mean)\n",
    "print ('95% доверительный интервал:',lower,\":\", upper)\n",
    "print('Риск убытков:',values[values < 0].count() / len(values))\n",
    "\n",
    "plt.figure(figsize=(13,8))\n",
    "sns.distplot(values, color = 'blue')\n",
    "plt.axvline(lower, color='r')\n",
    "plt.axvline(mean, color='black', linestyle=':')\n",
    "plt.axvline(upper, color='r')\n",
    "plt.title('Регион 1', fontsize=22)"
   ]
  },
  {
   "cell_type": "code",
   "execution_count": 226,
   "metadata": {},
   "outputs": [
    {
     "name": "stdout",
     "output_type": "stream",
     "text": [
      "Средняя выручка: 435008362.7827556\n",
      "95% доверительный интервал: -128880547.32978901 : 969706954.1802661\n",
      "Риск убытков: 0.064\n"
     ]
    },
    {
     "data": {
      "text/plain": [
       "Text(0.5, 1.0, 'Регион 2')"
      ]
     },
     "execution_count": 226,
     "metadata": {},
     "output_type": "execute_result"
    },
    {
     "data": {
      "image/png": "[encoded data removed]",
      "text/plain": [
       "<Figure size 936x576 with 1 Axes>"
      ]
     },
     "metadata": {
      "needs_background": "light"
     },
     "output_type": "display_data"
    }
   ],
   "source": [
    "values = []\n",
    "counter = 0\n",
    "state = np.random.RandomState(random_state)\n",
    "for i in range(1000):\n",
    "    target_subsample = target_valid_2.sample(n = 500, replace=True, random_state=state)\n",
    "    probs_subsample = predict_2.loc[target_subsample.index] \n",
    "    reven = revenue(target_subsample, probs_subsample, wells)\n",
    "    values.append(reven)\n",
    "    \n",
    "values = pd.Series(values)\n",
    "lower = values.quantile(risk)\n",
    "upper = values.quantile(0.975)\n",
    "mean =  values.mean()\n",
    "print(\"Средняя выручка:\",mean)\n",
    "print ('95% доверительный интервал:',lower,\":\", upper)\n",
    "print('Риск убытков:',values[values < 0].count() / len(values))\n",
    "\n",
    "plt.figure(figsize=(13,8))\n",
    "sns.distplot(values, color = 'orange')\n",
    "plt.axvline(lower, color='r')\n",
    "plt.axvline(mean, color='black', linestyle=':')\n",
    "plt.axvline(upper, color='r')\n",
    "plt.title('Регион 2', fontsize=22)"
   ]
  },
  {
   "cell_type": "markdown",
   "metadata": {},
   "source": [
    "**Вывод: выбираем регион 1**\n",
    "* RMSE  позволяет надеяться на точность\n",
    "* Самый низкий риск убытков, и единственный вписывается в риск заданный заказчиком\n"
   ]
  }
 ],
 "metadata": {
  "ExecuteTimeLog": [
   {
    "duration": 54,
    "start_time": "2023-04-16T18:54:18.209Z"
   },
   {
    "duration": 1556,
    "start_time": "2023-04-16T18:54:24.840Z"
   },
   {
    "duration": 1580,
    "start_time": "2023-04-16T18:54:26.398Z"
   },
   {
    "duration": 3,
    "start_time": "2023-04-16T18:54:27.979Z"
   },
   {
    "duration": 84,
    "start_time": "2023-04-16T18:57:07.016Z"
   },
   {
    "duration": 5,
    "start_time": "2023-04-16T18:57:11.644Z"
   },
   {
    "duration": 352,
    "start_time": "2023-04-16T18:57:11.650Z"
   },
   {
    "duration": 2,
    "start_time": "2023-04-16T18:57:12.004Z"
   },
   {
    "duration": 20,
    "start_time": "2023-04-16T18:57:12.008Z"
   },
   {
    "duration": 40,
    "start_time": "2023-04-16T18:57:44.048Z"
   },
   {
    "duration": 115,
    "start_time": "2023-04-16T18:58:23.425Z"
   },
   {
    "duration": 85,
    "start_time": "2023-04-16T18:59:03.124Z"
   },
   {
    "duration": 29,
    "start_time": "2023-04-16T19:01:28.732Z"
   },
   {
    "duration": 8,
    "start_time": "2023-04-16T19:03:05.800Z"
   },
   {
    "duration": 3,
    "start_time": "2023-04-16T19:18:32.780Z"
   },
   {
    "duration": 13,
    "start_time": "2023-04-16T19:18:32.824Z"
   },
   {
    "duration": 4,
    "start_time": "2023-04-16T19:18:42.346Z"
   },
   {
    "duration": 350,
    "start_time": "2023-04-16T19:18:42.557Z"
   },
   {
    "duration": 3,
    "start_time": "2023-04-16T19:18:43.012Z"
   },
   {
    "duration": 11,
    "start_time": "2023-04-16T19:18:43.215Z"
   },
   {
    "duration": 31,
    "start_time": "2023-04-16T19:18:43.445Z"
   },
   {
    "duration": 114,
    "start_time": "2023-04-16T19:18:43.670Z"
   },
   {
    "duration": 83,
    "start_time": "2023-04-16T19:18:43.878Z"
   },
   {
    "duration": 29,
    "start_time": "2023-04-16T19:18:44.325Z"
   },
   {
    "duration": 7,
    "start_time": "2023-04-16T19:18:44.733Z"
   },
   {
    "duration": 4,
    "start_time": "2023-04-16T19:18:46.844Z"
   },
   {
    "duration": 58,
    "start_time": "2023-04-16T19:18:46.849Z"
   },
   {
    "duration": 27,
    "start_time": "2023-04-16T19:18:46.909Z"
   },
   {
    "duration": 85,
    "start_time": "2023-04-16T19:22:56.125Z"
   },
   {
    "duration": 16,
    "start_time": "2023-04-16T19:23:40.566Z"
   },
   {
    "duration": 17,
    "start_time": "2023-04-16T19:25:07.478Z"
   },
   {
    "duration": 4,
    "start_time": "2023-04-16T21:17:37.420Z"
   },
   {
    "duration": 370,
    "start_time": "2023-04-16T21:17:37.425Z"
   },
   {
    "duration": 3,
    "start_time": "2023-04-16T21:17:37.797Z"
   },
   {
    "duration": 12,
    "start_time": "2023-04-16T21:17:37.801Z"
   },
   {
    "duration": 51,
    "start_time": "2023-04-16T21:17:37.815Z"
   },
   {
    "duration": 130,
    "start_time": "2023-04-16T21:17:37.867Z"
   },
   {
    "duration": 99,
    "start_time": "2023-04-16T21:17:37.998Z"
   },
   {
    "duration": 31,
    "start_time": "2023-04-16T21:17:38.099Z"
   },
   {
    "duration": 7,
    "start_time": "2023-04-16T21:17:38.150Z"
   },
   {
    "duration": 3,
    "start_time": "2023-04-16T21:17:39.015Z"
   },
   {
    "duration": 24,
    "start_time": "2023-04-16T21:17:39.224Z"
   },
   {
    "duration": 25,
    "start_time": "2023-04-16T21:17:40.308Z"
   },
   {
    "duration": 73,
    "start_time": "2023-04-16T21:17:42.419Z"
   },
   {
    "duration": 88,
    "start_time": "2023-04-16T21:18:21.273Z"
   },
   {
    "duration": 71,
    "start_time": "2023-04-16T21:18:40.961Z"
   },
   {
    "duration": 104,
    "start_time": "2023-04-16T21:19:23.035Z"
   },
   {
    "duration": 75,
    "start_time": "2023-04-16T21:19:57.043Z"
   },
   {
    "duration": 73,
    "start_time": "2023-04-16T21:20:14.213Z"
   },
   {
    "duration": 5,
    "start_time": "2023-04-16T21:20:19.815Z"
   },
   {
    "duration": 35,
    "start_time": "2023-04-16T21:20:21.421Z"
   },
   {
    "duration": 4,
    "start_time": "2023-04-16T21:21:18.844Z"
   },
   {
    "duration": 9,
    "start_time": "2023-04-16T21:21:19.960Z"
   },
   {
    "duration": 10,
    "start_time": "2023-04-16T21:21:21.769Z"
   },
   {
    "duration": 10,
    "start_time": "2023-04-16T21:21:22.722Z"
   },
   {
    "duration": 3,
    "start_time": "2023-04-16T21:34:12.904Z"
   },
   {
    "duration": 4,
    "start_time": "2023-04-16T21:36:21.962Z"
   },
   {
    "duration": 4,
    "start_time": "2023-04-16T21:56:01.406Z"
   },
   {
    "duration": 18,
    "start_time": "2023-04-16T21:56:01.915Z"
   },
   {
    "duration": 10,
    "start_time": "2023-04-16T21:56:02.712Z"
   },
   {
    "duration": 11,
    "start_time": "2023-04-16T21:56:03.451Z"
   },
   {
    "duration": 3,
    "start_time": "2023-04-16T21:56:07.309Z"
   },
   {
    "duration": 4,
    "start_time": "2023-04-16T21:56:09.924Z"
   },
   {
    "duration": 95,
    "start_time": "2023-04-16T22:02:34.522Z"
   },
   {
    "duration": 75,
    "start_time": "2023-04-16T22:02:44.659Z"
   },
   {
    "duration": 77,
    "start_time": "2023-04-16T22:03:29.608Z"
   },
   {
    "duration": 96,
    "start_time": "2023-04-16T22:03:59.474Z"
   },
   {
    "duration": 13,
    "start_time": "2023-04-16T22:04:09.408Z"
   },
   {
    "duration": 12,
    "start_time": "2023-04-16T22:04:16.945Z"
   },
   {
    "duration": 14,
    "start_time": "2023-04-16T22:04:37.016Z"
   },
   {
    "duration": 14,
    "start_time": "2023-04-16T22:05:30.204Z"
   },
   {
    "duration": 8,
    "start_time": "2023-04-16T22:05:55.034Z"
   },
   {
    "duration": 5,
    "start_time": "2023-04-16T22:06:42.466Z"
   },
   {
    "duration": 9,
    "start_time": "2023-04-16T22:07:00.973Z"
   },
   {
    "duration": 6,
    "start_time": "2023-04-16T22:07:06.472Z"
   },
   {
    "duration": 15,
    "start_time": "2023-04-16T22:08:23.905Z"
   },
   {
    "duration": 12,
    "start_time": "2023-04-16T22:08:56.768Z"
   },
   {
    "duration": 13,
    "start_time": "2023-04-16T22:09:02.555Z"
   },
   {
    "duration": 13,
    "start_time": "2023-04-16T22:09:32.945Z"
   },
   {
    "duration": 13,
    "start_time": "2023-04-16T22:09:50.379Z"
   },
   {
    "duration": 5,
    "start_time": "2023-04-16T22:10:23.863Z"
   },
   {
    "duration": 221,
    "start_time": "2023-04-16T22:10:52.630Z"
   },
   {
    "duration": 14,
    "start_time": "2023-04-16T22:11:07.083Z"
   },
   {
    "duration": 13,
    "start_time": "2023-04-16T22:14:05.968Z"
   },
   {
    "duration": 3,
    "start_time": "2023-04-16T22:14:26.709Z"
   },
   {
    "duration": 371,
    "start_time": "2023-04-16T22:14:26.934Z"
   },
   {
    "duration": 3,
    "start_time": "2023-04-16T22:14:27.414Z"
   },
   {
    "duration": 12,
    "start_time": "2023-04-16T22:14:27.618Z"
   },
   {
    "duration": 32,
    "start_time": "2023-04-16T22:14:30.509Z"
   },
   {
    "duration": 142,
    "start_time": "2023-04-16T22:14:30.543Z"
   },
   {
    "duration": 103,
    "start_time": "2023-04-16T22:14:30.687Z"
   },
   {
    "duration": 30,
    "start_time": "2023-04-16T22:14:30.792Z"
   },
   {
    "duration": 25,
    "start_time": "2023-04-16T22:14:30.824Z"
   },
   {
    "duration": 3,
    "start_time": "2023-04-16T22:14:30.851Z"
   },
   {
    "duration": 25,
    "start_time": "2023-04-16T22:14:31.004Z"
   },
   {
    "duration": 25,
    "start_time": "2023-04-16T22:14:31.473Z"
   },
   {
    "duration": 4,
    "start_time": "2023-04-16T22:14:31.958Z"
   },
   {
    "duration": 18,
    "start_time": "2023-04-16T22:14:32.213Z"
   },
   {
    "duration": 12,
    "start_time": "2023-04-16T22:14:32.461Z"
   },
   {
    "duration": 9,
    "start_time": "2023-04-16T22:14:32.719Z"
   },
   {
    "duration": 4,
    "start_time": "2023-04-16T22:14:33.669Z"
   },
   {
    "duration": 4,
    "start_time": "2023-04-16T22:14:34.425Z"
   },
   {
    "duration": 6,
    "start_time": "2023-04-16T22:14:34.705Z"
   },
   {
    "duration": 17,
    "start_time": "2023-04-16T22:14:36.131Z"
   },
   {
    "duration": 12,
    "start_time": "2023-04-16T22:18:27.119Z"
   },
   {
    "duration": 13,
    "start_time": "2023-04-16T22:25:44.843Z"
   },
   {
    "duration": 12,
    "start_time": "2023-04-16T22:26:08.306Z"
   },
   {
    "duration": 9,
    "start_time": "2023-04-16T22:26:28.963Z"
   },
   {
    "duration": 4,
    "start_time": "2023-04-16T22:26:38.372Z"
   },
   {
    "duration": 17,
    "start_time": "2023-04-16T22:27:37.371Z"
   },
   {
    "duration": 17,
    "start_time": "2023-04-16T22:32:33.067Z"
   },
   {
    "duration": 16,
    "start_time": "2023-04-16T22:32:46.127Z"
   },
   {
    "duration": 21,
    "start_time": "2023-04-16T22:33:58.245Z"
   },
   {
    "duration": 7,
    "start_time": "2023-04-16T22:34:09.277Z"
   },
   {
    "duration": 3,
    "start_time": "2023-04-16T22:36:04.719Z"
   },
   {
    "duration": 353,
    "start_time": "2023-04-16T22:36:04.922Z"
   },
   {
    "duration": 2,
    "start_time": "2023-04-16T22:36:05.313Z"
   },
   {
    "duration": 12,
    "start_time": "2023-04-16T22:36:05.517Z"
   },
   {
    "duration": 32,
    "start_time": "2023-04-16T22:36:05.912Z"
   },
   {
    "duration": 109,
    "start_time": "2023-04-16T22:36:06.114Z"
   },
   {
    "duration": 88,
    "start_time": "2023-04-16T22:36:06.524Z"
   },
   {
    "duration": 30,
    "start_time": "2023-04-16T22:36:06.955Z"
   },
   {
    "duration": 6,
    "start_time": "2023-04-16T22:36:07.386Z"
   },
   {
    "duration": 3,
    "start_time": "2023-04-16T22:36:08.294Z"
   },
   {
    "duration": 23,
    "start_time": "2023-04-16T22:36:08.514Z"
   },
   {
    "duration": 25,
    "start_time": "2023-04-16T22:36:08.922Z"
   },
   {
    "duration": 4,
    "start_time": "2023-04-16T22:36:09.344Z"
   },
   {
    "duration": 16,
    "start_time": "2023-04-16T22:36:09.554Z"
   },
   {
    "duration": 21,
    "start_time": "2023-04-16T22:36:09.784Z"
   },
   {
    "duration": 17,
    "start_time": "2023-04-16T22:36:09.989Z"
   },
   {
    "duration": 3,
    "start_time": "2023-04-16T22:36:31.863Z"
   },
   {
    "duration": 42,
    "start_time": "2023-04-16T22:36:33.008Z"
   },
   {
    "duration": 3,
    "start_time": "2023-04-16T22:36:43.521Z"
   },
   {
    "duration": 21,
    "start_time": "2023-04-16T22:36:43.526Z"
   },
   {
    "duration": 99,
    "start_time": "2023-04-16T22:36:43.552Z"
   },
   {
    "duration": 103,
    "start_time": "2023-04-16T22:36:43.653Z"
   },
   {
    "duration": 3,
    "start_time": "2023-04-16T22:36:50.160Z"
   },
   {
    "duration": 3,
    "start_time": "2023-04-16T22:36:51.573Z"
   },
   {
    "duration": 1587,
    "start_time": "2023-04-16T22:36:56.290Z"
   },
   {
    "duration": 1349,
    "start_time": "2023-04-16T22:37:29.429Z"
   },
   {
    "duration": 1659,
    "start_time": "2023-04-16T22:37:43.440Z"
   },
   {
    "duration": 23,
    "start_time": "2023-04-16T22:38:53.387Z"
   },
   {
    "duration": 29,
    "start_time": "2023-04-16T22:39:22.818Z"
   },
   {
    "duration": 28,
    "start_time": "2023-04-16T22:39:38.715Z"
   },
   {
    "duration": 29,
    "start_time": "2023-04-16T22:39:51.976Z"
   },
   {
    "duration": 3,
    "start_time": "2023-04-16T22:40:33.657Z"
   },
   {
    "duration": 30,
    "start_time": "2023-04-16T22:40:34.425Z"
   },
   {
    "duration": 12,
    "start_time": "2023-04-16T22:40:34.993Z"
   },
   {
    "duration": 11,
    "start_time": "2023-04-16T22:40:35.551Z"
   },
   {
    "duration": 7,
    "start_time": "2023-04-16T22:40:45.915Z"
   },
   {
    "duration": 5,
    "start_time": "2023-04-16T22:40:55.721Z"
   },
   {
    "duration": 5,
    "start_time": "2023-04-16T22:41:06.329Z"
   },
   {
    "duration": 5,
    "start_time": "2023-04-16T22:41:14.757Z"
   },
   {
    "duration": 43,
    "start_time": "2023-04-16T22:42:21.129Z"
   },
   {
    "duration": 20,
    "start_time": "2023-04-16T22:43:08.487Z"
   },
   {
    "duration": 26,
    "start_time": "2023-04-16T22:43:22.903Z"
   },
   {
    "duration": 24,
    "start_time": "2023-04-16T22:45:37.484Z"
   },
   {
    "duration": 21,
    "start_time": "2023-04-16T22:45:38.648Z"
   },
   {
    "duration": 3,
    "start_time": "2023-04-16T22:47:34.807Z"
   },
   {
    "duration": 33,
    "start_time": "2023-04-16T22:47:37.176Z"
   },
   {
    "duration": 3,
    "start_time": "2023-04-16T22:48:34.222Z"
   },
   {
    "duration": 4,
    "start_time": "2023-04-16T22:49:17.549Z"
   },
   {
    "duration": 19,
    "start_time": "2023-04-16T22:49:18.323Z"
   },
   {
    "duration": 3,
    "start_time": "2023-04-16T22:49:36.403Z"
   },
   {
    "duration": 45,
    "start_time": "2023-04-16T22:49:37.026Z"
   },
   {
    "duration": 34,
    "start_time": "2023-04-16T22:49:51.132Z"
   },
   {
    "duration": 35,
    "start_time": "2023-04-16T22:50:00.099Z"
   },
   {
    "duration": 32,
    "start_time": "2023-04-16T22:50:09.420Z"
   },
   {
    "duration": 3,
    "start_time": "2023-04-16T22:50:14.021Z"
   },
   {
    "duration": 22,
    "start_time": "2023-04-16T22:50:14.411Z"
   },
   {
    "duration": 21,
    "start_time": "2023-04-16T22:51:13.009Z"
   },
   {
    "duration": 23,
    "start_time": "2023-04-16T22:52:03.785Z"
   },
   {
    "duration": 20,
    "start_time": "2023-04-16T22:52:22.639Z"
   },
   {
    "duration": 1116,
    "start_time": "2023-04-16T22:52:50.084Z"
   },
   {
    "duration": 1111,
    "start_time": "2023-04-16T22:57:38.619Z"
   },
   {
    "duration": 1111,
    "start_time": "2023-04-16T22:58:11.085Z"
   },
   {
    "duration": 1112,
    "start_time": "2023-04-16T22:58:12.407Z"
   },
   {
    "duration": 1120,
    "start_time": "2023-04-16T22:59:36.938Z"
   },
   {
    "duration": 1097,
    "start_time": "2023-04-16T22:59:38.319Z"
   },
   {
    "duration": 1127,
    "start_time": "2023-04-16T22:59:39.418Z"
   },
   {
    "duration": 1389,
    "start_time": "2023-04-16T23:00:40.142Z"
   },
   {
    "duration": 1510,
    "start_time": "2023-04-16T23:01:05.169Z"
   },
   {
    "duration": 1455,
    "start_time": "2023-04-16T23:02:00.265Z"
   },
   {
    "duration": 1428,
    "start_time": "2023-04-16T23:02:43.037Z"
   },
   {
    "duration": 1484,
    "start_time": "2023-04-16T23:02:44.468Z"
   },
   {
    "duration": 1422,
    "start_time": "2023-04-16T23:02:45.954Z"
   },
   {
    "duration": 1426,
    "start_time": "2023-04-16T23:03:38.236Z"
   },
   {
    "duration": 1489,
    "start_time": "2023-04-16T23:03:39.664Z"
   },
   {
    "duration": 1456,
    "start_time": "2023-04-16T23:03:41.154Z"
   },
   {
    "duration": 6,
    "start_time": "2023-04-16T23:06:07.047Z"
   },
   {
    "duration": 6,
    "start_time": "2023-04-16T23:06:07.595Z"
   },
   {
    "duration": 6,
    "start_time": "2023-04-16T23:06:08.070Z"
   },
   {
    "duration": 6,
    "start_time": "2023-04-16T23:06:17.867Z"
   },
   {
    "duration": 6,
    "start_time": "2023-04-16T23:06:18.334Z"
   },
   {
    "duration": 1467,
    "start_time": "2023-04-16T23:06:29.573Z"
   },
   {
    "duration": 1446,
    "start_time": "2023-04-16T23:06:31.042Z"
   },
   {
    "duration": 1537,
    "start_time": "2023-04-16T23:06:32.491Z"
   },
   {
    "duration": 9,
    "start_time": "2023-04-16T23:07:26.212Z"
   },
   {
    "duration": 4,
    "start_time": "2023-04-16T23:07:45.717Z"
   },
   {
    "duration": 2,
    "start_time": "2023-04-16T23:07:45.943Z"
   },
   {
    "duration": 359,
    "start_time": "2023-04-16T23:07:46.147Z"
   },
   {
    "duration": 2,
    "start_time": "2023-04-16T23:07:46.569Z"
   },
   {
    "duration": 12,
    "start_time": "2023-04-16T23:07:46.774Z"
   },
   {
    "duration": 37,
    "start_time": "2023-04-16T23:07:47.198Z"
   },
   {
    "duration": 111,
    "start_time": "2023-04-16T23:07:47.405Z"
   },
   {
    "duration": 86,
    "start_time": "2023-04-16T23:07:47.839Z"
   },
   {
    "duration": 30,
    "start_time": "2023-04-16T23:07:48.266Z"
   },
   {
    "duration": 7,
    "start_time": "2023-04-16T23:07:48.695Z"
   },
   {
    "duration": 4,
    "start_time": "2023-04-16T23:07:49.539Z"
   },
   {
    "duration": 23,
    "start_time": "2023-04-16T23:07:49.748Z"
   },
   {
    "duration": 26,
    "start_time": "2023-04-16T23:07:52.821Z"
   },
   {
    "duration": 5,
    "start_time": "2023-04-16T23:07:52.849Z"
   },
   {
    "duration": 26,
    "start_time": "2023-04-16T23:07:52.856Z"
   },
   {
    "duration": 169,
    "start_time": "2023-04-16T23:07:52.887Z"
   },
   {
    "duration": 100,
    "start_time": "2023-04-16T23:07:53.062Z"
   },
   {
    "duration": 192,
    "start_time": "2023-04-16T23:07:53.163Z"
   },
   {
    "duration": 7,
    "start_time": "2023-04-16T23:07:53.356Z"
   },
   {
    "duration": 6,
    "start_time": "2023-04-16T23:07:53.365Z"
   },
   {
    "duration": 6,
    "start_time": "2023-04-16T23:07:53.373Z"
   },
   {
    "duration": 3,
    "start_time": "2023-04-16T23:07:53.691Z"
   },
   {
    "duration": 1413,
    "start_time": "2023-04-16T23:07:53.923Z"
   },
   {
    "duration": 1413,
    "start_time": "2023-04-16T23:07:55.338Z"
   },
   {
    "duration": 1410,
    "start_time": "2023-04-16T23:07:56.752Z"
   },
   {
    "duration": 1404,
    "start_time": "2023-04-16T23:08:45.796Z"
   },
   {
    "duration": 1447,
    "start_time": "2023-04-16T23:08:47.202Z"
   },
   {
    "duration": 1487,
    "start_time": "2023-04-16T23:08:48.651Z"
   },
   {
    "duration": 1632,
    "start_time": "2023-04-17T20:46:14.353Z"
   },
   {
    "duration": 12,
    "start_time": "2023-04-17T20:46:38.695Z"
   },
   {
    "duration": 1869,
    "start_time": "2023-08-31T18:24:20.400Z"
   }
  ],
  "kernelspec": {
   "display_name": "Python 3 (ipykernel)",
   "language": "python",
   "name": "python3"
  },
  "language_info": {
   "codemirror_mode": {
    "name": "ipython",
    "version": 3
   },
   "file_extension": ".py",
   "mimetype": "text/x-python",
   "name": "python",
   "nbconvert_exporter": "python",
   "pygments_lexer": "ipython3",
   "version": "3.9.5"
  },
  "toc": {
   "base_numbering": 1,
   "nav_menu": {},
   "number_sections": true,
   "sideBar": true,
   "skip_h1_title": true,
   "title_cell": "Table of Contents",
   "title_sidebar": "Contents",
   "toc_cell": false,
   "toc_position": {},
   "toc_section_display": true,
   "toc_window_display": false
  }
 },
 "nbformat": 4,
 "nbformat_minor": 2
}
