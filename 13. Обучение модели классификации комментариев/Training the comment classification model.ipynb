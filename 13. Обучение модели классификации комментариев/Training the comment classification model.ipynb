{
 "cells": [
  {
   "cell_type": "markdown",
   "metadata": {},
   "source": [
    "# Проект для «Викишоп»"
   ]
  },
  {
   "cell_type": "markdown",
   "metadata": {},
   "source": [
    "Интернет-магазин «Викишоп» запускает новый сервис. Теперь пользователи могут редактировать и дополнять описания товаров, как в вики-сообществах. То есть клиенты предлагают свои правки и комментируют изменения других. Магазину нужен инструмент, который будет искать токсичные комментарии и отправлять их на модерацию. \n",
    "\n",
    "Обучите модель классифицировать комментарии на позитивные и негативные. В вашем распоряжении набор данных с разметкой о токсичности правок.\n",
    "\n",
    "Постройте модель со значением метрики качества *F1* не меньше 0.75. \n",
    "\n",
    "**Инструкция по выполнению проекта**\n",
    "\n",
    "1. Загрузите и подготовьте данные.\n",
    "2. Обучите разные модели. \n",
    "3. Сделайте выводы.\n",
    "\n",
    "Для выполнения проекта применять *BERT* необязательно, но вы можете попробовать.\n",
    "\n",
    "**Описание данных**\n",
    "\n",
    "Данные находятся в файле `toxic_comments.csv`. Столбец *text* в нём содержит текст комментария, а *toxic* — целевой признак."
   ]
  },
  {
   "cell_type": "markdown",
   "metadata": {},
   "source": [
    "## Подготовка"
   ]
  },
  {
   "cell_type": "markdown",
   "metadata": {},
   "source": [
    "### Подключим все необходимое"
   ]
  },
  {
   "cell_type": "code",
   "execution_count": 1,
   "metadata": {},
   "outputs": [
    {
     "name": "stderr",
     "output_type": "stream",
     "text": [
      "[nltk_data] Downloading package averaged_perceptron_tagger to\n",
      "[nltk_data]     /home/jovyan/nltk_data...\n",
      "[nltk_data]   Unzipping taggers/averaged_perceptron_tagger.zip.\n",
      "/tmp/ipykernel_213/2556472392.py:20: TqdmDeprecationWarning: This function will be removed in tqdm==5.0.0\n",
      "Please use `tqdm.notebook.tqdm` instead of `tqdm.tqdm_notebook`\n",
      "  tqdm_notebook().pandas()\n"
     ]
    },
    {
     "data": {
      "application/vnd.jupyter.widget-view+json": {
       "model_id": "fa85f88daae54929b381ab935b83b742",
       "version_major": 2,
       "version_minor": 0
      },
      "text/plain": [
       "0it [00:00, ?it/s]"
      ]
     },
     "metadata": {},
     "output_type": "display_data"
    }
   ],
   "source": [
    "import pandas as pd\n",
    "import numpy as np\n",
    "import re\n",
    "import nltk\n",
    "import matplotlib.pyplot as plt\n",
    "import seaborn as sns\n",
    "from nltk.corpus import stopwords as nltk_stopwords\n",
    "from nltk.tokenize import word_tokenize\n",
    "from nltk.stem import WordNetLemmatizer\n",
    "from nltk.corpus import wordnet\n",
    "from sklearn.feature_extraction.text import TfidfVectorizer\n",
    "from sklearn.model_selection import train_test_split, GridSearchCV\n",
    "from sklearn.svm import LinearSVC\n",
    "from sklearn.linear_model import LogisticRegression\n",
    "from sklearn.metrics import f1_score\n",
    "nltk.download('averaged_perceptron_tagger')\n",
    "from lightgbm import LGBMClassifier\n",
    "\n",
    "from tqdm import tqdm, tqdm_notebook\n",
    "tqdm_notebook().pandas()\n",
    "\n",
    "import warnings\n",
    "warnings.filterwarnings('ignore')"
   ]
  },
  {
   "cell_type": "markdown",
   "metadata": {},
   "source": [
    "### Загрузим и ознакомимся с данными"
   ]
  },
  {
   "cell_type": "code",
   "execution_count": 2,
   "metadata": {},
   "outputs": [],
   "source": [
    "data = pd.read_csv('/datasets/toxic_comments.csv')"
   ]
  },
  {
   "cell_type": "code",
   "execution_count": 3,
   "metadata": {},
   "outputs": [
    {
     "name": "stdout",
     "output_type": "stream",
     "text": [
      "<class 'pandas.core.frame.DataFrame'>\n",
      "RangeIndex: 159292 entries, 0 to 159291\n",
      "Data columns (total 3 columns):\n",
      " #   Column      Non-Null Count   Dtype \n",
      "---  ------      --------------   ----- \n",
      " 0   Unnamed: 0  159292 non-null  int64 \n",
      " 1   text        159292 non-null  object\n",
      " 2   toxic       159292 non-null  int64 \n",
      "dtypes: int64(2), object(1)\n",
      "memory usage: 3.6+ MB\n"
     ]
    }
   ],
   "source": [
    "data.info()"
   ]
  },
  {
   "cell_type": "code",
   "execution_count": 4,
   "metadata": {},
   "outputs": [
    {
     "data": {
      "text/html": [
       "<div>\n",
       "<style scoped>\n",
       "    .dataframe tbody tr th:only-of-type {\n",
       "        vertical-align: middle;\n",
       "    }\n",
       "\n",
       "    .dataframe tbody tr th {\n",
       "        vertical-align: top;\n",
       "    }\n",
       "\n",
       "    .dataframe thead th {\n",
       "        text-align: right;\n",
       "    }\n",
       "</style>\n",
       "<table border=\"1\" class=\"dataframe\">\n",
       "  <thead>\n",
       "    <tr style=\"text-align: right;\">\n",
       "      <th></th>\n",
       "      <th>Unnamed: 0</th>\n",
       "      <th>text</th>\n",
       "      <th>toxic</th>\n",
       "    </tr>\n",
       "  </thead>\n",
       "  <tbody>\n",
       "    <tr>\n",
       "      <th>0</th>\n",
       "      <td>0</td>\n",
       "      <td>Explanation\\nWhy the edits made under my usern...</td>\n",
       "      <td>0</td>\n",
       "    </tr>\n",
       "    <tr>\n",
       "      <th>1</th>\n",
       "      <td>1</td>\n",
       "      <td>D'aww! He matches this background colour I'm s...</td>\n",
       "      <td>0</td>\n",
       "    </tr>\n",
       "    <tr>\n",
       "      <th>2</th>\n",
       "      <td>2</td>\n",
       "      <td>Hey man, I'm really not trying to edit war. It...</td>\n",
       "      <td>0</td>\n",
       "    </tr>\n",
       "    <tr>\n",
       "      <th>3</th>\n",
       "      <td>3</td>\n",
       "      <td>\"\\nMore\\nI can't make any real suggestions on ...</td>\n",
       "      <td>0</td>\n",
       "    </tr>\n",
       "    <tr>\n",
       "      <th>4</th>\n",
       "      <td>4</td>\n",
       "      <td>You, sir, are my hero. Any chance you remember...</td>\n",
       "      <td>0</td>\n",
       "    </tr>\n",
       "  </tbody>\n",
       "</table>\n",
       "</div>"
      ],
      "text/plain": [
       "   Unnamed: 0                                               text  toxic\n",
       "0           0  Explanation\\nWhy the edits made under my usern...      0\n",
       "1           1  D'aww! He matches this background colour I'm s...      0\n",
       "2           2  Hey man, I'm really not trying to edit war. It...      0\n",
       "3           3  \"\\nMore\\nI can't make any real suggestions on ...      0\n",
       "4           4  You, sir, are my hero. Any chance you remember...      0"
      ]
     },
     "execution_count": 4,
     "metadata": {},
     "output_type": "execute_result"
    }
   ],
   "source": [
    "data.head()"
   ]
  },
  {
   "cell_type": "markdown",
   "metadata": {},
   "source": [
    "Странный столбец повторяющий индексы, но в общем он нам не мешает."
   ]
  },
  {
   "cell_type": "code",
   "execution_count": 5,
   "metadata": {
    "scrolled": false
   },
   "outputs": [
    {
     "data": {
      "text/plain": [
       "0    143106\n",
       "1     16186\n",
       "Name: toxic, dtype: int64"
      ]
     },
     "execution_count": 5,
     "metadata": {},
     "output_type": "execute_result"
    }
   ],
   "source": [
    "data['toxic'].value_counts()"
   ]
  },
  {
   "cell_type": "markdown",
   "metadata": {},
   "source": [
    "**Мини-вывод:**\n",
    "* Непонятный столбец индексов\n",
    "* Есть дисбаланс классов, пока исправлять это не будем, посмотрим на результаты моделей"
   ]
  },
  {
   "cell_type": "markdown",
   "metadata": {},
   "source": [
    "### Подготовим выборки к работе"
   ]
  },
  {
   "cell_type": "markdown",
   "metadata": {},
   "source": [
    "Напишем функции разделения, и обработки текста.\n"
   ]
  },
  {
   "cell_type": "code",
   "execution_count": 6,
   "metadata": {},
   "outputs": [],
   "source": [
    "def target_features_split(data):\n",
    "    target = data['toxic']\n",
    "    features = data.drop(['toxic'], axis=1)\n",
    "    return target, features"
   ]
  },
  {
   "cell_type": "code",
   "execution_count": 7,
   "metadata": {},
   "outputs": [],
   "source": [
    "def get_wordnet_pos(word):\n",
    "    tag = nltk.pos_tag([word])[0][1][0].upper()\n",
    "    tag_dict = {\"J\": wordnet.ADJ,\n",
    "                \"N\": wordnet.NOUN,\n",
    "                \"V\": wordnet.VERB,\n",
    "                \"R\": wordnet.ADV}\n",
    "    return tag_dict.get(tag, wordnet.NOUN)"
   ]
  },
  {
   "cell_type": "code",
   "execution_count": 8,
   "metadata": {},
   "outputs": [],
   "source": [
    "m = WordNetLemmatizer()\n",
    "\n",
    "def lemmatize_text(text):\n",
    "    text = text.lower()\n",
    "    lemm_text = \" \".join([m.lemmatize(w, get_wordnet_pos(w)) for w in nltk.word_tokenize(text)])\n",
    "    cleared_text = re.sub(r'[^a-zA-Z]', ' ', lemm_text) \n",
    "    return \" \".join(cleared_text.split())\n"
   ]
  },
  {
   "cell_type": "code",
   "execution_count": 9,
   "metadata": {},
   "outputs": [],
   "source": [
    "data['lemm_text'] = data['text'].apply(lemmatize_text)\n",
    "\n",
    "data = data.drop(['text'], axis=1)\n",
    "data = data.drop(['Unnamed: 0'], axis=1)\n",
    "del m"
   ]
  },
  {
   "cell_type": "code",
   "execution_count": 10,
   "metadata": {
    "scrolled": true
   },
   "outputs": [
    {
     "data": {
      "text/html": [
       "<div>\n",
       "<style scoped>\n",
       "    .dataframe tbody tr th:only-of-type {\n",
       "        vertical-align: middle;\n",
       "    }\n",
       "\n",
       "    .dataframe tbody tr th {\n",
       "        vertical-align: top;\n",
       "    }\n",
       "\n",
       "    .dataframe thead th {\n",
       "        text-align: right;\n",
       "    }\n",
       "</style>\n",
       "<table border=\"1\" class=\"dataframe\">\n",
       "  <thead>\n",
       "    <tr style=\"text-align: right;\">\n",
       "      <th></th>\n",
       "      <th>toxic</th>\n",
       "      <th>lemm_text</th>\n",
       "    </tr>\n",
       "  </thead>\n",
       "  <tbody>\n",
       "    <tr>\n",
       "      <th>0</th>\n",
       "      <td>0</td>\n",
       "      <td>explanation why the edits make under my userna...</td>\n",
       "    </tr>\n",
       "    <tr>\n",
       "      <th>1</th>\n",
       "      <td>0</td>\n",
       "      <td>d aww he match this background colour i m seem...</td>\n",
       "    </tr>\n",
       "    <tr>\n",
       "      <th>2</th>\n",
       "      <td>0</td>\n",
       "      <td>hey man i m really not try to edit war it s ju...</td>\n",
       "    </tr>\n",
       "    <tr>\n",
       "      <th>3</th>\n",
       "      <td>0</td>\n",
       "      <td>more i ca n t make any real suggestion on impr...</td>\n",
       "    </tr>\n",
       "    <tr>\n",
       "      <th>4</th>\n",
       "      <td>0</td>\n",
       "      <td>you sir be my hero any chance you remember wha...</td>\n",
       "    </tr>\n",
       "  </tbody>\n",
       "</table>\n",
       "</div>"
      ],
      "text/plain": [
       "   toxic                                          lemm_text\n",
       "0      0  explanation why the edits make under my userna...\n",
       "1      0  d aww he match this background colour i m seem...\n",
       "2      0  hey man i m really not try to edit war it s ju...\n",
       "3      0  more i ca n t make any real suggestion on impr...\n",
       "4      0  you sir be my hero any chance you remember wha..."
      ]
     },
     "execution_count": 10,
     "metadata": {},
     "output_type": "execute_result"
    }
   ],
   "source": [
    "data.head()"
   ]
  },
  {
   "cell_type": "markdown",
   "metadata": {},
   "source": [
    "<font color='purple'><b>Комментарий студента</b> странно, но без POS тегов и токенизации результаты были получше, по типу 0.77 и 0.78</font>"
   ]
  },
  {
   "cell_type": "code",
   "execution_count": 11,
   "metadata": {},
   "outputs": [],
   "source": [
    "random_state = 12345"
   ]
  },
  {
   "cell_type": "code",
   "execution_count": 12,
   "metadata": {},
   "outputs": [],
   "source": [
    "train, test = train_test_split(data, test_size=0.2, random_state=random_state, stratify=data['toxic'])"
   ]
  },
  {
   "cell_type": "code",
   "execution_count": 13,
   "metadata": {},
   "outputs": [],
   "source": [
    "target_train, features_train = target_features_split(train)\n",
    "target_test, features_test =  target_features_split(test)"
   ]
  },
  {
   "cell_type": "code",
   "execution_count": 14,
   "metadata": {
    "scrolled": true
   },
   "outputs": [
    {
     "name": "stderr",
     "output_type": "stream",
     "text": [
      "[nltk_data] Downloading package stopwords to /home/jovyan/nltk_data...\n",
      "[nltk_data]   Package stopwords is already up-to-date!\n"
     ]
    }
   ],
   "source": [
    "nltk.download('stopwords')\n",
    "stopwords = set(nltk_stopwords.words('english'))\n",
    "vec = TfidfVectorizer(stop_words=stopwords)\n",
    "features_train = vec.fit_transform(features_train['lemm_text'])\n",
    "features_test = vec.transform(features_test['lemm_text'])"
   ]
  },
  {
   "cell_type": "code",
   "execution_count": 15,
   "metadata": {},
   "outputs": [
    {
     "name": "stdout",
     "output_type": "stream",
     "text": [
      "(127433, 137036)\n",
      "(31859, 137036)\n"
     ]
    }
   ],
   "source": [
    "print(features_train.shape)\n",
    "print(features_test.shape)"
   ]
  },
  {
   "cell_type": "markdown",
   "metadata": {},
   "source": [
    "## Обучение"
   ]
  },
  {
   "cell_type": "markdown",
   "metadata": {},
   "source": [
    "### Обучим и сравним результаты моделей"
   ]
  },
  {
   "cell_type": "code",
   "execution_count": 16,
   "metadata": {},
   "outputs": [],
   "source": [
    "results = pd.DataFrame(columns=['model', 'f1'])"
   ]
  },
  {
   "cell_type": "code",
   "execution_count": 17,
   "metadata": {},
   "outputs": [
    {
     "name": "stdout",
     "output_type": "stream",
     "text": [
      "Fitting 5 folds for each of 3 candidates, totalling 15 fits\n",
      "{'C': 8.6}\n"
     ]
    }
   ],
   "source": [
    "lr_model = LogisticRegression()\n",
    "parameters = [{'C': [8.7, 8.8, 8.6]}]\n",
    "\n",
    "lr_model_gscv = GridSearchCV(lr_model, param_grid=parameters, scoring='f1', n_jobs=-1, \n",
    "                   cv=5, verbose=True)\n",
    "lr_model_gscv.fit(features_train, target_train)\n",
    "print(lr_model_gscv.best_params_)\n",
    "results = results.append({'model': 'LogisticRegression', 'f1': lr_model_gscv.best_score_}, ignore_index=True)\n"
   ]
  },
  {
   "cell_type": "code",
   "execution_count": 18,
   "metadata": {},
   "outputs": [
    {
     "name": "stdout",
     "output_type": "stream",
     "text": [
      "Fitting 5 folds for each of 3 candidates, totalling 15 fits\n",
      "{'C': 0.5}\n"
     ]
    }
   ],
   "source": [
    "lsvc_model= LinearSVC(random_state=42, class_weight='balanced')\n",
    "\n",
    "parameters = [{'C': [0.5, 0.4, 0.3]}]\n",
    "\n",
    "lsvc_model_gscv = GridSearchCV(lsvc_model, param_grid=parameters, scoring='f1', n_jobs=-1, \n",
    "                   cv=5, verbose=True)\n",
    "lsvc_model_gscv.fit(features_train, target_train)\n",
    "print(lsvc_model_gscv.best_params_)\n",
    "results = results.append({'model': 'LinearSVC', 'f1': lsvc_model_gscv.best_score_}, ignore_index=True)"
   ]
  },
  {
   "cell_type": "code",
   "execution_count": 19,
   "metadata": {},
   "outputs": [
    {
     "data": {
      "text/html": [
       "<div>\n",
       "<style scoped>\n",
       "    .dataframe tbody tr th:only-of-type {\n",
       "        vertical-align: middle;\n",
       "    }\n",
       "\n",
       "    .dataframe tbody tr th {\n",
       "        vertical-align: top;\n",
       "    }\n",
       "\n",
       "    .dataframe thead th {\n",
       "        text-align: right;\n",
       "    }\n",
       "</style>\n",
       "<table border=\"1\" class=\"dataframe\">\n",
       "  <thead>\n",
       "    <tr style=\"text-align: right;\">\n",
       "      <th></th>\n",
       "      <th>model</th>\n",
       "      <th>f1</th>\n",
       "    </tr>\n",
       "  </thead>\n",
       "  <tbody>\n",
       "    <tr>\n",
       "      <th>0</th>\n",
       "      <td>LogisticRegression</td>\n",
       "      <td>0.762080</td>\n",
       "    </tr>\n",
       "    <tr>\n",
       "      <th>1</th>\n",
       "      <td>LinearSVC</td>\n",
       "      <td>0.754739</td>\n",
       "    </tr>\n",
       "  </tbody>\n",
       "</table>\n",
       "</div>"
      ],
      "text/plain": [
       "                model        f1\n",
       "0  LogisticRegression  0.762080\n",
       "1           LinearSVC  0.754739"
      ]
     },
     "execution_count": 19,
     "metadata": {},
     "output_type": "execute_result"
    }
   ],
   "source": [
    "results"
   ]
  },
  {
   "cell_type": "markdown",
   "metadata": {},
   "source": [
    "Результаты очень похожи, протестируем обе"
   ]
  },
  {
   "cell_type": "code",
   "execution_count": 20,
   "metadata": {
    "scrolled": true
   },
   "outputs": [
    {
     "name": "stdout",
     "output_type": "stream",
     "text": [
      "F1: 0.7767857142857143\n",
      "F1: 0.7613318410744263\n"
     ]
    }
   ],
   "source": [
    "predict = lr_model_gscv.best_estimator_.predict(features_test)\n",
    "print('F1:', f1_score(target_test, predict))\n",
    "predict = lsvc_model_gscv.best_estimator_.predict(features_test)\n",
    "print('F1:', f1_score(target_test, predict))"
   ]
  },
  {
   "cell_type": "markdown",
   "metadata": {},
   "source": [
    "Все таже схожесть результатов, потенциал конечно больше у LinearSVC, и обучилась она быстрее."
   ]
  },
  {
   "cell_type": "markdown",
   "metadata": {},
   "source": [
    "## Выводы"
   ]
  },
  {
   "cell_type": "markdown",
   "metadata": {},
   "source": [
    "**Общий вывод по моделям:**\n",
    "Модели показывают практически одинаковый результат удовлетворяющий заказчика, по этому можно предложить в работу любую из них, конечно у LinearSVC(при дополнительной необходимости) можно еще поиграть с гиперпараметрами.\n",
    "\n",
    "**Проделанная работа:**\n",
    "* Загрузили и ознакомились с данными, обнаружили странный столбец который в последствии был удален, так же имелся дисбаланс классов, но модели справились\n",
    "* Подготовили текст для работы моделей (лемматизация,приведение к нужному формату, очистка от лишних символов и стоп слов, векторизация, добавили POS теги) \n",
    "* Разделили на выборки\n",
    "* Обучили с подбором параметров 2 модели, которые показали практически одинаковый результат\n",
    "* Провели тестирование моделей где так же был получен схожий результат"
   ]
  }
 ],
 "metadata": {
  "ExecuteTimeLog": [
   {
    "duration": 42,
    "start_time": "2023-06-13T19:49:12.026Z"
   },
   {
    "duration": 1803,
    "start_time": "2023-06-13T19:49:19.318Z"
   },
   {
    "duration": 3642,
    "start_time": "2023-06-13T19:49:23.164Z"
   },
   {
    "duration": 84,
    "start_time": "2023-06-13T19:50:18.449Z"
   },
   {
    "duration": 701,
    "start_time": "2023-06-13T19:50:23.437Z"
   },
   {
    "duration": 24,
    "start_time": "2023-06-13T19:50:24.140Z"
   },
   {
    "duration": 1543,
    "start_time": "2023-06-13T19:50:54.337Z"
   },
   {
    "duration": 738,
    "start_time": "2023-06-13T19:50:55.882Z"
   },
   {
    "duration": 110,
    "start_time": "2023-06-13T19:50:56.622Z"
   },
   {
    "duration": 11,
    "start_time": "2023-06-13T19:51:20.361Z"
   },
   {
    "duration": 183,
    "start_time": "2023-06-13T19:58:08.184Z"
   },
   {
    "duration": 47,
    "start_time": "2023-06-13T19:58:29.601Z"
   },
   {
    "duration": 6,
    "start_time": "2023-06-13T20:00:11.822Z"
   },
   {
    "duration": 3,
    "start_time": "2023-06-13T20:16:40.254Z"
   },
   {
    "duration": 9,
    "start_time": "2023-06-13T20:16:44.135Z"
   },
   {
    "duration": 10,
    "start_time": "2023-06-13T20:17:36.138Z"
   },
   {
    "duration": 24,
    "start_time": "2023-06-13T20:18:16.849Z"
   },
   {
    "duration": 3,
    "start_time": "2023-06-13T20:18:24.235Z"
   },
   {
    "duration": 3,
    "start_time": "2023-06-13T20:19:18.220Z"
   },
   {
    "duration": 3,
    "start_time": "2023-06-13T20:25:25.909Z"
   },
   {
    "duration": 54,
    "start_time": "2023-06-13T20:25:36.113Z"
   },
   {
    "duration": 3,
    "start_time": "2023-06-13T20:26:24.304Z"
   },
   {
    "duration": 16,
    "start_time": "2023-06-13T20:26:53.723Z"
   },
   {
    "duration": 3,
    "start_time": "2023-06-13T20:29:49.783Z"
   },
   {
    "duration": 3,
    "start_time": "2023-06-13T20:29:59.965Z"
   },
   {
    "duration": 3,
    "start_time": "2023-06-13T20:30:01.136Z"
   },
   {
    "duration": 55,
    "start_time": "2023-06-13T20:30:02.325Z"
   },
   {
    "duration": 14,
    "start_time": "2023-06-13T20:30:03.234Z"
   },
   {
    "duration": 10,
    "start_time": "2023-06-13T20:30:04.159Z"
   },
   {
    "duration": 3,
    "start_time": "2023-06-13T20:30:18.815Z"
   },
   {
    "duration": 4,
    "start_time": "2023-06-13T20:30:19.174Z"
   },
   {
    "duration": 2,
    "start_time": "2023-06-13T20:30:19.563Z"
   },
   {
    "duration": 61,
    "start_time": "2023-06-13T20:30:19.978Z"
   },
   {
    "duration": 17,
    "start_time": "2023-06-13T20:30:20.704Z"
   },
   {
    "duration": 11,
    "start_time": "2023-06-13T20:30:23.139Z"
   },
   {
    "duration": 4,
    "start_time": "2023-06-13T20:31:12.393Z"
   },
   {
    "duration": 2113,
    "start_time": "2023-06-13T20:32:18.820Z"
   },
   {
    "duration": 1059,
    "start_time": "2023-06-13T20:32:20.936Z"
   },
   {
    "duration": 109,
    "start_time": "2023-06-13T20:32:21.997Z"
   },
   {
    "duration": 10,
    "start_time": "2023-06-13T20:32:22.107Z"
   },
   {
    "duration": 10,
    "start_time": "2023-06-13T20:32:22.119Z"
   },
   {
    "duration": 18,
    "start_time": "2023-06-13T20:32:22.130Z"
   },
   {
    "duration": 16,
    "start_time": "2023-06-13T20:32:22.149Z"
   },
   {
    "duration": 22,
    "start_time": "2023-06-13T20:32:22.167Z"
   },
   {
    "duration": 98,
    "start_time": "2023-06-13T20:32:22.191Z"
   },
   {
    "duration": 15,
    "start_time": "2023-06-13T20:32:22.290Z"
   },
   {
    "duration": 13,
    "start_time": "2023-06-13T20:32:22.306Z"
   },
   {
    "duration": 120,
    "start_time": "2023-06-13T20:32:22.320Z"
   },
   {
    "duration": 5,
    "start_time": "2023-06-13T20:33:03.099Z"
   },
   {
    "duration": 9,
    "start_time": "2023-06-13T20:36:35.827Z"
   },
   {
    "duration": 3,
    "start_time": "2023-06-13T20:36:47.886Z"
   },
   {
    "duration": 3,
    "start_time": "2023-06-13T20:37:42.279Z"
   },
   {
    "duration": 3,
    "start_time": "2023-06-13T20:37:42.890Z"
   },
   {
    "duration": 3,
    "start_time": "2023-06-13T20:37:43.321Z"
   },
   {
    "duration": 57,
    "start_time": "2023-06-13T20:37:43.745Z"
   },
   {
    "duration": 4,
    "start_time": "2023-06-13T20:37:44.233Z"
   },
   {
    "duration": 13,
    "start_time": "2023-06-13T20:37:44.799Z"
   },
   {
    "duration": 3,
    "start_time": "2023-06-13T20:37:55.379Z"
   },
   {
    "duration": 3,
    "start_time": "2023-06-13T20:37:55.999Z"
   },
   {
    "duration": 3,
    "start_time": "2023-06-13T20:37:56.339Z"
   },
   {
    "duration": 62,
    "start_time": "2023-06-13T20:37:56.704Z"
   },
   {
    "duration": 4,
    "start_time": "2023-06-13T20:37:57.039Z"
   },
   {
    "duration": 13,
    "start_time": "2023-06-13T20:37:58.901Z"
   },
   {
    "duration": 0,
    "start_time": "2023-06-13T20:37:58.916Z"
   },
   {
    "duration": 3,
    "start_time": "2023-06-13T20:38:27.494Z"
   },
   {
    "duration": 3,
    "start_time": "2023-06-13T20:38:27.798Z"
   },
   {
    "duration": 3,
    "start_time": "2023-06-13T20:38:28.094Z"
   },
   {
    "duration": 55,
    "start_time": "2023-06-13T20:38:28.408Z"
   },
   {
    "duration": 4,
    "start_time": "2023-06-13T20:38:28.735Z"
   },
   {
    "duration": 21,
    "start_time": "2023-06-13T20:38:29.363Z"
   },
   {
    "duration": 4,
    "start_time": "2023-06-13T20:38:30.131Z"
   },
   {
    "duration": 3,
    "start_time": "2023-06-13T20:42:37.918Z"
   },
   {
    "duration": 11,
    "start_time": "2023-06-13T20:42:37.923Z"
   },
   {
    "duration": 1455,
    "start_time": "2023-06-13T20:42:53.157Z"
   },
   {
    "duration": 686,
    "start_time": "2023-06-13T20:42:54.614Z"
   },
   {
    "duration": 92,
    "start_time": "2023-06-13T20:42:55.302Z"
   },
   {
    "duration": 18,
    "start_time": "2023-06-13T20:42:55.396Z"
   },
   {
    "duration": 7,
    "start_time": "2023-06-13T20:42:55.416Z"
   },
   {
    "duration": 3,
    "start_time": "2023-06-13T20:42:55.424Z"
   },
   {
    "duration": 4,
    "start_time": "2023-06-13T20:42:55.428Z"
   },
   {
    "duration": 80435,
    "start_time": "2023-06-13T20:42:55.433Z"
   },
   {
    "duration": 3,
    "start_time": "2023-06-13T20:44:15.869Z"
   },
   {
    "duration": 61,
    "start_time": "2023-06-13T20:44:15.873Z"
   },
   {
    "duration": 11,
    "start_time": "2023-06-13T20:44:15.936Z"
   },
   {
    "duration": 120,
    "start_time": "2023-06-13T20:44:15.948Z"
   },
   {
    "duration": 18,
    "start_time": "2023-06-13T20:47:03.959Z"
   },
   {
    "duration": 9739,
    "start_time": "2023-06-13T20:47:04.735Z"
   },
   {
    "duration": 3,
    "start_time": "2023-06-13T20:47:26.435Z"
   },
   {
    "duration": 5,
    "start_time": "2023-06-13T20:52:04.569Z"
   },
   {
    "duration": 56,
    "start_time": "2023-06-13T20:58:23.517Z"
   },
   {
    "duration": 10,
    "start_time": "2023-06-13T20:58:36.778Z"
   },
   {
    "duration": 685684,
    "start_time": "2023-06-13T20:58:57.935Z"
   },
   {
    "duration": 21505,
    "start_time": "2023-06-13T21:10:49.180Z"
   },
   {
    "duration": 7,
    "start_time": "2023-06-13T21:11:18.079Z"
   },
   {
    "duration": 33,
    "start_time": "2023-06-13T21:14:30.505Z"
   },
   {
    "duration": 63,
    "start_time": "2023-06-13T21:15:47.905Z"
   },
   {
    "duration": 1613,
    "start_time": "2023-06-13T21:21:56.483Z"
   },
   {
    "duration": 793,
    "start_time": "2023-06-13T21:21:58.098Z"
   },
   {
    "duration": 124,
    "start_time": "2023-06-13T21:21:58.894Z"
   },
   {
    "duration": 11,
    "start_time": "2023-06-13T21:21:59.019Z"
   },
   {
    "duration": 6,
    "start_time": "2023-06-13T21:21:59.032Z"
   },
   {
    "duration": 3,
    "start_time": "2023-06-13T21:21:59.040Z"
   },
   {
    "duration": 3,
    "start_time": "2023-06-13T21:21:59.045Z"
   },
   {
    "duration": 91515,
    "start_time": "2023-06-13T21:21:59.050Z"
   },
   {
    "duration": 3,
    "start_time": "2023-06-13T21:23:30.567Z"
   },
   {
    "duration": 91,
    "start_time": "2023-06-13T21:23:30.571Z"
   },
   {
    "duration": 13,
    "start_time": "2023-06-13T21:23:30.664Z"
   },
   {
    "duration": 11043,
    "start_time": "2023-06-13T21:23:30.679Z"
   },
   {
    "duration": 3,
    "start_time": "2023-06-13T21:23:41.724Z"
   },
   {
    "duration": 10,
    "start_time": "2023-06-13T21:23:41.729Z"
   },
   {
    "duration": 708072,
    "start_time": "2023-06-13T21:23:41.741Z"
   },
   {
    "duration": 24113,
    "start_time": "2023-06-13T21:35:29.815Z"
   },
   {
    "duration": 8,
    "start_time": "2023-06-13T21:35:53.930Z"
   },
   {
    "duration": 31,
    "start_time": "2023-06-13T21:35:53.940Z"
   },
   {
    "duration": 3824,
    "start_time": "2023-06-14T06:18:41.562Z"
   },
   {
    "duration": 1501,
    "start_time": "2023-06-14T06:18:45.389Z"
   },
   {
    "duration": 43,
    "start_time": "2023-06-14T06:18:46.892Z"
   },
   {
    "duration": 16,
    "start_time": "2023-06-14T06:18:46.937Z"
   },
   {
    "duration": 25,
    "start_time": "2023-06-14T06:18:46.960Z"
   },
   {
    "duration": 17,
    "start_time": "2023-06-14T06:18:46.987Z"
   },
   {
    "duration": 17,
    "start_time": "2023-06-14T06:18:47.006Z"
   },
   {
    "duration": 845,
    "start_time": "2023-06-14T06:18:47.026Z"
   },
   {
    "duration": 10,
    "start_time": "2023-06-14T06:18:47.873Z"
   },
   {
    "duration": 3,
    "start_time": "2023-06-14T06:22:43.754Z"
   },
   {
    "duration": 7,
    "start_time": "2023-06-14T06:22:44.737Z"
   },
   {
    "duration": 5,
    "start_time": "2023-06-14T06:22:45.617Z"
   },
   {
    "duration": 2820,
    "start_time": "2023-06-14T06:37:59.808Z"
   },
   {
    "duration": 4304,
    "start_time": "2023-06-14T06:38:02.630Z"
   },
   {
    "duration": 45,
    "start_time": "2023-06-14T06:38:06.936Z"
   },
   {
    "duration": 23,
    "start_time": "2023-06-14T06:38:06.984Z"
   },
   {
    "duration": 9,
    "start_time": "2023-06-14T06:38:07.009Z"
   },
   {
    "duration": 4,
    "start_time": "2023-06-14T06:38:07.020Z"
   },
   {
    "duration": 8,
    "start_time": "2023-06-14T06:38:07.026Z"
   },
   {
    "duration": 8463,
    "start_time": "2023-06-14T06:38:07.036Z"
   },
   {
    "duration": 9,
    "start_time": "2023-06-14T06:38:15.501Z"
   },
   {
    "duration": 6,
    "start_time": "2023-06-14T06:38:15.513Z"
   },
   {
    "duration": 92,
    "start_time": "2023-06-14T06:38:15.521Z"
   },
   {
    "duration": 15,
    "start_time": "2023-06-14T06:38:15.614Z"
   },
   {
    "duration": 8782,
    "start_time": "2023-06-14T06:38:15.630Z"
   },
   {
    "duration": 4,
    "start_time": "2023-06-14T06:38:24.414Z"
   },
   {
    "duration": 24,
    "start_time": "2023-06-14T06:38:24.420Z"
   },
   {
    "duration": 1828,
    "start_time": "2023-06-14T06:46:19.198Z"
   },
   {
    "duration": 901,
    "start_time": "2023-06-14T06:46:21.030Z"
   },
   {
    "duration": 145,
    "start_time": "2023-06-14T06:46:21.934Z"
   },
   {
    "duration": 12,
    "start_time": "2023-06-14T06:46:22.082Z"
   },
   {
    "duration": 6,
    "start_time": "2023-06-14T06:46:22.096Z"
   },
   {
    "duration": 11,
    "start_time": "2023-06-14T06:46:22.104Z"
   },
   {
    "duration": 5,
    "start_time": "2023-06-14T06:46:22.117Z"
   },
   {
    "duration": 468,
    "start_time": "2023-06-14T06:46:22.124Z"
   },
   {
    "duration": 0,
    "start_time": "2023-06-14T06:46:22.595Z"
   },
   {
    "duration": 0,
    "start_time": "2023-06-14T06:46:22.597Z"
   },
   {
    "duration": 0,
    "start_time": "2023-06-14T06:46:22.598Z"
   },
   {
    "duration": 0,
    "start_time": "2023-06-14T06:46:22.600Z"
   },
   {
    "duration": 0,
    "start_time": "2023-06-14T06:46:22.601Z"
   },
   {
    "duration": 0,
    "start_time": "2023-06-14T06:46:22.604Z"
   },
   {
    "duration": 0,
    "start_time": "2023-06-14T06:46:22.605Z"
   },
   {
    "duration": 0,
    "start_time": "2023-06-14T06:46:22.606Z"
   },
   {
    "duration": 0,
    "start_time": "2023-06-14T06:46:22.608Z"
   },
   {
    "duration": 0,
    "start_time": "2023-06-14T06:46:22.609Z"
   },
   {
    "duration": 0,
    "start_time": "2023-06-14T06:46:22.611Z"
   },
   {
    "duration": 6,
    "start_time": "2023-06-14T06:46:58.174Z"
   },
   {
    "duration": 4,
    "start_time": "2023-06-14T06:47:29.504Z"
   },
   {
    "duration": 146509,
    "start_time": "2023-06-14T06:47:30.683Z"
   },
   {
    "duration": 7,
    "start_time": "2023-06-14T06:50:05.841Z"
   },
   {
    "duration": 5,
    "start_time": "2023-06-14T06:50:32.804Z"
   },
   {
    "duration": 1082,
    "start_time": "2023-06-14T06:50:34.563Z"
   },
   {
    "duration": 2207,
    "start_time": "2023-06-14T06:50:45.488Z"
   },
   {
    "duration": 1097,
    "start_time": "2023-06-14T06:50:47.698Z"
   },
   {
    "duration": 182,
    "start_time": "2023-06-14T06:50:48.797Z"
   },
   {
    "duration": 15,
    "start_time": "2023-06-14T06:50:48.986Z"
   },
   {
    "duration": 9,
    "start_time": "2023-06-14T06:50:49.004Z"
   },
   {
    "duration": 10,
    "start_time": "2023-06-14T06:50:49.015Z"
   },
   {
    "duration": 14,
    "start_time": "2023-06-14T06:50:49.027Z"
   },
   {
    "duration": 158522,
    "start_time": "2023-06-14T06:50:49.044Z"
   },
   {
    "duration": 17,
    "start_time": "2023-06-14T06:53:27.569Z"
   },
   {
    "duration": 3,
    "start_time": "2023-06-14T06:53:27.593Z"
   },
   {
    "duration": 91,
    "start_time": "2023-06-14T06:53:27.598Z"
   },
   {
    "duration": 24,
    "start_time": "2023-06-14T06:53:27.692Z"
   },
   {
    "duration": 9553,
    "start_time": "2023-06-14T06:53:27.719Z"
   },
   {
    "duration": 4,
    "start_time": "2023-06-14T06:53:37.283Z"
   },
   {
    "duration": 10,
    "start_time": "2023-06-14T06:53:37.289Z"
   },
   {
    "duration": 2471,
    "start_time": "2023-06-14T07:06:18.335Z"
   },
   {
    "duration": 2995,
    "start_time": "2023-06-14T07:06:20.809Z"
   },
   {
    "duration": 158,
    "start_time": "2023-06-14T07:06:23.805Z"
   },
   {
    "duration": 25,
    "start_time": "2023-06-14T07:06:23.966Z"
   },
   {
    "duration": 11,
    "start_time": "2023-06-14T07:06:23.994Z"
   },
   {
    "duration": 26,
    "start_time": "2023-06-14T07:06:24.007Z"
   },
   {
    "duration": 12,
    "start_time": "2023-06-14T07:06:24.035Z"
   },
   {
    "duration": 22,
    "start_time": "2023-06-14T07:06:24.049Z"
   },
   {
    "duration": 574,
    "start_time": "2023-06-14T07:06:24.074Z"
   },
   {
    "duration": 0,
    "start_time": "2023-06-14T07:06:24.651Z"
   },
   {
    "duration": 0,
    "start_time": "2023-06-14T07:06:24.653Z"
   },
   {
    "duration": 0,
    "start_time": "2023-06-14T07:06:24.655Z"
   },
   {
    "duration": 0,
    "start_time": "2023-06-14T07:06:24.667Z"
   },
   {
    "duration": 0,
    "start_time": "2023-06-14T07:06:24.672Z"
   },
   {
    "duration": 0,
    "start_time": "2023-06-14T07:06:24.676Z"
   },
   {
    "duration": 0,
    "start_time": "2023-06-14T07:06:24.679Z"
   },
   {
    "duration": 0,
    "start_time": "2023-06-14T07:06:24.684Z"
   },
   {
    "duration": 0,
    "start_time": "2023-06-14T07:06:24.688Z"
   },
   {
    "duration": 0,
    "start_time": "2023-06-14T07:06:24.692Z"
   },
   {
    "duration": 0,
    "start_time": "2023-06-14T07:06:24.694Z"
   },
   {
    "duration": 2020,
    "start_time": "2023-06-14T07:07:11.251Z"
   },
   {
    "duration": 0,
    "start_time": "2023-06-14T07:07:13.275Z"
   },
   {
    "duration": 0,
    "start_time": "2023-06-14T07:07:13.276Z"
   },
   {
    "duration": 0,
    "start_time": "2023-06-14T07:07:13.277Z"
   },
   {
    "duration": 0,
    "start_time": "2023-06-14T07:07:13.278Z"
   },
   {
    "duration": 0,
    "start_time": "2023-06-14T07:07:13.279Z"
   },
   {
    "duration": 0,
    "start_time": "2023-06-14T07:07:13.281Z"
   },
   {
    "duration": 0,
    "start_time": "2023-06-14T07:07:13.283Z"
   },
   {
    "duration": 0,
    "start_time": "2023-06-14T07:07:13.284Z"
   },
   {
    "duration": 0,
    "start_time": "2023-06-14T07:07:13.286Z"
   },
   {
    "duration": 0,
    "start_time": "2023-06-14T07:07:13.287Z"
   },
   {
    "duration": 0,
    "start_time": "2023-06-14T07:07:13.289Z"
   },
   {
    "duration": 0,
    "start_time": "2023-06-14T07:07:13.291Z"
   },
   {
    "duration": 0,
    "start_time": "2023-06-14T07:07:13.293Z"
   },
   {
    "duration": 0,
    "start_time": "2023-06-14T07:07:13.295Z"
   },
   {
    "duration": 0,
    "start_time": "2023-06-14T07:07:13.298Z"
   },
   {
    "duration": 0,
    "start_time": "2023-06-14T07:07:13.300Z"
   },
   {
    "duration": 0,
    "start_time": "2023-06-14T07:07:13.301Z"
   },
   {
    "duration": 0,
    "start_time": "2023-06-14T07:07:13.303Z"
   },
   {
    "duration": 0,
    "start_time": "2023-06-14T07:07:13.306Z"
   },
   {
    "duration": 3382,
    "start_time": "2023-06-14T07:07:54.583Z"
   },
   {
    "duration": 912,
    "start_time": "2023-06-14T07:07:57.967Z"
   },
   {
    "duration": 43,
    "start_time": "2023-06-14T07:07:58.883Z"
   },
   {
    "duration": 12,
    "start_time": "2023-06-14T07:07:58.929Z"
   },
   {
    "duration": 18,
    "start_time": "2023-06-14T07:07:58.958Z"
   },
   {
    "duration": 4,
    "start_time": "2023-06-14T07:07:58.979Z"
   },
   {
    "duration": 6,
    "start_time": "2023-06-14T07:07:58.985Z"
   },
   {
    "duration": 14,
    "start_time": "2023-06-14T07:07:58.993Z"
   },
   {
    "duration": 1534180,
    "start_time": "2023-06-14T07:07:59.009Z"
   },
   {
    "duration": 8,
    "start_time": "2023-06-14T07:33:33.192Z"
   },
   {
    "duration": 23,
    "start_time": "2023-06-14T07:33:33.216Z"
   },
   {
    "duration": 91,
    "start_time": "2023-06-14T07:33:33.241Z"
   },
   {
    "duration": 25,
    "start_time": "2023-06-14T07:33:33.334Z"
   },
   {
    "duration": 8531,
    "start_time": "2023-06-14T07:33:33.371Z"
   },
   {
    "duration": 4,
    "start_time": "2023-06-14T07:33:41.904Z"
   },
   {
    "duration": 39,
    "start_time": "2023-06-14T07:33:41.910Z"
   },
   {
    "duration": 887813,
    "start_time": "2023-06-14T07:33:41.950Z"
   },
   {
    "duration": 38372,
    "start_time": "2023-06-14T07:48:29.771Z"
   },
   {
    "duration": 17,
    "start_time": "2023-06-14T07:49:08.145Z"
   },
   {
    "duration": 45,
    "start_time": "2023-06-14T07:49:08.164Z"
   }
  ],
  "kernelspec": {
   "display_name": "Python 3 (ipykernel)",
   "language": "python",
   "name": "python3"
  },
  "language_info": {
   "codemirror_mode": {
    "name": "ipython",
    "version": 3
   },
   "file_extension": ".py",
   "mimetype": "text/x-python",
   "name": "python",
   "nbconvert_exporter": "python",
   "pygments_lexer": "ipython3",
   "version": "3.9.5"
  },
  "toc": {
   "base_numbering": 1,
   "nav_menu": {},
   "number_sections": true,
   "sideBar": true,
   "skip_h1_title": true,
   "title_cell": "Содержание",
   "title_sidebar": "Contents",
   "toc_cell": true,
   "toc_position": {
    "height": "calc(100% - 180px)",
    "left": "10px",
    "top": "150px",
    "width": "302.391px"
   },
   "toc_section_display": true,
   "toc_window_display": true
  }
 },
 "nbformat": 4,
 "nbformat_minor": 2
}
